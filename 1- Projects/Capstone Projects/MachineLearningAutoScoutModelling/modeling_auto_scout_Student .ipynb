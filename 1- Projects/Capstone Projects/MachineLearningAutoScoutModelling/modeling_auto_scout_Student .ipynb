{
 "cells": [
  {
   "cell_type": "markdown",
   "metadata": {
    "id": "4UCsvzbImqZN"
   },
   "source": [
    "___\n",
    "\n",
    "<p style=\"text-align: center;\"><img src=\"https://docs.google.com/uc?id=1lY0Uj5R04yMY3-ZppPWxqCr5pvBLYPnV\" class=\"img-fluid\" alt=\"CLRSWY\"></p>\n",
    "\n",
    "___"
   ]
  },
  {
   "cell_type": "markdown",
   "metadata": {
    "id": "i5WapR8JmqZN"
   },
   "source": [
    "# WELCOME!"
   ]
  },
  {
   "cell_type": "markdown",
   "metadata": {
    "id": "ZyeGWbuTmqZN"
   },
   "source": [
    "Welcome to \"***Car Price Prediction Project***\". This is the first medium project of ***Machine Learning*** course. In this project you will have the opportunity to apply many algorithms commonly used for regression problems.\n",
    "\n",
    "Also, you will apply various processes such as pre-processing, ***train-test spilit*** and ***cross validation*** that you will use in algorithm modeling and prediction processes in Python with ***scikit-learn***. \n",
    "\n",
    "Before diving into the project, please take a look at the determines and tasks.\n",
    "\n",
    "- **NOTE:** This project assumes that you already know the basics of coding in Python. You should also be familiar with the theory behind regression algorithms and scikit-learn module as well as Machine Learning before you begin.\n"
   ]
  },
  {
   "cell_type": "markdown",
   "metadata": {
    "id": "c0Iul5QymqZN"
   },
   "source": [
    "# #Determines\n",
    "\n",
    "**Auto Scout** data which using for this project, scraped from the on-line car trading company(https://www.autoscout24.com)in 2019, contains many features of 9 different car models. In this project, you will use the data set which is already preprocessed and prepared for algorithms .\n",
    "\n",
    "The aim of this project to understand of machine learning algorithms. Therefore, you will not need any EDA process as you will be working on the edited data.\n",
    "\n",
    "---\n",
    "\n",
    "In this Senario, you will estimate the prices of cars using regression algorithms.\n",
    "\n",
    "While starting you should import the necessary modules and load the data given as pkl file. Also you'll need to do a few pre-processing before moving to modelling. After that you will implement ***Linear Regression, Ridge Regression, Lasso Regression,and Elastic-Net algorithms respectively*** (After completion of Unsupervised Learning section, you can also add bagging and boosting algorithms such as ***Random Forest and XG Boost*** this notebook to develop the project). You can measure the success of your models with regression evaluation metrics as well as with cross validation method.\n",
    "\n",
    "For the better results, you should try to increase the success of your models by performing hyperparameter tuning. Determine feature importances for the model. You can set your model with the most important features for resource saving. You should try to apply this especially in Random Forest and XG Boost algorithms. Unlike the others, you will perform hyperparameter tuning for Random Forest and XG Boost using the ***GridSearchCV*** method. \n",
    "\n",
    "Finally You can compare the performances of algorithms, work more on the algorithm have the most successful prediction rate.\n",
    "\n",
    "\n",
    "\n",
    "\n"
   ]
  },
  {
   "cell_type": "markdown",
   "metadata": {
    "id": "pL-jJ1irmqZN"
   },
   "source": [
    "# #Tasks\n",
    "\n",
    "#### 1. Import Modules, Load Data and Data Review\n",
    "#### 2. Data Pre-Processing\n",
    "#### 3. Implement Linear Regression \n",
    "#### 4. Implement Ridge Regression\n",
    "#### 5. Implement Lasso Regression \n",
    "#### 6. Implement Elastic-Net\n",
    "#### 7. Visually Compare Models Performance In a Graph"
   ]
  },
  {
   "cell_type": "markdown",
   "metadata": {
    "id": "Rik6d_vimqZN"
   },
   "source": [
    "## 1. Import Modules, Load Data and Data Review"
   ]
  },
  {
   "cell_type": "code",
   "execution_count": 1,
   "metadata": {
    "id": "QBddHlqgmqZN"
   },
   "outputs": [],
   "source": [
    "import numpy as np\n",
    "import pandas as pd\n",
    "import matplotlib.pyplot as plt\n",
    "import seaborn as sns\n",
    "plt.rcParams[\"figure.figsize\"] = (10,6)\n",
    "pd.set_option('display.max_columns', 100)"
   ]
  },
  {
   "cell_type": "code",
   "execution_count": 2,
   "metadata": {},
   "outputs": [
    {
     "data": {
      "text/html": [
       "<div>\n",
       "<style scoped>\n",
       "    .dataframe tbody tr th:only-of-type {\n",
       "        vertical-align: middle;\n",
       "    }\n",
       "\n",
       "    .dataframe tbody tr th {\n",
       "        vertical-align: top;\n",
       "    }\n",
       "\n",
       "    .dataframe thead th {\n",
       "        text-align: right;\n",
       "    }\n",
       "</style>\n",
       "<table border=\"1\" class=\"dataframe\">\n",
       "  <thead>\n",
       "    <tr style=\"text-align: right;\">\n",
       "      <th></th>\n",
       "      <th>price</th>\n",
       "      <th>km</th>\n",
       "      <th>Gears</th>\n",
       "      <th>age</th>\n",
       "      <th>Previous_Owners</th>\n",
       "      <th>hp_kW</th>\n",
       "      <th>Inspection_new</th>\n",
       "      <th>Displacement_cc</th>\n",
       "      <th>Weight_kg</th>\n",
       "      <th>cons_comb</th>\n",
       "      <th>cc_Air conditioning</th>\n",
       "      <th>cc_Air suspension</th>\n",
       "      <th>cc_Armrest</th>\n",
       "      <th>cc_Automatic climate control</th>\n",
       "      <th>cc_Auxiliary heating</th>\n",
       "      <th>cc_Cruise control</th>\n",
       "      <th>cc_Electric Starter</th>\n",
       "      <th>cc_Electric tailgate</th>\n",
       "      <th>cc_Electrical side mirrors</th>\n",
       "      <th>cc_Electrically adjustable seats</th>\n",
       "      <th>cc_Electrically heated windshield</th>\n",
       "      <th>cc_Heads-up display</th>\n",
       "      <th>cc_Heated steering wheel</th>\n",
       "      <th>cc_Hill Holder</th>\n",
       "      <th>cc_Keyless central door lock</th>\n",
       "      <th>cc_Leather seats</th>\n",
       "      <th>cc_Leather steering wheel</th>\n",
       "      <th>cc_Light sensor</th>\n",
       "      <th>cc_Lumbar support</th>\n",
       "      <th>cc_Massage seats</th>\n",
       "      <th>cc_Multi-function steering wheel</th>\n",
       "      <th>cc_Navigation system</th>\n",
       "      <th>cc_Panorama roof</th>\n",
       "      <th>cc_Park Distance Control</th>\n",
       "      <th>cc_Parking assist system camera</th>\n",
       "      <th>cc_Parking assist system self-steering</th>\n",
       "      <th>cc_Parking assist system sensors front</th>\n",
       "      <th>cc_Parking assist system sensors rear</th>\n",
       "      <th>cc_Power windows</th>\n",
       "      <th>cc_Rain sensor</th>\n",
       "      <th>cc_Seat heating</th>\n",
       "      <th>cc_Seat ventilation</th>\n",
       "      <th>cc_Split rear seats</th>\n",
       "      <th>cc_Start-stop system</th>\n",
       "      <th>cc_Sunroof</th>\n",
       "      <th>cc_Tinted windows</th>\n",
       "      <th>cc_Wind deflector</th>\n",
       "      <th>cc_Windshield</th>\n",
       "      <th>em_Bluetooth</th>\n",
       "      <th>em_CD player</th>\n",
       "      <th>...</th>\n",
       "      <th>ss_LED Headlights</th>\n",
       "      <th>ss_Lane departure warning system</th>\n",
       "      <th>ss_Night view assist</th>\n",
       "      <th>ss_Passenger-side airbag</th>\n",
       "      <th>ss_Power steering</th>\n",
       "      <th>ss_Rear airbag</th>\n",
       "      <th>ss_Side airbag</th>\n",
       "      <th>ss_Tire pressure monitoring system</th>\n",
       "      <th>ss_Traction control</th>\n",
       "      <th>ss_Traffic sign recognition</th>\n",
       "      <th>ss_Xenon headlights</th>\n",
       "      <th>make_model_Audi A1</th>\n",
       "      <th>make_model_Audi A2</th>\n",
       "      <th>make_model_Audi A3</th>\n",
       "      <th>make_model_Opel Astra</th>\n",
       "      <th>make_model_Opel Corsa</th>\n",
       "      <th>make_model_Opel Insignia</th>\n",
       "      <th>make_model_Renault Clio</th>\n",
       "      <th>make_model_Renault Duster</th>\n",
       "      <th>make_model_Renault Espace</th>\n",
       "      <th>body_type_Compact</th>\n",
       "      <th>body_type_Convertible</th>\n",
       "      <th>body_type_Coupe</th>\n",
       "      <th>body_type_Off-Road</th>\n",
       "      <th>body_type_Sedans</th>\n",
       "      <th>body_type_Station wagon</th>\n",
       "      <th>body_type_Transporter</th>\n",
       "      <th>body_type_Van</th>\n",
       "      <th>vat_Price negotiable</th>\n",
       "      <th>vat_VAT deductible</th>\n",
       "      <th>Type_Demonstration</th>\n",
       "      <th>Type_Employee's car</th>\n",
       "      <th>Type_New</th>\n",
       "      <th>Type_Pre-registered</th>\n",
       "      <th>Type_Used</th>\n",
       "      <th>Fuel_Benzine</th>\n",
       "      <th>Fuel_Diesel</th>\n",
       "      <th>Fuel_Electric</th>\n",
       "      <th>Fuel_LPG/CNG</th>\n",
       "      <th>Paint_Type_Metallic</th>\n",
       "      <th>Paint_Type_Perl effect</th>\n",
       "      <th>Paint_Type_Uni/basic</th>\n",
       "      <th>Upholstery_type_Cloth</th>\n",
       "      <th>Upholstery_type_Part/Full Leather</th>\n",
       "      <th>Gearing_Type_Automatic</th>\n",
       "      <th>Gearing_Type_Manual</th>\n",
       "      <th>Gearing_Type_Semi-automatic</th>\n",
       "      <th>Drive_chain_4WD</th>\n",
       "      <th>Drive_chain_front</th>\n",
       "      <th>Drive_chain_rear</th>\n",
       "    </tr>\n",
       "  </thead>\n",
       "  <tbody>\n",
       "    <tr>\n",
       "      <th>0</th>\n",
       "      <td>15770</td>\n",
       "      <td>56013.000000</td>\n",
       "      <td>7.0</td>\n",
       "      <td>3.0</td>\n",
       "      <td>2.0</td>\n",
       "      <td>66.0</td>\n",
       "      <td>1</td>\n",
       "      <td>1422.0</td>\n",
       "      <td>1220.0</td>\n",
       "      <td>3.8</td>\n",
       "      <td>1</td>\n",
       "      <td>0</td>\n",
       "      <td>1</td>\n",
       "      <td>1</td>\n",
       "      <td>0</td>\n",
       "      <td>1</td>\n",
       "      <td>0</td>\n",
       "      <td>0</td>\n",
       "      <td>1</td>\n",
       "      <td>0</td>\n",
       "      <td>0</td>\n",
       "      <td>0</td>\n",
       "      <td>0</td>\n",
       "      <td>1</td>\n",
       "      <td>0</td>\n",
       "      <td>0</td>\n",
       "      <td>1</td>\n",
       "      <td>1</td>\n",
       "      <td>0</td>\n",
       "      <td>0</td>\n",
       "      <td>1</td>\n",
       "      <td>1</td>\n",
       "      <td>0</td>\n",
       "      <td>1</td>\n",
       "      <td>0</td>\n",
       "      <td>0</td>\n",
       "      <td>0</td>\n",
       "      <td>1</td>\n",
       "      <td>1</td>\n",
       "      <td>1</td>\n",
       "      <td>1</td>\n",
       "      <td>0</td>\n",
       "      <td>0</td>\n",
       "      <td>1</td>\n",
       "      <td>0</td>\n",
       "      <td>0</td>\n",
       "      <td>0</td>\n",
       "      <td>0</td>\n",
       "      <td>1</td>\n",
       "      <td>0</td>\n",
       "      <td>...</td>\n",
       "      <td>0</td>\n",
       "      <td>0</td>\n",
       "      <td>0</td>\n",
       "      <td>1</td>\n",
       "      <td>1</td>\n",
       "      <td>0</td>\n",
       "      <td>1</td>\n",
       "      <td>1</td>\n",
       "      <td>1</td>\n",
       "      <td>0</td>\n",
       "      <td>1</td>\n",
       "      <td>1</td>\n",
       "      <td>0</td>\n",
       "      <td>0</td>\n",
       "      <td>0</td>\n",
       "      <td>0</td>\n",
       "      <td>0</td>\n",
       "      <td>0</td>\n",
       "      <td>0</td>\n",
       "      <td>0</td>\n",
       "      <td>0</td>\n",
       "      <td>0</td>\n",
       "      <td>0</td>\n",
       "      <td>0</td>\n",
       "      <td>1</td>\n",
       "      <td>0</td>\n",
       "      <td>0</td>\n",
       "      <td>0</td>\n",
       "      <td>0</td>\n",
       "      <td>1</td>\n",
       "      <td>0</td>\n",
       "      <td>0</td>\n",
       "      <td>0</td>\n",
       "      <td>0</td>\n",
       "      <td>1</td>\n",
       "      <td>0</td>\n",
       "      <td>1</td>\n",
       "      <td>0</td>\n",
       "      <td>0</td>\n",
       "      <td>1</td>\n",
       "      <td>0</td>\n",
       "      <td>0</td>\n",
       "      <td>1</td>\n",
       "      <td>0</td>\n",
       "      <td>1</td>\n",
       "      <td>0</td>\n",
       "      <td>0</td>\n",
       "      <td>0</td>\n",
       "      <td>1</td>\n",
       "      <td>0</td>\n",
       "    </tr>\n",
       "    <tr>\n",
       "      <th>1</th>\n",
       "      <td>14500</td>\n",
       "      <td>80000.000000</td>\n",
       "      <td>7.0</td>\n",
       "      <td>2.0</td>\n",
       "      <td>1.0</td>\n",
       "      <td>141.0</td>\n",
       "      <td>0</td>\n",
       "      <td>1798.0</td>\n",
       "      <td>1255.0</td>\n",
       "      <td>5.6</td>\n",
       "      <td>1</td>\n",
       "      <td>0</td>\n",
       "      <td>0</td>\n",
       "      <td>1</td>\n",
       "      <td>0</td>\n",
       "      <td>0</td>\n",
       "      <td>0</td>\n",
       "      <td>0</td>\n",
       "      <td>0</td>\n",
       "      <td>0</td>\n",
       "      <td>0</td>\n",
       "      <td>0</td>\n",
       "      <td>0</td>\n",
       "      <td>1</td>\n",
       "      <td>0</td>\n",
       "      <td>0</td>\n",
       "      <td>1</td>\n",
       "      <td>0</td>\n",
       "      <td>1</td>\n",
       "      <td>0</td>\n",
       "      <td>0</td>\n",
       "      <td>0</td>\n",
       "      <td>0</td>\n",
       "      <td>0</td>\n",
       "      <td>0</td>\n",
       "      <td>0</td>\n",
       "      <td>0</td>\n",
       "      <td>1</td>\n",
       "      <td>1</td>\n",
       "      <td>0</td>\n",
       "      <td>0</td>\n",
       "      <td>0</td>\n",
       "      <td>0</td>\n",
       "      <td>1</td>\n",
       "      <td>0</td>\n",
       "      <td>1</td>\n",
       "      <td>0</td>\n",
       "      <td>0</td>\n",
       "      <td>1</td>\n",
       "      <td>0</td>\n",
       "      <td>...</td>\n",
       "      <td>0</td>\n",
       "      <td>0</td>\n",
       "      <td>0</td>\n",
       "      <td>1</td>\n",
       "      <td>1</td>\n",
       "      <td>0</td>\n",
       "      <td>1</td>\n",
       "      <td>1</td>\n",
       "      <td>1</td>\n",
       "      <td>0</td>\n",
       "      <td>1</td>\n",
       "      <td>1</td>\n",
       "      <td>0</td>\n",
       "      <td>0</td>\n",
       "      <td>0</td>\n",
       "      <td>0</td>\n",
       "      <td>0</td>\n",
       "      <td>0</td>\n",
       "      <td>0</td>\n",
       "      <td>0</td>\n",
       "      <td>0</td>\n",
       "      <td>0</td>\n",
       "      <td>0</td>\n",
       "      <td>0</td>\n",
       "      <td>1</td>\n",
       "      <td>0</td>\n",
       "      <td>0</td>\n",
       "      <td>0</td>\n",
       "      <td>1</td>\n",
       "      <td>0</td>\n",
       "      <td>0</td>\n",
       "      <td>0</td>\n",
       "      <td>0</td>\n",
       "      <td>0</td>\n",
       "      <td>1</td>\n",
       "      <td>1</td>\n",
       "      <td>0</td>\n",
       "      <td>0</td>\n",
       "      <td>0</td>\n",
       "      <td>1</td>\n",
       "      <td>0</td>\n",
       "      <td>0</td>\n",
       "      <td>1</td>\n",
       "      <td>0</td>\n",
       "      <td>1</td>\n",
       "      <td>0</td>\n",
       "      <td>0</td>\n",
       "      <td>0</td>\n",
       "      <td>1</td>\n",
       "      <td>0</td>\n",
       "    </tr>\n",
       "    <tr>\n",
       "      <th>2</th>\n",
       "      <td>14640</td>\n",
       "      <td>83450.000000</td>\n",
       "      <td>7.0</td>\n",
       "      <td>3.0</td>\n",
       "      <td>1.0</td>\n",
       "      <td>85.0</td>\n",
       "      <td>0</td>\n",
       "      <td>1598.0</td>\n",
       "      <td>1135.0</td>\n",
       "      <td>3.8</td>\n",
       "      <td>1</td>\n",
       "      <td>0</td>\n",
       "      <td>0</td>\n",
       "      <td>0</td>\n",
       "      <td>0</td>\n",
       "      <td>1</td>\n",
       "      <td>0</td>\n",
       "      <td>0</td>\n",
       "      <td>1</td>\n",
       "      <td>0</td>\n",
       "      <td>0</td>\n",
       "      <td>0</td>\n",
       "      <td>0</td>\n",
       "      <td>1</td>\n",
       "      <td>0</td>\n",
       "      <td>0</td>\n",
       "      <td>1</td>\n",
       "      <td>0</td>\n",
       "      <td>0</td>\n",
       "      <td>0</td>\n",
       "      <td>1</td>\n",
       "      <td>1</td>\n",
       "      <td>0</td>\n",
       "      <td>1</td>\n",
       "      <td>0</td>\n",
       "      <td>0</td>\n",
       "      <td>1</td>\n",
       "      <td>1</td>\n",
       "      <td>1</td>\n",
       "      <td>0</td>\n",
       "      <td>1</td>\n",
       "      <td>0</td>\n",
       "      <td>0</td>\n",
       "      <td>1</td>\n",
       "      <td>0</td>\n",
       "      <td>0</td>\n",
       "      <td>0</td>\n",
       "      <td>0</td>\n",
       "      <td>0</td>\n",
       "      <td>0</td>\n",
       "      <td>...</td>\n",
       "      <td>0</td>\n",
       "      <td>0</td>\n",
       "      <td>0</td>\n",
       "      <td>1</td>\n",
       "      <td>1</td>\n",
       "      <td>0</td>\n",
       "      <td>1</td>\n",
       "      <td>1</td>\n",
       "      <td>1</td>\n",
       "      <td>0</td>\n",
       "      <td>0</td>\n",
       "      <td>1</td>\n",
       "      <td>0</td>\n",
       "      <td>0</td>\n",
       "      <td>0</td>\n",
       "      <td>0</td>\n",
       "      <td>0</td>\n",
       "      <td>0</td>\n",
       "      <td>0</td>\n",
       "      <td>0</td>\n",
       "      <td>0</td>\n",
       "      <td>0</td>\n",
       "      <td>0</td>\n",
       "      <td>0</td>\n",
       "      <td>1</td>\n",
       "      <td>0</td>\n",
       "      <td>0</td>\n",
       "      <td>0</td>\n",
       "      <td>0</td>\n",
       "      <td>1</td>\n",
       "      <td>0</td>\n",
       "      <td>0</td>\n",
       "      <td>0</td>\n",
       "      <td>0</td>\n",
       "      <td>1</td>\n",
       "      <td>0</td>\n",
       "      <td>1</td>\n",
       "      <td>0</td>\n",
       "      <td>0</td>\n",
       "      <td>1</td>\n",
       "      <td>0</td>\n",
       "      <td>0</td>\n",
       "      <td>1</td>\n",
       "      <td>0</td>\n",
       "      <td>1</td>\n",
       "      <td>0</td>\n",
       "      <td>0</td>\n",
       "      <td>0</td>\n",
       "      <td>1</td>\n",
       "      <td>0</td>\n",
       "    </tr>\n",
       "    <tr>\n",
       "      <th>3</th>\n",
       "      <td>14500</td>\n",
       "      <td>73000.000000</td>\n",
       "      <td>6.0</td>\n",
       "      <td>3.0</td>\n",
       "      <td>1.0</td>\n",
       "      <td>66.0</td>\n",
       "      <td>0</td>\n",
       "      <td>1422.0</td>\n",
       "      <td>1195.0</td>\n",
       "      <td>3.8</td>\n",
       "      <td>0</td>\n",
       "      <td>1</td>\n",
       "      <td>1</td>\n",
       "      <td>0</td>\n",
       "      <td>1</td>\n",
       "      <td>0</td>\n",
       "      <td>0</td>\n",
       "      <td>0</td>\n",
       "      <td>1</td>\n",
       "      <td>0</td>\n",
       "      <td>0</td>\n",
       "      <td>1</td>\n",
       "      <td>0</td>\n",
       "      <td>1</td>\n",
       "      <td>0</td>\n",
       "      <td>0</td>\n",
       "      <td>1</td>\n",
       "      <td>1</td>\n",
       "      <td>1</td>\n",
       "      <td>0</td>\n",
       "      <td>1</td>\n",
       "      <td>1</td>\n",
       "      <td>0</td>\n",
       "      <td>0</td>\n",
       "      <td>0</td>\n",
       "      <td>0</td>\n",
       "      <td>0</td>\n",
       "      <td>0</td>\n",
       "      <td>1</td>\n",
       "      <td>1</td>\n",
       "      <td>1</td>\n",
       "      <td>0</td>\n",
       "      <td>1</td>\n",
       "      <td>1</td>\n",
       "      <td>0</td>\n",
       "      <td>0</td>\n",
       "      <td>0</td>\n",
       "      <td>0</td>\n",
       "      <td>1</td>\n",
       "      <td>1</td>\n",
       "      <td>...</td>\n",
       "      <td>0</td>\n",
       "      <td>0</td>\n",
       "      <td>0</td>\n",
       "      <td>1</td>\n",
       "      <td>1</td>\n",
       "      <td>0</td>\n",
       "      <td>1</td>\n",
       "      <td>1</td>\n",
       "      <td>0</td>\n",
       "      <td>0</td>\n",
       "      <td>0</td>\n",
       "      <td>1</td>\n",
       "      <td>0</td>\n",
       "      <td>0</td>\n",
       "      <td>0</td>\n",
       "      <td>0</td>\n",
       "      <td>0</td>\n",
       "      <td>0</td>\n",
       "      <td>0</td>\n",
       "      <td>0</td>\n",
       "      <td>0</td>\n",
       "      <td>0</td>\n",
       "      <td>0</td>\n",
       "      <td>0</td>\n",
       "      <td>1</td>\n",
       "      <td>0</td>\n",
       "      <td>0</td>\n",
       "      <td>0</td>\n",
       "      <td>0</td>\n",
       "      <td>1</td>\n",
       "      <td>0</td>\n",
       "      <td>0</td>\n",
       "      <td>0</td>\n",
       "      <td>0</td>\n",
       "      <td>1</td>\n",
       "      <td>0</td>\n",
       "      <td>1</td>\n",
       "      <td>0</td>\n",
       "      <td>0</td>\n",
       "      <td>1</td>\n",
       "      <td>0</td>\n",
       "      <td>0</td>\n",
       "      <td>1</td>\n",
       "      <td>0</td>\n",
       "      <td>1</td>\n",
       "      <td>0</td>\n",
       "      <td>0</td>\n",
       "      <td>0</td>\n",
       "      <td>1</td>\n",
       "      <td>0</td>\n",
       "    </tr>\n",
       "    <tr>\n",
       "      <th>4</th>\n",
       "      <td>16790</td>\n",
       "      <td>16200.000000</td>\n",
       "      <td>7.0</td>\n",
       "      <td>3.0</td>\n",
       "      <td>1.0</td>\n",
       "      <td>66.0</td>\n",
       "      <td>1</td>\n",
       "      <td>1422.0</td>\n",
       "      <td>1135.0</td>\n",
       "      <td>4.1</td>\n",
       "      <td>1</td>\n",
       "      <td>0</td>\n",
       "      <td>1</td>\n",
       "      <td>1</td>\n",
       "      <td>0</td>\n",
       "      <td>0</td>\n",
       "      <td>0</td>\n",
       "      <td>0</td>\n",
       "      <td>1</td>\n",
       "      <td>0</td>\n",
       "      <td>0</td>\n",
       "      <td>0</td>\n",
       "      <td>0</td>\n",
       "      <td>1</td>\n",
       "      <td>0</td>\n",
       "      <td>0</td>\n",
       "      <td>1</td>\n",
       "      <td>1</td>\n",
       "      <td>0</td>\n",
       "      <td>0</td>\n",
       "      <td>1</td>\n",
       "      <td>0</td>\n",
       "      <td>0</td>\n",
       "      <td>1</td>\n",
       "      <td>0</td>\n",
       "      <td>0</td>\n",
       "      <td>0</td>\n",
       "      <td>1</td>\n",
       "      <td>1</td>\n",
       "      <td>1</td>\n",
       "      <td>0</td>\n",
       "      <td>0</td>\n",
       "      <td>0</td>\n",
       "      <td>1</td>\n",
       "      <td>0</td>\n",
       "      <td>0</td>\n",
       "      <td>0</td>\n",
       "      <td>0</td>\n",
       "      <td>1</td>\n",
       "      <td>1</td>\n",
       "      <td>...</td>\n",
       "      <td>0</td>\n",
       "      <td>0</td>\n",
       "      <td>0</td>\n",
       "      <td>1</td>\n",
       "      <td>1</td>\n",
       "      <td>0</td>\n",
       "      <td>1</td>\n",
       "      <td>1</td>\n",
       "      <td>1</td>\n",
       "      <td>0</td>\n",
       "      <td>1</td>\n",
       "      <td>1</td>\n",
       "      <td>0</td>\n",
       "      <td>0</td>\n",
       "      <td>0</td>\n",
       "      <td>0</td>\n",
       "      <td>0</td>\n",
       "      <td>0</td>\n",
       "      <td>0</td>\n",
       "      <td>0</td>\n",
       "      <td>0</td>\n",
       "      <td>0</td>\n",
       "      <td>0</td>\n",
       "      <td>0</td>\n",
       "      <td>1</td>\n",
       "      <td>0</td>\n",
       "      <td>0</td>\n",
       "      <td>0</td>\n",
       "      <td>0</td>\n",
       "      <td>1</td>\n",
       "      <td>0</td>\n",
       "      <td>0</td>\n",
       "      <td>0</td>\n",
       "      <td>0</td>\n",
       "      <td>1</td>\n",
       "      <td>0</td>\n",
       "      <td>1</td>\n",
       "      <td>0</td>\n",
       "      <td>0</td>\n",
       "      <td>1</td>\n",
       "      <td>0</td>\n",
       "      <td>0</td>\n",
       "      <td>1</td>\n",
       "      <td>0</td>\n",
       "      <td>1</td>\n",
       "      <td>0</td>\n",
       "      <td>0</td>\n",
       "      <td>0</td>\n",
       "      <td>1</td>\n",
       "      <td>0</td>\n",
       "    </tr>\n",
       "    <tr>\n",
       "      <th>...</th>\n",
       "      <td>...</td>\n",
       "      <td>...</td>\n",
       "      <td>...</td>\n",
       "      <td>...</td>\n",
       "      <td>...</td>\n",
       "      <td>...</td>\n",
       "      <td>...</td>\n",
       "      <td>...</td>\n",
       "      <td>...</td>\n",
       "      <td>...</td>\n",
       "      <td>...</td>\n",
       "      <td>...</td>\n",
       "      <td>...</td>\n",
       "      <td>...</td>\n",
       "      <td>...</td>\n",
       "      <td>...</td>\n",
       "      <td>...</td>\n",
       "      <td>...</td>\n",
       "      <td>...</td>\n",
       "      <td>...</td>\n",
       "      <td>...</td>\n",
       "      <td>...</td>\n",
       "      <td>...</td>\n",
       "      <td>...</td>\n",
       "      <td>...</td>\n",
       "      <td>...</td>\n",
       "      <td>...</td>\n",
       "      <td>...</td>\n",
       "      <td>...</td>\n",
       "      <td>...</td>\n",
       "      <td>...</td>\n",
       "      <td>...</td>\n",
       "      <td>...</td>\n",
       "      <td>...</td>\n",
       "      <td>...</td>\n",
       "      <td>...</td>\n",
       "      <td>...</td>\n",
       "      <td>...</td>\n",
       "      <td>...</td>\n",
       "      <td>...</td>\n",
       "      <td>...</td>\n",
       "      <td>...</td>\n",
       "      <td>...</td>\n",
       "      <td>...</td>\n",
       "      <td>...</td>\n",
       "      <td>...</td>\n",
       "      <td>...</td>\n",
       "      <td>...</td>\n",
       "      <td>...</td>\n",
       "      <td>...</td>\n",
       "      <td>...</td>\n",
       "      <td>...</td>\n",
       "      <td>...</td>\n",
       "      <td>...</td>\n",
       "      <td>...</td>\n",
       "      <td>...</td>\n",
       "      <td>...</td>\n",
       "      <td>...</td>\n",
       "      <td>...</td>\n",
       "      <td>...</td>\n",
       "      <td>...</td>\n",
       "      <td>...</td>\n",
       "      <td>...</td>\n",
       "      <td>...</td>\n",
       "      <td>...</td>\n",
       "      <td>...</td>\n",
       "      <td>...</td>\n",
       "      <td>...</td>\n",
       "      <td>...</td>\n",
       "      <td>...</td>\n",
       "      <td>...</td>\n",
       "      <td>...</td>\n",
       "      <td>...</td>\n",
       "      <td>...</td>\n",
       "      <td>...</td>\n",
       "      <td>...</td>\n",
       "      <td>...</td>\n",
       "      <td>...</td>\n",
       "      <td>...</td>\n",
       "      <td>...</td>\n",
       "      <td>...</td>\n",
       "      <td>...</td>\n",
       "      <td>...</td>\n",
       "      <td>...</td>\n",
       "      <td>...</td>\n",
       "      <td>...</td>\n",
       "      <td>...</td>\n",
       "      <td>...</td>\n",
       "      <td>...</td>\n",
       "      <td>...</td>\n",
       "      <td>...</td>\n",
       "      <td>...</td>\n",
       "      <td>...</td>\n",
       "      <td>...</td>\n",
       "      <td>...</td>\n",
       "      <td>...</td>\n",
       "      <td>...</td>\n",
       "      <td>...</td>\n",
       "      <td>...</td>\n",
       "      <td>...</td>\n",
       "      <td>...</td>\n",
       "    </tr>\n",
       "    <tr>\n",
       "      <th>15910</th>\n",
       "      <td>39950</td>\n",
       "      <td>1647.362609</td>\n",
       "      <td>6.0</td>\n",
       "      <td>0.0</td>\n",
       "      <td>1.0</td>\n",
       "      <td>147.0</td>\n",
       "      <td>0</td>\n",
       "      <td>1997.0</td>\n",
       "      <td>1758.0</td>\n",
       "      <td>5.3</td>\n",
       "      <td>1</td>\n",
       "      <td>0</td>\n",
       "      <td>0</td>\n",
       "      <td>1</td>\n",
       "      <td>0</td>\n",
       "      <td>1</td>\n",
       "      <td>0</td>\n",
       "      <td>0</td>\n",
       "      <td>1</td>\n",
       "      <td>1</td>\n",
       "      <td>0</td>\n",
       "      <td>0</td>\n",
       "      <td>0</td>\n",
       "      <td>1</td>\n",
       "      <td>1</td>\n",
       "      <td>0</td>\n",
       "      <td>1</td>\n",
       "      <td>1</td>\n",
       "      <td>0</td>\n",
       "      <td>1</td>\n",
       "      <td>1</td>\n",
       "      <td>1</td>\n",
       "      <td>0</td>\n",
       "      <td>1</td>\n",
       "      <td>0</td>\n",
       "      <td>0</td>\n",
       "      <td>1</td>\n",
       "      <td>1</td>\n",
       "      <td>1</td>\n",
       "      <td>1</td>\n",
       "      <td>0</td>\n",
       "      <td>0</td>\n",
       "      <td>1</td>\n",
       "      <td>1</td>\n",
       "      <td>0</td>\n",
       "      <td>1</td>\n",
       "      <td>0</td>\n",
       "      <td>0</td>\n",
       "      <td>1</td>\n",
       "      <td>0</td>\n",
       "      <td>...</td>\n",
       "      <td>1</td>\n",
       "      <td>1</td>\n",
       "      <td>0</td>\n",
       "      <td>1</td>\n",
       "      <td>1</td>\n",
       "      <td>1</td>\n",
       "      <td>1</td>\n",
       "      <td>1</td>\n",
       "      <td>1</td>\n",
       "      <td>1</td>\n",
       "      <td>0</td>\n",
       "      <td>0</td>\n",
       "      <td>0</td>\n",
       "      <td>0</td>\n",
       "      <td>0</td>\n",
       "      <td>0</td>\n",
       "      <td>0</td>\n",
       "      <td>0</td>\n",
       "      <td>0</td>\n",
       "      <td>1</td>\n",
       "      <td>0</td>\n",
       "      <td>0</td>\n",
       "      <td>0</td>\n",
       "      <td>0</td>\n",
       "      <td>0</td>\n",
       "      <td>0</td>\n",
       "      <td>0</td>\n",
       "      <td>1</td>\n",
       "      <td>0</td>\n",
       "      <td>1</td>\n",
       "      <td>0</td>\n",
       "      <td>0</td>\n",
       "      <td>1</td>\n",
       "      <td>0</td>\n",
       "      <td>0</td>\n",
       "      <td>0</td>\n",
       "      <td>1</td>\n",
       "      <td>0</td>\n",
       "      <td>0</td>\n",
       "      <td>1</td>\n",
       "      <td>0</td>\n",
       "      <td>0</td>\n",
       "      <td>0</td>\n",
       "      <td>1</td>\n",
       "      <td>1</td>\n",
       "      <td>0</td>\n",
       "      <td>0</td>\n",
       "      <td>0</td>\n",
       "      <td>1</td>\n",
       "      <td>0</td>\n",
       "    </tr>\n",
       "    <tr>\n",
       "      <th>15911</th>\n",
       "      <td>39885</td>\n",
       "      <td>9900.000000</td>\n",
       "      <td>7.0</td>\n",
       "      <td>0.0</td>\n",
       "      <td>1.0</td>\n",
       "      <td>165.0</td>\n",
       "      <td>0</td>\n",
       "      <td>1798.0</td>\n",
       "      <td>1708.0</td>\n",
       "      <td>7.4</td>\n",
       "      <td>1</td>\n",
       "      <td>0</td>\n",
       "      <td>0</td>\n",
       "      <td>1</td>\n",
       "      <td>0</td>\n",
       "      <td>1</td>\n",
       "      <td>0</td>\n",
       "      <td>1</td>\n",
       "      <td>1</td>\n",
       "      <td>0</td>\n",
       "      <td>1</td>\n",
       "      <td>1</td>\n",
       "      <td>1</td>\n",
       "      <td>1</td>\n",
       "      <td>1</td>\n",
       "      <td>0</td>\n",
       "      <td>1</td>\n",
       "      <td>1</td>\n",
       "      <td>1</td>\n",
       "      <td>0</td>\n",
       "      <td>0</td>\n",
       "      <td>1</td>\n",
       "      <td>0</td>\n",
       "      <td>1</td>\n",
       "      <td>1</td>\n",
       "      <td>1</td>\n",
       "      <td>1</td>\n",
       "      <td>1</td>\n",
       "      <td>1</td>\n",
       "      <td>1</td>\n",
       "      <td>1</td>\n",
       "      <td>0</td>\n",
       "      <td>0</td>\n",
       "      <td>0</td>\n",
       "      <td>1</td>\n",
       "      <td>0</td>\n",
       "      <td>0</td>\n",
       "      <td>0</td>\n",
       "      <td>1</td>\n",
       "      <td>0</td>\n",
       "      <td>...</td>\n",
       "      <td>1</td>\n",
       "      <td>1</td>\n",
       "      <td>0</td>\n",
       "      <td>1</td>\n",
       "      <td>1</td>\n",
       "      <td>0</td>\n",
       "      <td>1</td>\n",
       "      <td>1</td>\n",
       "      <td>1</td>\n",
       "      <td>1</td>\n",
       "      <td>0</td>\n",
       "      <td>0</td>\n",
       "      <td>0</td>\n",
       "      <td>0</td>\n",
       "      <td>0</td>\n",
       "      <td>0</td>\n",
       "      <td>0</td>\n",
       "      <td>0</td>\n",
       "      <td>0</td>\n",
       "      <td>1</td>\n",
       "      <td>0</td>\n",
       "      <td>0</td>\n",
       "      <td>0</td>\n",
       "      <td>0</td>\n",
       "      <td>0</td>\n",
       "      <td>0</td>\n",
       "      <td>0</td>\n",
       "      <td>1</td>\n",
       "      <td>0</td>\n",
       "      <td>1</td>\n",
       "      <td>0</td>\n",
       "      <td>0</td>\n",
       "      <td>0</td>\n",
       "      <td>0</td>\n",
       "      <td>1</td>\n",
       "      <td>1</td>\n",
       "      <td>0</td>\n",
       "      <td>0</td>\n",
       "      <td>0</td>\n",
       "      <td>1</td>\n",
       "      <td>0</td>\n",
       "      <td>0</td>\n",
       "      <td>1</td>\n",
       "      <td>0</td>\n",
       "      <td>1</td>\n",
       "      <td>0</td>\n",
       "      <td>0</td>\n",
       "      <td>0</td>\n",
       "      <td>1</td>\n",
       "      <td>0</td>\n",
       "    </tr>\n",
       "    <tr>\n",
       "      <th>15912</th>\n",
       "      <td>39875</td>\n",
       "      <td>15.000000</td>\n",
       "      <td>6.0</td>\n",
       "      <td>0.0</td>\n",
       "      <td>1.0</td>\n",
       "      <td>146.0</td>\n",
       "      <td>1</td>\n",
       "      <td>1997.0</td>\n",
       "      <td>1734.0</td>\n",
       "      <td>5.3</td>\n",
       "      <td>1</td>\n",
       "      <td>0</td>\n",
       "      <td>1</td>\n",
       "      <td>1</td>\n",
       "      <td>0</td>\n",
       "      <td>1</td>\n",
       "      <td>0</td>\n",
       "      <td>1</td>\n",
       "      <td>1</td>\n",
       "      <td>0</td>\n",
       "      <td>1</td>\n",
       "      <td>1</td>\n",
       "      <td>1</td>\n",
       "      <td>0</td>\n",
       "      <td>0</td>\n",
       "      <td>0</td>\n",
       "      <td>1</td>\n",
       "      <td>1</td>\n",
       "      <td>0</td>\n",
       "      <td>1</td>\n",
       "      <td>1</td>\n",
       "      <td>1</td>\n",
       "      <td>1</td>\n",
       "      <td>1</td>\n",
       "      <td>1</td>\n",
       "      <td>0</td>\n",
       "      <td>1</td>\n",
       "      <td>1</td>\n",
       "      <td>1</td>\n",
       "      <td>1</td>\n",
       "      <td>1</td>\n",
       "      <td>1</td>\n",
       "      <td>0</td>\n",
       "      <td>0</td>\n",
       "      <td>1</td>\n",
       "      <td>0</td>\n",
       "      <td>0</td>\n",
       "      <td>0</td>\n",
       "      <td>1</td>\n",
       "      <td>0</td>\n",
       "      <td>...</td>\n",
       "      <td>1</td>\n",
       "      <td>1</td>\n",
       "      <td>0</td>\n",
       "      <td>1</td>\n",
       "      <td>1</td>\n",
       "      <td>0</td>\n",
       "      <td>1</td>\n",
       "      <td>0</td>\n",
       "      <td>1</td>\n",
       "      <td>1</td>\n",
       "      <td>0</td>\n",
       "      <td>0</td>\n",
       "      <td>0</td>\n",
       "      <td>0</td>\n",
       "      <td>0</td>\n",
       "      <td>0</td>\n",
       "      <td>0</td>\n",
       "      <td>0</td>\n",
       "      <td>0</td>\n",
       "      <td>1</td>\n",
       "      <td>0</td>\n",
       "      <td>0</td>\n",
       "      <td>0</td>\n",
       "      <td>0</td>\n",
       "      <td>0</td>\n",
       "      <td>0</td>\n",
       "      <td>0</td>\n",
       "      <td>1</td>\n",
       "      <td>0</td>\n",
       "      <td>1</td>\n",
       "      <td>0</td>\n",
       "      <td>0</td>\n",
       "      <td>0</td>\n",
       "      <td>1</td>\n",
       "      <td>0</td>\n",
       "      <td>0</td>\n",
       "      <td>1</td>\n",
       "      <td>0</td>\n",
       "      <td>0</td>\n",
       "      <td>1</td>\n",
       "      <td>0</td>\n",
       "      <td>0</td>\n",
       "      <td>0</td>\n",
       "      <td>1</td>\n",
       "      <td>1</td>\n",
       "      <td>0</td>\n",
       "      <td>0</td>\n",
       "      <td>0</td>\n",
       "      <td>1</td>\n",
       "      <td>0</td>\n",
       "    </tr>\n",
       "    <tr>\n",
       "      <th>15913</th>\n",
       "      <td>39700</td>\n",
       "      <td>10.000000</td>\n",
       "      <td>6.0</td>\n",
       "      <td>0.0</td>\n",
       "      <td>1.0</td>\n",
       "      <td>147.0</td>\n",
       "      <td>0</td>\n",
       "      <td>1997.0</td>\n",
       "      <td>1758.0</td>\n",
       "      <td>5.3</td>\n",
       "      <td>1</td>\n",
       "      <td>0</td>\n",
       "      <td>0</td>\n",
       "      <td>1</td>\n",
       "      <td>0</td>\n",
       "      <td>1</td>\n",
       "      <td>0</td>\n",
       "      <td>0</td>\n",
       "      <td>1</td>\n",
       "      <td>1</td>\n",
       "      <td>0</td>\n",
       "      <td>0</td>\n",
       "      <td>0</td>\n",
       "      <td>0</td>\n",
       "      <td>0</td>\n",
       "      <td>0</td>\n",
       "      <td>1</td>\n",
       "      <td>1</td>\n",
       "      <td>0</td>\n",
       "      <td>0</td>\n",
       "      <td>0</td>\n",
       "      <td>0</td>\n",
       "      <td>0</td>\n",
       "      <td>1</td>\n",
       "      <td>0</td>\n",
       "      <td>0</td>\n",
       "      <td>0</td>\n",
       "      <td>0</td>\n",
       "      <td>1</td>\n",
       "      <td>0</td>\n",
       "      <td>0</td>\n",
       "      <td>0</td>\n",
       "      <td>0</td>\n",
       "      <td>1</td>\n",
       "      <td>0</td>\n",
       "      <td>0</td>\n",
       "      <td>0</td>\n",
       "      <td>0</td>\n",
       "      <td>1</td>\n",
       "      <td>0</td>\n",
       "      <td>...</td>\n",
       "      <td>1</td>\n",
       "      <td>0</td>\n",
       "      <td>0</td>\n",
       "      <td>1</td>\n",
       "      <td>1</td>\n",
       "      <td>0</td>\n",
       "      <td>1</td>\n",
       "      <td>1</td>\n",
       "      <td>0</td>\n",
       "      <td>1</td>\n",
       "      <td>0</td>\n",
       "      <td>0</td>\n",
       "      <td>0</td>\n",
       "      <td>0</td>\n",
       "      <td>0</td>\n",
       "      <td>0</td>\n",
       "      <td>0</td>\n",
       "      <td>0</td>\n",
       "      <td>0</td>\n",
       "      <td>1</td>\n",
       "      <td>0</td>\n",
       "      <td>0</td>\n",
       "      <td>0</td>\n",
       "      <td>0</td>\n",
       "      <td>0</td>\n",
       "      <td>0</td>\n",
       "      <td>0</td>\n",
       "      <td>1</td>\n",
       "      <td>0</td>\n",
       "      <td>1</td>\n",
       "      <td>0</td>\n",
       "      <td>0</td>\n",
       "      <td>0</td>\n",
       "      <td>1</td>\n",
       "      <td>0</td>\n",
       "      <td>0</td>\n",
       "      <td>1</td>\n",
       "      <td>0</td>\n",
       "      <td>0</td>\n",
       "      <td>1</td>\n",
       "      <td>0</td>\n",
       "      <td>0</td>\n",
       "      <td>0</td>\n",
       "      <td>1</td>\n",
       "      <td>1</td>\n",
       "      <td>0</td>\n",
       "      <td>0</td>\n",
       "      <td>0</td>\n",
       "      <td>1</td>\n",
       "      <td>0</td>\n",
       "    </tr>\n",
       "    <tr>\n",
       "      <th>15914</th>\n",
       "      <td>40999</td>\n",
       "      <td>1647.362609</td>\n",
       "      <td>6.0</td>\n",
       "      <td>0.0</td>\n",
       "      <td>1.0</td>\n",
       "      <td>165.0</td>\n",
       "      <td>1</td>\n",
       "      <td>1798.0</td>\n",
       "      <td>1685.0</td>\n",
       "      <td>6.8</td>\n",
       "      <td>1</td>\n",
       "      <td>0</td>\n",
       "      <td>0</td>\n",
       "      <td>1</td>\n",
       "      <td>0</td>\n",
       "      <td>1</td>\n",
       "      <td>0</td>\n",
       "      <td>1</td>\n",
       "      <td>1</td>\n",
       "      <td>1</td>\n",
       "      <td>0</td>\n",
       "      <td>0</td>\n",
       "      <td>0</td>\n",
       "      <td>1</td>\n",
       "      <td>0</td>\n",
       "      <td>0</td>\n",
       "      <td>1</td>\n",
       "      <td>0</td>\n",
       "      <td>0</td>\n",
       "      <td>0</td>\n",
       "      <td>0</td>\n",
       "      <td>1</td>\n",
       "      <td>0</td>\n",
       "      <td>0</td>\n",
       "      <td>0</td>\n",
       "      <td>0</td>\n",
       "      <td>0</td>\n",
       "      <td>0</td>\n",
       "      <td>1</td>\n",
       "      <td>0</td>\n",
       "      <td>1</td>\n",
       "      <td>0</td>\n",
       "      <td>0</td>\n",
       "      <td>0</td>\n",
       "      <td>0</td>\n",
       "      <td>0</td>\n",
       "      <td>0</td>\n",
       "      <td>0</td>\n",
       "      <td>0</td>\n",
       "      <td>0</td>\n",
       "      <td>...</td>\n",
       "      <td>0</td>\n",
       "      <td>0</td>\n",
       "      <td>0</td>\n",
       "      <td>1</td>\n",
       "      <td>1</td>\n",
       "      <td>0</td>\n",
       "      <td>1</td>\n",
       "      <td>1</td>\n",
       "      <td>0</td>\n",
       "      <td>1</td>\n",
       "      <td>0</td>\n",
       "      <td>0</td>\n",
       "      <td>0</td>\n",
       "      <td>0</td>\n",
       "      <td>0</td>\n",
       "      <td>0</td>\n",
       "      <td>0</td>\n",
       "      <td>0</td>\n",
       "      <td>0</td>\n",
       "      <td>1</td>\n",
       "      <td>0</td>\n",
       "      <td>0</td>\n",
       "      <td>0</td>\n",
       "      <td>0</td>\n",
       "      <td>0</td>\n",
       "      <td>0</td>\n",
       "      <td>0</td>\n",
       "      <td>1</td>\n",
       "      <td>0</td>\n",
       "      <td>1</td>\n",
       "      <td>1</td>\n",
       "      <td>0</td>\n",
       "      <td>0</td>\n",
       "      <td>0</td>\n",
       "      <td>0</td>\n",
       "      <td>1</td>\n",
       "      <td>0</td>\n",
       "      <td>0</td>\n",
       "      <td>0</td>\n",
       "      <td>1</td>\n",
       "      <td>0</td>\n",
       "      <td>0</td>\n",
       "      <td>0</td>\n",
       "      <td>1</td>\n",
       "      <td>1</td>\n",
       "      <td>0</td>\n",
       "      <td>0</td>\n",
       "      <td>1</td>\n",
       "      <td>0</td>\n",
       "      <td>0</td>\n",
       "    </tr>\n",
       "  </tbody>\n",
       "</table>\n",
       "<p>15915 rows × 143 columns</p>\n",
       "</div>"
      ],
      "text/plain": [
       "       price            km  Gears  age  Previous_Owners  hp_kW  \\\n",
       "0      15770  56013.000000    7.0  3.0              2.0   66.0   \n",
       "1      14500  80000.000000    7.0  2.0              1.0  141.0   \n",
       "2      14640  83450.000000    7.0  3.0              1.0   85.0   \n",
       "3      14500  73000.000000    6.0  3.0              1.0   66.0   \n",
       "4      16790  16200.000000    7.0  3.0              1.0   66.0   \n",
       "...      ...           ...    ...  ...              ...    ...   \n",
       "15910  39950   1647.362609    6.0  0.0              1.0  147.0   \n",
       "15911  39885   9900.000000    7.0  0.0              1.0  165.0   \n",
       "15912  39875     15.000000    6.0  0.0              1.0  146.0   \n",
       "15913  39700     10.000000    6.0  0.0              1.0  147.0   \n",
       "15914  40999   1647.362609    6.0  0.0              1.0  165.0   \n",
       "\n",
       "       Inspection_new  Displacement_cc  Weight_kg  cons_comb  \\\n",
       "0                   1           1422.0     1220.0        3.8   \n",
       "1                   0           1798.0     1255.0        5.6   \n",
       "2                   0           1598.0     1135.0        3.8   \n",
       "3                   0           1422.0     1195.0        3.8   \n",
       "4                   1           1422.0     1135.0        4.1   \n",
       "...               ...              ...        ...        ...   \n",
       "15910               0           1997.0     1758.0        5.3   \n",
       "15911               0           1798.0     1708.0        7.4   \n",
       "15912               1           1997.0     1734.0        5.3   \n",
       "15913               0           1997.0     1758.0        5.3   \n",
       "15914               1           1798.0     1685.0        6.8   \n",
       "\n",
       "       cc_Air conditioning  cc_Air suspension  cc_Armrest  \\\n",
       "0                        1                  0           1   \n",
       "1                        1                  0           0   \n",
       "2                        1                  0           0   \n",
       "3                        0                  1           1   \n",
       "4                        1                  0           1   \n",
       "...                    ...                ...         ...   \n",
       "15910                    1                  0           0   \n",
       "15911                    1                  0           0   \n",
       "15912                    1                  0           1   \n",
       "15913                    1                  0           0   \n",
       "15914                    1                  0           0   \n",
       "\n",
       "       cc_Automatic climate control  cc_Auxiliary heating  cc_Cruise control  \\\n",
       "0                                 1                     0                  1   \n",
       "1                                 1                     0                  0   \n",
       "2                                 0                     0                  1   \n",
       "3                                 0                     1                  0   \n",
       "4                                 1                     0                  0   \n",
       "...                             ...                   ...                ...   \n",
       "15910                             1                     0                  1   \n",
       "15911                             1                     0                  1   \n",
       "15912                             1                     0                  1   \n",
       "15913                             1                     0                  1   \n",
       "15914                             1                     0                  1   \n",
       "\n",
       "       cc_Electric Starter  cc_Electric tailgate  cc_Electrical side mirrors  \\\n",
       "0                        0                     0                           1   \n",
       "1                        0                     0                           0   \n",
       "2                        0                     0                           1   \n",
       "3                        0                     0                           1   \n",
       "4                        0                     0                           1   \n",
       "...                    ...                   ...                         ...   \n",
       "15910                    0                     0                           1   \n",
       "15911                    0                     1                           1   \n",
       "15912                    0                     1                           1   \n",
       "15913                    0                     0                           1   \n",
       "15914                    0                     1                           1   \n",
       "\n",
       "       cc_Electrically adjustable seats  cc_Electrically heated windshield  \\\n",
       "0                                     0                                  0   \n",
       "1                                     0                                  0   \n",
       "2                                     0                                  0   \n",
       "3                                     0                                  0   \n",
       "4                                     0                                  0   \n",
       "...                                 ...                                ...   \n",
       "15910                                 1                                  0   \n",
       "15911                                 0                                  1   \n",
       "15912                                 0                                  1   \n",
       "15913                                 1                                  0   \n",
       "15914                                 1                                  0   \n",
       "\n",
       "       cc_Heads-up display  cc_Heated steering wheel  cc_Hill Holder  \\\n",
       "0                        0                         0               1   \n",
       "1                        0                         0               1   \n",
       "2                        0                         0               1   \n",
       "3                        1                         0               1   \n",
       "4                        0                         0               1   \n",
       "...                    ...                       ...             ...   \n",
       "15910                    0                         0               1   \n",
       "15911                    1                         1               1   \n",
       "15912                    1                         1               0   \n",
       "15913                    0                         0               0   \n",
       "15914                    0                         0               1   \n",
       "\n",
       "       cc_Keyless central door lock  cc_Leather seats  \\\n",
       "0                                 0                 0   \n",
       "1                                 0                 0   \n",
       "2                                 0                 0   \n",
       "3                                 0                 0   \n",
       "4                                 0                 0   \n",
       "...                             ...               ...   \n",
       "15910                             1                 0   \n",
       "15911                             1                 0   \n",
       "15912                             0                 0   \n",
       "15913                             0                 0   \n",
       "15914                             0                 0   \n",
       "\n",
       "       cc_Leather steering wheel  cc_Light sensor  cc_Lumbar support  \\\n",
       "0                              1                1                  0   \n",
       "1                              1                0                  1   \n",
       "2                              1                0                  0   \n",
       "3                              1                1                  1   \n",
       "4                              1                1                  0   \n",
       "...                          ...              ...                ...   \n",
       "15910                          1                1                  0   \n",
       "15911                          1                1                  1   \n",
       "15912                          1                1                  0   \n",
       "15913                          1                1                  0   \n",
       "15914                          1                0                  0   \n",
       "\n",
       "       cc_Massage seats  cc_Multi-function steering wheel  \\\n",
       "0                     0                                 1   \n",
       "1                     0                                 0   \n",
       "2                     0                                 1   \n",
       "3                     0                                 1   \n",
       "4                     0                                 1   \n",
       "...                 ...                               ...   \n",
       "15910                 1                                 1   \n",
       "15911                 0                                 0   \n",
       "15912                 1                                 1   \n",
       "15913                 0                                 0   \n",
       "15914                 0                                 0   \n",
       "\n",
       "       cc_Navigation system  cc_Panorama roof  cc_Park Distance Control  \\\n",
       "0                         1                 0                         1   \n",
       "1                         0                 0                         0   \n",
       "2                         1                 0                         1   \n",
       "3                         1                 0                         0   \n",
       "4                         0                 0                         1   \n",
       "...                     ...               ...                       ...   \n",
       "15910                     1                 0                         1   \n",
       "15911                     1                 0                         1   \n",
       "15912                     1                 1                         1   \n",
       "15913                     0                 0                         1   \n",
       "15914                     1                 0                         0   \n",
       "\n",
       "       cc_Parking assist system camera  \\\n",
       "0                                    0   \n",
       "1                                    0   \n",
       "2                                    0   \n",
       "3                                    0   \n",
       "4                                    0   \n",
       "...                                ...   \n",
       "15910                                0   \n",
       "15911                                1   \n",
       "15912                                1   \n",
       "15913                                0   \n",
       "15914                                0   \n",
       "\n",
       "       cc_Parking assist system self-steering  \\\n",
       "0                                           0   \n",
       "1                                           0   \n",
       "2                                           0   \n",
       "3                                           0   \n",
       "4                                           0   \n",
       "...                                       ...   \n",
       "15910                                       0   \n",
       "15911                                       1   \n",
       "15912                                       0   \n",
       "15913                                       0   \n",
       "15914                                       0   \n",
       "\n",
       "       cc_Parking assist system sensors front  \\\n",
       "0                                           0   \n",
       "1                                           0   \n",
       "2                                           1   \n",
       "3                                           0   \n",
       "4                                           0   \n",
       "...                                       ...   \n",
       "15910                                       1   \n",
       "15911                                       1   \n",
       "15912                                       1   \n",
       "15913                                       0   \n",
       "15914                                       0   \n",
       "\n",
       "       cc_Parking assist system sensors rear  cc_Power windows  \\\n",
       "0                                          1                 1   \n",
       "1                                          1                 1   \n",
       "2                                          1                 1   \n",
       "3                                          0                 1   \n",
       "4                                          1                 1   \n",
       "...                                      ...               ...   \n",
       "15910                                      1                 1   \n",
       "15911                                      1                 1   \n",
       "15912                                      1                 1   \n",
       "15913                                      0                 1   \n",
       "15914                                      0                 1   \n",
       "\n",
       "       cc_Rain sensor  cc_Seat heating  cc_Seat ventilation  \\\n",
       "0                   1                1                    0   \n",
       "1                   0                0                    0   \n",
       "2                   0                1                    0   \n",
       "3                   1                1                    0   \n",
       "4                   1                0                    0   \n",
       "...               ...              ...                  ...   \n",
       "15910               1                0                    0   \n",
       "15911               1                1                    0   \n",
       "15912               1                1                    1   \n",
       "15913               0                0                    0   \n",
       "15914               0                1                    0   \n",
       "\n",
       "       cc_Split rear seats  cc_Start-stop system  cc_Sunroof  \\\n",
       "0                        0                     1           0   \n",
       "1                        0                     1           0   \n",
       "2                        0                     1           0   \n",
       "3                        1                     1           0   \n",
       "4                        0                     1           0   \n",
       "...                    ...                   ...         ...   \n",
       "15910                    1                     1           0   \n",
       "15911                    0                     0           1   \n",
       "15912                    0                     0           1   \n",
       "15913                    0                     1           0   \n",
       "15914                    0                     0           0   \n",
       "\n",
       "       cc_Tinted windows  cc_Wind deflector  cc_Windshield  em_Bluetooth  \\\n",
       "0                      0                  0              0             1   \n",
       "1                      1                  0              0             1   \n",
       "2                      0                  0              0             0   \n",
       "3                      0                  0              0             1   \n",
       "4                      0                  0              0             1   \n",
       "...                  ...                ...            ...           ...   \n",
       "15910                  1                  0              0             1   \n",
       "15911                  0                  0              0             1   \n",
       "15912                  0                  0              0             1   \n",
       "15913                  0                  0              0             1   \n",
       "15914                  0                  0              0             0   \n",
       "\n",
       "       em_CD player  ...  ss_LED Headlights  ss_Lane departure warning system  \\\n",
       "0                 0  ...                  0                                 0   \n",
       "1                 0  ...                  0                                 0   \n",
       "2                 0  ...                  0                                 0   \n",
       "3                 1  ...                  0                                 0   \n",
       "4                 1  ...                  0                                 0   \n",
       "...             ...  ...                ...                               ...   \n",
       "15910             0  ...                  1                                 1   \n",
       "15911             0  ...                  1                                 1   \n",
       "15912             0  ...                  1                                 1   \n",
       "15913             0  ...                  1                                 0   \n",
       "15914             0  ...                  0                                 0   \n",
       "\n",
       "       ss_Night view assist  ss_Passenger-side airbag  ss_Power steering  \\\n",
       "0                         0                         1                  1   \n",
       "1                         0                         1                  1   \n",
       "2                         0                         1                  1   \n",
       "3                         0                         1                  1   \n",
       "4                         0                         1                  1   \n",
       "...                     ...                       ...                ...   \n",
       "15910                     0                         1                  1   \n",
       "15911                     0                         1                  1   \n",
       "15912                     0                         1                  1   \n",
       "15913                     0                         1                  1   \n",
       "15914                     0                         1                  1   \n",
       "\n",
       "       ss_Rear airbag  ss_Side airbag  ss_Tire pressure monitoring system  \\\n",
       "0                   0               1                                   1   \n",
       "1                   0               1                                   1   \n",
       "2                   0               1                                   1   \n",
       "3                   0               1                                   1   \n",
       "4                   0               1                                   1   \n",
       "...               ...             ...                                 ...   \n",
       "15910               1               1                                   1   \n",
       "15911               0               1                                   1   \n",
       "15912               0               1                                   0   \n",
       "15913               0               1                                   1   \n",
       "15914               0               1                                   1   \n",
       "\n",
       "       ss_Traction control  ss_Traffic sign recognition  ss_Xenon headlights  \\\n",
       "0                        1                            0                    1   \n",
       "1                        1                            0                    1   \n",
       "2                        1                            0                    0   \n",
       "3                        0                            0                    0   \n",
       "4                        1                            0                    1   \n",
       "...                    ...                          ...                  ...   \n",
       "15910                    1                            1                    0   \n",
       "15911                    1                            1                    0   \n",
       "15912                    1                            1                    0   \n",
       "15913                    0                            1                    0   \n",
       "15914                    0                            1                    0   \n",
       "\n",
       "       make_model_Audi A1  make_model_Audi A2  make_model_Audi A3  \\\n",
       "0                       1                   0                   0   \n",
       "1                       1                   0                   0   \n",
       "2                       1                   0                   0   \n",
       "3                       1                   0                   0   \n",
       "4                       1                   0                   0   \n",
       "...                   ...                 ...                 ...   \n",
       "15910                   0                   0                   0   \n",
       "15911                   0                   0                   0   \n",
       "15912                   0                   0                   0   \n",
       "15913                   0                   0                   0   \n",
       "15914                   0                   0                   0   \n",
       "\n",
       "       make_model_Opel Astra  make_model_Opel Corsa  make_model_Opel Insignia  \\\n",
       "0                          0                      0                         0   \n",
       "1                          0                      0                         0   \n",
       "2                          0                      0                         0   \n",
       "3                          0                      0                         0   \n",
       "4                          0                      0                         0   \n",
       "...                      ...                    ...                       ...   \n",
       "15910                      0                      0                         0   \n",
       "15911                      0                      0                         0   \n",
       "15912                      0                      0                         0   \n",
       "15913                      0                      0                         0   \n",
       "15914                      0                      0                         0   \n",
       "\n",
       "       make_model_Renault Clio  make_model_Renault Duster  \\\n",
       "0                            0                          0   \n",
       "1                            0                          0   \n",
       "2                            0                          0   \n",
       "3                            0                          0   \n",
       "4                            0                          0   \n",
       "...                        ...                        ...   \n",
       "15910                        0                          0   \n",
       "15911                        0                          0   \n",
       "15912                        0                          0   \n",
       "15913                        0                          0   \n",
       "15914                        0                          0   \n",
       "\n",
       "       make_model_Renault Espace  body_type_Compact  body_type_Convertible  \\\n",
       "0                              0                  0                      0   \n",
       "1                              0                  0                      0   \n",
       "2                              0                  0                      0   \n",
       "3                              0                  0                      0   \n",
       "4                              0                  0                      0   \n",
       "...                          ...                ...                    ...   \n",
       "15910                          1                  0                      0   \n",
       "15911                          1                  0                      0   \n",
       "15912                          1                  0                      0   \n",
       "15913                          1                  0                      0   \n",
       "15914                          1                  0                      0   \n",
       "\n",
       "       body_type_Coupe  body_type_Off-Road  body_type_Sedans  \\\n",
       "0                    0                   0                 1   \n",
       "1                    0                   0                 1   \n",
       "2                    0                   0                 1   \n",
       "3                    0                   0                 1   \n",
       "4                    0                   0                 1   \n",
       "...                ...                 ...               ...   \n",
       "15910                0                   0                 0   \n",
       "15911                0                   0                 0   \n",
       "15912                0                   0                 0   \n",
       "15913                0                   0                 0   \n",
       "15914                0                   0                 0   \n",
       "\n",
       "       body_type_Station wagon  body_type_Transporter  body_type_Van  \\\n",
       "0                            0                      0              0   \n",
       "1                            0                      0              0   \n",
       "2                            0                      0              0   \n",
       "3                            0                      0              0   \n",
       "4                            0                      0              0   \n",
       "...                        ...                    ...            ...   \n",
       "15910                        0                      0              1   \n",
       "15911                        0                      0              1   \n",
       "15912                        0                      0              1   \n",
       "15913                        0                      0              1   \n",
       "15914                        0                      0              1   \n",
       "\n",
       "       vat_Price negotiable  vat_VAT deductible  Type_Demonstration  \\\n",
       "0                         0                   1                   0   \n",
       "1                         1                   0                   0   \n",
       "2                         0                   1                   0   \n",
       "3                         0                   1                   0   \n",
       "4                         0                   1                   0   \n",
       "...                     ...                 ...                 ...   \n",
       "15910                     0                   1                   0   \n",
       "15911                     0                   1                   0   \n",
       "15912                     0                   1                   0   \n",
       "15913                     0                   1                   0   \n",
       "15914                     0                   1                   1   \n",
       "\n",
       "       Type_Employee's car  Type_New  Type_Pre-registered  Type_Used  \\\n",
       "0                        0         0                    0          1   \n",
       "1                        0         0                    0          1   \n",
       "2                        0         0                    0          1   \n",
       "3                        0         0                    0          1   \n",
       "4                        0         0                    0          1   \n",
       "...                    ...       ...                  ...        ...   \n",
       "15910                    0         1                    0          0   \n",
       "15911                    0         0                    0          1   \n",
       "15912                    0         0                    1          0   \n",
       "15913                    0         0                    1          0   \n",
       "15914                    0         0                    0          0   \n",
       "\n",
       "       Fuel_Benzine  Fuel_Diesel  Fuel_Electric  Fuel_LPG/CNG  \\\n",
       "0                 0            1              0             0   \n",
       "1                 1            0              0             0   \n",
       "2                 0            1              0             0   \n",
       "3                 0            1              0             0   \n",
       "4                 0            1              0             0   \n",
       "...             ...          ...            ...           ...   \n",
       "15910             0            1              0             0   \n",
       "15911             1            0              0             0   \n",
       "15912             0            1              0             0   \n",
       "15913             0            1              0             0   \n",
       "15914             1            0              0             0   \n",
       "\n",
       "       Paint_Type_Metallic  Paint_Type_Perl effect  Paint_Type_Uni/basic  \\\n",
       "0                        1                       0                     0   \n",
       "1                        1                       0                     0   \n",
       "2                        1                       0                     0   \n",
       "3                        1                       0                     0   \n",
       "4                        1                       0                     0   \n",
       "...                    ...                     ...                   ...   \n",
       "15910                    1                       0                     0   \n",
       "15911                    1                       0                     0   \n",
       "15912                    1                       0                     0   \n",
       "15913                    1                       0                     0   \n",
       "15914                    1                       0                     0   \n",
       "\n",
       "       Upholstery_type_Cloth  Upholstery_type_Part/Full Leather  \\\n",
       "0                          1                                  0   \n",
       "1                          1                                  0   \n",
       "2                          1                                  0   \n",
       "3                          1                                  0   \n",
       "4                          1                                  0   \n",
       "...                      ...                                ...   \n",
       "15910                      0                                  1   \n",
       "15911                      1                                  0   \n",
       "15912                      0                                  1   \n",
       "15913                      0                                  1   \n",
       "15914                      0                                  1   \n",
       "\n",
       "       Gearing_Type_Automatic  Gearing_Type_Manual  \\\n",
       "0                           1                    0   \n",
       "1                           1                    0   \n",
       "2                           1                    0   \n",
       "3                           1                    0   \n",
       "4                           1                    0   \n",
       "...                       ...                  ...   \n",
       "15910                       1                    0   \n",
       "15911                       1                    0   \n",
       "15912                       1                    0   \n",
       "15913                       1                    0   \n",
       "15914                       1                    0   \n",
       "\n",
       "       Gearing_Type_Semi-automatic  Drive_chain_4WD  Drive_chain_front  \\\n",
       "0                                0                0                  1   \n",
       "1                                0                0                  1   \n",
       "2                                0                0                  1   \n",
       "3                                0                0                  1   \n",
       "4                                0                0                  1   \n",
       "...                            ...              ...                ...   \n",
       "15910                            0                0                  1   \n",
       "15911                            0                0                  1   \n",
       "15912                            0                0                  1   \n",
       "15913                            0                0                  1   \n",
       "15914                            0                1                  0   \n",
       "\n",
       "       Drive_chain_rear  \n",
       "0                     0  \n",
       "1                     0  \n",
       "2                     0  \n",
       "3                     0  \n",
       "4                     0  \n",
       "...                 ...  \n",
       "15910                 0  \n",
       "15911                 0  \n",
       "15912                 0  \n",
       "15913                 0  \n",
       "15914                 0  \n",
       "\n",
       "[15915 rows x 143 columns]"
      ]
     },
     "execution_count": 2,
     "metadata": {},
     "output_type": "execute_result"
    }
   ],
   "source": [
    "df = pd.read_csv(\"final_scout_dummy.csv\")\n",
    "df"
   ]
  },
  {
   "cell_type": "code",
   "execution_count": 17,
   "metadata": {},
   "outputs": [],
   "source": [
    "X,y = df.drop(columns=\"price\"),df[\"price\"]"
   ]
  },
  {
   "cell_type": "code",
   "execution_count": 18,
   "metadata": {},
   "outputs": [],
   "source": [
    "X_train, X_test, y_train, y_test = train_test_split(X, y, test_size=0.3, random_state=42)"
   ]
  },
  {
   "cell_type": "code",
   "execution_count": 19,
   "metadata": {},
   "outputs": [],
   "source": [
    "from sklearn.model_selection import cross_validate, cross_val_score\n",
    "lm = LinearRegression()"
   ]
  },
  {
   "cell_type": "code",
   "execution_count": 20,
   "metadata": {},
   "outputs": [
    {
     "data": {
      "text/plain": [
       "LinearRegression()"
      ]
     },
     "execution_count": 20,
     "metadata": {},
     "output_type": "execute_result"
    }
   ],
   "source": [
    "lm.fit(X_train, y_train)"
   ]
  },
  {
   "cell_type": "code",
   "execution_count": 21,
   "metadata": {},
   "outputs": [],
   "source": [
    "y_pred = lm.predict(X_test)"
   ]
  },
  {
   "cell_type": "code",
   "execution_count": 22,
   "metadata": {},
   "outputs": [],
   "source": [
    "from sklearn.metrics import mean_absolute_error,mean_squared_error, r2_score\n",
    "\n",
    "def eval_metrics(actual, pred):\n",
    "    mae = mean_absolute_error(actual, pred)\n",
    "    mse = mean_squared_error(actual, pred)\n",
    "    rmse = np.sqrt(mean_squared_error(actual, pred))\n",
    "    R2_score = r2_score(actual, pred)\n",
    "    print(\"Model testing performance:\")\n",
    "    print(\"--------------------------\")\n",
    "    print(f\"R2_score \\t: {R2_score}\")\n",
    "    print(f\"MAE \\t\\t: {mae}\")\n",
    "    print(f\"MSE \\t\\t: {mse}\")\n",
    "    print(f\"RMSE \\t\\t: {rmse}\")"
   ]
  },
  {
   "cell_type": "code",
   "execution_count": 23,
   "metadata": {},
   "outputs": [],
   "source": [
    "y_train_pred = lm.predict(X_train)"
   ]
  },
  {
   "cell_type": "code",
   "execution_count": 24,
   "metadata": {},
   "outputs": [
    {
     "name": "stdout",
     "output_type": "stream",
     "text": [
      "Model testing performance:\n",
      "--------------------------\n",
      "R2_score \t: 0.8917050633885377\n",
      "MAE \t\t: 1691.4549243068466\n",
      "MSE \t\t: 5904323.537842403\n",
      "RMSE \t\t: 2429.8813834922894\n"
     ]
    }
   ],
   "source": [
    "eval_metrics(y_train, y_train_pred)"
   ]
  },
  {
   "cell_type": "code",
   "execution_count": 25,
   "metadata": {},
   "outputs": [
    {
     "name": "stdout",
     "output_type": "stream",
     "text": [
      "Model testing performance:\n",
      "--------------------------\n",
      "R2_score \t: 0.8853655455758311\n",
      "MAE \t\t: 1753.7165475819857\n",
      "MSE \t\t: 6236571.376133318\n",
      "RMSE \t\t: 2497.3128310512716\n"
     ]
    }
   ],
   "source": [
    "eval_metrics(y_test, y_pred)"
   ]
  },
  {
   "cell_type": "code",
   "execution_count": 26,
   "metadata": {},
   "outputs": [
    {
     "data": {
      "text/html": [
       "<div>\n",
       "<style scoped>\n",
       "    .dataframe tbody tr th:only-of-type {\n",
       "        vertical-align: middle;\n",
       "    }\n",
       "\n",
       "    .dataframe tbody tr th {\n",
       "        vertical-align: top;\n",
       "    }\n",
       "\n",
       "    .dataframe thead th {\n",
       "        text-align: right;\n",
       "    }\n",
       "</style>\n",
       "<table border=\"1\" class=\"dataframe\">\n",
       "  <thead>\n",
       "    <tr style=\"text-align: right;\">\n",
       "      <th></th>\n",
       "      <th>lm_train</th>\n",
       "      <th>lm_test</th>\n",
       "    </tr>\n",
       "  </thead>\n",
       "  <tbody>\n",
       "    <tr>\n",
       "      <th>rmse</th>\n",
       "      <td>2.429881e+03</td>\n",
       "      <td>2.497313e+03</td>\n",
       "    </tr>\n",
       "    <tr>\n",
       "      <th>mae</th>\n",
       "      <td>1.691455e+03</td>\n",
       "      <td>1.753717e+03</td>\n",
       "    </tr>\n",
       "    <tr>\n",
       "      <th>mse</th>\n",
       "      <td>5.904324e+06</td>\n",
       "      <td>6.236571e+06</td>\n",
       "    </tr>\n",
       "    <tr>\n",
       "      <th>R2</th>\n",
       "      <td>8.917051e-01</td>\n",
       "      <td>8.853655e-01</td>\n",
       "    </tr>\n",
       "  </tbody>\n",
       "</table>\n",
       "</div>"
      ],
      "text/plain": [
       "          lm_train       lm_test\n",
       "rmse  2.429881e+03  2.497313e+03\n",
       "mae   1.691455e+03  1.753717e+03\n",
       "mse   5.904324e+06  6.236571e+06\n",
       "R2    8.917051e-01  8.853655e-01"
      ]
     },
     "execution_count": 26,
     "metadata": {},
     "output_type": "execute_result"
    }
   ],
   "source": [
    "lm_scores = {\"lm_train\": {\"rmse\" : np.sqrt(mean_squared_error(y_train, y_train_pred)),\n",
    "    \"mae\" : mean_absolute_error(y_train, y_train_pred),\n",
    "    \"mse\" : mean_squared_error(y_train, y_train_pred),\n",
    "    \"R2\" : r2_score(y_train, y_train_pred)}, \n",
    "\n",
    "    \"lm_test\": {\"rmse\" : np.sqrt(mean_squared_error(y_test, y_pred)),\n",
    "    \"mae\" : mean_absolute_error(y_test, y_pred),\n",
    "    \"mse\" : mean_squared_error(y_test, y_pred),\n",
    "    \"R2\" : r2_score(y_test, y_pred)}}\n",
    "ls =pd.DataFrame(lm_scores)\n",
    "ls"
   ]
  },
  {
   "cell_type": "code",
   "execution_count": null,
   "metadata": {},
   "outputs": [],
   "source": []
  },
  {
   "cell_type": "markdown",
   "metadata": {},
   "source": [
    "## Cross Validate"
   ]
  },
  {
   "cell_type": "code",
   "execution_count": null,
   "metadata": {},
   "outputs": [],
   "source": [
    "from sklearn.linear_model import LinearRegression"
   ]
  },
  {
   "cell_type": "code",
   "execution_count": 27,
   "metadata": {},
   "outputs": [],
   "source": [
    "model = LinearRegression()\n",
    "scores = cross_validate(model, X_train, y_train, scoring = ['r2', 'neg_mean_absolute_error','neg_mean_squared_error', \\\n",
    "                                                            'neg_root_mean_squared_error'], cv = 10)"
   ]
  },
  {
   "cell_type": "code",
   "execution_count": 28,
   "metadata": {},
   "outputs": [
    {
     "data": {
      "text/html": [
       "<div>\n",
       "<style scoped>\n",
       "    .dataframe tbody tr th:only-of-type {\n",
       "        vertical-align: middle;\n",
       "    }\n",
       "\n",
       "    .dataframe tbody tr th {\n",
       "        vertical-align: top;\n",
       "    }\n",
       "\n",
       "    .dataframe thead th {\n",
       "        text-align: right;\n",
       "    }\n",
       "</style>\n",
       "<table border=\"1\" class=\"dataframe\">\n",
       "  <thead>\n",
       "    <tr style=\"text-align: right;\">\n",
       "      <th></th>\n",
       "      <th>fit_time</th>\n",
       "      <th>score_time</th>\n",
       "      <th>test_r2</th>\n",
       "      <th>test_neg_mean_absolute_error</th>\n",
       "      <th>test_neg_mean_squared_error</th>\n",
       "      <th>test_neg_root_mean_squared_error</th>\n",
       "    </tr>\n",
       "  </thead>\n",
       "  <tbody>\n",
       "    <tr>\n",
       "      <th>1</th>\n",
       "      <td>0.170005</td>\n",
       "      <td>0.037992</td>\n",
       "      <td>0.891659</td>\n",
       "      <td>-1695.161487</td>\n",
       "      <td>-5.380745e+06</td>\n",
       "      <td>-2319.643270</td>\n",
       "    </tr>\n",
       "    <tr>\n",
       "      <th>2</th>\n",
       "      <td>0.135992</td>\n",
       "      <td>0.026994</td>\n",
       "      <td>0.880459</td>\n",
       "      <td>-1792.105460</td>\n",
       "      <td>-7.034688e+06</td>\n",
       "      <td>-2652.298705</td>\n",
       "    </tr>\n",
       "    <tr>\n",
       "      <th>3</th>\n",
       "      <td>0.096998</td>\n",
       "      <td>0.006003</td>\n",
       "      <td>0.896718</td>\n",
       "      <td>-1686.344514</td>\n",
       "      <td>-5.615709e+06</td>\n",
       "      <td>-2369.748705</td>\n",
       "    </tr>\n",
       "    <tr>\n",
       "      <th>4</th>\n",
       "      <td>0.138999</td>\n",
       "      <td>0.012031</td>\n",
       "      <td>0.871376</td>\n",
       "      <td>-1762.794075</td>\n",
       "      <td>-6.607365e+06</td>\n",
       "      <td>-2570.479504</td>\n",
       "    </tr>\n",
       "    <tr>\n",
       "      <th>5</th>\n",
       "      <td>0.120997</td>\n",
       "      <td>0.005000</td>\n",
       "      <td>0.882673</td>\n",
       "      <td>-1714.733535</td>\n",
       "      <td>-6.194759e+06</td>\n",
       "      <td>-2488.927366</td>\n",
       "    </tr>\n",
       "    <tr>\n",
       "      <th>6</th>\n",
       "      <td>0.099998</td>\n",
       "      <td>0.006003</td>\n",
       "      <td>0.892986</td>\n",
       "      <td>-1630.620018</td>\n",
       "      <td>-5.066175e+06</td>\n",
       "      <td>-2250.816583</td>\n",
       "    </tr>\n",
       "    <tr>\n",
       "      <th>7</th>\n",
       "      <td>0.095998</td>\n",
       "      <td>0.009002</td>\n",
       "      <td>0.884653</td>\n",
       "      <td>-1755.550438</td>\n",
       "      <td>-7.029012e+06</td>\n",
       "      <td>-2651.228417</td>\n",
       "    </tr>\n",
       "    <tr>\n",
       "      <th>8</th>\n",
       "      <td>0.101000</td>\n",
       "      <td>0.009001</td>\n",
       "      <td>0.891399</td>\n",
       "      <td>-1811.383715</td>\n",
       "      <td>-6.900400e+06</td>\n",
       "      <td>-2626.861259</td>\n",
       "    </tr>\n",
       "    <tr>\n",
       "      <th>9</th>\n",
       "      <td>0.121002</td>\n",
       "      <td>0.008000</td>\n",
       "      <td>0.890162</td>\n",
       "      <td>-1727.005584</td>\n",
       "      <td>-6.274461e+06</td>\n",
       "      <td>-2504.887489</td>\n",
       "    </tr>\n",
       "    <tr>\n",
       "      <th>10</th>\n",
       "      <td>0.128004</td>\n",
       "      <td>0.005996</td>\n",
       "      <td>0.885395</td>\n",
       "      <td>-1633.841738</td>\n",
       "      <td>-5.573243e+06</td>\n",
       "      <td>-2360.771725</td>\n",
       "    </tr>\n",
       "  </tbody>\n",
       "</table>\n",
       "</div>"
      ],
      "text/plain": [
       "    fit_time  score_time   test_r2  test_neg_mean_absolute_error  \\\n",
       "1   0.170005    0.037992  0.891659                  -1695.161487   \n",
       "2   0.135992    0.026994  0.880459                  -1792.105460   \n",
       "3   0.096998    0.006003  0.896718                  -1686.344514   \n",
       "4   0.138999    0.012031  0.871376                  -1762.794075   \n",
       "5   0.120997    0.005000  0.882673                  -1714.733535   \n",
       "6   0.099998    0.006003  0.892986                  -1630.620018   \n",
       "7   0.095998    0.009002  0.884653                  -1755.550438   \n",
       "8   0.101000    0.009001  0.891399                  -1811.383715   \n",
       "9   0.121002    0.008000  0.890162                  -1727.005584   \n",
       "10  0.128004    0.005996  0.885395                  -1633.841738   \n",
       "\n",
       "    test_neg_mean_squared_error  test_neg_root_mean_squared_error  \n",
       "1                 -5.380745e+06                      -2319.643270  \n",
       "2                 -7.034688e+06                      -2652.298705  \n",
       "3                 -5.615709e+06                      -2369.748705  \n",
       "4                 -6.607365e+06                      -2570.479504  \n",
       "5                 -6.194759e+06                      -2488.927366  \n",
       "6                 -5.066175e+06                      -2250.816583  \n",
       "7                 -7.029012e+06                      -2651.228417  \n",
       "8                 -6.900400e+06                      -2626.861259  \n",
       "9                 -6.274461e+06                      -2504.887489  \n",
       "10                -5.573243e+06                      -2360.771725  "
      ]
     },
     "execution_count": 28,
     "metadata": {},
     "output_type": "execute_result"
    }
   ],
   "source": [
    "pd.DataFrame(scores, index = range(1, 11))"
   ]
  },
  {
   "cell_type": "code",
   "execution_count": 29,
   "metadata": {},
   "outputs": [
    {
     "data": {
      "text/plain": [
       "test_r2                             8.867479e-01\n",
       "test_neg_mean_absolute_error       -1.720954e+03\n",
       "test_neg_mean_squared_error        -6.167656e+06\n",
       "test_neg_root_mean_squared_error   -2.479566e+03\n",
       "dtype: float64"
      ]
     },
     "execution_count": 29,
     "metadata": {},
     "output_type": "execute_result"
    }
   ],
   "source": [
    "scores = pd.DataFrame(scores, index = range(1, 11))\n",
    "scores.iloc[:,2:].mean()"
   ]
  },
  {
   "cell_type": "code",
   "execution_count": 30,
   "metadata": {},
   "outputs": [
    {
     "name": "stdout",
     "output_type": "stream",
     "text": [
      "Model testing performance:\n",
      "--------------------------\n",
      "R2_score \t: 0.8853655455758311\n",
      "MAE \t\t: 1753.7165475819857\n",
      "MSE \t\t: 6236571.376133318\n",
      "RMSE \t\t: 2497.3128310512716\n"
     ]
    }
   ],
   "source": [
    "eval_metrics(y_test, y_pred)"
   ]
  },
  {
   "cell_type": "code",
   "execution_count": 32,
   "metadata": {},
   "outputs": [],
   "source": [
    "%matplotlib inline"
   ]
  },
  {
   "cell_type": "code",
   "execution_count": 33,
   "metadata": {},
   "outputs": [
    {
     "data": {
      "image/png": "[encoded data removed]",
      "text/plain": [
       "<Figure size 432x288 with 1 Axes>"
      ]
     },
     "metadata": {
      "needs_background": "light"
     },
     "output_type": "display_data"
    }
   ],
   "source": [
    "sns.lineplot(data = scores.iloc[:,2:]);"
   ]
  },
  {
   "cell_type": "code",
   "execution_count": 95,
   "metadata": {},
   "outputs": [
    {
     "data": {
      "text/html": [
       "<div>\n",
       "<style scoped>\n",
       "    .dataframe tbody tr th:only-of-type {\n",
       "        vertical-align: middle;\n",
       "    }\n",
       "\n",
       "    .dataframe tbody tr th {\n",
       "        vertical-align: top;\n",
       "    }\n",
       "\n",
       "    .dataframe thead th {\n",
       "        text-align: right;\n",
       "    }\n",
       "</style>\n",
       "<table border=\"1\" class=\"dataframe\">\n",
       "  <thead>\n",
       "    <tr style=\"text-align: right;\">\n",
       "      <th></th>\n",
       "      <th>lm_coef</th>\n",
       "    </tr>\n",
       "  </thead>\n",
       "  <tbody>\n",
       "    <tr>\n",
       "      <th>0</th>\n",
       "      <td>-0.035780</td>\n",
       "    </tr>\n",
       "    <tr>\n",
       "      <th>1</th>\n",
       "      <td>628.960841</td>\n",
       "    </tr>\n",
       "    <tr>\n",
       "      <th>2</th>\n",
       "      <td>-1626.481634</td>\n",
       "    </tr>\n",
       "    <tr>\n",
       "      <th>3</th>\n",
       "      <td>89.910847</td>\n",
       "    </tr>\n",
       "    <tr>\n",
       "      <th>4</th>\n",
       "      <td>93.466901</td>\n",
       "    </tr>\n",
       "    <tr>\n",
       "      <th>...</th>\n",
       "      <td>...</td>\n",
       "    </tr>\n",
       "    <tr>\n",
       "      <th>137</th>\n",
       "      <td>-1614.044930</td>\n",
       "    </tr>\n",
       "    <tr>\n",
       "      <th>138</th>\n",
       "      <td>1985.382345</td>\n",
       "    </tr>\n",
       "    <tr>\n",
       "      <th>139</th>\n",
       "      <td>2491.558863</td>\n",
       "    </tr>\n",
       "    <tr>\n",
       "      <th>140</th>\n",
       "      <td>239.881214</td>\n",
       "    </tr>\n",
       "    <tr>\n",
       "      <th>141</th>\n",
       "      <td>-2731.440077</td>\n",
       "    </tr>\n",
       "  </tbody>\n",
       "</table>\n",
       "<p>142 rows × 1 columns</p>\n",
       "</div>"
      ],
      "text/plain": [
       "         lm_coef\n",
       "0      -0.035780\n",
       "1     628.960841\n",
       "2   -1626.481634\n",
       "3      89.910847\n",
       "4      93.466901\n",
       "..           ...\n",
       "137 -1614.044930\n",
       "138  1985.382345\n",
       "139  2491.558863\n",
       "140   239.881214\n",
       "141 -2731.440077\n",
       "\n",
       "[142 rows x 1 columns]"
      ]
     },
     "execution_count": 95,
     "metadata": {},
     "output_type": "execute_result"
    }
   ],
   "source": [
    "lm_df = pd.DataFrame(lm.coef_, columns = [\"lm_coef\"])\n",
    "lm_df"
   ]
  },
  {
   "cell_type": "code",
   "execution_count": null,
   "metadata": {},
   "outputs": [],
   "source": []
  },
  {
   "cell_type": "code",
   "execution_count": null,
   "metadata": {},
   "outputs": [],
   "source": []
  },
  {
   "cell_type": "code",
   "execution_count": null,
   "metadata": {},
   "outputs": [],
   "source": [
    "eval_metrics(y_test, y_pred)"
   ]
  },
  {
   "cell_type": "code",
   "execution_count": null,
   "metadata": {},
   "outputs": [],
   "source": [
    "lm_scores = {\"lm_train\": {\"rmse\" : np.sqrt(mean_squared_error(y_train, y_train_pred)),\n",
    "    \"mae\" : mean_absolute_error(y_train, y_train_pred),\n",
    "    \"mse\" : mean_squared_error(y_train, y_train_pred),\n",
    "    \"R2\" : r2_score(y_train, y_train_pred)}, \n",
    "\n",
    "    \"lm_test\": {\"rmse\" : np.sqrt(mean_squared_error(y_test, y_pred)),\n",
    "    \"mae\" : mean_absolute_error(y_test, y_pred),\n",
    "    \"mse\" : mean_squared_error(y_test, y_pred),\n",
    "    \"R2\" : r2_score(y_test, y_pred)}}\n",
    "ls =pd.DataFrame(lm_scores)\n",
    "ls"
   ]
  },
  {
   "cell_type": "code",
   "execution_count": null,
   "metadata": {},
   "outputs": [],
   "source": []
  },
  {
   "cell_type": "code",
   "execution_count": null,
   "metadata": {},
   "outputs": [],
   "source": []
  },
  {
   "cell_type": "code",
   "execution_count": null,
   "metadata": {},
   "outputs": [],
   "source": []
  },
  {
   "cell_type": "markdown",
   "metadata": {
    "id": "QsEUUAAKmqZN"
   },
   "source": [
    "## 2. Data Pre-Processing"
   ]
  },
  {
   "cell_type": "markdown",
   "metadata": {
    "id": "QtVkM6f2mqZN"
   },
   "source": [
    "As you know, the data set must be edited before proceeding to the implementation of the model. As the last step before model fitting, you need to spilit the data set as train and test. Then, you should train the model with train data and evaluate the performance of the model on the test data. You can use the train and test data you have created for all algorithms.\n",
    "\n",
    "You must also drop your target variable, the column you are trying to predict."
   ]
  },
  {
   "cell_type": "markdown",
   "metadata": {
    "id": "K7d_92iemqZN"
   },
   "source": [
    "You can use many [performance metrics for regression](https://medium.com/analytics-vidhya/evaluation-metrics-for-regression-problems-343c4923d922) to measure the performance of the regression model you train. You can define a function to view different metric results together.\n",
    "\n",
    "You can also use the [cross validation](https://towardsdatascience.com/cross-validation-explained-evaluating-estimator-performance-e51e5430ff85) method to measure the estimator performance. Cross validation uses different data samples from your test set and calculates the accuracy score for each data sample. You can calculate the final performance of your estimator by averaging these scores."
   ]
  },
  {
   "cell_type": "code",
   "execution_count": null,
   "metadata": {
    "id": "-3gMQ3utmqZN"
   },
   "outputs": [],
   "source": []
  },
  {
   "cell_type": "markdown",
   "metadata": {
    "id": "An_5ITcAmqZO"
   },
   "source": [
    "## 3. Implement Linear Regression"
   ]
  },
  {
   "cell_type": "markdown",
   "metadata": {
    "id": "0c0y-w8vmqZO"
   },
   "source": [
    " - Import the modul\n",
    " - Fit the model \n",
    " - Predict the test set\n",
    " - Determine feature coefficiant\n",
    " - Evaluate model performance (use performance metrics for regression and cross_val_score)\n",
    " - Compare different evaluation metrics\n",
    " \n",
    "*Note: You can use the [dir()](https://www.geeksforgeeks.org/python-dir-function/) function to see the methods you need.*"
   ]
  },
  {
   "cell_type": "code",
   "execution_count": null,
   "metadata": {
    "id": "lq6UKn_HmqZO"
   },
   "outputs": [],
   "source": []
  },
  {
   "cell_type": "markdown",
   "metadata": {
    "id": "n2ROwYsymqZO"
   },
   "source": [
    "## 4. Implement Ridge Regression"
   ]
  },
  {
   "cell_type": "markdown",
   "metadata": {
    "id": "3RvdF8CRmqZO"
   },
   "source": [
    "- Import the modul \n",
    "- Do not forget to scale the data or use Normalize parameter as True \n",
    "- Fit the model \n",
    "- Predict the test set \n",
    "- Evaluate model performance (use performance metrics for regression) \n",
    "- Tune alpha hiperparameter by using [cross validation](https://scikit-learn.org/stable/modules/generated/sklearn.linear_model.RidgeCV.html) and determine the optimal alpha value.\n",
    "- Fit the model and predict again with the new alpha value. "
   ]
  },
  {
   "cell_type": "code",
   "execution_count": 34,
   "metadata": {},
   "outputs": [],
   "source": [
    "from sklearn.linear_model import Ridge"
   ]
  },
  {
   "cell_type": "code",
   "execution_count": 35,
   "metadata": {},
   "outputs": [],
   "source": [
    "ridge_model = Ridge(alpha=1)"
   ]
  },
  {
   "cell_type": "code",
   "execution_count": 36,
   "metadata": {},
   "outputs": [
    {
     "data": {
      "text/plain": [
       "Ridge(alpha=1)"
      ]
     },
     "execution_count": 36,
     "metadata": {},
     "output_type": "execute_result"
    }
   ],
   "source": [
    "ridge_model.fit(X_train, y_train)"
   ]
  },
  {
   "cell_type": "code",
   "execution_count": 37,
   "metadata": {
    "id": "CXm_zzZMmqZO"
   },
   "outputs": [
    {
     "name": "stdout",
     "output_type": "stream",
     "text": [
      "Model testing performance:\n",
      "--------------------------\n",
      "R2_score \t: 0.8854449102678982\n",
      "MAE \t\t: 1753.6825007555656\n",
      "MSE \t\t: 6232253.62045238\n",
      "RMSE \t\t: 2496.448201035299\n"
     ]
    }
   ],
   "source": [
    "y_pred = ridge_model.predict(X_test)\n",
    "eval_metrics(y_test, y_pred)"
   ]
  },
  {
   "cell_type": "code",
   "execution_count": 38,
   "metadata": {},
   "outputs": [
    {
     "name": "stdout",
     "output_type": "stream",
     "text": [
      "Model testing performance:\n",
      "--------------------------\n",
      "R2_score \t: 0.891674805525177\n",
      "MAE \t\t: 1691.4015299270354\n",
      "MSE \t\t: 5905973.219909133\n",
      "RMSE \t\t: 2430.220817108835\n"
     ]
    }
   ],
   "source": [
    "y_train_pred = ridge_model.predict(X_train)\n",
    "eval_metrics(y_train, y_train_pred)"
   ]
  },
  {
   "cell_type": "code",
   "execution_count": 39,
   "metadata": {},
   "outputs": [
    {
     "data": {
      "text/html": [
       "<div>\n",
       "<style scoped>\n",
       "    .dataframe tbody tr th:only-of-type {\n",
       "        vertical-align: middle;\n",
       "    }\n",
       "\n",
       "    .dataframe tbody tr th {\n",
       "        vertical-align: top;\n",
       "    }\n",
       "\n",
       "    .dataframe thead th {\n",
       "        text-align: right;\n",
       "    }\n",
       "</style>\n",
       "<table border=\"1\" class=\"dataframe\">\n",
       "  <thead>\n",
       "    <tr style=\"text-align: right;\">\n",
       "      <th></th>\n",
       "      <th>ridge_train</th>\n",
       "      <th>ridge_test</th>\n",
       "    </tr>\n",
       "  </thead>\n",
       "  <tbody>\n",
       "    <tr>\n",
       "      <th>rmse</th>\n",
       "      <td>2.430221e+03</td>\n",
       "      <td>2.496448e+03</td>\n",
       "    </tr>\n",
       "    <tr>\n",
       "      <th>mae</th>\n",
       "      <td>1.691402e+03</td>\n",
       "      <td>1.753683e+03</td>\n",
       "    </tr>\n",
       "    <tr>\n",
       "      <th>mse</th>\n",
       "      <td>5.905973e+06</td>\n",
       "      <td>6.232254e+06</td>\n",
       "    </tr>\n",
       "    <tr>\n",
       "      <th>R2</th>\n",
       "      <td>8.916748e-01</td>\n",
       "      <td>8.854449e-01</td>\n",
       "    </tr>\n",
       "  </tbody>\n",
       "</table>\n",
       "</div>"
      ],
      "text/plain": [
       "       ridge_train    ridge_test\n",
       "rmse  2.430221e+03  2.496448e+03\n",
       "mae   1.691402e+03  1.753683e+03\n",
       "mse   5.905973e+06  6.232254e+06\n",
       "R2    8.916748e-01  8.854449e-01"
      ]
     },
     "execution_count": 39,
     "metadata": {},
     "output_type": "execute_result"
    }
   ],
   "source": [
    "ridge_scores = {\"ridge_train\": {\"rmse\" : np.sqrt(mean_squared_error(y_train, y_train_pred)),\n",
    "    \"mae\" : mean_absolute_error(y_train, y_train_pred),\n",
    "    \"mse\" : mean_squared_error(y_train, y_train_pred),\n",
    "    \"R2\" : r2_score(y_train, y_train_pred)}, \n",
    "\n",
    "    \"ridge_test\": {\"rmse\" : np.sqrt(mean_squared_error(y_test, y_pred)),\n",
    "    \"mae\" : mean_absolute_error(y_test, y_pred),\n",
    "    \"mse\" : mean_squared_error(y_test, y_pred),\n",
    "    \"R2\" : r2_score(y_test, y_pred)}}\n",
    "rs = pd.DataFrame(ridge_scores)\n",
    "rs"
   ]
  },
  {
   "cell_type": "code",
   "execution_count": 40,
   "metadata": {},
   "outputs": [
    {
     "data": {
      "text/html": [
       "<div>\n",
       "<style scoped>\n",
       "    .dataframe tbody tr th:only-of-type {\n",
       "        vertical-align: middle;\n",
       "    }\n",
       "\n",
       "    .dataframe tbody tr th {\n",
       "        vertical-align: top;\n",
       "    }\n",
       "\n",
       "    .dataframe thead th {\n",
       "        text-align: right;\n",
       "    }\n",
       "</style>\n",
       "<table border=\"1\" class=\"dataframe\">\n",
       "  <thead>\n",
       "    <tr style=\"text-align: right;\">\n",
       "      <th></th>\n",
       "      <th>lm_train</th>\n",
       "      <th>lm_test</th>\n",
       "      <th>ridge_train</th>\n",
       "      <th>ridge_test</th>\n",
       "    </tr>\n",
       "  </thead>\n",
       "  <tbody>\n",
       "    <tr>\n",
       "      <th>rmse</th>\n",
       "      <td>2.429881e+03</td>\n",
       "      <td>2.497313e+03</td>\n",
       "      <td>2.430221e+03</td>\n",
       "      <td>2.496448e+03</td>\n",
       "    </tr>\n",
       "    <tr>\n",
       "      <th>mae</th>\n",
       "      <td>1.691455e+03</td>\n",
       "      <td>1.753717e+03</td>\n",
       "      <td>1.691402e+03</td>\n",
       "      <td>1.753683e+03</td>\n",
       "    </tr>\n",
       "    <tr>\n",
       "      <th>mse</th>\n",
       "      <td>5.904324e+06</td>\n",
       "      <td>6.236571e+06</td>\n",
       "      <td>5.905973e+06</td>\n",
       "      <td>6.232254e+06</td>\n",
       "    </tr>\n",
       "    <tr>\n",
       "      <th>R2</th>\n",
       "      <td>8.917051e-01</td>\n",
       "      <td>8.853655e-01</td>\n",
       "      <td>8.916748e-01</td>\n",
       "      <td>8.854449e-01</td>\n",
       "    </tr>\n",
       "  </tbody>\n",
       "</table>\n",
       "</div>"
      ],
      "text/plain": [
       "          lm_train       lm_test   ridge_train    ridge_test\n",
       "rmse  2.429881e+03  2.497313e+03  2.430221e+03  2.496448e+03\n",
       "mae   1.691455e+03  1.753717e+03  1.691402e+03  1.753683e+03\n",
       "mse   5.904324e+06  6.236571e+06  5.905973e+06  6.232254e+06\n",
       "R2    8.917051e-01  8.853655e-01  8.916748e-01  8.854449e-01"
      ]
     },
     "execution_count": 40,
     "metadata": {},
     "output_type": "execute_result"
    }
   ],
   "source": [
    "pd.concat([ls, rs], axis=1)"
   ]
  },
  {
   "cell_type": "markdown",
   "metadata": {},
   "source": [
    "## For Ridge Regression CV with alpha : 1 "
   ]
  },
  {
   "cell_type": "code",
   "execution_count": 41,
   "metadata": {},
   "outputs": [],
   "source": [
    "model = Ridge(alpha=1)\n",
    "scores = cross_validate(model, X_train, y_train,\n",
    "                    scoring=['r2', 'neg_mean_absolute_error','neg_mean_squared_error','neg_root_mean_squared_error'], cv=10)"
   ]
  },
  {
   "cell_type": "code",
   "execution_count": 42,
   "metadata": {},
   "outputs": [
    {
     "data": {
      "text/html": [
       "<div>\n",
       "<style scoped>\n",
       "    .dataframe tbody tr th:only-of-type {\n",
       "        vertical-align: middle;\n",
       "    }\n",
       "\n",
       "    .dataframe tbody tr th {\n",
       "        vertical-align: top;\n",
       "    }\n",
       "\n",
       "    .dataframe thead th {\n",
       "        text-align: right;\n",
       "    }\n",
       "</style>\n",
       "<table border=\"1\" class=\"dataframe\">\n",
       "  <thead>\n",
       "    <tr style=\"text-align: right;\">\n",
       "      <th></th>\n",
       "      <th>test_r2</th>\n",
       "      <th>test_neg_mean_absolute_error</th>\n",
       "      <th>test_neg_mean_squared_error</th>\n",
       "      <th>test_neg_root_mean_squared_error</th>\n",
       "    </tr>\n",
       "  </thead>\n",
       "  <tbody>\n",
       "    <tr>\n",
       "      <th>1</th>\n",
       "      <td>0.892014</td>\n",
       "      <td>-1691.711660</td>\n",
       "      <td>-5.363085e+06</td>\n",
       "      <td>-2315.833448</td>\n",
       "    </tr>\n",
       "    <tr>\n",
       "      <th>2</th>\n",
       "      <td>0.880683</td>\n",
       "      <td>-1792.074852</td>\n",
       "      <td>-7.021545e+06</td>\n",
       "      <td>-2649.819751</td>\n",
       "    </tr>\n",
       "    <tr>\n",
       "      <th>3</th>\n",
       "      <td>0.897122</td>\n",
       "      <td>-1682.575535</td>\n",
       "      <td>-5.593760e+06</td>\n",
       "      <td>-2365.113046</td>\n",
       "    </tr>\n",
       "    <tr>\n",
       "      <th>4</th>\n",
       "      <td>0.871496</td>\n",
       "      <td>-1761.671091</td>\n",
       "      <td>-6.601156e+06</td>\n",
       "      <td>-2569.271521</td>\n",
       "    </tr>\n",
       "    <tr>\n",
       "      <th>5</th>\n",
       "      <td>0.882699</td>\n",
       "      <td>-1714.362793</td>\n",
       "      <td>-6.193388e+06</td>\n",
       "      <td>-2488.651853</td>\n",
       "    </tr>\n",
       "    <tr>\n",
       "      <th>6</th>\n",
       "      <td>0.893783</td>\n",
       "      <td>-1629.681325</td>\n",
       "      <td>-5.028468e+06</td>\n",
       "      <td>-2242.424653</td>\n",
       "    </tr>\n",
       "    <tr>\n",
       "      <th>7</th>\n",
       "      <td>0.884486</td>\n",
       "      <td>-1757.413470</td>\n",
       "      <td>-7.039195e+06</td>\n",
       "      <td>-2653.148120</td>\n",
       "    </tr>\n",
       "    <tr>\n",
       "      <th>8</th>\n",
       "      <td>0.891290</td>\n",
       "      <td>-1812.393088</td>\n",
       "      <td>-6.907323e+06</td>\n",
       "      <td>-2628.178706</td>\n",
       "    </tr>\n",
       "    <tr>\n",
       "      <th>9</th>\n",
       "      <td>0.893157</td>\n",
       "      <td>-1719.225814</td>\n",
       "      <td>-6.103350e+06</td>\n",
       "      <td>-2470.495866</td>\n",
       "    </tr>\n",
       "    <tr>\n",
       "      <th>10</th>\n",
       "      <td>0.885162</td>\n",
       "      <td>-1634.254605</td>\n",
       "      <td>-5.584573e+06</td>\n",
       "      <td>-2363.170075</td>\n",
       "    </tr>\n",
       "  </tbody>\n",
       "</table>\n",
       "</div>"
      ],
      "text/plain": [
       "     test_r2  test_neg_mean_absolute_error  test_neg_mean_squared_error  \\\n",
       "1   0.892014                  -1691.711660                -5.363085e+06   \n",
       "2   0.880683                  -1792.074852                -7.021545e+06   \n",
       "3   0.897122                  -1682.575535                -5.593760e+06   \n",
       "4   0.871496                  -1761.671091                -6.601156e+06   \n",
       "5   0.882699                  -1714.362793                -6.193388e+06   \n",
       "6   0.893783                  -1629.681325                -5.028468e+06   \n",
       "7   0.884486                  -1757.413470                -7.039195e+06   \n",
       "8   0.891290                  -1812.393088                -6.907323e+06   \n",
       "9   0.893157                  -1719.225814                -6.103350e+06   \n",
       "10  0.885162                  -1634.254605                -5.584573e+06   \n",
       "\n",
       "    test_neg_root_mean_squared_error  \n",
       "1                       -2315.833448  \n",
       "2                       -2649.819751  \n",
       "3                       -2365.113046  \n",
       "4                       -2569.271521  \n",
       "5                       -2488.651853  \n",
       "6                       -2242.424653  \n",
       "7                       -2653.148120  \n",
       "8                       -2628.178706  \n",
       "9                       -2470.495866  \n",
       "10                      -2363.170075  "
      ]
     },
     "execution_count": 42,
     "metadata": {},
     "output_type": "execute_result"
    }
   ],
   "source": [
    "scores = pd.DataFrame(scores, index = range(1, 11))\n",
    "scores.iloc[:,2:]"
   ]
  },
  {
   "cell_type": "code",
   "execution_count": 43,
   "metadata": {},
   "outputs": [
    {
     "data": {
      "text/plain": [
       "<AxesSubplot:>"
      ]
     },
     "execution_count": 43,
     "metadata": {},
     "output_type": "execute_result"
    },
    {
     "data": {
      "image/png": "[encoded data removed]",
      "text/plain": [
       "<Figure size 432x288 with 1 Axes>"
      ]
     },
     "metadata": {
      "needs_background": "light"
     },
     "output_type": "display_data"
    }
   ],
   "source": [
    "sns.lineplot(data = scores.iloc[:,2:])"
   ]
  },
  {
   "cell_type": "code",
   "execution_count": 44,
   "metadata": {},
   "outputs": [
    {
     "data": {
      "text/plain": [
       "test_r2                             8.871892e-01\n",
       "test_neg_mean_absolute_error       -1.719536e+03\n",
       "test_neg_mean_squared_error        -6.143584e+06\n",
       "test_neg_root_mean_squared_error   -2.474611e+03\n",
       "dtype: float64"
      ]
     },
     "execution_count": 44,
     "metadata": {},
     "output_type": "execute_result"
    }
   ],
   "source": [
    "pd.DataFrame(scores, index = range(1, 11)).iloc[:, 2:].mean()"
   ]
  },
  {
   "cell_type": "code",
   "execution_count": 45,
   "metadata": {},
   "outputs": [
    {
     "name": "stdout",
     "output_type": "stream",
     "text": [
      "Model testing performance:\n",
      "--------------------------\n",
      "R2_score \t: 0.8854449102678982\n",
      "MAE \t\t: 1753.6825007555656\n",
      "MSE \t\t: 6232253.62045238\n",
      "RMSE \t\t: 2496.448201035299\n"
     ]
    }
   ],
   "source": [
    "eval_metrics(y_test, y_pred)"
   ]
  },
  {
   "cell_type": "code",
   "execution_count": 97,
   "metadata": {},
   "outputs": [],
   "source": [
    "rm_df = pd.DataFrame(ridge_model.coef_, columns = [\"ridge_coef_1\"])"
   ]
  },
  {
   "cell_type": "code",
   "execution_count": 98,
   "metadata": {},
   "outputs": [
    {
     "data": {
      "text/html": [
       "<div>\n",
       "<style scoped>\n",
       "    .dataframe tbody tr th:only-of-type {\n",
       "        vertical-align: middle;\n",
       "    }\n",
       "\n",
       "    .dataframe tbody tr th {\n",
       "        vertical-align: top;\n",
       "    }\n",
       "\n",
       "    .dataframe thead th {\n",
       "        text-align: right;\n",
       "    }\n",
       "</style>\n",
       "<table border=\"1\" class=\"dataframe\">\n",
       "  <thead>\n",
       "    <tr style=\"text-align: right;\">\n",
       "      <th></th>\n",
       "      <th>lm_coef</th>\n",
       "      <th>ridge_coef_1</th>\n",
       "    </tr>\n",
       "  </thead>\n",
       "  <tbody>\n",
       "    <tr>\n",
       "      <th>0</th>\n",
       "      <td>-0.035780</td>\n",
       "      <td>-0.035817</td>\n",
       "    </tr>\n",
       "    <tr>\n",
       "      <th>1</th>\n",
       "      <td>628.960841</td>\n",
       "      <td>630.184484</td>\n",
       "    </tr>\n",
       "    <tr>\n",
       "      <th>2</th>\n",
       "      <td>-1626.481634</td>\n",
       "      <td>-1624.108359</td>\n",
       "    </tr>\n",
       "    <tr>\n",
       "      <th>3</th>\n",
       "      <td>89.910847</td>\n",
       "      <td>96.870995</td>\n",
       "    </tr>\n",
       "    <tr>\n",
       "      <th>4</th>\n",
       "      <td>93.466901</td>\n",
       "      <td>94.180987</td>\n",
       "    </tr>\n",
       "    <tr>\n",
       "      <th>...</th>\n",
       "      <td>...</td>\n",
       "      <td>...</td>\n",
       "    </tr>\n",
       "    <tr>\n",
       "      <th>137</th>\n",
       "      <td>-1614.044930</td>\n",
       "      <td>-1612.527387</td>\n",
       "    </tr>\n",
       "    <tr>\n",
       "      <th>138</th>\n",
       "      <td>1985.382345</td>\n",
       "      <td>1987.633173</td>\n",
       "    </tr>\n",
       "    <tr>\n",
       "      <th>139</th>\n",
       "      <td>2491.558863</td>\n",
       "      <td>2097.596508</td>\n",
       "    </tr>\n",
       "    <tr>\n",
       "      <th>140</th>\n",
       "      <td>239.881214</td>\n",
       "      <td>-69.875985</td>\n",
       "    </tr>\n",
       "    <tr>\n",
       "      <th>141</th>\n",
       "      <td>-2731.440077</td>\n",
       "      <td>-2027.720523</td>\n",
       "    </tr>\n",
       "  </tbody>\n",
       "</table>\n",
       "<p>142 rows × 2 columns</p>\n",
       "</div>"
      ],
      "text/plain": [
       "         lm_coef  ridge_coef_1\n",
       "0      -0.035780     -0.035817\n",
       "1     628.960841    630.184484\n",
       "2   -1626.481634  -1624.108359\n",
       "3      89.910847     96.870995\n",
       "4      93.466901     94.180987\n",
       "..           ...           ...\n",
       "137 -1614.044930  -1612.527387\n",
       "138  1985.382345   1987.633173\n",
       "139  2491.558863   2097.596508\n",
       "140   239.881214    -69.875985\n",
       "141 -2731.440077  -2027.720523\n",
       "\n",
       "[142 rows x 2 columns]"
      ]
     },
     "execution_count": 98,
     "metadata": {},
     "output_type": "execute_result"
    }
   ],
   "source": [
    "pd.concat([lm_df,rm_df], axis = 1)"
   ]
  },
  {
   "cell_type": "code",
   "execution_count": null,
   "metadata": {},
   "outputs": [],
   "source": []
  },
  {
   "cell_type": "code",
   "execution_count": null,
   "metadata": {},
   "outputs": [],
   "source": []
  },
  {
   "cell_type": "markdown",
   "metadata": {},
   "source": [
    "## Choosing best alpha value with Cross-Validation"
   ]
  },
  {
   "cell_type": "code",
   "execution_count": 46,
   "metadata": {},
   "outputs": [],
   "source": [
    "from sklearn.linear_model import RidgeCV"
   ]
  },
  {
   "cell_type": "code",
   "execution_count": 47,
   "metadata": {},
   "outputs": [
    {
     "data": {
      "text/plain": [
       "array([0.01, 0.02, 0.03, 0.04, 0.05, 0.06, 0.07, 0.08, 0.09, 0.1 , 0.11,\n",
       "       0.12, 0.13, 0.14, 0.15, 0.16, 0.17, 0.18, 0.19, 0.2 , 0.21, 0.22,\n",
       "       0.23, 0.24, 0.25, 0.26, 0.27, 0.28, 0.29, 0.3 , 0.31, 0.32, 0.33,\n",
       "       0.34, 0.35, 0.36, 0.37, 0.38, 0.39, 0.4 , 0.41, 0.42, 0.43, 0.44,\n",
       "       0.45, 0.46, 0.47, 0.48, 0.49, 0.5 , 0.51, 0.52, 0.53, 0.54, 0.55,\n",
       "       0.56, 0.57, 0.58, 0.59, 0.6 , 0.61, 0.62, 0.63, 0.64, 0.65, 0.66,\n",
       "       0.67, 0.68, 0.69, 0.7 , 0.71, 0.72, 0.73, 0.74, 0.75, 0.76, 0.77,\n",
       "       0.78, 0.79, 0.8 , 0.81, 0.82, 0.83, 0.84, 0.85, 0.86, 0.87, 0.88,\n",
       "       0.89, 0.9 , 0.91, 0.92, 0.93, 0.94, 0.95, 0.96, 0.97, 0.98, 0.99,\n",
       "       1.  ])"
      ]
     },
     "execution_count": 47,
     "metadata": {},
     "output_type": "execute_result"
    }
   ],
   "source": [
    "alpha_space = np.linspace(0.01, 1, 100)\n",
    "alpha_space"
   ]
  },
  {
   "cell_type": "code",
   "execution_count": 48,
   "metadata": {},
   "outputs": [],
   "source": [
    "ridge_cv_model = RidgeCV(alphas = alpha_space, cv = 10, scoring = \"neg_root_mean_squared_error\")"
   ]
  },
  {
   "cell_type": "code",
   "execution_count": 49,
   "metadata": {},
   "outputs": [
    {
     "data": {
      "text/plain": [
       "RidgeCV(alphas=array([0.01, 0.02, 0.03, 0.04, 0.05, 0.06, 0.07, 0.08, 0.09, 0.1 , 0.11,\n",
       "       0.12, 0.13, 0.14, 0.15, 0.16, 0.17, 0.18, 0.19, 0.2 , 0.21, 0.22,\n",
       "       0.23, 0.24, 0.25, 0.26, 0.27, 0.28, 0.29, 0.3 , 0.31, 0.32, 0.33,\n",
       "       0.34, 0.35, 0.36, 0.37, 0.38, 0.39, 0.4 , 0.41, 0.42, 0.43, 0.44,\n",
       "       0.45, 0.46, 0.47, 0.48, 0.49, 0.5 , 0.51, 0.52, 0.53, 0.54, 0.55,\n",
       "       0.56, 0.57, 0.58, 0.59, 0.6 , 0.61, 0.62, 0.63, 0.64, 0.65, 0.66,\n",
       "       0.67, 0.68, 0.69, 0.7 , 0.71, 0.72, 0.73, 0.74, 0.75, 0.76, 0.77,\n",
       "       0.78, 0.79, 0.8 , 0.81, 0.82, 0.83, 0.84, 0.85, 0.86, 0.87, 0.88,\n",
       "       0.89, 0.9 , 0.91, 0.92, 0.93, 0.94, 0.95, 0.96, 0.97, 0.98, 0.99,\n",
       "       1.  ]),\n",
       "        cv=10, scoring='neg_root_mean_squared_error')"
      ]
     },
     "execution_count": 49,
     "metadata": {},
     "output_type": "execute_result"
    }
   ],
   "source": [
    "ridge_cv_model.fit(X_train, y_train)"
   ]
  },
  {
   "cell_type": "code",
   "execution_count": 50,
   "metadata": {},
   "outputs": [
    {
     "data": {
      "text/plain": [
       "1.0"
      ]
     },
     "execution_count": 50,
     "metadata": {},
     "output_type": "execute_result"
    }
   ],
   "source": [
    "ridge_cv_model.alpha_"
   ]
  },
  {
   "cell_type": "code",
   "execution_count": 51,
   "metadata": {},
   "outputs": [],
   "source": [
    "y_pred = ridge_cv_model.predict(X_test)"
   ]
  },
  {
   "cell_type": "code",
   "execution_count": 52,
   "metadata": {},
   "outputs": [
    {
     "name": "stdout",
     "output_type": "stream",
     "text": [
      "Model testing performance:\n",
      "--------------------------\n",
      "R2_score \t: 0.8854449102678982\n",
      "MAE \t\t: 1753.6825007555656\n",
      "MSE \t\t: 6232253.62045238\n",
      "RMSE \t\t: 2496.448201035299\n"
     ]
    }
   ],
   "source": [
    "eval_metrics(y_test, y_pred)"
   ]
  },
  {
   "cell_type": "code",
   "execution_count": 53,
   "metadata": {},
   "outputs": [
    {
     "name": "stdout",
     "output_type": "stream",
     "text": [
      "Model testing performance:\n",
      "--------------------------\n",
      "R2_score \t: 0.891674805525177\n",
      "MAE \t\t: 1691.4015299270354\n",
      "MSE \t\t: 5905973.219909133\n",
      "RMSE \t\t: 2430.220817108835\n"
     ]
    }
   ],
   "source": [
    "y_train_pred = ridge_cv_model.predict(X_train)\n",
    "eval_metrics(y_train, y_train_pred) "
   ]
  },
  {
   "cell_type": "code",
   "execution_count": 54,
   "metadata": {},
   "outputs": [
    {
     "data": {
      "text/html": [
       "<div>\n",
       "<style scoped>\n",
       "    .dataframe tbody tr th:only-of-type {\n",
       "        vertical-align: middle;\n",
       "    }\n",
       "\n",
       "    .dataframe tbody tr th {\n",
       "        vertical-align: top;\n",
       "    }\n",
       "\n",
       "    .dataframe thead th {\n",
       "        text-align: right;\n",
       "    }\n",
       "</style>\n",
       "<table border=\"1\" class=\"dataframe\">\n",
       "  <thead>\n",
       "    <tr style=\"text-align: right;\">\n",
       "      <th></th>\n",
       "      <th>ridge_cv_train</th>\n",
       "      <th>ridge_cv_test</th>\n",
       "    </tr>\n",
       "  </thead>\n",
       "  <tbody>\n",
       "    <tr>\n",
       "      <th>rmse</th>\n",
       "      <td>2.430221e+03</td>\n",
       "      <td>2.496448e+03</td>\n",
       "    </tr>\n",
       "    <tr>\n",
       "      <th>mae</th>\n",
       "      <td>1.691402e+03</td>\n",
       "      <td>1.753683e+03</td>\n",
       "    </tr>\n",
       "    <tr>\n",
       "      <th>mse</th>\n",
       "      <td>5.905973e+06</td>\n",
       "      <td>6.232254e+06</td>\n",
       "    </tr>\n",
       "    <tr>\n",
       "      <th>R2</th>\n",
       "      <td>8.916748e-01</td>\n",
       "      <td>8.854449e-01</td>\n",
       "    </tr>\n",
       "  </tbody>\n",
       "</table>\n",
       "</div>"
      ],
      "text/plain": [
       "      ridge_cv_train  ridge_cv_test\n",
       "rmse    2.430221e+03   2.496448e+03\n",
       "mae     1.691402e+03   1.753683e+03\n",
       "mse     5.905973e+06   6.232254e+06\n",
       "R2      8.916748e-01   8.854449e-01"
      ]
     },
     "execution_count": 54,
     "metadata": {},
     "output_type": "execute_result"
    }
   ],
   "source": [
    "ridge_cv_scores = {\"ridge_cv_train\": {\"rmse\" : np.sqrt(mean_squared_error(y_train, y_train_pred)),\n",
    "    \"mae\" : mean_absolute_error(y_train, y_train_pred),\n",
    "    \"mse\" : mean_squared_error(y_train, y_train_pred),\n",
    "    \"R2\" : r2_score(y_train, y_train_pred)}, \n",
    "\n",
    "    \"ridge_cv_test\": {\"rmse\" : np.sqrt(mean_squared_error(y_test, y_pred)),\n",
    "    \"mae\" : mean_absolute_error(y_test, y_pred),\n",
    "    \"mse\" : mean_squared_error(y_test, y_pred),\n",
    "    \"R2\" : r2_score(y_test, y_pred)}}\n",
    "rcs = pd.DataFrame(ridge_cv_scores)\n",
    "rcs"
   ]
  },
  {
   "cell_type": "code",
   "execution_count": 55,
   "metadata": {},
   "outputs": [
    {
     "data": {
      "text/html": [
       "<div>\n",
       "<style scoped>\n",
       "    .dataframe tbody tr th:only-of-type {\n",
       "        vertical-align: middle;\n",
       "    }\n",
       "\n",
       "    .dataframe tbody tr th {\n",
       "        vertical-align: top;\n",
       "    }\n",
       "\n",
       "    .dataframe thead th {\n",
       "        text-align: right;\n",
       "    }\n",
       "</style>\n",
       "<table border=\"1\" class=\"dataframe\">\n",
       "  <thead>\n",
       "    <tr style=\"text-align: right;\">\n",
       "      <th></th>\n",
       "      <th>lm_train</th>\n",
       "      <th>lm_test</th>\n",
       "      <th>ridge_train</th>\n",
       "      <th>ridge_test</th>\n",
       "      <th>ridge_cv_train</th>\n",
       "      <th>ridge_cv_test</th>\n",
       "    </tr>\n",
       "  </thead>\n",
       "  <tbody>\n",
       "    <tr>\n",
       "      <th>rmse</th>\n",
       "      <td>2.429881e+03</td>\n",
       "      <td>2.497313e+03</td>\n",
       "      <td>2.430221e+03</td>\n",
       "      <td>2.496448e+03</td>\n",
       "      <td>2.430221e+03</td>\n",
       "      <td>2.496448e+03</td>\n",
       "    </tr>\n",
       "    <tr>\n",
       "      <th>mae</th>\n",
       "      <td>1.691455e+03</td>\n",
       "      <td>1.753717e+03</td>\n",
       "      <td>1.691402e+03</td>\n",
       "      <td>1.753683e+03</td>\n",
       "      <td>1.691402e+03</td>\n",
       "      <td>1.753683e+03</td>\n",
       "    </tr>\n",
       "    <tr>\n",
       "      <th>mse</th>\n",
       "      <td>5.904324e+06</td>\n",
       "      <td>6.236571e+06</td>\n",
       "      <td>5.905973e+06</td>\n",
       "      <td>6.232254e+06</td>\n",
       "      <td>5.905973e+06</td>\n",
       "      <td>6.232254e+06</td>\n",
       "    </tr>\n",
       "    <tr>\n",
       "      <th>R2</th>\n",
       "      <td>8.917051e-01</td>\n",
       "      <td>8.853655e-01</td>\n",
       "      <td>8.916748e-01</td>\n",
       "      <td>8.854449e-01</td>\n",
       "      <td>8.916748e-01</td>\n",
       "      <td>8.854449e-01</td>\n",
       "    </tr>\n",
       "  </tbody>\n",
       "</table>\n",
       "</div>"
      ],
      "text/plain": [
       "          lm_train       lm_test   ridge_train    ridge_test  ridge_cv_train  \\\n",
       "rmse  2.429881e+03  2.497313e+03  2.430221e+03  2.496448e+03    2.430221e+03   \n",
       "mae   1.691455e+03  1.753717e+03  1.691402e+03  1.753683e+03    1.691402e+03   \n",
       "mse   5.904324e+06  6.236571e+06  5.905973e+06  6.232254e+06    5.905973e+06   \n",
       "R2    8.917051e-01  8.853655e-01  8.916748e-01  8.854449e-01    8.916748e-01   \n",
       "\n",
       "      ridge_cv_test  \n",
       "rmse   2.496448e+03  \n",
       "mae    1.753683e+03  \n",
       "mse    6.232254e+06  \n",
       "R2     8.854449e-01  "
      ]
     },
     "execution_count": 55,
     "metadata": {},
     "output_type": "execute_result"
    }
   ],
   "source": [
    "pd.concat([ls, rs, rcs], axis = 1)"
   ]
  },
  {
   "cell_type": "code",
   "execution_count": null,
   "metadata": {},
   "outputs": [],
   "source": []
  },
  {
   "cell_type": "code",
   "execution_count": null,
   "metadata": {},
   "outputs": [],
   "source": []
  },
  {
   "cell_type": "code",
   "execution_count": null,
   "metadata": {},
   "outputs": [],
   "source": []
  },
  {
   "cell_type": "markdown",
   "metadata": {
    "id": "oDfXOSnpmqZO"
   },
   "source": [
    "## 5. Implement Lasso Regression"
   ]
  },
  {
   "cell_type": "markdown",
   "metadata": {
    "id": "icqyxzBymqZO"
   },
   "source": [
    "- Import the modul \n",
    "- Do not forget to scale the data or use Normalize parameter as True(If needed)\n",
    "- Fit the model \n",
    "- Predict the test set \n",
    "- Evaluate model performance (use performance metrics for regression) \n",
    "- Tune alpha hyperparameter by using [cross validation](https://scikit-learn.org/stable/modules/generated/sklearn.linear_model.LassoCV.html) and determine the optimal alpha value.\n",
    "- Fit the model and predict again with the new alpha value.\n",
    "- Compare different evaluation metrics\n",
    "\n",
    "*Note: To understand the importance of the alpha hyperparameter, you can observe the effects of different alpha values on feature coefficants.*"
   ]
  },
  {
   "cell_type": "code",
   "execution_count": 56,
   "metadata": {},
   "outputs": [],
   "source": [
    "from sklearn.linear_model import Lasso, LassoCV"
   ]
  },
  {
   "cell_type": "code",
   "execution_count": 57,
   "metadata": {},
   "outputs": [
    {
     "data": {
      "text/plain": [
       "Lasso(alpha=1)"
      ]
     },
     "execution_count": 57,
     "metadata": {},
     "output_type": "execute_result"
    }
   ],
   "source": [
    "lasso_model = Lasso(alpha = 1)\n",
    "lasso_model.fit(X_train, y_train)"
   ]
  },
  {
   "cell_type": "code",
   "execution_count": 58,
   "metadata": {},
   "outputs": [],
   "source": [
    "y_train_pred = lasso_model.predict(X_train)"
   ]
  },
  {
   "cell_type": "code",
   "execution_count": 59,
   "metadata": {},
   "outputs": [
    {
     "name": "stdout",
     "output_type": "stream",
     "text": [
      "Model testing performance:\n",
      "--------------------------\n",
      "R2_score \t: 0.8913828656503525\n",
      "MAE \t\t: 1692.5392150324026\n",
      "MSE \t\t: 5921890.007235442\n",
      "RMSE \t\t: 2433.49337521914\n"
     ]
    }
   ],
   "source": [
    "eval_metrics(y_train, y_train_pred)"
   ]
  },
  {
   "cell_type": "code",
   "execution_count": 60,
   "metadata": {},
   "outputs": [],
   "source": [
    "y_pred = lasso_model.predict(X_test)"
   ]
  },
  {
   "cell_type": "code",
   "execution_count": 61,
   "metadata": {
    "id": "KbGqu0u5mqZO"
   },
   "outputs": [
    {
     "name": "stdout",
     "output_type": "stream",
     "text": [
      "Model testing performance:\n",
      "--------------------------\n",
      "R2_score \t: 0.8853061184632274\n",
      "MAE \t\t: 1753.878603385097\n",
      "MSE \t\t: 6239804.447998947\n",
      "RMSE \t\t: 2497.9600573265675\n"
     ]
    }
   ],
   "source": [
    "eval_metrics(y_test, y_pred)"
   ]
  },
  {
   "cell_type": "code",
   "execution_count": 62,
   "metadata": {},
   "outputs": [
    {
     "data": {
      "text/html": [
       "<div>\n",
       "<style scoped>\n",
       "    .dataframe tbody tr th:only-of-type {\n",
       "        vertical-align: middle;\n",
       "    }\n",
       "\n",
       "    .dataframe tbody tr th {\n",
       "        vertical-align: top;\n",
       "    }\n",
       "\n",
       "    .dataframe thead th {\n",
       "        text-align: right;\n",
       "    }\n",
       "</style>\n",
       "<table border=\"1\" class=\"dataframe\">\n",
       "  <thead>\n",
       "    <tr style=\"text-align: right;\">\n",
       "      <th></th>\n",
       "      <th>lasso_train</th>\n",
       "      <th>lasso_test</th>\n",
       "    </tr>\n",
       "  </thead>\n",
       "  <tbody>\n",
       "    <tr>\n",
       "      <th>rmse</th>\n",
       "      <td>2.433493e+03</td>\n",
       "      <td>2.497960e+03</td>\n",
       "    </tr>\n",
       "    <tr>\n",
       "      <th>mae</th>\n",
       "      <td>1.692539e+03</td>\n",
       "      <td>1.753879e+03</td>\n",
       "    </tr>\n",
       "    <tr>\n",
       "      <th>mse</th>\n",
       "      <td>5.921890e+06</td>\n",
       "      <td>6.239804e+06</td>\n",
       "    </tr>\n",
       "    <tr>\n",
       "      <th>R2</th>\n",
       "      <td>8.913829e-01</td>\n",
       "      <td>8.853061e-01</td>\n",
       "    </tr>\n",
       "  </tbody>\n",
       "</table>\n",
       "</div>"
      ],
      "text/plain": [
       "       lasso_train    lasso_test\n",
       "rmse  2.433493e+03  2.497960e+03\n",
       "mae   1.692539e+03  1.753879e+03\n",
       "mse   5.921890e+06  6.239804e+06\n",
       "R2    8.913829e-01  8.853061e-01"
      ]
     },
     "execution_count": 62,
     "metadata": {},
     "output_type": "execute_result"
    }
   ],
   "source": [
    "lasso_scores = {\"lasso_train\": {\"rmse\" : np.sqrt(mean_squared_error(y_train, y_train_pred)),\n",
    "    \"mae\" : mean_absolute_error(y_train, y_train_pred),\n",
    "    \"mse\" : mean_squared_error(y_train, y_train_pred),\n",
    "    \"R2\" : r2_score(y_train, y_train_pred)}, \n",
    "\n",
    "    \"lasso_test\": {\"rmse\" : np.sqrt(mean_squared_error(y_test, y_pred)),\n",
    "    \"mae\" : mean_absolute_error(y_test, y_pred),\n",
    "    \"mse\" : mean_squared_error(y_test, y_pred),\n",
    "    \"R2\" : r2_score(y_test, y_pred)}}\n",
    "lss = pd.DataFrame(lasso_scores)\n",
    "lss"
   ]
  },
  {
   "cell_type": "code",
   "execution_count": 63,
   "metadata": {},
   "outputs": [
    {
     "data": {
      "text/html": [
       "<div>\n",
       "<style scoped>\n",
       "    .dataframe tbody tr th:only-of-type {\n",
       "        vertical-align: middle;\n",
       "    }\n",
       "\n",
       "    .dataframe tbody tr th {\n",
       "        vertical-align: top;\n",
       "    }\n",
       "\n",
       "    .dataframe thead th {\n",
       "        text-align: right;\n",
       "    }\n",
       "</style>\n",
       "<table border=\"1\" class=\"dataframe\">\n",
       "  <thead>\n",
       "    <tr style=\"text-align: right;\">\n",
       "      <th></th>\n",
       "      <th>lm_train</th>\n",
       "      <th>lm_test</th>\n",
       "      <th>ridge_train</th>\n",
       "      <th>ridge_test</th>\n",
       "      <th>ridge_cv_train</th>\n",
       "      <th>ridge_cv_test</th>\n",
       "      <th>lasso_train</th>\n",
       "      <th>lasso_test</th>\n",
       "    </tr>\n",
       "  </thead>\n",
       "  <tbody>\n",
       "    <tr>\n",
       "      <th>rmse</th>\n",
       "      <td>2.429881e+03</td>\n",
       "      <td>2.497313e+03</td>\n",
       "      <td>2.430221e+03</td>\n",
       "      <td>2.496448e+03</td>\n",
       "      <td>2.430221e+03</td>\n",
       "      <td>2.496448e+03</td>\n",
       "      <td>2.433493e+03</td>\n",
       "      <td>2.497960e+03</td>\n",
       "    </tr>\n",
       "    <tr>\n",
       "      <th>mae</th>\n",
       "      <td>1.691455e+03</td>\n",
       "      <td>1.753717e+03</td>\n",
       "      <td>1.691402e+03</td>\n",
       "      <td>1.753683e+03</td>\n",
       "      <td>1.691402e+03</td>\n",
       "      <td>1.753683e+03</td>\n",
       "      <td>1.692539e+03</td>\n",
       "      <td>1.753879e+03</td>\n",
       "    </tr>\n",
       "    <tr>\n",
       "      <th>mse</th>\n",
       "      <td>5.904324e+06</td>\n",
       "      <td>6.236571e+06</td>\n",
       "      <td>5.905973e+06</td>\n",
       "      <td>6.232254e+06</td>\n",
       "      <td>5.905973e+06</td>\n",
       "      <td>6.232254e+06</td>\n",
       "      <td>5.921890e+06</td>\n",
       "      <td>6.239804e+06</td>\n",
       "    </tr>\n",
       "    <tr>\n",
       "      <th>R2</th>\n",
       "      <td>8.917051e-01</td>\n",
       "      <td>8.853655e-01</td>\n",
       "      <td>8.916748e-01</td>\n",
       "      <td>8.854449e-01</td>\n",
       "      <td>8.916748e-01</td>\n",
       "      <td>8.854449e-01</td>\n",
       "      <td>8.913829e-01</td>\n",
       "      <td>8.853061e-01</td>\n",
       "    </tr>\n",
       "  </tbody>\n",
       "</table>\n",
       "</div>"
      ],
      "text/plain": [
       "          lm_train       lm_test   ridge_train    ridge_test  ridge_cv_train  \\\n",
       "rmse  2.429881e+03  2.497313e+03  2.430221e+03  2.496448e+03    2.430221e+03   \n",
       "mae   1.691455e+03  1.753717e+03  1.691402e+03  1.753683e+03    1.691402e+03   \n",
       "mse   5.904324e+06  6.236571e+06  5.905973e+06  6.232254e+06    5.905973e+06   \n",
       "R2    8.917051e-01  8.853655e-01  8.916748e-01  8.854449e-01    8.916748e-01   \n",
       "\n",
       "      ridge_cv_test   lasso_train    lasso_test  \n",
       "rmse   2.496448e+03  2.433493e+03  2.497960e+03  \n",
       "mae    1.753683e+03  1.692539e+03  1.753879e+03  \n",
       "mse    6.232254e+06  5.921890e+06  6.239804e+06  \n",
       "R2     8.854449e-01  8.913829e-01  8.853061e-01  "
      ]
     },
     "execution_count": 63,
     "metadata": {},
     "output_type": "execute_result"
    }
   ],
   "source": [
    "pd.concat([ls, rs, rcs, lss], axis = 1)"
   ]
  },
  {
   "cell_type": "markdown",
   "metadata": {},
   "source": [
    "## For Lasso CV with Default Alpha : 1"
   ]
  },
  {
   "cell_type": "code",
   "execution_count": 64,
   "metadata": {},
   "outputs": [],
   "source": [
    "model = Lasso(alpha=1)\n",
    "scores = cross_validate(model, X_train, y_train,\n",
    "                        scoring=['r2', 'neg_mean_absolute_error','neg_mean_squared_error','neg_root_mean_squared_error'], cv=10)"
   ]
  },
  {
   "cell_type": "code",
   "execution_count": 65,
   "metadata": {},
   "outputs": [
    {
     "data": {
      "text/html": [
       "<div>\n",
       "<style scoped>\n",
       "    .dataframe tbody tr th:only-of-type {\n",
       "        vertical-align: middle;\n",
       "    }\n",
       "\n",
       "    .dataframe tbody tr th {\n",
       "        vertical-align: top;\n",
       "    }\n",
       "\n",
       "    .dataframe thead th {\n",
       "        text-align: right;\n",
       "    }\n",
       "</style>\n",
       "<table border=\"1\" class=\"dataframe\">\n",
       "  <thead>\n",
       "    <tr style=\"text-align: right;\">\n",
       "      <th></th>\n",
       "      <th>test_r2</th>\n",
       "      <th>test_neg_mean_absolute_error</th>\n",
       "      <th>test_neg_mean_squared_error</th>\n",
       "      <th>test_neg_root_mean_squared_error</th>\n",
       "    </tr>\n",
       "  </thead>\n",
       "  <tbody>\n",
       "    <tr>\n",
       "      <th>1</th>\n",
       "      <td>0.892444</td>\n",
       "      <td>-1688.435277</td>\n",
       "      <td>-5.341735e+06</td>\n",
       "      <td>-2311.219279</td>\n",
       "    </tr>\n",
       "    <tr>\n",
       "      <th>2</th>\n",
       "      <td>0.880921</td>\n",
       "      <td>-1791.037336</td>\n",
       "      <td>-7.007545e+06</td>\n",
       "      <td>-2647.176778</td>\n",
       "    </tr>\n",
       "    <tr>\n",
       "      <th>3</th>\n",
       "      <td>0.897374</td>\n",
       "      <td>-1680.194552</td>\n",
       "      <td>-5.580075e+06</td>\n",
       "      <td>-2362.218319</td>\n",
       "    </tr>\n",
       "    <tr>\n",
       "      <th>4</th>\n",
       "      <td>0.871689</td>\n",
       "      <td>-1760.350026</td>\n",
       "      <td>-6.591268e+06</td>\n",
       "      <td>-2567.346426</td>\n",
       "    </tr>\n",
       "    <tr>\n",
       "      <th>5</th>\n",
       "      <td>0.882313</td>\n",
       "      <td>-1716.654407</td>\n",
       "      <td>-6.213787e+06</td>\n",
       "      <td>-2492.746945</td>\n",
       "    </tr>\n",
       "    <tr>\n",
       "      <th>6</th>\n",
       "      <td>0.895256</td>\n",
       "      <td>-1623.414634</td>\n",
       "      <td>-4.958725e+06</td>\n",
       "      <td>-2226.819369</td>\n",
       "    </tr>\n",
       "    <tr>\n",
       "      <th>7</th>\n",
       "      <td>0.884138</td>\n",
       "      <td>-1761.640433</td>\n",
       "      <td>-7.060370e+06</td>\n",
       "      <td>-2657.135698</td>\n",
       "    </tr>\n",
       "    <tr>\n",
       "      <th>8</th>\n",
       "      <td>0.891306</td>\n",
       "      <td>-1811.284899</td>\n",
       "      <td>-6.906290e+06</td>\n",
       "      <td>-2627.982107</td>\n",
       "    </tr>\n",
       "    <tr>\n",
       "      <th>9</th>\n",
       "      <td>0.894953</td>\n",
       "      <td>-1709.640295</td>\n",
       "      <td>-6.000768e+06</td>\n",
       "      <td>-2449.646522</td>\n",
       "    </tr>\n",
       "    <tr>\n",
       "      <th>10</th>\n",
       "      <td>0.885507</td>\n",
       "      <td>-1629.428862</td>\n",
       "      <td>-5.567781e+06</td>\n",
       "      <td>-2359.614547</td>\n",
       "    </tr>\n",
       "  </tbody>\n",
       "</table>\n",
       "</div>"
      ],
      "text/plain": [
       "     test_r2  test_neg_mean_absolute_error  test_neg_mean_squared_error  \\\n",
       "1   0.892444                  -1688.435277                -5.341735e+06   \n",
       "2   0.880921                  -1791.037336                -7.007545e+06   \n",
       "3   0.897374                  -1680.194552                -5.580075e+06   \n",
       "4   0.871689                  -1760.350026                -6.591268e+06   \n",
       "5   0.882313                  -1716.654407                -6.213787e+06   \n",
       "6   0.895256                  -1623.414634                -4.958725e+06   \n",
       "7   0.884138                  -1761.640433                -7.060370e+06   \n",
       "8   0.891306                  -1811.284899                -6.906290e+06   \n",
       "9   0.894953                  -1709.640295                -6.000768e+06   \n",
       "10  0.885507                  -1629.428862                -5.567781e+06   \n",
       "\n",
       "    test_neg_root_mean_squared_error  \n",
       "1                       -2311.219279  \n",
       "2                       -2647.176778  \n",
       "3                       -2362.218319  \n",
       "4                       -2567.346426  \n",
       "5                       -2492.746945  \n",
       "6                       -2226.819369  \n",
       "7                       -2657.135698  \n",
       "8                       -2627.982107  \n",
       "9                       -2449.646522  \n",
       "10                      -2359.614547  "
      ]
     },
     "execution_count": 65,
     "metadata": {},
     "output_type": "execute_result"
    }
   ],
   "source": [
    "scores = pd.DataFrame(scores, index = range(1, 11))\n",
    "scores.iloc[:,2:]"
   ]
  },
  {
   "cell_type": "code",
   "execution_count": 66,
   "metadata": {},
   "outputs": [
    {
     "data": {
      "text/plain": [
       "<AxesSubplot:>"
      ]
     },
     "execution_count": 66,
     "metadata": {},
     "output_type": "execute_result"
    },
    {
     "data": {
      "image/png": "[encoded data removed]",
      "text/plain": [
       "<Figure size 432x288 with 1 Axes>"
      ]
     },
     "metadata": {
      "needs_background": "light"
     },
     "output_type": "display_data"
    }
   ],
   "source": [
    "sns.lineplot(data = scores.iloc[:,2:])"
   ]
  },
  {
   "cell_type": "code",
   "execution_count": 67,
   "metadata": {},
   "outputs": [
    {
     "data": {
      "text/plain": [
       "test_r2                             8.875900e-01\n",
       "test_neg_mean_absolute_error       -1.717208e+03\n",
       "test_neg_mean_squared_error        -6.122834e+06\n",
       "test_neg_root_mean_squared_error   -2.470191e+03\n",
       "dtype: float64"
      ]
     },
     "execution_count": 67,
     "metadata": {},
     "output_type": "execute_result"
    }
   ],
   "source": [
    "pd.DataFrame(scores).iloc[:, 2:].mean()"
   ]
  },
  {
   "cell_type": "code",
   "execution_count": 68,
   "metadata": {},
   "outputs": [
    {
     "name": "stdout",
     "output_type": "stream",
     "text": [
      "Model testing performance:\n",
      "--------------------------\n",
      "R2_score \t: 0.8853061184632274\n",
      "MAE \t\t: 1753.878603385097\n",
      "MSE \t\t: 6239804.447998947\n",
      "RMSE \t\t: 2497.9600573265675\n"
     ]
    }
   ],
   "source": [
    "eval_metrics(y_test, y_pred)"
   ]
  },
  {
   "cell_type": "code",
   "execution_count": 69,
   "metadata": {},
   "outputs": [
    {
     "data": {
      "text/plain": [
       "array([-3.58957543e-02,  6.30409151e+02, -1.62409744e+03,  8.70624811e+01,\n",
       "        9.51515442e+01, -2.40726141e+02, -7.69634907e-01, -1.28821251e+00,\n",
       "        1.23428905e+02,  2.28034448e+02, -3.46923175e+02,  3.41311361e+01,\n",
       "        2.22105644e+02, -2.17073334e+02,  2.46852090e+02, -0.00000000e+00,\n",
       "       -0.00000000e+00,  3.81468417e+01,  9.79347397e+01,  3.72500357e+02,\n",
       "        2.41052518e+03,  3.01479288e+02,  1.37864469e+02,  1.13219455e+02,\n",
       "       -2.87795523e+01,  1.73005649e+02,  1.07544362e+02, -3.92926621e+02,\n",
       "        3.57963899e+02,  1.37786765e+02,  3.18374811e+02, -1.10376400e+02,\n",
       "        6.90070860e+02, -1.14857771e+01,  9.74408486e+02,  3.11134742e+02,\n",
       "       -5.32314750e+02,  4.92379868e+01, -2.43306908e+02,  1.95309345e+01,\n",
       "        8.82929746e+02, -1.84899740e+02,  0.00000000e+00,  5.50950885e+02,\n",
       "        1.71497952e+01, -7.83205551e+02, -0.00000000e+00, -4.57103924e+02,\n",
       "        8.16968408e+01,  7.90574896e+02, -7.33786313e+01,  1.92249876e+01,\n",
       "       -0.00000000e+00,  1.46212684e+02, -1.65998869e+02, -4.78563589e+02,\n",
       "       -2.92437781e+02,  1.98342898e+02,  1.00444762e+02,  1.85221464e+02,\n",
       "       -2.43071726e+02, -0.00000000e+00,  2.00858175e+01, -1.13296908e+01,\n",
       "       -4.93402700e+02,  0.00000000e+00,  5.23637114e+02,  1.34191779e+02,\n",
       "       -4.78586804e+01, -2.68488110e+02,  3.20808342e+01,  2.05464136e+02,\n",
       "       -1.54523262e+02,  2.37177817e+01,  1.05712995e+02,  2.51440723e+02,\n",
       "        6.33749311e+01,  9.03000502e+01, -2.64658940e+02, -2.76321477e+02,\n",
       "       -4.71153904e+01, -1.68722657e+02,  7.08859541e+00, -8.90504939e+01,\n",
       "       -2.68711132e+02,  2.25421944e+02, -8.33992289e+02, -7.30488672e+01,\n",
       "       -1.46141455e+01, -2.99125787e+02, -4.35315226e+02, -2.11327399e+02,\n",
       "        7.76072393e+02,  8.44561513e+02, -0.00000000e+00,  5.23987423e+02,\n",
       "       -5.01243392e+02, -7.35727147e+02,  1.26957951e+02,  9.94990020e+01,\n",
       "        1.26972456e+02,  0.00000000e+00, -3.26463692e+02,  2.66189829e+03,\n",
       "        0.00000000e+00,  3.85023134e+03, -1.36846319e+03, -2.64662421e+03,\n",
       "        9.40213365e+02, -2.84593983e+03, -6.67703438e+03,  5.66455740e+03,\n",
       "       -8.27165725e+01,  0.00000000e+00, -0.00000000e+00, -0.00000000e+00,\n",
       "       -0.00000000e+00,  2.20781220e+02, -6.54587826e+02,  1.49392552e+03,\n",
       "       -1.50961996e+02,  0.00000000e+00,  2.41484603e+03, -5.37945238e+02,\n",
       "        1.41680305e+03, -0.00000000e+00, -4.11108248e+02, -8.38996941e+02,\n",
       "        8.19196199e-01,  0.00000000e+00, -0.00000000e+00, -5.31622639e+01,\n",
       "        1.63029283e+03, -0.00000000e+00, -2.47968526e+02,  1.76693669e-13,\n",
       "        0.00000000e+00, -1.23070164e+03,  2.35548988e+03,  2.04483422e+03,\n",
       "       -0.00000000e+00, -0.00000000e+00])"
      ]
     },
     "execution_count": 69,
     "metadata": {},
     "output_type": "execute_result"
    }
   ],
   "source": [
    "lasso_model.coef_"
   ]
  },
  {
   "cell_type": "code",
   "execution_count": 70,
   "metadata": {},
   "outputs": [],
   "source": [
    "lsm_df = pd.DataFrame(lasso_model.coef_, columns = [\"lasso_coef_1\"])"
   ]
  },
  {
   "cell_type": "code",
   "execution_count": 96,
   "metadata": {},
   "outputs": [
    {
     "ename": "NameError",
     "evalue": "name 'rm_df' is not defined",
     "output_type": "error",
     "traceback": [
      "\u001b[1;31m---------------------------------------------------------------------------\u001b[0m",
      "\u001b[1;31mNameError\u001b[0m                                 Traceback (most recent call last)",
      "\u001b[1;32m<ipython-input-96-765ba582db4c>\u001b[0m in \u001b[0;36m<module>\u001b[1;34m\u001b[0m\n\u001b[1;32m----> 1\u001b[1;33m \u001b[0mpd\u001b[0m\u001b[1;33m.\u001b[0m\u001b[0mconcat\u001b[0m\u001b[1;33m(\u001b[0m\u001b[1;33m[\u001b[0m\u001b[0mlm_df\u001b[0m\u001b[1;33m,\u001b[0m \u001b[0mrm_df\u001b[0m\u001b[1;33m,\u001b[0m \u001b[0mrcm_df\u001b[0m\u001b[1;33m,\u001b[0m \u001b[0mlsm_df\u001b[0m\u001b[1;33m]\u001b[0m\u001b[1;33m,\u001b[0m \u001b[0maxis\u001b[0m \u001b[1;33m=\u001b[0m \u001b[1;36m1\u001b[0m\u001b[1;33m)\u001b[0m\u001b[1;33m\u001b[0m\u001b[1;33m\u001b[0m\u001b[0m\n\u001b[0m",
      "\u001b[1;31mNameError\u001b[0m: name 'rm_df' is not defined"
     ]
    }
   ],
   "source": [
    "pd.concat([lm_df, rm_df, rcm_df, lsm_df], axis = 1)"
   ]
  },
  {
   "cell_type": "markdown",
   "metadata": {
    "id": "qpoOypMbmqZO"
   },
   "source": [
    "## 6. Implement Elastic-Net"
   ]
  },
  {
   "cell_type": "markdown",
   "metadata": {
    "id": "El7SNJUemqZO"
   },
   "source": [
    "- Import the modul \n",
    "- Do not forget to scale the data or use Normalize parameter as True(If needed)\n",
    "- Fit the model \n",
    "- Predict the test set \n",
    "- Evaluate model performance (use performance metrics for regression) \n",
    "- Tune alpha hyperparameter by using [GridSearchCV](https://scikit-learn.org/stable/modules/generated/sklearn.model_selection.GridSearchCV.html) and determine the optimal alpha value.\n",
    "- Fit the model and predict again with the new alpha value.\n",
    "- Compare different evaluation metrics"
   ]
  },
  {
   "cell_type": "code",
   "execution_count": 72,
   "metadata": {},
   "outputs": [],
   "source": [
    "from sklearn.linear_model import ElasticNet, ElasticNetCV"
   ]
  },
  {
   "cell_type": "code",
   "execution_count": 73,
   "metadata": {},
   "outputs": [
    {
     "data": {
      "text/plain": [
       "ElasticNet()"
      ]
     },
     "execution_count": 73,
     "metadata": {},
     "output_type": "execute_result"
    }
   ],
   "source": [
    "elastic_model = ElasticNet()\n",
    "elastic_model.fit(X_train, y_train)"
   ]
  },
  {
   "cell_type": "code",
   "execution_count": 74,
   "metadata": {},
   "outputs": [
    {
     "data": {
      "text/plain": [
       "0.5"
      ]
     },
     "execution_count": 74,
     "metadata": {},
     "output_type": "execute_result"
    }
   ],
   "source": [
    "elastic_model.l1_ratio"
   ]
  },
  {
   "cell_type": "code",
   "execution_count": 75,
   "metadata": {},
   "outputs": [
    {
     "data": {
      "text/plain": [
       "1.0"
      ]
     },
     "execution_count": 75,
     "metadata": {},
     "output_type": "execute_result"
    }
   ],
   "source": [
    "elastic_model.alpha"
   ]
  },
  {
   "cell_type": "code",
   "execution_count": 76,
   "metadata": {
    "id": "XKVr6v2JmqZO"
   },
   "outputs": [
    {
     "name": "stdout",
     "output_type": "stream",
     "text": [
      "Model testing performance:\n",
      "--------------------------\n",
      "R2_score \t: 0.8072198888883049\n",
      "MAE \t\t: 2343.9044757264164\n",
      "MSE \t\t: 10510520.466422068\n",
      "RMSE \t\t: 3241.99328599275\n"
     ]
    }
   ],
   "source": [
    "y_train_pred = elastic_model.predict(X_train)\n",
    "eval_metrics(y_train, y_train_pred)"
   ]
  },
  {
   "cell_type": "code",
   "execution_count": 77,
   "metadata": {},
   "outputs": [
    {
     "name": "stdout",
     "output_type": "stream",
     "text": [
      "Model testing performance:\n",
      "--------------------------\n",
      "R2_score \t: 0.8089102396639265\n",
      "MAE \t\t: 2343.140739879136\n",
      "MSE \t\t: 10396044.850306984\n",
      "RMSE \t\t: 3224.2898210779663\n"
     ]
    }
   ],
   "source": [
    "y_pred = elastic_model.predict(X_test)\n",
    "eval_metrics(y_test, y_pred)"
   ]
  },
  {
   "cell_type": "code",
   "execution_count": 78,
   "metadata": {},
   "outputs": [
    {
     "data": {
      "text/html": [
       "<div>\n",
       "<style scoped>\n",
       "    .dataframe tbody tr th:only-of-type {\n",
       "        vertical-align: middle;\n",
       "    }\n",
       "\n",
       "    .dataframe tbody tr th {\n",
       "        vertical-align: top;\n",
       "    }\n",
       "\n",
       "    .dataframe thead th {\n",
       "        text-align: right;\n",
       "    }\n",
       "</style>\n",
       "<table border=\"1\" class=\"dataframe\">\n",
       "  <thead>\n",
       "    <tr style=\"text-align: right;\">\n",
       "      <th></th>\n",
       "      <th>elastic_train</th>\n",
       "      <th>elastic_test</th>\n",
       "    </tr>\n",
       "  </thead>\n",
       "  <tbody>\n",
       "    <tr>\n",
       "      <th>rmse</th>\n",
       "      <td>3.241993e+03</td>\n",
       "      <td>3.224290e+03</td>\n",
       "    </tr>\n",
       "    <tr>\n",
       "      <th>mae</th>\n",
       "      <td>2.343904e+03</td>\n",
       "      <td>2.343141e+03</td>\n",
       "    </tr>\n",
       "    <tr>\n",
       "      <th>mse</th>\n",
       "      <td>1.051052e+07</td>\n",
       "      <td>1.039604e+07</td>\n",
       "    </tr>\n",
       "    <tr>\n",
       "      <th>R2</th>\n",
       "      <td>8.072199e-01</td>\n",
       "      <td>8.089102e-01</td>\n",
       "    </tr>\n",
       "  </tbody>\n",
       "</table>\n",
       "</div>"
      ],
      "text/plain": [
       "      elastic_train  elastic_test\n",
       "rmse   3.241993e+03  3.224290e+03\n",
       "mae    2.343904e+03  2.343141e+03\n",
       "mse    1.051052e+07  1.039604e+07\n",
       "R2     8.072199e-01  8.089102e-01"
      ]
     },
     "execution_count": 78,
     "metadata": {},
     "output_type": "execute_result"
    }
   ],
   "source": [
    "elastic_scores = {\"elastic_train\": {\"rmse\" : np.sqrt(mean_squared_error(y_train, y_train_pred)),\n",
    "    \"mae\" : mean_absolute_error(y_train, y_train_pred),\n",
    "    \"mse\" : mean_squared_error(y_train, y_train_pred),\n",
    "    \"R2\" : r2_score(y_train, y_train_pred)}, \n",
    "\n",
    "    \"elastic_test\": {\"rmse\" : np.sqrt(mean_squared_error(y_test, y_pred)),\n",
    "    \"mae\" : mean_absolute_error(y_test, y_pred),\n",
    "    \"mse\" : mean_squared_error(y_test, y_pred),\n",
    "    \"R2\" : r2_score(y_test, y_pred)}}\n",
    "es = pd.DataFrame(elastic_scores)\n",
    "es"
   ]
  },
  {
   "cell_type": "code",
   "execution_count": 80,
   "metadata": {},
   "outputs": [
    {
     "data": {
      "text/plain": [
       "array([-5.82231883e-02,  7.55978642e+02, -8.79395179e+02, -1.17324183e+02,\n",
       "        1.54948521e+02, -9.93480542e+01, -2.22399494e+00,  4.39056115e+00,\n",
       "       -3.39496044e+02,  3.01678522e+01,  1.08640580e+00,  2.17054972e+02,\n",
       "        3.15718865e+02,  9.64467428e+00, -1.04699933e+02, -0.00000000e+00,\n",
       "        7.72557246e+01, -4.23625187e+01,  6.74654474e+01,  1.37770343e+02,\n",
       "        2.52853077e+02, -1.51624635e+02, -1.28805403e+02,  2.73206922e+01,\n",
       "       -0.00000000e+00,  1.33465484e+02,  6.59359483e+01, -3.02639814e+01,\n",
       "        1.21478851e+02, -1.06449514e+01,  1.41993595e+02,  1.38241706e+02,\n",
       "        2.33839427e+02, -4.01616385e+01,  1.65162016e+02,  8.86865017e+01,\n",
       "        1.34315659e+02, -2.94767876e+01,  7.08443509e+01,  1.98507949e+02,\n",
       "        1.96228740e+02,  5.04198439e+01,  6.32465432e+01,  7.98122752e+01,\n",
       "       -8.88076281e+00,  0.00000000e+00, -0.00000000e+00, -7.07315063e+01,\n",
       "        1.87209793e+02,  1.99969865e+02, -9.92003358e+01,  4.99988570e+01,\n",
       "       -2.01403959e+02,  4.38696132e+01,  1.23123730e+02,  2.73964404e+00,\n",
       "       -2.80388494e+02,  2.07938646e+02,  1.40055450e+01,  3.61699157e+01,\n",
       "       -0.00000000e+00, -0.00000000e+00, -2.43214332e+02, -2.54160098e+00,\n",
       "       -4.76436070e+01, -0.00000000e+00,  1.14206763e+02,  5.52060538e+01,\n",
       "        9.58018195e+01, -2.56909317e+02,  2.88231934e+01,  8.23442712e-01,\n",
       "       -7.15620680e-03, -7.40734528e+00, -1.33901797e+01,  2.15422081e+02,\n",
       "       -1.03272898e+01,  1.28934223e+02,  1.57569126e+02, -5.85669689e+01,\n",
       "       -2.99496441e+01, -1.64023701e+02,  7.70327804e+01, -7.04681942e+00,\n",
       "       -9.28365993e+01,  1.27993612e+02, -1.98790866e+02, -2.81555122e+02,\n",
       "        3.71392980e+00,  1.90935666e+01, -1.70127264e+02, -1.79893234e+02,\n",
       "        3.40550153e+02,  2.14902186e+02,  7.11547878e+00, -1.45789541e+01,\n",
       "       -3.72018084e+01, -6.48980698e+00,  2.56332822e+01, -4.43944193e+01,\n",
       "        5.49394150e+01,  1.09238564e+02,  2.87711335e+02,  4.11616885e+02,\n",
       "        0.00000000e+00,  5.28593973e+02, -5.02643163e+02, -1.80067599e+02,\n",
       "       -2.29122704e+02, -3.35459166e+02, -1.65551234e+01,  3.25636898e+02,\n",
       "       -3.89649186e+00,  1.68077992e+00, -2.43848727e-01, -1.48891426e+01,\n",
       "        2.38964823e+01, -2.87055646e+02, -9.56964633e+00,  2.92077516e+02,\n",
       "       -2.46046816e+01,  2.46046817e+01,  2.34611288e+02, -7.13131153e+01,\n",
       "        2.43720427e+02,  3.07421396e+01, -4.38760738e+02, -3.00324123e+02,\n",
       "        2.83643779e+02,  8.11421636e-01,  1.38689227e+01, -1.54985696e+01,\n",
       "        4.54227059e+00,  9.95629889e+00, -1.84272656e+02,  1.84272659e+02,\n",
       "        2.21648398e+02, -3.61878531e+02,  1.39230130e+02,  3.23831093e+01,\n",
       "       -3.05734119e+01, -8.09697415e-01])"
      ]
     },
     "execution_count": 80,
     "metadata": {},
     "output_type": "execute_result"
    }
   ],
   "source": [
    "elastic_model.coef_"
   ]
  },
  {
   "cell_type": "code",
   "execution_count": 81,
   "metadata": {},
   "outputs": [],
   "source": [
    "elastic_cv_model = ElasticNetCV(alphas = alpha_space, l1_ratio=[0.1, 0.5, 0.7,0.9, 0.95, 1], cv = 10, max_iter = 100000)"
   ]
  },
  {
   "cell_type": "code",
   "execution_count": 82,
   "metadata": {},
   "outputs": [
    {
     "data": {
      "text/plain": [
       "ElasticNetCV(alphas=array([0.01, 0.02, 0.03, 0.04, 0.05, 0.06, 0.07, 0.08, 0.09, 0.1 , 0.11,\n",
       "       0.12, 0.13, 0.14, 0.15, 0.16, 0.17, 0.18, 0.19, 0.2 , 0.21, 0.22,\n",
       "       0.23, 0.24, 0.25, 0.26, 0.27, 0.28, 0.29, 0.3 , 0.31, 0.32, 0.33,\n",
       "       0.34, 0.35, 0.36, 0.37, 0.38, 0.39, 0.4 , 0.41, 0.42, 0.43, 0.44,\n",
       "       0.45, 0.46, 0.47, 0.48, 0.49, 0.5 , 0.51, 0.52, 0.53, 0.54, 0.55,\n",
       "       0.56, 0.57, 0.58, 0.59, 0.6 , 0.61, 0.62, 0.63, 0.64, 0.65, 0.66,\n",
       "       0.67, 0.68, 0.69, 0.7 , 0.71, 0.72, 0.73, 0.74, 0.75, 0.76, 0.77,\n",
       "       0.78, 0.79, 0.8 , 0.81, 0.82, 0.83, 0.84, 0.85, 0.86, 0.87, 0.88,\n",
       "       0.89, 0.9 , 0.91, 0.92, 0.93, 0.94, 0.95, 0.96, 0.97, 0.98, 0.99,\n",
       "       1.  ]),\n",
       "             cv=10, l1_ratio=[0.1, 0.5, 0.7, 0.9, 0.95, 1], max_iter=100000)"
      ]
     },
     "execution_count": 82,
     "metadata": {},
     "output_type": "execute_result"
    }
   ],
   "source": [
    "elastic_cv_model.fit(X_train, y_train)"
   ]
  },
  {
   "cell_type": "code",
   "execution_count": 83,
   "metadata": {},
   "outputs": [
    {
     "data": {
      "text/plain": [
       "1.0"
      ]
     },
     "execution_count": 83,
     "metadata": {},
     "output_type": "execute_result"
    }
   ],
   "source": [
    "elastic_cv_model.alpha_"
   ]
  },
  {
   "cell_type": "code",
   "execution_count": 84,
   "metadata": {},
   "outputs": [
    {
     "data": {
      "text/plain": [
       "1.0"
      ]
     },
     "execution_count": 84,
     "metadata": {},
     "output_type": "execute_result"
    }
   ],
   "source": [
    "elastic_cv_model.l1_ratio_"
   ]
  },
  {
   "cell_type": "code",
   "execution_count": 85,
   "metadata": {},
   "outputs": [
    {
     "data": {
      "text/plain": [
       "array([-3.58957543e-02,  6.30409151e+02, -1.62409744e+03,  8.70624811e+01,\n",
       "        9.51515442e+01, -2.40726141e+02, -7.69634907e-01, -1.28821251e+00,\n",
       "        1.23428905e+02,  2.28034448e+02, -3.46923175e+02,  3.41311361e+01,\n",
       "        2.22105644e+02, -2.17073334e+02,  2.46852090e+02, -0.00000000e+00,\n",
       "       -0.00000000e+00,  3.81468417e+01,  9.79347397e+01,  3.72500357e+02,\n",
       "        2.41052518e+03,  3.01479288e+02,  1.37864469e+02,  1.13219455e+02,\n",
       "       -2.87795523e+01,  1.73005649e+02,  1.07544362e+02, -3.92926621e+02,\n",
       "        3.57963899e+02,  1.37786765e+02,  3.18374811e+02, -1.10376400e+02,\n",
       "        6.90070860e+02, -1.14857771e+01,  9.74408486e+02,  3.11134742e+02,\n",
       "       -5.32314750e+02,  4.92379868e+01, -2.43306908e+02,  1.95309345e+01,\n",
       "        8.82929746e+02, -1.84899740e+02,  0.00000000e+00,  5.50950885e+02,\n",
       "        1.71497952e+01, -7.83205551e+02, -0.00000000e+00, -4.57103924e+02,\n",
       "        8.16968408e+01,  7.90574896e+02, -7.33786313e+01,  1.92249876e+01,\n",
       "       -0.00000000e+00,  1.46212684e+02, -1.65998869e+02, -4.78563589e+02,\n",
       "       -2.92437781e+02,  1.98342898e+02,  1.00444762e+02,  1.85221464e+02,\n",
       "       -2.43071726e+02, -0.00000000e+00,  2.00858175e+01, -1.13296908e+01,\n",
       "       -4.93402700e+02,  0.00000000e+00,  5.23637114e+02,  1.34191779e+02,\n",
       "       -4.78586804e+01, -2.68488110e+02,  3.20808342e+01,  2.05464136e+02,\n",
       "       -1.54523262e+02,  2.37177817e+01,  1.05712995e+02,  2.51440723e+02,\n",
       "        6.33749311e+01,  9.03000502e+01, -2.64658940e+02, -2.76321477e+02,\n",
       "       -4.71153904e+01, -1.68722657e+02,  7.08859541e+00, -8.90504939e+01,\n",
       "       -2.68711132e+02,  2.25421944e+02, -8.33992289e+02, -7.30488672e+01,\n",
       "       -1.46141455e+01, -2.99125787e+02, -4.35315226e+02, -2.11327399e+02,\n",
       "        7.76072393e+02,  8.44561513e+02, -0.00000000e+00,  5.23987423e+02,\n",
       "       -5.01243392e+02, -7.35727147e+02,  1.26957951e+02,  9.94990020e+01,\n",
       "        1.26972456e+02,  0.00000000e+00, -3.26463692e+02,  2.66189829e+03,\n",
       "        0.00000000e+00,  3.85023134e+03, -1.36846319e+03, -2.64662421e+03,\n",
       "        9.40213365e+02, -2.84593983e+03, -6.67703438e+03,  5.66455740e+03,\n",
       "       -8.27165725e+01,  0.00000000e+00, -0.00000000e+00, -0.00000000e+00,\n",
       "       -0.00000000e+00,  2.20781220e+02, -6.54587826e+02,  1.49392552e+03,\n",
       "       -1.50961996e+02,  0.00000000e+00,  2.41484603e+03, -5.37945238e+02,\n",
       "        1.41680305e+03, -0.00000000e+00, -4.11108248e+02, -8.38996941e+02,\n",
       "        8.19196199e-01,  0.00000000e+00, -0.00000000e+00, -5.31622639e+01,\n",
       "        1.63029283e+03, -0.00000000e+00, -2.47968526e+02,  1.76693669e-13,\n",
       "        0.00000000e+00, -1.23070164e+03,  2.35548988e+03,  2.04483422e+03,\n",
       "       -0.00000000e+00, -0.00000000e+00])"
      ]
     },
     "execution_count": 85,
     "metadata": {},
     "output_type": "execute_result"
    }
   ],
   "source": [
    "elastic_cv_model.coef_"
   ]
  },
  {
   "cell_type": "code",
   "execution_count": 86,
   "metadata": {},
   "outputs": [],
   "source": [
    "ecm_df = pd.DataFrame(elastic_cv_model.coef_, columns=[\"elastic_coef_(alp:0.01, l1:1)\"])"
   ]
  },
  {
   "cell_type": "code",
   "execution_count": 87,
   "metadata": {},
   "outputs": [
    {
     "name": "stdout",
     "output_type": "stream",
     "text": [
      "Model testing performance:\n",
      "--------------------------\n",
      "R2_score \t: 0.8913828656503525\n",
      "MAE \t\t: 1692.5392150324026\n",
      "MSE \t\t: 5921890.007235442\n",
      "RMSE \t\t: 2433.49337521914\n"
     ]
    }
   ],
   "source": [
    "y_train_pred = elastic_cv_model.predict(X_train)\n",
    "eval_metrics(y_train, y_train_pred)"
   ]
  },
  {
   "cell_type": "code",
   "execution_count": 88,
   "metadata": {},
   "outputs": [
    {
     "name": "stdout",
     "output_type": "stream",
     "text": [
      "Model testing performance:\n",
      "--------------------------\n",
      "R2_score \t: 0.8853061184632274\n",
      "MAE \t\t: 1753.878603385097\n",
      "MSE \t\t: 6239804.447998947\n",
      "RMSE \t\t: 2497.9600573265675\n"
     ]
    }
   ],
   "source": [
    "y_pred = elastic_cv_model.predict(X_test)\n",
    "eval_metrics(y_test, y_pred)"
   ]
  },
  {
   "cell_type": "code",
   "execution_count": 89,
   "metadata": {},
   "outputs": [
    {
     "data": {
      "text/html": [
       "<div>\n",
       "<style scoped>\n",
       "    .dataframe tbody tr th:only-of-type {\n",
       "        vertical-align: middle;\n",
       "    }\n",
       "\n",
       "    .dataframe tbody tr th {\n",
       "        vertical-align: top;\n",
       "    }\n",
       "\n",
       "    .dataframe thead th {\n",
       "        text-align: right;\n",
       "    }\n",
       "</style>\n",
       "<table border=\"1\" class=\"dataframe\">\n",
       "  <thead>\n",
       "    <tr style=\"text-align: right;\">\n",
       "      <th></th>\n",
       "      <th>elastic_cv_train</th>\n",
       "      <th>elastic_cv_test</th>\n",
       "    </tr>\n",
       "  </thead>\n",
       "  <tbody>\n",
       "    <tr>\n",
       "      <th>rmse</th>\n",
       "      <td>2.433493e+03</td>\n",
       "      <td>2.497960e+03</td>\n",
       "    </tr>\n",
       "    <tr>\n",
       "      <th>mae</th>\n",
       "      <td>1.692539e+03</td>\n",
       "      <td>1.753879e+03</td>\n",
       "    </tr>\n",
       "    <tr>\n",
       "      <th>mse</th>\n",
       "      <td>5.921890e+06</td>\n",
       "      <td>6.239804e+06</td>\n",
       "    </tr>\n",
       "    <tr>\n",
       "      <th>R2</th>\n",
       "      <td>8.913829e-01</td>\n",
       "      <td>8.853061e-01</td>\n",
       "    </tr>\n",
       "  </tbody>\n",
       "</table>\n",
       "</div>"
      ],
      "text/plain": [
       "      elastic_cv_train  elastic_cv_test\n",
       "rmse      2.433493e+03     2.497960e+03\n",
       "mae       1.692539e+03     1.753879e+03\n",
       "mse       5.921890e+06     6.239804e+06\n",
       "R2        8.913829e-01     8.853061e-01"
      ]
     },
     "execution_count": 89,
     "metadata": {},
     "output_type": "execute_result"
    }
   ],
   "source": [
    "elastic_cv_scores = {\"elastic_cv_train\": {\"rmse\" : np.sqrt(mean_squared_error(y_train, y_train_pred)),\n",
    "    \"mae\" : mean_absolute_error(y_train, y_train_pred),\n",
    "    \"mse\" : mean_squared_error(y_train, y_train_pred),\n",
    "    \"R2\" : r2_score(y_train, y_train_pred)}, \n",
    "\n",
    "    \"elastic_cv_test\": {\"rmse\" : np.sqrt(mean_squared_error(y_test, y_pred)),\n",
    "    \"mae\" : mean_absolute_error(y_test, y_pred),\n",
    "    \"mse\" : mean_squared_error(y_test, y_pred),\n",
    "    \"R2\" : r2_score(y_test, y_pred)}}\n",
    "ecs = pd.DataFrame(elastic_cv_scores)\n",
    "ecs"
   ]
  },
  {
   "cell_type": "code",
   "execution_count": null,
   "metadata": {},
   "outputs": [],
   "source": []
  },
  {
   "cell_type": "code",
   "execution_count": 92,
   "metadata": {
    "scrolled": false
   },
   "outputs": [
    {
     "data": {
      "image/png": "[encoded data removed]",
      "text/plain": [
       "<Figure size 720x3000 with 1 Axes>"
      ]
     },
     "metadata": {},
     "output_type": "display_data"
    },
    {
     "data": {
      "text/plain": [
       "<AxesSubplot:title={'center':'Feature Importances of 142 Features using RidgeCV'}, xlabel='relative coefficient magnitude'>"
      ]
     },
     "execution_count": 92,
     "metadata": {},
     "output_type": "execute_result"
    }
   ],
   "source": [
    "from yellowbrick.model_selection import FeatureImportances\n",
    "from yellowbrick.features import RadViz\n",
    "\n",
    "viz = FeatureImportances(ridge_cv_model, labels=pd.DataFrame(X_train).columns)\n",
    "visualizer = RadViz(size=(720, 3000))\n",
    "viz.fit(X_train, y_train)\n",
    "viz.show()"
   ]
  },
  {
   "cell_type": "code",
   "execution_count": 103,
   "metadata": {
    "scrolled": false
   },
   "outputs": [
    {
     "data": {
      "image/png": "[encoded data removed]",
      "text/plain": [
       "<Figure size 720x3000 with 1 Axes>"
      ]
     },
     "metadata": {},
     "output_type": "display_data"
    },
    {
     "data": {
      "text/plain": [
       "<AxesSubplot:title={'center':'Feature Importances of 142 Features using LassoCV'}, xlabel='relative coefficient magnitude'>"
      ]
     },
     "execution_count": 103,
     "metadata": {},
     "output_type": "execute_result"
    }
   ],
   "source": [
    "from yellowbrick.model_selection import FeatureImportances\n",
    "from yellowbrick.features import RadViz\n",
    "\n",
    "viz = FeatureImportances(lasso_cv_model, labels=pd.DataFrame(X_train).columns)\n",
    "visualizer = RadViz(size=(720, 3000))\n",
    "viz.fit(X_train, y_train)\n",
    "viz.show()"
   ]
  },
  {
   "cell_type": "code",
   "execution_count": 100,
   "metadata": {},
   "outputs": [],
   "source": [
    "lasso_cv_model = LassoCV(alphas = alpha_space, cv = 10, max_iter = 100000)"
   ]
  },
  {
   "cell_type": "code",
   "execution_count": 101,
   "metadata": {},
   "outputs": [
    {
     "data": {
      "text/plain": [
       "LassoCV(alphas=array([0.01, 0.02, 0.03, 0.04, 0.05, 0.06, 0.07, 0.08, 0.09, 0.1 , 0.11,\n",
       "       0.12, 0.13, 0.14, 0.15, 0.16, 0.17, 0.18, 0.19, 0.2 , 0.21, 0.22,\n",
       "       0.23, 0.24, 0.25, 0.26, 0.27, 0.28, 0.29, 0.3 , 0.31, 0.32, 0.33,\n",
       "       0.34, 0.35, 0.36, 0.37, 0.38, 0.39, 0.4 , 0.41, 0.42, 0.43, 0.44,\n",
       "       0.45, 0.46, 0.47, 0.48, 0.49, 0.5 , 0.51, 0.52, 0.53, 0.54, 0.55,\n",
       "       0.56, 0.57, 0.58, 0.59, 0.6 , 0.61, 0.62, 0.63, 0.64, 0.65, 0.66,\n",
       "       0.67, 0.68, 0.69, 0.7 , 0.71, 0.72, 0.73, 0.74, 0.75, 0.76, 0.77,\n",
       "       0.78, 0.79, 0.8 , 0.81, 0.82, 0.83, 0.84, 0.85, 0.86, 0.87, 0.88,\n",
       "       0.89, 0.9 , 0.91, 0.92, 0.93, 0.94, 0.95, 0.96, 0.97, 0.98, 0.99,\n",
       "       1.  ]),\n",
       "        cv=10, max_iter=100000)"
      ]
     },
     "execution_count": 101,
     "metadata": {},
     "output_type": "execute_result"
    }
   ],
   "source": [
    "lasso_cv_model.fit(X_train, y_train)"
   ]
  },
  {
   "cell_type": "code",
   "execution_count": 102,
   "metadata": {},
   "outputs": [
    {
     "data": {
      "text/plain": [
       "1.0"
      ]
     },
     "execution_count": 102,
     "metadata": {},
     "output_type": "execute_result"
    }
   ],
   "source": [
    "lasso_cv_model.alpha_"
   ]
  },
  {
   "cell_type": "markdown",
   "metadata": {
    "id": "sYyuZQtWmqZO"
   },
   "source": [
    "## 7. Visually Compare Models Performance In a Graph"
   ]
  },
  {
   "cell_type": "code",
   "execution_count": null,
   "metadata": {},
   "outputs": [],
   "source": []
  },
  {
   "cell_type": "code",
   "execution_count": null,
   "metadata": {},
   "outputs": [],
   "source": []
  },
  {
   "cell_type": "code",
   "execution_count": null,
   "metadata": {},
   "outputs": [],
   "source": []
  },
  {
   "cell_type": "code",
   "execution_count": null,
   "metadata": {},
   "outputs": [],
   "source": []
  },
  {
   "cell_type": "code",
   "execution_count": null,
   "metadata": {},
   "outputs": [],
   "source": []
  },
  {
   "cell_type": "code",
   "execution_count": null,
   "metadata": {},
   "outputs": [],
   "source": []
  },
  {
   "cell_type": "code",
   "execution_count": null,
   "metadata": {},
   "outputs": [],
   "source": []
  },
  {
   "cell_type": "code",
   "execution_count": null,
   "metadata": {},
   "outputs": [],
   "source": []
  },
  {
   "cell_type": "code",
   "execution_count": null,
   "metadata": {},
   "outputs": [],
   "source": []
  },
  {
   "cell_type": "code",
   "execution_count": null,
   "metadata": {
    "id": "iig18G7zmqZO"
   },
   "outputs": [],
   "source": []
  },
  {
   "cell_type": "code",
   "execution_count": null,
   "metadata": {},
   "outputs": [],
   "source": []
  },
  {
   "cell_type": "markdown",
   "metadata": {},
   "source": [
    "___\n",
    "\n",
    "<p style=\"text-align: center;\"><img src=\"https://docs.google.com/uc?id=1lY0Uj5R04yMY3-ZppPWxqCr5pvBLYPnV\" class=\"img-fluid\" alt=\"CLRSWY\"></p>\n",
    "\n",
    "___"
   ]
  },
  {
   "cell_type": "code",
   "execution_count": null,
   "metadata": {},
   "outputs": [],
   "source": []
  }
 ],
 "metadata": {
  "colab": {
   "collapsed_sections": [],
   "name": "modeling_auto_scout_Student_V1.ipynb",
   "provenance": []
  },
  "kernelspec": {
   "display_name": "Python 3",
   "language": "python",
   "name": "python3"
  },
  "language_info": {
   "codemirror_mode": {
    "name": "ipython",
    "version": 3
   },
   "file_extension": ".py",
   "mimetype": "text/x-python",
   "name": "python",
   "nbconvert_exporter": "python",
   "pygments_lexer": "ipython3",
   "version": "3.7.11"
  }
 },
 "nbformat": 4,
 "nbformat_minor": 4
}
