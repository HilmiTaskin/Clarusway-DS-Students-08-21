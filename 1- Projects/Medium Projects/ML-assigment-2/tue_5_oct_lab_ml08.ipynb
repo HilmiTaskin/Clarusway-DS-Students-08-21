{
 "cells": [
  {
   "cell_type": "markdown",
   "id": "6608d87a-1718-4198-aa94-5018bed4a106",
   "metadata": {},
   "source": [
    "# Heart-stroke prediction"
   ]
  },
  {
   "cell_type": "markdown",
   "id": "392a02f0-fdda-44ae-a0fc-97f3b03924a9",
   "metadata": {},
   "source": [
    "1. #3 (age): age in years \n",
    "2. #4 (sex): sex (1 = male; 0 = female) \n",
    "3. #9 (cp): cp: chest pain type | Value 0: typical angina | Value 1: atypical angina | Value 2: non-anginal pain | Value 3: asymptomatic \n",
    "4. #10 (trestbps): resting blood pressure (in mm Hg on admission to the hospital) \n",
    "5. #12 (chol): serum cholestoral in mg/dl \n",
    "6. #16 (fbs): (fasting blood sugar > 120 mg/dl) (1 = true; 0 = false) \n",
    "7. #19 (restecg): resting electrocardiographic results | Value 0: normal | Value 1: having ST-T wave abnormality (T wave inversions and/or ST elevation or depression of > 0.05 mV) | Value 2: showing probable or definite left ventricular hypertrophy by Estes' criteria \n",
    "8. #32 (thalach): maximum heart rate achieved \n",
    "9. #38 (exang): exercise induced angina (1 = yes; 0 = no) \n",
    "10. #40 (oldpeak): ST depression induced by exercise relative to rest \n",
    "11. #41 (slope): the slope of the peak exercise ST segment | Value 1: upsloping | Value 2: flat | Value 3: downsloping \n",
    "12. #44 (ca): number of major vessels (0-3) colored by flourosopy \n",
    "13. #51 (thal): 3 = normal; 6 = fixed defect; 7 = reversable defect \n",
    "14. #58 (num) (the predicted attribute): Value 0: < 50% diameter narrowing | Value 1: > 50% diameter narrowing "
   ]
  },
  {
   "cell_type": "markdown",
   "id": "9f64a47c-5aa7-4653-98ea-6c645df4572b",
   "metadata": {},
   "source": [
    "# Import libraries"
   ]
  },
  {
   "cell_type": "code",
   "execution_count": null,
   "id": "d2f67c2a-c903-4b6c-bcda-2d69e2619192",
   "metadata": {},
   "outputs": [],
   "source": [
    "import numpy as np\n",
    "import pandas as pd\n",
    "import matplotlib.pyplot as plt\n",
    "import seaborn as sns\n",
    "import pandas_profiling as pp\n",
    "from sklearn.preprocessing import StandardScaler, MinMaxScaler\n",
    "from sklearn.model_selection import train_test_split, GridSearchCV, cross_validate, cross_val_score\n",
    "from sklearn.neighbors import KNeighborsClassifier\n",
    "from sklearn.linear_model import LogisticRegression\n",
    "from sklearn.svm import SVC\n",
    "from sklearn.metrics import classification_report, confusion_matrix, log_loss, recall_score\n",
    "from yellowbrick.classifier import ConfusionMatrix\n",
    "from yellowbrick.cluster import KElbowVisualizer"
   ]
  },
  {
   "cell_type": "code",
   "execution_count": null,
   "id": "234ed386-e78e-4785-88e8-54d268b96bba",
   "metadata": {},
   "outputs": [],
   "source": [
    "%matplotlib inline"
   ]
  },
  {
   "cell_type": "markdown",
   "id": "a589228f-f7be-4c79-94fd-e45cb2c473f4",
   "metadata": {
    "tags": []
   },
   "source": [
    "# Read in the Dataset"
   ]
  },
  {
   "cell_type": "code",
   "execution_count": null,
   "id": "542d4531-d67c-4a30-a836-dc31795ff0e8",
   "metadata": {},
   "outputs": [],
   "source": [
    "df = pd.read_csv('heart.csv')"
   ]
  },
  {
   "cell_type": "code",
   "execution_count": null,
   "id": "bc7eca15-a6ca-4959-a43b-d20e37bcefb3",
   "metadata": {},
   "outputs": [],
   "source": [
    "df.head()"
   ]
  },
  {
   "cell_type": "code",
   "execution_count": null,
   "id": "91044e48-de98-44a1-95b6-f538f3343f29",
   "metadata": {},
   "outputs": [],
   "source": [
    "df.shape"
   ]
  },
  {
   "cell_type": "markdown",
   "id": "1dd1eb7c-f9a7-4125-8379-3f5e78ff9dcc",
   "metadata": {},
   "source": [
    "# EDA"
   ]
  },
  {
   "cell_type": "code",
   "execution_count": null,
   "id": "d74be757-815b-4f76-9722-0dd5338b2dde",
   "metadata": {},
   "outputs": [],
   "source": [
    "df.profile_report()"
   ]
  },
  {
   "cell_type": "code",
   "execution_count": null,
   "id": "a590d65b-ea9c-43e0-aefe-88eb20b9e790",
   "metadata": {},
   "outputs": [],
   "source": [
    "df.target.value_counts(normalize=True)"
   ]
  },
  {
   "cell_type": "code",
   "execution_count": null,
   "id": "194234ae-92ee-4fbc-875d-61149a26d284",
   "metadata": {},
   "outputs": [],
   "source": [
    "df.info()"
   ]
  },
  {
   "cell_type": "markdown",
   "id": "ab14529b-fa6d-4594-9740-4423f7e8e5d2",
   "metadata": {},
   "source": [
    "# Data Pre-processing"
   ]
  },
  {
   "cell_type": "code",
   "execution_count": null,
   "id": "82157791-003e-48ad-8fee-dab81a14ef73",
   "metadata": {},
   "outputs": [],
   "source": [
    "df.duplicated().sum()"
   ]
  },
  {
   "cell_type": "code",
   "execution_count": null,
   "id": "473ada03-4b61-42bd-a9d7-14a043beeb54",
   "metadata": {},
   "outputs": [],
   "source": [
    "df.drop_duplicates(inplace=True)"
   ]
  },
  {
   "cell_type": "code",
   "execution_count": null,
   "id": "2c1e8108-2810-4686-8cdc-579f13ad8a1f",
   "metadata": {},
   "outputs": [],
   "source": [
    "df.duplicated().sum()"
   ]
  },
  {
   "cell_type": "code",
   "execution_count": null,
   "id": "8a8224c8-02d5-46bf-9869-d726172529ec",
   "metadata": {},
   "outputs": [],
   "source": [
    "for col in df.select_dtypes('int'):\n",
    "    print(df[col].value_counts(), '\\n\\n')"
   ]
  },
  {
   "cell_type": "code",
   "execution_count": null,
   "id": "22669840-3c1d-4d69-9e4b-51b8bb1f6d56",
   "metadata": {},
   "outputs": [],
   "source": [
    "df['thal'].value_counts()"
   ]
  },
  {
   "cell_type": "code",
   "execution_count": null,
   "id": "4a207df9-a4f5-4a10-90aa-a90ecfa90d90",
   "metadata": {},
   "outputs": [],
   "source": [
    "# Drop 0's as they mean null\n",
    "df.drop(df[df['thal']==0].index, inplace=True)"
   ]
  },
  {
   "cell_type": "code",
   "execution_count": null,
   "id": "231727bb-beda-462c-a3cc-c25d61beb181",
   "metadata": {},
   "outputs": [],
   "source": [
    "df['thal'].value_counts()"
   ]
  },
  {
   "cell_type": "code",
   "execution_count": null,
   "id": "15edbf2d-76b8-405f-bdf8-a1253c4e18b3",
   "metadata": {},
   "outputs": [],
   "source": [
    "plt.figure(figsize=(15, 10))\n",
    "sns.heatmap(df.corr(), annot=True)"
   ]
  },
  {
   "cell_type": "code",
   "execution_count": null,
   "id": "49f20a15-451b-4940-b29f-5e4be4416f31",
   "metadata": {},
   "outputs": [],
   "source": [
    "X = df.drop('target', axis=1)"
   ]
  },
  {
   "cell_type": "code",
   "execution_count": null,
   "id": "adf1fb81-be65-4269-9054-2d84ad3c0d6b",
   "metadata": {},
   "outputs": [],
   "source": [
    "y = df.target"
   ]
  },
  {
   "cell_type": "code",
   "execution_count": null,
   "id": "a37035b2-2c3f-4193-9934-445fbbc72fcf",
   "metadata": {},
   "outputs": [],
   "source": [
    "X"
   ]
  },
  {
   "cell_type": "code",
   "execution_count": null,
   "id": "e3bb8159-0a54-480c-b0b0-1f9b67dc153a",
   "metadata": {},
   "outputs": [],
   "source": [
    "y"
   ]
  },
  {
   "cell_type": "code",
   "execution_count": null,
   "id": "c9ec0a8c-b8ed-4bd2-8438-c3bd8422ec40",
   "metadata": {},
   "outputs": [],
   "source": [
    "X_train, X_test, y_train, y_test = train_test_split(X, y, test_size=0.3, random_state=42)"
   ]
  },
  {
   "cell_type": "code",
   "execution_count": null,
   "id": "037b596b-5ba1-4c2d-8862-b4cd93985da7",
   "metadata": {},
   "outputs": [],
   "source": [
    "scaler = MinMaxScaler()"
   ]
  },
  {
   "cell_type": "code",
   "execution_count": null,
   "id": "d3724aba-03f9-4e03-a98d-8e77140cf560",
   "metadata": {},
   "outputs": [],
   "source": [
    "X_train_scaled = scaler.fit_transform(X_train)"
   ]
  },
  {
   "cell_type": "code",
   "execution_count": null,
   "id": "a6a26266-b111-4e5e-8190-65308bf74ae1",
   "metadata": {},
   "outputs": [],
   "source": [
    "X_test_scaled = scaler.transform(X_test)"
   ]
  },
  {
   "cell_type": "markdown",
   "id": "ab1723d5-9664-432d-8788-5bb6918da572",
   "metadata": {},
   "source": [
    "# Implement kNN"
   ]
  },
  {
   "cell_type": "code",
   "execution_count": null,
   "id": "5d5dc755-7e67-4ee7-9706-a21c1bd6ff09",
   "metadata": {},
   "outputs": [],
   "source": [
    "knn = KNeighborsClassifier(n_neighbors=1)"
   ]
  },
  {
   "cell_type": "code",
   "execution_count": null,
   "id": "1bea243d-2c66-42a5-bdb2-e1d2a2479da8",
   "metadata": {},
   "outputs": [],
   "source": [
    "knn.fit(X_train_scaled, y_train)"
   ]
  },
  {
   "cell_type": "code",
   "execution_count": null,
   "id": "f7f6864d-dfad-433b-a2a5-fd7e92865fd0",
   "metadata": {},
   "outputs": [],
   "source": [
    "knn.fit(X_train_scaled, y_train)"
   ]
  },
  {
   "cell_type": "code",
   "execution_count": null,
   "id": "612bff88-57f4-4d18-88bc-6fc7bb95735f",
   "metadata": {},
   "outputs": [],
   "source": [
    "knn_pred = knn.predict(X_test_scaled)"
   ]
  },
  {
   "cell_type": "code",
   "execution_count": null,
   "id": "d4f69871-a019-49ab-a082-9d5f6f7020c8",
   "metadata": {},
   "outputs": [],
   "source": [
    "print(classification_report(y_test, knn_pred))"
   ]
  },
  {
   "cell_type": "code",
   "execution_count": null,
   "id": "9c6b661e-467c-48b3-abd7-d7204435e2c7",
   "metadata": {},
   "outputs": [],
   "source": [
    "plt.figure(figsize=(10, 6))\n",
    "sns.heatmap(confusion_matrix(y_test, knn_pred), annot=True)"
   ]
  },
  {
   "cell_type": "code",
   "execution_count": null,
   "id": "4036d746-1abb-4f3f-a051-c8f23dafe063",
   "metadata": {},
   "outputs": [],
   "source": [
    "plt.figure(figsize=(10, 6))\n",
    "cm = ConfusionMatrix(knn)\n",
    "cm.fit(X_train_scaled, y_train)\n",
    "cm.score(X_test_scaled, y_test)\n",
    "cm.show()"
   ]
  },
  {
   "cell_type": "code",
   "execution_count": null,
   "id": "4092fe99-d6f7-4e95-b712-96737898efa0",
   "metadata": {},
   "outputs": [],
   "source": [
    "error_rate = []\n",
    "for i in range(1,40):\n",
    "    knn = KNeighborsClassifier(n_neighbors=i)\n",
    "    knn.fit(X_train_scaled,y_train)\n",
    "    pred_i = knn.predict(X_test_scaled)\n",
    "    error_rate.append(1 - recall_score(y_test, pred_i))"
   ]
  },
  {
   "cell_type": "code",
   "execution_count": null,
   "id": "86e66ad2-8bde-42b0-96e8-561ab10a0093",
   "metadata": {},
   "outputs": [],
   "source": [
    "plt.figure(figsize=(10,6))\n",
    "plt.plot(range(1,40),error_rate,color='blue', linestyle='dashed', marker='o',\n",
    "         markerfacecolor='red', markersize=10)\n",
    "plt.title('Error Rate vs. K Value')\n",
    "plt.xlabel('K')\n",
    "plt.ylabel('Error Rate')"
   ]
  },
  {
   "cell_type": "code",
   "execution_count": null,
   "id": "ba3a0b77-65cb-4519-bb82-fcc9229f8c7e",
   "metadata": {},
   "outputs": [],
   "source": [
    "knn = KNeighborsClassifier(n_neighbors=13)"
   ]
  },
  {
   "cell_type": "code",
   "execution_count": null,
   "id": "64277bf1-1b66-42c4-a667-f29b13a937aa",
   "metadata": {},
   "outputs": [],
   "source": [
    "knn.fit(X_train_scaled, y_train)"
   ]
  },
  {
   "cell_type": "code",
   "execution_count": null,
   "id": "64f8b9eb-a5ea-4096-ae85-ff8b41227384",
   "metadata": {},
   "outputs": [],
   "source": [
    "knn_pred = knn.predict(X_test_scaled)"
   ]
  },
  {
   "cell_type": "code",
   "execution_count": null,
   "id": "50cec7fb-e149-43db-acfa-4f046e85a467",
   "metadata": {},
   "outputs": [],
   "source": [
    "print(classification_report(y_test, knn_pred))"
   ]
  },
  {
   "cell_type": "code",
   "execution_count": null,
   "id": "2c168ab8-a8a1-423b-a71b-7b6d7df556be",
   "metadata": {},
   "outputs": [],
   "source": [
    "recall_score(y_test, knn_pred, pos_label=1)"
   ]
  },
  {
   "cell_type": "code",
   "execution_count": null,
   "id": "c7764af3-6ea3-4ded-9357-3dbb15938763",
   "metadata": {},
   "outputs": [],
   "source": [
    "plt.figure(figsize=(10, 6))\n",
    "\n",
    "cm = ConfusionMatrix(knn)\n",
    "cm.fit(X_train_scaled, y_train)\n",
    "cm.score(X_test_scaled, y_test)\n",
    "cm.show()"
   ]
  },
  {
   "cell_type": "code",
   "execution_count": null,
   "id": "9330d6ac-255c-45ab-afeb-5c614fa827f9",
   "metadata": {},
   "outputs": [],
   "source": [
    "scores = cross_validate(KNeighborsClassifier(n_neighbors=13), X_train_scaled, y_train, cv=10, n_jobs=-1, scoring=['recall'])"
   ]
  },
  {
   "cell_type": "code",
   "execution_count": null,
   "id": "8bad7dc0-b6a1-4636-968c-be24cc60ca35",
   "metadata": {},
   "outputs": [],
   "source": [
    "pd.DataFrame(scores)"
   ]
  },
  {
   "cell_type": "code",
   "execution_count": null,
   "id": "1cf567c1-8077-4964-9a7f-1b91c61e1f15",
   "metadata": {},
   "outputs": [],
   "source": [
    "pd.DataFrame(scores)['test_recall'].mean()"
   ]
  },
  {
   "cell_type": "code",
   "execution_count": null,
   "id": "688cd596-23b2-4a39-bc4e-cf025d282dcc",
   "metadata": {},
   "outputs": [],
   "source": [
    "grid_params = {'weights':['uniform', 'distance'], 'algorithm': ['auto', 'ball_tree', 'kd_tree', 'brute'], 'p':[1, 2], 'leaf_size': [20, 25, 30, 35, 40, 45],\n",
    "              'n_neighbors': [2, 3, 4, 5, 6, 7, 8, 9, 10], 'metric': ['minkowski', 'manhattan', 'euclidean']}"
   ]
  },
  {
   "cell_type": "code",
   "execution_count": null,
   "id": "b1ede3b1-a1fa-4ca1-a3ec-638e66d23f64",
   "metadata": {},
   "outputs": [],
   "source": [
    "cv = GridSearchCV(KNeighborsClassifier(n_jobs=-1), param_grid=grid_params, n_jobs=-1, verbose=1, scoring='recall')"
   ]
  },
  {
   "cell_type": "code",
   "execution_count": null,
   "id": "1cf46063-25d9-47c0-82cb-61e6fcbbde69",
   "metadata": {
    "tags": []
   },
   "outputs": [],
   "source": [
    "cv.fit(X_train_scaled, y_train)"
   ]
  },
  {
   "cell_type": "code",
   "execution_count": null,
   "id": "353b6a64-c7d4-48c2-ad84-39b014c37daa",
   "metadata": {},
   "outputs": [],
   "source": [
    "cv.best_score_"
   ]
  },
  {
   "cell_type": "code",
   "execution_count": null,
   "id": "cd8f1aa9-de9a-4899-a792-79df8bc92f27",
   "metadata": {},
   "outputs": [],
   "source": [
    "cv.best_params_"
   ]
  },
  {
   "cell_type": "code",
   "execution_count": null,
   "id": "4081deae-4978-499a-83ce-f40186cf1305",
   "metadata": {},
   "outputs": [],
   "source": [
    "knn_pred = cv.predict(X_test_scaled)"
   ]
  },
  {
   "cell_type": "code",
   "execution_count": null,
   "id": "78fcb26f-aee3-4597-9de0-417a9b93d909",
   "metadata": {},
   "outputs": [],
   "source": [
    "print(classification_report(y_test, knn_pred))"
   ]
  },
  {
   "cell_type": "code",
   "execution_count": null,
   "id": "390e2ba2-646e-4284-9a18-785805073854",
   "metadata": {},
   "outputs": [],
   "source": [
    "plt.figure(figsize=(10, 6))\n",
    "cm = ConfusionMatrix(knn)\n",
    "cm.fit(X_train_scaled, y_train)\n",
    "cm.score(X_test_scaled, y_test)\n",
    "cm.show()"
   ]
  },
  {
   "cell_type": "code",
   "execution_count": null,
   "id": "62d0c3b7-da0a-4a52-bd89-e03d5d99d94d",
   "metadata": {},
   "outputs": [],
   "source": [
    "knn_recall = recall_score(y_test, knn_pred)"
   ]
  },
  {
   "cell_type": "code",
   "execution_count": null,
   "id": "1cb4330f-b1e3-4c1d-9d64-80cabe526787",
   "metadata": {},
   "outputs": [],
   "source": [
    "knn_recall"
   ]
  },
  {
   "cell_type": "markdown",
   "id": "c76b100e-7ea6-4c63-9302-0405ff70a979",
   "metadata": {},
   "source": [
    "# Logistic Regression"
   ]
  },
  {
   "cell_type": "code",
   "execution_count": null,
   "id": "28dbb6fe-967c-4b85-a4bd-db7132317548",
   "metadata": {},
   "outputs": [],
   "source": [
    "log_model = LogisticRegression(n_jobs=-1)"
   ]
  },
  {
   "cell_type": "code",
   "execution_count": null,
   "id": "3192958a-0821-44a4-adee-38e27d73e204",
   "metadata": {},
   "outputs": [],
   "source": [
    "log_model.fit(X_train_scaled, y_train)"
   ]
  },
  {
   "cell_type": "code",
   "execution_count": null,
   "id": "98903a37-8735-4c7b-98ef-aba59485fa9e",
   "metadata": {},
   "outputs": [],
   "source": [
    "log_pred = log_model.predict(X_test_scaled)"
   ]
  },
  {
   "cell_type": "code",
   "execution_count": null,
   "id": "6fcd8e64-dc58-4a0d-991c-95aa13522f4a",
   "metadata": {},
   "outputs": [],
   "source": [
    "print(classification_report(y_test, log_pred))"
   ]
  },
  {
   "cell_type": "code",
   "execution_count": null,
   "id": "a0a310b2-96de-4a70-a547-390f42fb686f",
   "metadata": {},
   "outputs": [],
   "source": [
    "cm = ConfusionMatrix(log_model)\n",
    "cm.fit(X_train_scaled, y_train)\n",
    "cm.score(X_test_scaled, y_test)\n",
    "cm.show()"
   ]
  },
  {
   "cell_type": "code",
   "execution_count": null,
   "id": "fe7373f8-a149-4dda-abce-13f37ab198fd",
   "metadata": {},
   "outputs": [],
   "source": [
    "scores = cross_validate(log_model, X_train_scaled, y_train, scoring='recall', cv=10, n_jobs=-1)"
   ]
  },
  {
   "cell_type": "code",
   "execution_count": null,
   "id": "e8db27c6-1638-4d77-b31d-cfc761ad2b33",
   "metadata": {},
   "outputs": [],
   "source": [
    "pd.DataFrame(scores)"
   ]
  },
  {
   "cell_type": "code",
   "execution_count": null,
   "id": "2a0bb9e8-bcbd-4aec-a4ee-7f5e04ff7657",
   "metadata": {},
   "outputs": [],
   "source": [
    "pd.DataFrame(scores)['test_score'].mean()"
   ]
  },
  {
   "cell_type": "code",
   "execution_count": null,
   "id": "4e3e4b5d-2cfa-4351-a74b-25eb7350881d",
   "metadata": {},
   "outputs": [],
   "source": [
    "log_recall = recall_score(y_test, log_pred)"
   ]
  },
  {
   "cell_type": "code",
   "execution_count": null,
   "id": "49e44c49-c30e-4011-a8d8-24937dad932a",
   "metadata": {},
   "outputs": [],
   "source": [
    "log_recall"
   ]
  },
  {
   "cell_type": "markdown",
   "id": "6c414bd9-6162-454f-a98f-ca0bb3cb6849",
   "metadata": {},
   "source": [
    "# SVClassifier"
   ]
  },
  {
   "cell_type": "code",
   "execution_count": null,
   "id": "9c2e6d82-8543-4c05-9fc0-0539ef347969",
   "metadata": {},
   "outputs": [],
   "source": [
    "sv_model = SVC()"
   ]
  },
  {
   "cell_type": "code",
   "execution_count": null,
   "id": "2db47c46-5a66-4cfd-864f-a477162cb293",
   "metadata": {},
   "outputs": [],
   "source": [
    "sv_model.fit(X_train_scaled, y_train)"
   ]
  },
  {
   "cell_type": "code",
   "execution_count": null,
   "id": "408b5bca-3f43-457c-aecb-bfb389b63072",
   "metadata": {},
   "outputs": [],
   "source": [
    "sv_pred = sv_model.predict(X_test_scaled)"
   ]
  },
  {
   "cell_type": "code",
   "execution_count": null,
   "id": "4503ddfe-a0d0-46cc-9abb-41e71796c36c",
   "metadata": {},
   "outputs": [],
   "source": [
    "print(classification_report(y_test, sv_pred))"
   ]
  },
  {
   "cell_type": "code",
   "execution_count": null,
   "id": "0439a6c9-9ed8-4522-ba0f-8a5c5ea6ec89",
   "metadata": {},
   "outputs": [],
   "source": [
    "plt.figure(figsize=(10, 6))\n",
    "cm = ConfusionMatrix(sv_model)\n",
    "cm.fit(X_train_scaled, y_train)\n",
    "cm.score(X_test_scaled, y_test)\n",
    "cm.show()"
   ]
  },
  {
   "cell_type": "code",
   "execution_count": null,
   "id": "99568f50-93c7-4a3b-8e5f-605f08b0b7c8",
   "metadata": {},
   "outputs": [],
   "source": [
    "scores = cross_validate(sv_model, X_train_scaled, y_train, cv=10, n_jobs=-1, scoring='recall')"
   ]
  },
  {
   "cell_type": "code",
   "execution_count": null,
   "id": "98143de5-26ae-4304-9271-62b204c98618",
   "metadata": {},
   "outputs": [],
   "source": [
    "pd.DataFrame(scores)"
   ]
  },
  {
   "cell_type": "code",
   "execution_count": null,
   "id": "e12603a0-a882-4ce2-b3f7-d9a8fc20b0dc",
   "metadata": {},
   "outputs": [],
   "source": [
    "pd.DataFrame(scores)['test_score'].mean()"
   ]
  },
  {
   "cell_type": "code",
   "execution_count": null,
   "id": "7a88f83d-185c-412a-8efd-8ecb8fe7df15",
   "metadata": {
    "tags": []
   },
   "outputs": [],
   "source": [
    "grid_param = {'C':[0.1, 0.3, 0.5, 0.7, 1, 1.5, 2, 2.5, 3],\n",
    "             'kernel': ['linear', 'poly', 'rbf', 'sigmoid'],\n",
    "             'degree': [1, 2, 3, 4],\n",
    "             'gamma':[0.1, 0.3, 0.5, 0.7, 1, 1.5, 2, 2.5, 3, 'scale', 'auto'],\n",
    "             'random_state':[42]}"
   ]
  },
  {
   "cell_type": "code",
   "execution_count": null,
   "id": "8040984d-f96a-4770-9253-c856df4e23bd",
   "metadata": {},
   "outputs": [],
   "source": [
    "cv = GridSearchCV(SVC(random_state=42), param_grid=grid_param, n_jobs=-1, scoring='recall')"
   ]
  },
  {
   "cell_type": "code",
   "execution_count": null,
   "id": "7cf3eefd-067b-417a-ac17-3548d49d10fd",
   "metadata": {},
   "outputs": [],
   "source": [
    "cv.fit(X_train_scaled, y_train)"
   ]
  },
  {
   "cell_type": "code",
   "execution_count": null,
   "id": "8593b548-5ae5-4ecd-a2b3-39a8ece9744f",
   "metadata": {},
   "outputs": [],
   "source": [
    "cv.best_score_"
   ]
  },
  {
   "cell_type": "code",
   "execution_count": null,
   "id": "3ac32db4-8538-4e0f-a4ad-f2f90ea6c6b5",
   "metadata": {},
   "outputs": [],
   "source": [
    "cv.best_params_"
   ]
  },
  {
   "cell_type": "code",
   "execution_count": null,
   "id": "4067999c-6998-4aa1-9cac-70c05596c685",
   "metadata": {},
   "outputs": [],
   "source": [
    "cv.best_estimator_"
   ]
  },
  {
   "cell_type": "code",
   "execution_count": null,
   "id": "a9720143-bc11-445a-825f-cf6bf30dc01c",
   "metadata": {},
   "outputs": [],
   "source": [
    "sv_pred = cv.predict(X_test_scaled)"
   ]
  },
  {
   "cell_type": "code",
   "execution_count": null,
   "id": "35075900-13b6-49c9-84d9-b894c4d8e7ee",
   "metadata": {},
   "outputs": [],
   "source": [
    "print(classification_report(y_test, sv_pred))"
   ]
  },
  {
   "cell_type": "code",
   "execution_count": null,
   "id": "a5e94c8e-d203-4e4a-a7eb-c5b71a536350",
   "metadata": {},
   "outputs": [],
   "source": [
    "svc_tuned = SVC(C=0.1, degree=1, gamma=0.1, kernel='poly', random_state=42)"
   ]
  },
  {
   "cell_type": "code",
   "execution_count": null,
   "id": "54bbbaee-ae03-45a6-9bae-ff227995501a",
   "metadata": {},
   "outputs": [],
   "source": [
    "scores = cross_validate(svc_tuned, X_train_scaled, y_train, cv=10, n_jobs=-1, scoring='recall')"
   ]
  },
  {
   "cell_type": "code",
   "execution_count": null,
   "id": "d3741f44-f3b2-4cbf-b8b6-1f2d55e5be2a",
   "metadata": {},
   "outputs": [],
   "source": [
    "pd.DataFrame(scores)"
   ]
  },
  {
   "cell_type": "code",
   "execution_count": null,
   "id": "2567bb5d-eaf8-41c4-81e9-4acedd8dd385",
   "metadata": {},
   "outputs": [],
   "source": [
    "plt.figure(figsize=(10, 6))\n",
    "cm = ConfusionMatrix(svc_tuned)\n",
    "cm.fit(X_train_scaled, y_train)\n",
    "cm.score(X_test_scaled, y_test)\n",
    "cm.show()"
   ]
  },
  {
   "cell_type": "code",
   "execution_count": null,
   "id": "75073ce2-b499-4f69-8914-0f1b10a2565a",
   "metadata": {},
   "outputs": [],
   "source": [
    "sv_recall = recall_score(y_test, sv_pred)"
   ]
  },
  {
   "cell_type": "code",
   "execution_count": null,
   "id": "9e2d0898-d783-458b-8ddf-acdf2472c26c",
   "metadata": {},
   "outputs": [],
   "source": [
    "sv_recall"
   ]
  },
  {
   "cell_type": "markdown",
   "id": "a91ba8af-f7de-4d21-bd78-1ce33e0825ac",
   "metadata": {},
   "source": [
    "# Visually Compare Model Scores"
   ]
  },
  {
   "cell_type": "code",
   "execution_count": null,
   "id": "1d15ace9-123d-4c31-92d2-54318d9a12e5",
   "metadata": {},
   "outputs": [],
   "source": [
    "plt.figure(figsize=(10, 6))\n",
    "\n",
    "rec_df = pd.DataFrame({'knn_recall_score': knn_recall,\n",
    "              'support_vector_recall_score': sv_recall,\n",
    "              'log_reg_recall_score': log_recall}, index=[0])"
   ]
  },
  {
   "cell_type": "code",
   "execution_count": null,
   "id": "7f418f87-a797-4df1-b513-bc4d0032ce8e",
   "metadata": {},
   "outputs": [],
   "source": [
    "rec_df"
   ]
  },
  {
   "cell_type": "code",
   "execution_count": null,
   "id": "63aafae6-d649-4c0e-b6d1-3796e18efbb7",
   "metadata": {},
   "outputs": [],
   "source": [
    "plt.figure(figsize=(15, 10))\n",
    "sns.barplot(x=rec_df.columns, y=rec_df.iloc[0].values)"
   ]
  },
  {
   "cell_type": "code",
   "execution_count": null,
   "id": "4b8ec5f8-9ca3-4b2e-825d-fa56b9801c73",
   "metadata": {},
   "outputs": [],
   "source": []
  }
 ],
 "metadata": {
  "kernelspec": {
   "display_name": "Python 3.9(machinelearning)",
   "language": "python",
   "name": "machinelearning"
  },
  "language_info": {
   "codemirror_mode": {
    "name": "ipython",
    "version": 3
   },
   "file_extension": ".py",
   "mimetype": "text/x-python",
   "name": "python",
   "nbconvert_exporter": "python",
   "pygments_lexer": "ipython3",
   "version": "3.9.7"
  }
 },
 "nbformat": 4,
 "nbformat_minor": 5
}
