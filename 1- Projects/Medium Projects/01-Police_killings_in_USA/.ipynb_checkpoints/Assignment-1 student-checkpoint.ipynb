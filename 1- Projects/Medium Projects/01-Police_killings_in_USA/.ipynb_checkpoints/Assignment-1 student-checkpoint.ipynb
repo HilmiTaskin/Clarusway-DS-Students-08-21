{
 "cells": [
  {
   "cell_type": "markdown",
   "metadata": {
    "id": "xSwVOspA2Zin"
   },
   "source": [
    "# WITH PANDAS AND MATPLOTLIB"
   ]
  },
  {
   "cell_type": "code",
   "execution_count": 1,
   "metadata": {
    "_cell_guid": "5fdcd462-5466-40f5-9992-dc31a9a174f2",
    "_uuid": "dab5021d92c7210270cec270470e4ae179a1de01",
    "id": "22qiZVq32Zir"
   },
   "outputs": [],
   "source": [
    "import numpy as np \n",
    "import pandas as pd\n",
    "import seaborn as sns\n",
    "import matplotlib.pyplot as plt\n",
    "from collections import Counter\n",
    "import warnings\n",
    "warnings.filterwarnings('ignore') "
   ]
  },
  {
   "cell_type": "markdown",
   "metadata": {
    "id": "Rsu0y4Ha2Zit"
   },
   "source": [
    "INSTRUCTIONS\n",
    "\n",
    "1. Number of people by gender\n",
    "1. Kill weapon\n",
    "1. Age of killed people\n",
    "1. Race of killed people\n",
    "1. Killed People According to Races (Pie Chart)\n",
    "1. Most common 15 Name or Surname of killed people\n",
    "\n",
    "<br>"
   ]
  },
  {
   "cell_type": "markdown",
   "metadata": {
    "id": "OTDjgwf53tr5"
   },
   "source": [
    "read data\n",
    "\n",
    "if didn't work you can use this parameters: encoding=\"windows-1252\""
   ]
  },
  {
   "cell_type": "code",
   "execution_count": 3,
   "metadata": {
    "_cell_guid": "abb0685f-f844-43f8-84c0-4cd54361c7bf",
    "_uuid": "9c06ed7c41db79ae9d940f2d52aeff23621b3037",
    "id": "NYz5lAPp2Ziu"
   },
   "outputs": [],
   "source": [
    "df=pd.read_csv(\"PoliceKillingsUS.csv\",encoding=\"windows-1252\")"
   ]
  },
  {
   "cell_type": "code",
   "execution_count": 4,
   "metadata": {},
   "outputs": [
    {
     "data": {
      "text/html": [
       "<div>\n",
       "<style scoped>\n",
       "    .dataframe tbody tr th:only-of-type {\n",
       "        vertical-align: middle;\n",
       "    }\n",
       "\n",
       "    .dataframe tbody tr th {\n",
       "        vertical-align: top;\n",
       "    }\n",
       "\n",
       "    .dataframe thead th {\n",
       "        text-align: right;\n",
       "    }\n",
       "</style>\n",
       "<table border=\"1\" class=\"dataframe\">\n",
       "  <thead>\n",
       "    <tr style=\"text-align: right;\">\n",
       "      <th></th>\n",
       "      <th>id</th>\n",
       "      <th>name</th>\n",
       "      <th>date</th>\n",
       "      <th>manner_of_death</th>\n",
       "      <th>armed</th>\n",
       "      <th>age</th>\n",
       "      <th>gender</th>\n",
       "      <th>race</th>\n",
       "      <th>city</th>\n",
       "      <th>state</th>\n",
       "      <th>signs_of_mental_illness</th>\n",
       "      <th>threat_level</th>\n",
       "      <th>flee</th>\n",
       "      <th>body_camera</th>\n",
       "    </tr>\n",
       "  </thead>\n",
       "  <tbody>\n",
       "    <tr>\n",
       "      <th>0</th>\n",
       "      <td>3</td>\n",
       "      <td>Tim Elliot</td>\n",
       "      <td>02/01/15</td>\n",
       "      <td>shot</td>\n",
       "      <td>gun</td>\n",
       "      <td>53.0</td>\n",
       "      <td>M</td>\n",
       "      <td>A</td>\n",
       "      <td>Shelton</td>\n",
       "      <td>WA</td>\n",
       "      <td>True</td>\n",
       "      <td>attack</td>\n",
       "      <td>Not fleeing</td>\n",
       "      <td>False</td>\n",
       "    </tr>\n",
       "    <tr>\n",
       "      <th>1</th>\n",
       "      <td>4</td>\n",
       "      <td>Lewis Lee Lembke</td>\n",
       "      <td>02/01/15</td>\n",
       "      <td>shot</td>\n",
       "      <td>gun</td>\n",
       "      <td>47.0</td>\n",
       "      <td>M</td>\n",
       "      <td>W</td>\n",
       "      <td>Aloha</td>\n",
       "      <td>OR</td>\n",
       "      <td>False</td>\n",
       "      <td>attack</td>\n",
       "      <td>Not fleeing</td>\n",
       "      <td>False</td>\n",
       "    </tr>\n",
       "  </tbody>\n",
       "</table>\n",
       "</div>"
      ],
      "text/plain": [
       "   id              name      date manner_of_death armed   age gender race  \\\n",
       "0   3        Tim Elliot  02/01/15            shot   gun  53.0      M    A   \n",
       "1   4  Lewis Lee Lembke  02/01/15            shot   gun  47.0      M    W   \n",
       "\n",
       "      city state  signs_of_mental_illness threat_level         flee  \\\n",
       "0  Shelton    WA                     True       attack  Not fleeing   \n",
       "1    Aloha    OR                    False       attack  Not fleeing   \n",
       "\n",
       "   body_camera  \n",
       "0        False  \n",
       "1        False  "
      ]
     },
     "execution_count": 4,
     "metadata": {},
     "output_type": "execute_result"
    }
   ],
   "source": [
    "df.head(2)"
   ]
  },
  {
   "cell_type": "code",
   "execution_count": null,
   "metadata": {},
   "outputs": [],
   "source": []
  },
  {
   "cell_type": "markdown",
   "metadata": {
    "id": "wMFloMjW2Zi8"
   },
   "source": [
    "## 1: Plot number of people by gender"
   ]
  },
  {
   "cell_type": "code",
   "execution_count": 7,
   "metadata": {},
   "outputs": [
    {
     "data": {
      "text/plain": [
       "<AxesSubplot:xlabel='gender', ylabel='count'>"
      ]
     },
     "execution_count": 7,
     "metadata": {},
     "output_type": "execute_result"
    },
    {
     "data": {
      "image/png": "[encoded data removed]",
      "text/plain": [
       "<Figure size 432x288 with 1 Axes>"
      ]
     },
     "metadata": {
      "needs_background": "light"
     },
     "output_type": "display_data"
    }
   ],
   "source": [
    "\n",
    "sns.countplot(data=df,x=\"gender\")"
   ]
  },
  {
   "cell_type": "code",
   "execution_count": null,
   "metadata": {
    "colab": {
     "base_uri": "https://localhost:8080/",
     "height": 307
    },
    "executionInfo": {
     "elapsed": 12,
     "status": "ok",
     "timestamp": 1622926983505,
     "user": {
      "displayName": "Thomas Rico",
      "photoUrl": "",
      "userId": "03459133432310094050"
     },
     "user_tz": -180
    },
    "id": "g73Ix7402Zi9",
    "outputId": "3cc46e86-dfdd-46ef-b738-e1f0f1dd6d82",
    "scrolled": true
   },
   "outputs": [
    {
     "data": {
      "text/html": [
       "<div>\n",
       "<style scoped>\n",
       "    .dataframe tbody tr th:only-of-type {\n",
       "        vertical-align: middle;\n",
       "    }\n",
       "\n",
       "    .dataframe tbody tr th {\n",
       "        vertical-align: top;\n",
       "    }\n",
       "\n",
       "    .dataframe thead th {\n",
       "        text-align: right;\n",
       "    }\n",
       "</style>\n",
       "<table border=\"1\" class=\"dataframe\">\n",
       "  <thead>\n",
       "    <tr style=\"text-align: right;\">\n",
       "      <th></th>\n",
       "      <th>id</th>\n",
       "      <th>name</th>\n",
       "      <th>date</th>\n",
       "      <th>manner_of_death</th>\n",
       "      <th>armed</th>\n",
       "      <th>age</th>\n",
       "      <th>gender</th>\n",
       "      <th>race</th>\n",
       "      <th>city</th>\n",
       "      <th>state</th>\n",
       "      <th>signs_of_mental_illness</th>\n",
       "      <th>threat_level</th>\n",
       "      <th>flee</th>\n",
       "      <th>body_camera</th>\n",
       "    </tr>\n",
       "  </thead>\n",
       "  <tbody>\n",
       "    <tr>\n",
       "      <th>0</th>\n",
       "      <td>3</td>\n",
       "      <td>Tim Elliot</td>\n",
       "      <td>02/01/15</td>\n",
       "      <td>shot</td>\n",
       "      <td>gun</td>\n",
       "      <td>53.0</td>\n",
       "      <td>M</td>\n",
       "      <td>A</td>\n",
       "      <td>Shelton</td>\n",
       "      <td>WA</td>\n",
       "      <td>True</td>\n",
       "      <td>attack</td>\n",
       "      <td>Not fleeing</td>\n",
       "      <td>False</td>\n",
       "    </tr>\n",
       "    <tr>\n",
       "      <th>1</th>\n",
       "      <td>4</td>\n",
       "      <td>Lewis Lee Lembke</td>\n",
       "      <td>02/01/15</td>\n",
       "      <td>shot</td>\n",
       "      <td>gun</td>\n",
       "      <td>47.0</td>\n",
       "      <td>M</td>\n",
       "      <td>W</td>\n",
       "      <td>Aloha</td>\n",
       "      <td>OR</td>\n",
       "      <td>False</td>\n",
       "      <td>attack</td>\n",
       "      <td>Not fleeing</td>\n",
       "      <td>False</td>\n",
       "    </tr>\n",
       "    <tr>\n",
       "      <th>2</th>\n",
       "      <td>5</td>\n",
       "      <td>John Paul Quintero</td>\n",
       "      <td>03/01/15</td>\n",
       "      <td>shot and Tasered</td>\n",
       "      <td>unarmed</td>\n",
       "      <td>23.0</td>\n",
       "      <td>M</td>\n",
       "      <td>H</td>\n",
       "      <td>Wichita</td>\n",
       "      <td>KS</td>\n",
       "      <td>False</td>\n",
       "      <td>other</td>\n",
       "      <td>Not fleeing</td>\n",
       "      <td>False</td>\n",
       "    </tr>\n",
       "    <tr>\n",
       "      <th>3</th>\n",
       "      <td>8</td>\n",
       "      <td>Matthew Hoffman</td>\n",
       "      <td>04/01/15</td>\n",
       "      <td>shot</td>\n",
       "      <td>toy weapon</td>\n",
       "      <td>32.0</td>\n",
       "      <td>M</td>\n",
       "      <td>W</td>\n",
       "      <td>San Francisco</td>\n",
       "      <td>CA</td>\n",
       "      <td>True</td>\n",
       "      <td>attack</td>\n",
       "      <td>Not fleeing</td>\n",
       "      <td>False</td>\n",
       "    </tr>\n",
       "    <tr>\n",
       "      <th>4</th>\n",
       "      <td>9</td>\n",
       "      <td>Michael Rodriguez</td>\n",
       "      <td>04/01/15</td>\n",
       "      <td>shot</td>\n",
       "      <td>nail gun</td>\n",
       "      <td>39.0</td>\n",
       "      <td>M</td>\n",
       "      <td>H</td>\n",
       "      <td>Evans</td>\n",
       "      <td>CO</td>\n",
       "      <td>False</td>\n",
       "      <td>attack</td>\n",
       "      <td>Not fleeing</td>\n",
       "      <td>False</td>\n",
       "    </tr>\n",
       "  </tbody>\n",
       "</table>\n",
       "</div>"
      ],
      "text/plain": [
       "   id                name      date  ... threat_level         flee  body_camera\n",
       "0   3          Tim Elliot  02/01/15  ...       attack  Not fleeing        False\n",
       "1   4    Lewis Lee Lembke  02/01/15  ...       attack  Not fleeing        False\n",
       "2   5  John Paul Quintero  03/01/15  ...        other  Not fleeing        False\n",
       "3   8     Matthew Hoffman  04/01/15  ...       attack  Not fleeing        False\n",
       "4   9   Michael Rodriguez  04/01/15  ...       attack  Not fleeing        False\n",
       "\n",
       "[5 rows x 14 columns]"
      ]
     },
     "execution_count": 3,
     "metadata": {
      "tags": []
     },
     "output_type": "execute_result"
    }
   ],
   "source": []
  },
  {
   "cell_type": "code",
   "execution_count": 24,
   "metadata": {},
   "outputs": [
    {
     "name": "stdout",
     "output_type": "stream",
     "text": [
      "<class 'pandas.core.frame.DataFrame'>\n",
      "RangeIndex: 2535 entries, 0 to 2534\n",
      "Data columns (total 14 columns):\n",
      " #   Column                   Non-Null Count  Dtype  \n",
      "---  ------                   --------------  -----  \n",
      " 0   id                       2535 non-null   int64  \n",
      " 1   name                     2535 non-null   object \n",
      " 2   date                     2535 non-null   object \n",
      " 3   manner_of_death          2535 non-null   object \n",
      " 4   armed                    2526 non-null   object \n",
      " 5   age                      2458 non-null   float64\n",
      " 6   gender                   2535 non-null   object \n",
      " 7   race                     2340 non-null   object \n",
      " 8   city                     2535 non-null   object \n",
      " 9   state                    2535 non-null   object \n",
      " 10  signs_of_mental_illness  2535 non-null   bool   \n",
      " 11  threat_level             2535 non-null   object \n",
      " 12  flee                     2470 non-null   object \n",
      " 13  body_camera              2535 non-null   bool   \n",
      "dtypes: bool(2), float64(1), int64(1), object(10)\n",
      "memory usage: 242.7+ KB\n"
     ]
    }
   ],
   "source": [
    "df.info()"
   ]
  },
  {
   "cell_type": "code",
   "execution_count": 51,
   "metadata": {},
   "outputs": [
    {
     "data": {
      "image/png": "[encoded data removed]",
      "text/plain": [
       "<Figure size 432x288 with 1 Axes>"
      ]
     },
     "metadata": {
      "needs_background": "light"
     },
     "output_type": "display_data"
    }
   ],
   "source": [
    "df[\"gender\"].value_counts().plot(kind=\"bar\");"
   ]
  },
  {
   "cell_type": "code",
   "execution_count": null,
   "metadata": {
    "colab": {
     "base_uri": "https://localhost:8080/",
     "height": 282
    },
    "executionInfo": {
     "elapsed": 472,
     "status": "ok",
     "timestamp": 1622926983971,
     "user": {
      "displayName": "Thomas Rico",
      "photoUrl": "",
      "userId": "03459133432310094050"
     },
     "user_tz": -180
    },
    "id": "9l_gl3On2Zi9",
    "outputId": "1ed7b4da-1d76-40e4-cbab-d5afba9a34aa",
    "scrolled": true
   },
   "outputs": [
    {
     "data": {
      "image/png": "[encoded data removed]",
      "text/plain": [
       "<Figure size 432x288 with 1 Axes>"
      ]
     },
     "metadata": {
      "needs_background": "light",
      "tags": []
     },
     "output_type": "display_data"
    }
   ],
   "source": [
    "# with pandas\n",
    "\n"
   ]
  },
  {
   "cell_type": "code",
   "execution_count": 23,
   "metadata": {},
   "outputs": [
    {
     "data": {
      "text/plain": [
       "<AxesSubplot:xlabel='gender', ylabel='count'>"
      ]
     },
     "execution_count": 23,
     "metadata": {},
     "output_type": "execute_result"
    },
    {
     "data": {
      "image/png": "[encoded data removed]",
      "text/plain": [
       "<Figure size 432x288 with 1 Axes>"
      ]
     },
     "metadata": {
      "needs_background": "light"
     },
     "output_type": "display_data"
    }
   ],
   "source": [
    "sns.countplot(x=\"gender\", data=df, color=\"c\")"
   ]
  },
  {
   "cell_type": "code",
   "execution_count": 21,
   "metadata": {
    "scrolled": false
   },
   "outputs": [
    {
     "data": {
      "image/png": "[encoded data removed]",
      "text/plain": [
       "<Figure size 360x360 with 1 Axes>"
      ]
     },
     "metadata": {
      "needs_background": "light"
     },
     "output_type": "display_data"
    }
   ],
   "source": [
    "sns.catplot(x=\"gender\", kind=\"count\", palette=\"ch:.25\", data=df);"
   ]
  },
  {
   "cell_type": "code",
   "execution_count": 56,
   "metadata": {},
   "outputs": [
    {
     "data": {
      "text/plain": [
       "<AxesSubplot:>"
      ]
     },
     "execution_count": 56,
     "metadata": {},
     "output_type": "execute_result"
    },
    {
     "data": {
      "image/png": "[encoded data removed]",
      "text/plain": [
       "<Figure size 432x288 with 1 Axes>"
      ]
     },
     "metadata": {
      "needs_background": "light"
     },
     "output_type": "display_data"
    }
   ],
   "source": [
    "df.gender.value_counts().plot(kind=\"bar\")"
   ]
  },
  {
   "cell_type": "code",
   "execution_count": null,
   "metadata": {
    "colab": {
     "base_uri": "https://localhost:8080/",
     "height": 283
    },
    "executionInfo": {
     "elapsed": 14,
     "status": "ok",
     "timestamp": 1622926983973,
     "user": {
      "displayName": "Thomas Rico",
      "photoUrl": "",
      "userId": "03459133432310094050"
     },
     "user_tz": -180
    },
    "id": "KtJXC38R2Zi9",
    "outputId": "99c4a881-e389-4469-984c-31d6b2bf67a2",
    "scrolled": true
   },
   "outputs": [
    {
     "data": {
      "image/png": "[encoded data removed]",
      "text/plain": [
       "<Figure size 432x288 with 1 Axes>"
      ]
     },
     "metadata": {
      "needs_background": "light",
      "tags": []
     },
     "output_type": "display_data"
    }
   ],
   "source": [
    "# with matplotlib\n"
   ]
  },
  {
   "cell_type": "markdown",
   "metadata": {
    "id": "3CDiN8a22Zi9"
   },
   "source": [
    "## 2: Plot 7 most common kill weapons"
   ]
  },
  {
   "cell_type": "code",
   "execution_count": 69,
   "metadata": {},
   "outputs": [
    {
     "data": {
      "text/html": [
       "<div>\n",
       "<style scoped>\n",
       "    .dataframe tbody tr th:only-of-type {\n",
       "        vertical-align: middle;\n",
       "    }\n",
       "\n",
       "    .dataframe tbody tr th {\n",
       "        vertical-align: top;\n",
       "    }\n",
       "\n",
       "    .dataframe thead th {\n",
       "        text-align: right;\n",
       "    }\n",
       "</style>\n",
       "<table border=\"1\" class=\"dataframe\">\n",
       "  <thead>\n",
       "    <tr style=\"text-align: right;\">\n",
       "      <th></th>\n",
       "      <th>id</th>\n",
       "      <th>name</th>\n",
       "      <th>date</th>\n",
       "      <th>manner_of_death</th>\n",
       "      <th>armed</th>\n",
       "      <th>age</th>\n",
       "      <th>gender</th>\n",
       "      <th>race</th>\n",
       "      <th>city</th>\n",
       "      <th>state</th>\n",
       "      <th>signs_of_mental_illness</th>\n",
       "      <th>threat_level</th>\n",
       "      <th>flee</th>\n",
       "      <th>body_camera</th>\n",
       "    </tr>\n",
       "  </thead>\n",
       "  <tbody>\n",
       "    <tr>\n",
       "      <th>0</th>\n",
       "      <td>3</td>\n",
       "      <td>Tim Elliot</td>\n",
       "      <td>02/01/15</td>\n",
       "      <td>shot</td>\n",
       "      <td>gun</td>\n",
       "      <td>53.0</td>\n",
       "      <td>M</td>\n",
       "      <td>A</td>\n",
       "      <td>Shelton</td>\n",
       "      <td>WA</td>\n",
       "      <td>True</td>\n",
       "      <td>attack</td>\n",
       "      <td>Not fleeing</td>\n",
       "      <td>False</td>\n",
       "    </tr>\n",
       "    <tr>\n",
       "      <th>1</th>\n",
       "      <td>4</td>\n",
       "      <td>Lewis Lee Lembke</td>\n",
       "      <td>02/01/15</td>\n",
       "      <td>shot</td>\n",
       "      <td>gun</td>\n",
       "      <td>47.0</td>\n",
       "      <td>M</td>\n",
       "      <td>W</td>\n",
       "      <td>Aloha</td>\n",
       "      <td>OR</td>\n",
       "      <td>False</td>\n",
       "      <td>attack</td>\n",
       "      <td>Not fleeing</td>\n",
       "      <td>False</td>\n",
       "    </tr>\n",
       "  </tbody>\n",
       "</table>\n",
       "</div>"
      ],
      "text/plain": [
       "   id              name      date manner_of_death armed   age gender race  \\\n",
       "0   3        Tim Elliot  02/01/15            shot   gun  53.0      M    A   \n",
       "1   4  Lewis Lee Lembke  02/01/15            shot   gun  47.0      M    W   \n",
       "\n",
       "      city state  signs_of_mental_illness threat_level         flee  \\\n",
       "0  Shelton    WA                     True       attack  Not fleeing   \n",
       "1    Aloha    OR                    False       attack  Not fleeing   \n",
       "\n",
       "   body_camera  \n",
       "0        False  \n",
       "1        False  "
      ]
     },
     "execution_count": 69,
     "metadata": {},
     "output_type": "execute_result"
    }
   ],
   "source": [
    "df.head(2)"
   ]
  },
  {
   "cell_type": "code",
   "execution_count": 75,
   "metadata": {
    "scrolled": false
   },
   "outputs": [
    {
     "data": {
      "text/plain": [
       "gun               1398\n",
       "knife              373\n",
       "vehicle            177\n",
       "unarmed            171\n",
       "undetermined       117\n",
       "toy weapon         104\n",
       "machete             18\n",
       "unknown weapon      18\n",
       "Name: armed, dtype: int64"
      ]
     },
     "execution_count": 75,
     "metadata": {},
     "output_type": "execute_result"
    }
   ],
   "source": [
    "df[\"armed\"].value_counts()[:8]"
   ]
  },
  {
   "cell_type": "code",
   "execution_count": null,
   "metadata": {
    "colab": {
     "base_uri": "https://localhost:8080/"
    },
    "executionInfo": {
     "elapsed": 14,
     "status": "ok",
     "timestamp": 1622926983974,
     "user": {
      "displayName": "Thomas Rico",
      "photoUrl": "",
      "userId": "03459133432310094050"
     },
     "user_tz": -180
    },
    "id": "BAU2H77b2Zi9",
    "outputId": "a893d160-7464-448d-de16-6e4399c36a75",
    "scrolled": true
   },
   "outputs": [
    {
     "data": {
      "text/plain": [
       "gun               1398\n",
       "knife              373\n",
       "vehicle            177\n",
       "unarmed            171\n",
       "undetermined       117\n",
       "toy weapon         104\n",
       "unknown weapon      18\n",
       "Name: armed, dtype: int64"
      ]
     },
     "execution_count": 6,
     "metadata": {
      "tags": []
     },
     "output_type": "execute_result"
    }
   ],
   "source": []
  },
  {
   "cell_type": "code",
   "execution_count": 86,
   "metadata": {},
   "outputs": [
    {
     "data": {
      "image/png": "[encoded data removed]",
      "text/plain": [
       "<Figure size 720x720 with 1 Axes>"
      ]
     },
     "metadata": {
      "needs_background": "light"
     },
     "output_type": "display_data"
    }
   ],
   "source": [
    "plt.figure(figsize=(10,10))\n",
    "df[\"armed\"].value_counts()[:8].plot(kind=\"bar\");"
   ]
  },
  {
   "cell_type": "code",
   "execution_count": null,
   "metadata": {
    "colab": {
     "base_uri": "https://localhost:8080/",
     "height": 379
    },
    "executionInfo": {
     "elapsed": 12,
     "status": "ok",
     "timestamp": 1622926983975,
     "user": {
      "displayName": "Thomas Rico",
      "photoUrl": "",
      "userId": "03459133432310094050"
     },
     "user_tz": -180
    },
    "id": "WznuMe522Zi-",
    "outputId": "aa03186c-558b-4fa2-f7e0-471d827565c0",
    "scrolled": false
   },
   "outputs": [
    {
     "data": {
      "image/png": "[encoded data removed]",
      "text/plain": [
       "<Figure size 576x360 with 1 Axes>"
      ]
     },
     "metadata": {
      "needs_background": "light",
      "tags": []
     },
     "output_type": "display_data"
    }
   ],
   "source": [
    "# with pandas\n"
   ]
  },
  {
   "cell_type": "code",
   "execution_count": null,
   "metadata": {
    "colab": {
     "base_uri": "https://localhost:8080/",
     "height": 379
    },
    "executionInfo": {
     "elapsed": 408,
     "status": "ok",
     "timestamp": 1622926984372,
     "user": {
      "displayName": "Thomas Rico",
      "photoUrl": "",
      "userId": "03459133432310094050"
     },
     "user_tz": -180
    },
    "id": "v6AvLOw82Zi-",
    "outputId": "b0539d81-1511-4ec4-b5dd-4160319f2096",
    "scrolled": false
   },
   "outputs": [
    {
     "data": {
      "image/png": "[encoded data removed]",
      "text/plain": [
       "<Figure size 576x360 with 1 Axes>"
      ]
     },
     "metadata": {
      "needs_background": "light",
      "tags": []
     },
     "output_type": "display_data"
    }
   ],
   "source": [
    "# with matplotlib\n"
   ]
  },
  {
   "cell_type": "markdown",
   "metadata": {
    "id": "GqXH5Xag2Zi-"
   },
   "source": [
    "## 3: Plot number of age of killed people under two groups : Under 25 and Above 25"
   ]
  },
  {
   "cell_type": "code",
   "execution_count": 111,
   "metadata": {},
   "outputs": [
    {
     "data": {
      "text/plain": [
       "False    1982\n",
       "True      553\n",
       "Name: age, dtype: int64"
      ]
     },
     "execution_count": 111,
     "metadata": {},
     "output_type": "execute_result"
    }
   ],
   "source": [
    "under25 = df[\"age\"]<=25\n",
    "under25.value_counts()"
   ]
  },
  {
   "cell_type": "code",
   "execution_count": 122,
   "metadata": {},
   "outputs": [
    {
     "data": {
      "text/plain": [
       "True     1905\n",
       "False     630\n",
       "Name: age, dtype: int64"
      ]
     },
     "execution_count": 122,
     "metadata": {},
     "output_type": "execute_result"
    }
   ],
   "source": [
    "above25 = df[\"age\"]>25\n",
    "above25.value_counts()"
   ]
  },
  {
   "cell_type": "code",
   "execution_count": 123,
   "metadata": {},
   "outputs": [],
   "source": [
    "df[\"age_cat\"] = np.where(df[\"age\"]>25,\"above25\", \"under25\")"
   ]
  },
  {
   "cell_type": "code",
   "execution_count": 124,
   "metadata": {},
   "outputs": [
    {
     "data": {
      "text/plain": [
       "0       above25\n",
       "1       above25\n",
       "2       under25\n",
       "3       above25\n",
       "4       above25\n",
       "         ...   \n",
       "2530    above25\n",
       "2531    under25\n",
       "2532    above25\n",
       "2533    above25\n",
       "2534    above25\n",
       "Name: age_cat, Length: 2535, dtype: object"
      ]
     },
     "execution_count": 124,
     "metadata": {},
     "output_type": "execute_result"
    }
   ],
   "source": [
    "df[\"age_cat\"]"
   ]
  },
  {
   "cell_type": "code",
   "execution_count": null,
   "metadata": {
    "colab": {
     "base_uri": "https://localhost:8080/",
     "height": 307
    },
    "executionInfo": {
     "elapsed": 13,
     "status": "ok",
     "timestamp": 1622926984372,
     "user": {
      "displayName": "Thomas Rico",
      "photoUrl": "",
      "userId": "03459133432310094050"
     },
     "user_tz": -180
    },
    "id": "V4mng-vC2Zi-",
    "outputId": "01c48c2d-3344-4b26-ff0b-632378fb59f2"
   },
   "outputs": [
    {
     "data": {
      "text/html": [
       "<div>\n",
       "<style scoped>\n",
       "    .dataframe tbody tr th:only-of-type {\n",
       "        vertical-align: middle;\n",
       "    }\n",
       "\n",
       "    .dataframe tbody tr th {\n",
       "        vertical-align: top;\n",
       "    }\n",
       "\n",
       "    .dataframe thead th {\n",
       "        text-align: right;\n",
       "    }\n",
       "</style>\n",
       "<table border=\"1\" class=\"dataframe\">\n",
       "  <thead>\n",
       "    <tr style=\"text-align: right;\">\n",
       "      <th></th>\n",
       "      <th>id</th>\n",
       "      <th>name</th>\n",
       "      <th>date</th>\n",
       "      <th>manner_of_death</th>\n",
       "      <th>armed</th>\n",
       "      <th>age</th>\n",
       "      <th>gender</th>\n",
       "      <th>race</th>\n",
       "      <th>city</th>\n",
       "      <th>state</th>\n",
       "      <th>signs_of_mental_illness</th>\n",
       "      <th>threat_level</th>\n",
       "      <th>flee</th>\n",
       "      <th>body_camera</th>\n",
       "    </tr>\n",
       "  </thead>\n",
       "  <tbody>\n",
       "    <tr>\n",
       "      <th>0</th>\n",
       "      <td>3</td>\n",
       "      <td>Tim Elliot</td>\n",
       "      <td>02/01/15</td>\n",
       "      <td>shot</td>\n",
       "      <td>gun</td>\n",
       "      <td>53.0</td>\n",
       "      <td>M</td>\n",
       "      <td>A</td>\n",
       "      <td>Shelton</td>\n",
       "      <td>WA</td>\n",
       "      <td>True</td>\n",
       "      <td>attack</td>\n",
       "      <td>Not fleeing</td>\n",
       "      <td>False</td>\n",
       "    </tr>\n",
       "    <tr>\n",
       "      <th>1</th>\n",
       "      <td>4</td>\n",
       "      <td>Lewis Lee Lembke</td>\n",
       "      <td>02/01/15</td>\n",
       "      <td>shot</td>\n",
       "      <td>gun</td>\n",
       "      <td>47.0</td>\n",
       "      <td>M</td>\n",
       "      <td>W</td>\n",
       "      <td>Aloha</td>\n",
       "      <td>OR</td>\n",
       "      <td>False</td>\n",
       "      <td>attack</td>\n",
       "      <td>Not fleeing</td>\n",
       "      <td>False</td>\n",
       "    </tr>\n",
       "    <tr>\n",
       "      <th>2</th>\n",
       "      <td>5</td>\n",
       "      <td>John Paul Quintero</td>\n",
       "      <td>03/01/15</td>\n",
       "      <td>shot and Tasered</td>\n",
       "      <td>unarmed</td>\n",
       "      <td>23.0</td>\n",
       "      <td>M</td>\n",
       "      <td>H</td>\n",
       "      <td>Wichita</td>\n",
       "      <td>KS</td>\n",
       "      <td>False</td>\n",
       "      <td>other</td>\n",
       "      <td>Not fleeing</td>\n",
       "      <td>False</td>\n",
       "    </tr>\n",
       "    <tr>\n",
       "      <th>3</th>\n",
       "      <td>8</td>\n",
       "      <td>Matthew Hoffman</td>\n",
       "      <td>04/01/15</td>\n",
       "      <td>shot</td>\n",
       "      <td>toy weapon</td>\n",
       "      <td>32.0</td>\n",
       "      <td>M</td>\n",
       "      <td>W</td>\n",
       "      <td>San Francisco</td>\n",
       "      <td>CA</td>\n",
       "      <td>True</td>\n",
       "      <td>attack</td>\n",
       "      <td>Not fleeing</td>\n",
       "      <td>False</td>\n",
       "    </tr>\n",
       "    <tr>\n",
       "      <th>4</th>\n",
       "      <td>9</td>\n",
       "      <td>Michael Rodriguez</td>\n",
       "      <td>04/01/15</td>\n",
       "      <td>shot</td>\n",
       "      <td>nail gun</td>\n",
       "      <td>39.0</td>\n",
       "      <td>M</td>\n",
       "      <td>H</td>\n",
       "      <td>Evans</td>\n",
       "      <td>CO</td>\n",
       "      <td>False</td>\n",
       "      <td>attack</td>\n",
       "      <td>Not fleeing</td>\n",
       "      <td>False</td>\n",
       "    </tr>\n",
       "  </tbody>\n",
       "</table>\n",
       "</div>"
      ],
      "text/plain": [
       "   id                name      date  ... threat_level         flee  body_camera\n",
       "0   3          Tim Elliot  02/01/15  ...       attack  Not fleeing        False\n",
       "1   4    Lewis Lee Lembke  02/01/15  ...       attack  Not fleeing        False\n",
       "2   5  John Paul Quintero  03/01/15  ...        other  Not fleeing        False\n",
       "3   8     Matthew Hoffman  04/01/15  ...       attack  Not fleeing        False\n",
       "4   9   Michael Rodriguez  04/01/15  ...       attack  Not fleeing        False\n",
       "\n",
       "[5 rows x 14 columns]"
      ]
     },
     "execution_count": 9,
     "metadata": {
      "tags": []
     },
     "output_type": "execute_result"
    }
   ],
   "source": []
  },
  {
   "cell_type": "code",
   "execution_count": null,
   "metadata": {
    "id": "1zfmB3FS2Zi-"
   },
   "outputs": [],
   "source": []
  },
  {
   "cell_type": "code",
   "execution_count": null,
   "metadata": {
    "colab": {
     "base_uri": "https://localhost:8080/",
     "height": 307
    },
    "executionInfo": {
     "elapsed": 11,
     "status": "ok",
     "timestamp": 1622926984373,
     "user": {
      "displayName": "Thomas Rico",
      "photoUrl": "",
      "userId": "03459133432310094050"
     },
     "user_tz": -180
    },
    "id": "DJzAOutV2Zi-",
    "outputId": "f1188a5c-2a2a-4cbd-b01e-751d47905f8f"
   },
   "outputs": [
    {
     "data": {
      "text/html": [
       "<div>\n",
       "<style scoped>\n",
       "    .dataframe tbody tr th:only-of-type {\n",
       "        vertical-align: middle;\n",
       "    }\n",
       "\n",
       "    .dataframe tbody tr th {\n",
       "        vertical-align: top;\n",
       "    }\n",
       "\n",
       "    .dataframe thead th {\n",
       "        text-align: right;\n",
       "    }\n",
       "</style>\n",
       "<table border=\"1\" class=\"dataframe\">\n",
       "  <thead>\n",
       "    <tr style=\"text-align: right;\">\n",
       "      <th></th>\n",
       "      <th>id</th>\n",
       "      <th>name</th>\n",
       "      <th>date</th>\n",
       "      <th>manner_of_death</th>\n",
       "      <th>armed</th>\n",
       "      <th>age</th>\n",
       "      <th>gender</th>\n",
       "      <th>race</th>\n",
       "      <th>city</th>\n",
       "      <th>state</th>\n",
       "      <th>signs_of_mental_illness</th>\n",
       "      <th>threat_level</th>\n",
       "      <th>flee</th>\n",
       "      <th>body_camera</th>\n",
       "      <th>age_cat</th>\n",
       "    </tr>\n",
       "  </thead>\n",
       "  <tbody>\n",
       "    <tr>\n",
       "      <th>0</th>\n",
       "      <td>3</td>\n",
       "      <td>Tim Elliot</td>\n",
       "      <td>02/01/15</td>\n",
       "      <td>shot</td>\n",
       "      <td>gun</td>\n",
       "      <td>53.0</td>\n",
       "      <td>M</td>\n",
       "      <td>A</td>\n",
       "      <td>Shelton</td>\n",
       "      <td>WA</td>\n",
       "      <td>True</td>\n",
       "      <td>attack</td>\n",
       "      <td>Not fleeing</td>\n",
       "      <td>False</td>\n",
       "      <td>above25</td>\n",
       "    </tr>\n",
       "    <tr>\n",
       "      <th>1</th>\n",
       "      <td>4</td>\n",
       "      <td>Lewis Lee Lembke</td>\n",
       "      <td>02/01/15</td>\n",
       "      <td>shot</td>\n",
       "      <td>gun</td>\n",
       "      <td>47.0</td>\n",
       "      <td>M</td>\n",
       "      <td>W</td>\n",
       "      <td>Aloha</td>\n",
       "      <td>OR</td>\n",
       "      <td>False</td>\n",
       "      <td>attack</td>\n",
       "      <td>Not fleeing</td>\n",
       "      <td>False</td>\n",
       "      <td>above25</td>\n",
       "    </tr>\n",
       "    <tr>\n",
       "      <th>2</th>\n",
       "      <td>5</td>\n",
       "      <td>John Paul Quintero</td>\n",
       "      <td>03/01/15</td>\n",
       "      <td>shot and Tasered</td>\n",
       "      <td>unarmed</td>\n",
       "      <td>23.0</td>\n",
       "      <td>M</td>\n",
       "      <td>H</td>\n",
       "      <td>Wichita</td>\n",
       "      <td>KS</td>\n",
       "      <td>False</td>\n",
       "      <td>other</td>\n",
       "      <td>Not fleeing</td>\n",
       "      <td>False</td>\n",
       "      <td>below25</td>\n",
       "    </tr>\n",
       "    <tr>\n",
       "      <th>3</th>\n",
       "      <td>8</td>\n",
       "      <td>Matthew Hoffman</td>\n",
       "      <td>04/01/15</td>\n",
       "      <td>shot</td>\n",
       "      <td>toy weapon</td>\n",
       "      <td>32.0</td>\n",
       "      <td>M</td>\n",
       "      <td>W</td>\n",
       "      <td>San Francisco</td>\n",
       "      <td>CA</td>\n",
       "      <td>True</td>\n",
       "      <td>attack</td>\n",
       "      <td>Not fleeing</td>\n",
       "      <td>False</td>\n",
       "      <td>above25</td>\n",
       "    </tr>\n",
       "    <tr>\n",
       "      <th>4</th>\n",
       "      <td>9</td>\n",
       "      <td>Michael Rodriguez</td>\n",
       "      <td>04/01/15</td>\n",
       "      <td>shot</td>\n",
       "      <td>nail gun</td>\n",
       "      <td>39.0</td>\n",
       "      <td>M</td>\n",
       "      <td>H</td>\n",
       "      <td>Evans</td>\n",
       "      <td>CO</td>\n",
       "      <td>False</td>\n",
       "      <td>attack</td>\n",
       "      <td>Not fleeing</td>\n",
       "      <td>False</td>\n",
       "      <td>above25</td>\n",
       "    </tr>\n",
       "  </tbody>\n",
       "</table>\n",
       "</div>"
      ],
      "text/plain": [
       "   id                name      date  ...         flee body_camera  age_cat\n",
       "0   3          Tim Elliot  02/01/15  ...  Not fleeing       False  above25\n",
       "1   4    Lewis Lee Lembke  02/01/15  ...  Not fleeing       False  above25\n",
       "2   5  John Paul Quintero  03/01/15  ...  Not fleeing       False  below25\n",
       "3   8     Matthew Hoffman  04/01/15  ...  Not fleeing       False  above25\n",
       "4   9   Michael Rodriguez  04/01/15  ...  Not fleeing       False  above25\n",
       "\n",
       "[5 rows x 15 columns]"
      ]
     },
     "execution_count": 11,
     "metadata": {
      "tags": []
     },
     "output_type": "execute_result"
    }
   ],
   "source": []
  },
  {
   "cell_type": "code",
   "execution_count": 125,
   "metadata": {},
   "outputs": [
    {
     "data": {
      "text/plain": [
       "above25    1905\n",
       "under25     630\n",
       "Name: age_cat, dtype: int64"
      ]
     },
     "execution_count": 125,
     "metadata": {},
     "output_type": "execute_result"
    }
   ],
   "source": [
    "df[\"age_cat\"].value_counts()"
   ]
  },
  {
   "cell_type": "code",
   "execution_count": null,
   "metadata": {
    "colab": {
     "base_uri": "https://localhost:8080/"
    },
    "executionInfo": {
     "elapsed": 10,
     "status": "ok",
     "timestamp": 1622926984373,
     "user": {
      "displayName": "Thomas Rico",
      "photoUrl": "",
      "userId": "03459133432310094050"
     },
     "user_tz": -180
    },
    "id": "fSQ8BTUD2Zi_",
    "outputId": "89645134-4eb3-4034-bb3d-e446399aaad0"
   },
   "outputs": [
    {
     "data": {
      "text/plain": [
       "above25    1905\n",
       "below25     630\n",
       "Name: age_cat, dtype: int64"
      ]
     },
     "execution_count": 12,
     "metadata": {
      "tags": []
     },
     "output_type": "execute_result"
    }
   ],
   "source": []
  },
  {
   "cell_type": "code",
   "execution_count": 147,
   "metadata": {
    "scrolled": false
   },
   "outputs": [
    {
     "data": {
      "image/png": "[encoded data removed]",
      "text/plain": [
       "<Figure size 576x360 with 1 Axes>"
      ]
     },
     "metadata": {
      "needs_background": "light"
     },
     "output_type": "display_data"
    }
   ],
   "source": [
    "splot = df[\"age_cat\"].value_counts().plot(kind=\"bar\",figsize=(8,5))\n",
    "for p in splot.patches:\n",
    "    splot.annotate(format(p.get_height(), '.1f'), \n",
    "                   (p.get_x() + p.get_width() / 2., p.get_height()), \n",
    "                   ha = 'center', va = 'center', \n",
    "                   xytext = (0, 9), \n",
    "                   textcoords = 'offset points')\n",
    "plt.tight_layout()"
   ]
  },
  {
   "cell_type": "code",
   "execution_count": null,
   "metadata": {
    "colab": {
     "base_uri": "https://localhost:8080/",
     "height": 302
    },
    "executionInfo": {
     "elapsed": 10,
     "status": "ok",
     "timestamp": 1622926985007,
     "user": {
      "displayName": "Thomas Rico",
      "photoUrl": "",
      "userId": "03459133432310094050"
     },
     "user_tz": -180
    },
    "id": "O5TT5DGG2Zi_",
    "outputId": "c052b208-6dbd-4f6e-c8a9-63df71c610ee",
    "scrolled": true
   },
   "outputs": [
    {
     "data": {
      "image/png": "[encoded data removed]",
      "text/plain": [
       "<Figure size 432x288 with 1 Axes>"
      ]
     },
     "metadata": {
      "needs_background": "light",
      "tags": []
     },
     "output_type": "display_data"
    }
   ],
   "source": [
    "# with pandas\n"
   ]
  },
  {
   "cell_type": "code",
   "execution_count": null,
   "metadata": {
    "colab": {
     "base_uri": "https://localhost:8080/",
     "height": 269
    },
    "executionInfo": {
     "elapsed": 10,
     "status": "ok",
     "timestamp": 1622926985008,
     "user": {
      "displayName": "Thomas Rico",
      "photoUrl": "",
      "userId": "03459133432310094050"
     },
     "user_tz": -180
    },
    "id": "gpOukiYx2Zi_",
    "outputId": "84b257d1-14e1-4bef-d6a4-08cf0a236acb"
   },
   "outputs": [
    {
     "data": {
      "image/png": "[encoded data removed]",
      "text/plain": [
       "<Figure size 432x288 with 1 Axes>"
      ]
     },
     "metadata": {
      "needs_background": "light",
      "tags": []
     },
     "output_type": "display_data"
    }
   ],
   "source": [
    "# with matplotlib\n"
   ]
  },
  {
   "cell_type": "markdown",
   "metadata": {
    "id": "SZ-wps772Zi_"
   },
   "source": [
    "## 4: Plot number of killed poeple by race"
   ]
  },
  {
   "cell_type": "code",
   "execution_count": 149,
   "metadata": {},
   "outputs": [
    {
     "data": {
      "text/plain": [
       "W    1201\n",
       "B     618\n",
       "H     423\n",
       "A      39\n",
       "N      31\n",
       "O      28\n",
       "Name: race, dtype: int64"
      ]
     },
     "execution_count": 149,
     "metadata": {},
     "output_type": "execute_result"
    }
   ],
   "source": [
    "df[\"race\"].value_counts()"
   ]
  },
  {
   "cell_type": "code",
   "execution_count": null,
   "metadata": {
    "colab": {
     "base_uri": "https://localhost:8080/"
    },
    "executionInfo": {
     "elapsed": 10,
     "status": "ok",
     "timestamp": 1622926985009,
     "user": {
      "displayName": "Thomas Rico",
      "photoUrl": "",
      "userId": "03459133432310094050"
     },
     "user_tz": -180
    },
    "id": "Uqh-Od7X2Zi_",
    "outputId": "9d3da4ed-bc38-45c9-a66f-7d5ba5fb9f5c",
    "scrolled": true
   },
   "outputs": [
    {
     "data": {
      "text/plain": [
       "W    1201\n",
       "B     618\n",
       "H     423\n",
       "A      39\n",
       "N      31\n",
       "O      28\n",
       "Name: race, dtype: int64"
      ]
     },
     "execution_count": 15,
     "metadata": {
      "tags": []
     },
     "output_type": "execute_result"
    }
   ],
   "source": []
  },
  {
   "cell_type": "code",
   "execution_count": 152,
   "metadata": {},
   "outputs": [
    {
     "data": {
      "text/plain": [
       "Text(0.5, 1.0, 'Race of killed people')"
      ]
     },
     "execution_count": 152,
     "metadata": {},
     "output_type": "execute_result"
    },
    {
     "data": {
      "image/png": "[encoded data removed]",
      "text/plain": [
       "<Figure size 432x288 with 1 Axes>"
      ]
     },
     "metadata": {
      "needs_background": "light"
     },
     "output_type": "display_data"
    }
   ],
   "source": [
    "df[\"race\"].value_counts().plot(kind=\"bar\")\n",
    "plt.title(\"Race of killed people\",color=\"blue\")"
   ]
  },
  {
   "cell_type": "code",
   "execution_count": null,
   "metadata": {
    "colab": {
     "base_uri": "https://localhost:8080/",
     "height": 283
    },
    "executionInfo": {
     "elapsed": 7,
     "status": "ok",
     "timestamp": 1622926985009,
     "user": {
      "displayName": "Thomas Rico",
      "photoUrl": "",
      "userId": "03459133432310094050"
     },
     "user_tz": -180
    },
    "id": "-q2lckGI2ZjA",
    "outputId": "aeed5936-fc89-4370-cdc2-1be0f9c5dcca",
    "scrolled": true
   },
   "outputs": [
    {
     "data": {
      "image/png": "[encoded data removed]",
      "text/plain": [
       "<Figure size 432x288 with 1 Axes>"
      ]
     },
     "metadata": {
      "needs_background": "light",
      "tags": []
     },
     "output_type": "display_data"
    }
   ],
   "source": [
    "# with pandas\n"
   ]
  },
  {
   "cell_type": "code",
   "execution_count": 165,
   "metadata": {},
   "outputs": [
    {
     "data": {
      "text/plain": [
       "<AxesSubplot:xlabel='race', ylabel='count'>"
      ]
     },
     "execution_count": 165,
     "metadata": {},
     "output_type": "execute_result"
    },
    {
     "data": {
      "image/png": "[encoded data removed]",
      "text/plain": [
       "<Figure size 432x288 with 1 Axes>"
      ]
     },
     "metadata": {
      "needs_background": "light"
     },
     "output_type": "display_data"
    }
   ],
   "source": [
    "sns.countplot(data=df,x=\"race\",order=df[\"race\"].value_counts().index)"
   ]
  },
  {
   "cell_type": "code",
   "execution_count": null,
   "metadata": {
    "colab": {
     "base_uri": "https://localhost:8080/",
     "height": 283
    },
    "executionInfo": {
     "elapsed": 754,
     "status": "ok",
     "timestamp": 1622926985756,
     "user": {
      "displayName": "Thomas Rico",
      "photoUrl": "",
      "userId": "03459133432310094050"
     },
     "user_tz": -180
    },
    "id": "Bb16OmdB2ZjA",
    "outputId": "7e601245-42a2-4547-8d3f-8151bc5a1005",
    "scrolled": true
   },
   "outputs": [
    {
     "data": {
      "image/png": "[encoded data removed]",
      "text/plain": [
       "<Figure size 432x288 with 1 Axes>"
      ]
     },
     "metadata": {
      "needs_background": "light",
      "tags": []
     },
     "output_type": "display_data"
    }
   ],
   "source": [
    "# with matplotlib\n"
   ]
  },
  {
   "cell_type": "code",
   "execution_count": null,
   "metadata": {
    "id": "o7z6kXmQ-EPT"
   },
   "outputs": [],
   "source": []
  },
  {
   "cell_type": "markdown",
   "metadata": {
    "id": "9pGSRTxe-l5B"
   },
   "source": [
    "## 5: Killed People According to Races (Pie Chart)"
   ]
  },
  {
   "cell_type": "code",
   "execution_count": null,
   "metadata": {
    "colab": {
     "base_uri": "https://localhost:8080/",
     "height": 307
    },
    "executionInfo": {
     "elapsed": 52,
     "status": "ok",
     "timestamp": 1622926985757,
     "user": {
      "displayName": "Thomas Rico",
      "photoUrl": "",
      "userId": "03459133432310094050"
     },
     "user_tz": -180
    },
    "id": "gq_OO4tB-l5E",
    "outputId": "0a45ca8f-7df9-4b85-d72f-8b0d4115561c"
   },
   "outputs": [
    {
     "data": {
      "text/html": [
       "<div>\n",
       "<style scoped>\n",
       "    .dataframe tbody tr th:only-of-type {\n",
       "        vertical-align: middle;\n",
       "    }\n",
       "\n",
       "    .dataframe tbody tr th {\n",
       "        vertical-align: top;\n",
       "    }\n",
       "\n",
       "    .dataframe thead th {\n",
       "        text-align: right;\n",
       "    }\n",
       "</style>\n",
       "<table border=\"1\" class=\"dataframe\">\n",
       "  <thead>\n",
       "    <tr style=\"text-align: right;\">\n",
       "      <th></th>\n",
       "      <th>id</th>\n",
       "      <th>name</th>\n",
       "      <th>date</th>\n",
       "      <th>manner_of_death</th>\n",
       "      <th>armed</th>\n",
       "      <th>age</th>\n",
       "      <th>gender</th>\n",
       "      <th>race</th>\n",
       "      <th>city</th>\n",
       "      <th>state</th>\n",
       "      <th>signs_of_mental_illness</th>\n",
       "      <th>threat_level</th>\n",
       "      <th>flee</th>\n",
       "      <th>body_camera</th>\n",
       "      <th>age_cat</th>\n",
       "    </tr>\n",
       "  </thead>\n",
       "  <tbody>\n",
       "    <tr>\n",
       "      <th>0</th>\n",
       "      <td>3</td>\n",
       "      <td>Tim Elliot</td>\n",
       "      <td>02/01/15</td>\n",
       "      <td>shot</td>\n",
       "      <td>gun</td>\n",
       "      <td>53.0</td>\n",
       "      <td>M</td>\n",
       "      <td>A</td>\n",
       "      <td>Shelton</td>\n",
       "      <td>WA</td>\n",
       "      <td>True</td>\n",
       "      <td>attack</td>\n",
       "      <td>Not fleeing</td>\n",
       "      <td>False</td>\n",
       "      <td>above25</td>\n",
       "    </tr>\n",
       "    <tr>\n",
       "      <th>1</th>\n",
       "      <td>4</td>\n",
       "      <td>Lewis Lee Lembke</td>\n",
       "      <td>02/01/15</td>\n",
       "      <td>shot</td>\n",
       "      <td>gun</td>\n",
       "      <td>47.0</td>\n",
       "      <td>M</td>\n",
       "      <td>W</td>\n",
       "      <td>Aloha</td>\n",
       "      <td>OR</td>\n",
       "      <td>False</td>\n",
       "      <td>attack</td>\n",
       "      <td>Not fleeing</td>\n",
       "      <td>False</td>\n",
       "      <td>above25</td>\n",
       "    </tr>\n",
       "    <tr>\n",
       "      <th>2</th>\n",
       "      <td>5</td>\n",
       "      <td>John Paul Quintero</td>\n",
       "      <td>03/01/15</td>\n",
       "      <td>shot and Tasered</td>\n",
       "      <td>unarmed</td>\n",
       "      <td>23.0</td>\n",
       "      <td>M</td>\n",
       "      <td>H</td>\n",
       "      <td>Wichita</td>\n",
       "      <td>KS</td>\n",
       "      <td>False</td>\n",
       "      <td>other</td>\n",
       "      <td>Not fleeing</td>\n",
       "      <td>False</td>\n",
       "      <td>below25</td>\n",
       "    </tr>\n",
       "    <tr>\n",
       "      <th>3</th>\n",
       "      <td>8</td>\n",
       "      <td>Matthew Hoffman</td>\n",
       "      <td>04/01/15</td>\n",
       "      <td>shot</td>\n",
       "      <td>toy weapon</td>\n",
       "      <td>32.0</td>\n",
       "      <td>M</td>\n",
       "      <td>W</td>\n",
       "      <td>San Francisco</td>\n",
       "      <td>CA</td>\n",
       "      <td>True</td>\n",
       "      <td>attack</td>\n",
       "      <td>Not fleeing</td>\n",
       "      <td>False</td>\n",
       "      <td>above25</td>\n",
       "    </tr>\n",
       "    <tr>\n",
       "      <th>4</th>\n",
       "      <td>9</td>\n",
       "      <td>Michael Rodriguez</td>\n",
       "      <td>04/01/15</td>\n",
       "      <td>shot</td>\n",
       "      <td>nail gun</td>\n",
       "      <td>39.0</td>\n",
       "      <td>M</td>\n",
       "      <td>H</td>\n",
       "      <td>Evans</td>\n",
       "      <td>CO</td>\n",
       "      <td>False</td>\n",
       "      <td>attack</td>\n",
       "      <td>Not fleeing</td>\n",
       "      <td>False</td>\n",
       "      <td>above25</td>\n",
       "    </tr>\n",
       "  </tbody>\n",
       "</table>\n",
       "</div>"
      ],
      "text/plain": [
       "   id                name      date  ...         flee body_camera  age_cat\n",
       "0   3          Tim Elliot  02/01/15  ...  Not fleeing       False  above25\n",
       "1   4    Lewis Lee Lembke  02/01/15  ...  Not fleeing       False  above25\n",
       "2   5  John Paul Quintero  03/01/15  ...  Not fleeing       False  below25\n",
       "3   8     Matthew Hoffman  04/01/15  ...  Not fleeing       False  above25\n",
       "4   9   Michael Rodriguez  04/01/15  ...  Not fleeing       False  above25\n",
       "\n",
       "[5 rows x 15 columns]"
      ]
     },
     "execution_count": 18,
     "metadata": {
      "tags": []
     },
     "output_type": "execute_result"
    }
   ],
   "source": []
  },
  {
   "cell_type": "code",
   "execution_count": 166,
   "metadata": {},
   "outputs": [
    {
     "data": {
      "text/plain": [
       "array(['A', 'W', 'H', 'B', 'O', nan, 'N'], dtype=object)"
      ]
     },
     "execution_count": 166,
     "metadata": {},
     "output_type": "execute_result"
    }
   ],
   "source": [
    "df[\"race\"].unique()"
   ]
  },
  {
   "cell_type": "code",
   "execution_count": null,
   "metadata": {
    "_uuid": "73ef9a67518196c14338e28236b5054186fabdc1",
    "colab": {
     "base_uri": "https://localhost:8080/"
    },
    "executionInfo": {
     "elapsed": 51,
     "status": "ok",
     "timestamp": 1622926985758,
     "user": {
      "displayName": "Thomas Rico",
      "photoUrl": "",
      "userId": "03459133432310094050"
     },
     "user_tz": -180
    },
    "id": "_ZPh_aCz-l5F",
    "outputId": "8ee30bed-c707-4e5d-b0a0-ae4e896e35e8"
   },
   "outputs": [
    {
     "data": {
      "text/plain": [
       "array(['A', 'W', 'H', 'B', 'O', nan, 'N'], dtype=object)"
      ]
     },
     "execution_count": 19,
     "metadata": {
      "tags": []
     },
     "output_type": "execute_result"
    }
   ],
   "source": []
  },
  {
   "cell_type": "code",
   "execution_count": 168,
   "metadata": {},
   "outputs": [
    {
     "data": {
      "text/plain": [
       "W      1201\n",
       "B       618\n",
       "H       423\n",
       "NaN     195\n",
       "A        39\n",
       "N        31\n",
       "O        28\n",
       "Name: race, dtype: int64"
      ]
     },
     "execution_count": 168,
     "metadata": {},
     "output_type": "execute_result"
    }
   ],
   "source": [
    "df[\"race\"].value_counts(dropna=False)"
   ]
  },
  {
   "cell_type": "code",
   "execution_count": null,
   "metadata": {
    "colab": {
     "base_uri": "https://localhost:8080/"
    },
    "executionInfo": {
     "elapsed": 49,
     "status": "ok",
     "timestamp": 1622926985758,
     "user": {
      "displayName": "Thomas Rico",
      "photoUrl": "",
      "userId": "03459133432310094050"
     },
     "user_tz": -180
    },
    "id": "4lJAFvsx-l5F",
    "outputId": "014ec220-87cf-4b96-da5c-b0f600130869"
   },
   "outputs": [
    {
     "data": {
      "text/plain": [
       "W      1201\n",
       "B       618\n",
       "H       423\n",
       "NaN     195\n",
       "A        39\n",
       "N        31\n",
       "O        28\n",
       "Name: race, dtype: int64"
      ]
     },
     "execution_count": 20,
     "metadata": {
      "tags": []
     },
     "output_type": "execute_result"
    }
   ],
   "source": []
  },
  {
   "cell_type": "markdown",
   "metadata": {
    "id": "VuWSIYCm-l5F"
   },
   "source": [
    "Problem: missing value on race column."
   ]
  },
  {
   "cell_type": "markdown",
   "metadata": {
    "id": "mmCQXFcg-l5G"
   },
   "source": [
    "**INSTRUCTION-1: Drop the all raws that contain missing value (dropna)**"
   ]
  },
  {
   "cell_type": "code",
   "execution_count": 169,
   "metadata": {
    "id": "CzwSuxgQ-l5G"
   },
   "outputs": [],
   "source": [
    "df.dropna(subset=[\"race\"],inplace=True)"
   ]
  },
  {
   "cell_type": "code",
   "execution_count": 170,
   "metadata": {},
   "outputs": [
    {
     "data": {
      "text/plain": [
       "(2340, 16)"
      ]
     },
     "execution_count": 170,
     "metadata": {},
     "output_type": "execute_result"
    }
   ],
   "source": [
    "df.shape"
   ]
  },
  {
   "cell_type": "code",
   "execution_count": 171,
   "metadata": {},
   "outputs": [],
   "source": [
    "df.dropna(inplace=True)"
   ]
  },
  {
   "cell_type": "code",
   "execution_count": 172,
   "metadata": {},
   "outputs": [
    {
     "data": {
      "text/plain": [
       "(2254, 16)"
      ]
     },
     "execution_count": 172,
     "metadata": {},
     "output_type": "execute_result"
    }
   ],
   "source": [
    "df.shape"
   ]
  },
  {
   "cell_type": "code",
   "execution_count": null,
   "metadata": {
    "colab": {
     "base_uri": "https://localhost:8080/"
    },
    "executionInfo": {
     "elapsed": 49,
     "status": "ok",
     "timestamp": 1622926985760,
     "user": {
      "displayName": "Thomas Rico",
      "photoUrl": "",
      "userId": "03459133432310094050"
     },
     "user_tz": -180
    },
    "id": "3DzEkUNo-l5G",
    "outputId": "fe3f08e2-9ffa-40b2-edad-963b7ee8e29d"
   },
   "outputs": [
    {
     "data": {
      "text/plain": [
       "(2254, 15)"
      ]
     },
     "execution_count": 22,
     "metadata": {
      "tags": []
     },
     "output_type": "execute_result"
    }
   ],
   "source": []
  },
  {
   "cell_type": "markdown",
   "metadata": {
    "id": "DRb2AH84-l5G"
   },
   "source": [
    "**INSTRUCTION-2: Demonstrate Race Ratio of Killed People by a Pie Chart (You can use Matplotlib)**"
   ]
  },
  {
   "cell_type": "code",
   "execution_count": 173,
   "metadata": {},
   "outputs": [
    {
     "data": {
      "text/plain": [
       "W    1168\n",
       "B     592\n",
       "H     401\n",
       "A      36\n",
       "N      29\n",
       "O      28\n",
       "Name: race, dtype: int64"
      ]
     },
     "execution_count": 173,
     "metadata": {},
     "output_type": "execute_result"
    }
   ],
   "source": [
    "df[\"race\"].value_counts(dropna=False)"
   ]
  },
  {
   "cell_type": "code",
   "execution_count": null,
   "metadata": {
    "colab": {
     "base_uri": "https://localhost:8080/"
    },
    "executionInfo": {
     "elapsed": 48,
     "status": "ok",
     "timestamp": 1622926985761,
     "user": {
      "displayName": "Thomas Rico",
      "photoUrl": "",
      "userId": "03459133432310094050"
     },
     "user_tz": -180
    },
    "id": "Pq0aSdnz-l5G",
    "outputId": "313c6efc-d2cd-4030-8ee8-1cd496565d2c",
    "scrolled": true
   },
   "outputs": [
    {
     "data": {
      "text/plain": [
       "W    1168\n",
       "B     592\n",
       "H     401\n",
       "A      36\n",
       "N      29\n",
       "O      28\n",
       "Name: race, dtype: int64"
      ]
     },
     "execution_count": 23,
     "metadata": {
      "tags": []
     },
     "output_type": "execute_result"
    }
   ],
   "source": []
  },
  {
   "cell_type": "code",
   "execution_count": 174,
   "metadata": {},
   "outputs": [
    {
     "data": {
      "text/plain": [
       "array(['A', 'W', 'H', 'B', 'O', 'N'], dtype=object)"
      ]
     },
     "execution_count": 174,
     "metadata": {},
     "output_type": "execute_result"
    }
   ],
   "source": [
    "df[\"race\"].unique()"
   ]
  },
  {
   "cell_type": "code",
   "execution_count": null,
   "metadata": {
    "colab": {
     "base_uri": "https://localhost:8080/"
    },
    "executionInfo": {
     "elapsed": 47,
     "status": "ok",
     "timestamp": 1622926985761,
     "user": {
      "displayName": "Thomas Rico",
      "photoUrl": "",
      "userId": "03459133432310094050"
     },
     "user_tz": -180
    },
    "id": "z3CnjKfh-l5H",
    "outputId": "f138b9ff-11c1-48e2-e616-6a8db21e7dbe"
   },
   "outputs": [
    {
     "data": {
      "text/plain": [
       "Index(['W', 'B', 'H', 'A', 'N', 'O'], dtype='object')"
      ]
     },
     "execution_count": 24,
     "metadata": {
      "tags": []
     },
     "output_type": "execute_result"
    }
   ],
   "source": []
  },
  {
   "cell_type": "code",
   "execution_count": 180,
   "metadata": {},
   "outputs": [
    {
     "data": {
      "text/plain": [
       "Index(['W', 'B', 'H', 'A', 'N', 'O'], dtype='object')"
      ]
     },
     "execution_count": 180,
     "metadata": {},
     "output_type": "execute_result"
    }
   ],
   "source": [
    "df[\"race\"].value_counts(dropna=False).index"
   ]
  },
  {
   "cell_type": "code",
   "execution_count": null,
   "metadata": {
    "colab": {
     "base_uri": "https://localhost:8080/"
    },
    "executionInfo": {
     "elapsed": 47,
     "status": "ok",
     "timestamp": 1622926985762,
     "user": {
      "displayName": "Thomas Rico",
      "photoUrl": "",
      "userId": "03459133432310094050"
     },
     "user_tz": -180
    },
    "id": "dNnqgLCM-l5H",
    "outputId": "939f3639-058d-4bf3-abd0-19105f334802"
   },
   "outputs": [
    {
     "data": {
      "text/plain": [
       "array([1168,  592,  401,   36,   29,   28])"
      ]
     },
     "execution_count": 25,
     "metadata": {
      "tags": []
     },
     "output_type": "execute_result"
    }
   ],
   "source": []
  },
  {
   "cell_type": "code",
   "execution_count": 188,
   "metadata": {
    "scrolled": false
   },
   "outputs": [
    {
     "data": {
      "text/plain": [
       "<AxesSubplot:ylabel='race'>"
      ]
     },
     "execution_count": 188,
     "metadata": {},
     "output_type": "execute_result"
    },
    {
     "data": {
      "image/png": "[encoded data removed]",
      "text/plain": [
       "<Figure size 792x432 with 1 Axes>"
      ]
     },
     "metadata": {},
     "output_type": "display_data"
    }
   ],
   "source": [
    "df[\"race\"].value_counts(dropna=False).plot.pie(y=df[\"race\"].value_counts(dropna=False).index,figsize=(11, 6))\n",
    "#pandas method"
   ]
  },
  {
   "cell_type": "code",
   "execution_count": 198,
   "metadata": {},
   "outputs": [
    {
     "data": {
      "image/png": "[encoded data removed]",
      "text/plain": [
       "<Figure size 432x288 with 1 Axes>"
      ]
     },
     "metadata": {},
     "output_type": "display_data"
    }
   ],
   "source": [
    "plt.pie(df[\"race\"].value_counts(dropna=False),labels=df[\"race\"].value_counts(dropna=False).index,\n",
    "          autopct='%.0f%%',\n",
    "          shadow = True,\n",
    "          startangle = 60);\n",
    "\n",
    "#matplotlib functionla method"
   ]
  },
  {
   "cell_type": "code",
   "execution_count": null,
   "metadata": {},
   "outputs": [],
   "source": []
  },
  {
   "cell_type": "code",
   "execution_count": 223,
   "metadata": {},
   "outputs": [
    {
     "data": {
      "image/png": "[encoded data removed]",
      "text/plain": [
       "<Figure size 800x600 with 1 Axes>"
      ]
     },
     "metadata": {},
     "output_type": "display_data"
    }
   ],
   "source": [
    "#matplotlib object orianted method\n",
    "x = df[\"race\"].value_counts()\n",
    "labels = df[\"race\"].value_counts().index\n",
    "explode = (0, 0, 0.1, 0,0,0)\n",
    "\n",
    "fig, ax = plt.subplots(figsize=(8,6),dpi = 100)\n",
    "ax.pie(x, labels = labels,\n",
    "          autopct='%.0f%%',\n",
    "          explode = explode,\n",
    "          shadow = True,\n",
    "          startangle =60)\n",
    "ax.set_title('Race Pie Chart')\n",
    "plt.show()\n",
    "\n"
   ]
  },
  {
   "cell_type": "code",
   "execution_count": null,
   "metadata": {
    "colab": {
     "base_uri": "https://localhost:8080/",
     "height": 575
    },
    "executionInfo": {
     "elapsed": 45,
     "status": "ok",
     "timestamp": 1622926985762,
     "user": {
      "displayName": "Thomas Rico",
      "photoUrl": "",
      "userId": "03459133432310094050"
     },
     "user_tz": -180
    },
    "id": "F1CSkbxa-l5H",
    "outputId": "18bae490-b8d5-49b0-b124-f1c4f75a0129",
    "scrolled": false
   },
   "outputs": [
    {
     "data": {
      "image/png": "[encoded data removed]",
      "text/plain": [
       "<Figure size 720x720 with 1 Axes>"
      ]
     },
     "metadata": {
      "tags": []
     },
     "output_type": "display_data"
    }
   ],
   "source": [
    "# matplotlib\n",
    "\n"
   ]
  },
  {
   "cell_type": "markdown",
   "metadata": {
    "id": "zOQ2PusO-G-U"
   },
   "source": [
    "## 6: Most common 15 Name or Surname of killed people "
   ]
  },
  {
   "cell_type": "code",
   "execution_count": 226,
   "metadata": {},
   "outputs": [],
   "source": [
    "df[['first_name', 'last_name']] = df['name'].str.split(' ', n=1, expand=True)"
   ]
  },
  {
   "cell_type": "code",
   "execution_count": 236,
   "metadata": {},
   "outputs": [
    {
     "data": {
      "text/plain": [
       "Michael        68\n",
       "David          43\n",
       "James          39\n",
       "Robert         37\n",
       "William        35\n",
       "John           33\n",
       "Daniel         31\n",
       "Richard        31\n",
       "Joseph         30\n",
       "Christopher    30\n",
       "Joshua         26\n",
       "Jose           22\n",
       "Jason          21\n",
       "Matthew        20\n",
       "Charles        20\n",
       "Name: first_name, dtype: int64"
      ]
     },
     "execution_count": 236,
     "metadata": {},
     "output_type": "execute_result"
    }
   ],
   "source": [
    "firstnames=df[\"first_name\"].value_counts()\n",
    "firstnames[:15]"
   ]
  },
  {
   "cell_type": "code",
   "execution_count": 237,
   "metadata": {},
   "outputs": [
    {
     "data": {
      "text/plain": [
       "Smith        19\n",
       "Johnson      16\n",
       "Hernandez    11\n",
       "Jones         9\n",
       "Brown         9\n",
       "Williams      8\n",
       "Allen         7\n",
       "Hall          7\n",
       "Davis         7\n",
       "Harris        7\n",
       "Jackson       7\n",
       "Garcia        6\n",
       "Martinez      6\n",
       "Anderson      6\n",
       "Gonzalez      6\n",
       "Name: last_name, dtype: int64"
      ]
     },
     "execution_count": 237,
     "metadata": {},
     "output_type": "execute_result"
    }
   ],
   "source": [
    "lastnames=df[\"last_name\"].value_counts()\n",
    "lastnames[:15] firstnames[:15]"
   ]
  },
  {
   "cell_type": "code",
   "execution_count": 231,
   "metadata": {
    "scrolled": true
   },
   "outputs": [
    {
     "data": {
      "text/plain": [
       "Michael Brown               2\n",
       "Eric Harris                 2\n",
       "Daquan Antonio Westbrook    2\n",
       "Michael Johnson             2\n",
       "Brandon Jones               2\n",
       "                           ..\n",
       "Fernando Castro             1\n",
       "Aurelio Duarte              1\n",
       "Thad Demarco Hale           1\n",
       "Roger Ponce                 1\n",
       "Marshall Barrus             1\n",
       "Name: name, Length: 2249, dtype: int64"
      ]
     },
     "execution_count": 231,
     "metadata": {},
     "output_type": "execute_result"
    }
   ],
   "source": [
    "df.name.value_counts()"
   ]
  },
  {
   "cell_type": "code",
   "execution_count": null,
   "metadata": {
    "_uuid": "bfb975b648fbcbd1c6cdf1634f01e01371924a8c",
    "colab": {
     "base_uri": "https://localhost:8080/",
     "height": 307
    },
    "executionInfo": {
     "elapsed": 45,
     "status": "ok",
     "timestamp": 1622926985762,
     "user": {
      "displayName": "Thomas Rico",
      "photoUrl": "",
      "userId": "03459133432310094050"
     },
     "user_tz": -180
    },
    "id": "7s9SsMsj-G-U",
    "outputId": "2d3cc676-d586-402c-cabd-938eb19880bf",
    "scrolled": true
   },
   "outputs": [
    {
     "data": {
      "text/html": [
       "<div>\n",
       "<style scoped>\n",
       "    .dataframe tbody tr th:only-of-type {\n",
       "        vertical-align: middle;\n",
       "    }\n",
       "\n",
       "    .dataframe tbody tr th {\n",
       "        vertical-align: top;\n",
       "    }\n",
       "\n",
       "    .dataframe thead th {\n",
       "        text-align: right;\n",
       "    }\n",
       "</style>\n",
       "<table border=\"1\" class=\"dataframe\">\n",
       "  <thead>\n",
       "    <tr style=\"text-align: right;\">\n",
       "      <th></th>\n",
       "      <th>id</th>\n",
       "      <th>name</th>\n",
       "      <th>date</th>\n",
       "      <th>manner_of_death</th>\n",
       "      <th>armed</th>\n",
       "      <th>age</th>\n",
       "      <th>gender</th>\n",
       "      <th>race</th>\n",
       "      <th>city</th>\n",
       "      <th>state</th>\n",
       "      <th>signs_of_mental_illness</th>\n",
       "      <th>threat_level</th>\n",
       "      <th>flee</th>\n",
       "      <th>body_camera</th>\n",
       "      <th>age_cat</th>\n",
       "    </tr>\n",
       "  </thead>\n",
       "  <tbody>\n",
       "    <tr>\n",
       "      <th>0</th>\n",
       "      <td>3</td>\n",
       "      <td>Tim Elliot</td>\n",
       "      <td>02/01/15</td>\n",
       "      <td>shot</td>\n",
       "      <td>gun</td>\n",
       "      <td>53.0</td>\n",
       "      <td>M</td>\n",
       "      <td>A</td>\n",
       "      <td>Shelton</td>\n",
       "      <td>WA</td>\n",
       "      <td>True</td>\n",
       "      <td>attack</td>\n",
       "      <td>Not fleeing</td>\n",
       "      <td>False</td>\n",
       "      <td>above25</td>\n",
       "    </tr>\n",
       "    <tr>\n",
       "      <th>1</th>\n",
       "      <td>4</td>\n",
       "      <td>Lewis Lee Lembke</td>\n",
       "      <td>02/01/15</td>\n",
       "      <td>shot</td>\n",
       "      <td>gun</td>\n",
       "      <td>47.0</td>\n",
       "      <td>M</td>\n",
       "      <td>W</td>\n",
       "      <td>Aloha</td>\n",
       "      <td>OR</td>\n",
       "      <td>False</td>\n",
       "      <td>attack</td>\n",
       "      <td>Not fleeing</td>\n",
       "      <td>False</td>\n",
       "      <td>above25</td>\n",
       "    </tr>\n",
       "    <tr>\n",
       "      <th>2</th>\n",
       "      <td>5</td>\n",
       "      <td>John Paul Quintero</td>\n",
       "      <td>03/01/15</td>\n",
       "      <td>shot and Tasered</td>\n",
       "      <td>unarmed</td>\n",
       "      <td>23.0</td>\n",
       "      <td>M</td>\n",
       "      <td>H</td>\n",
       "      <td>Wichita</td>\n",
       "      <td>KS</td>\n",
       "      <td>False</td>\n",
       "      <td>other</td>\n",
       "      <td>Not fleeing</td>\n",
       "      <td>False</td>\n",
       "      <td>below25</td>\n",
       "    </tr>\n",
       "    <tr>\n",
       "      <th>3</th>\n",
       "      <td>8</td>\n",
       "      <td>Matthew Hoffman</td>\n",
       "      <td>04/01/15</td>\n",
       "      <td>shot</td>\n",
       "      <td>toy weapon</td>\n",
       "      <td>32.0</td>\n",
       "      <td>M</td>\n",
       "      <td>W</td>\n",
       "      <td>San Francisco</td>\n",
       "      <td>CA</td>\n",
       "      <td>True</td>\n",
       "      <td>attack</td>\n",
       "      <td>Not fleeing</td>\n",
       "      <td>False</td>\n",
       "      <td>above25</td>\n",
       "    </tr>\n",
       "    <tr>\n",
       "      <th>4</th>\n",
       "      <td>9</td>\n",
       "      <td>Michael Rodriguez</td>\n",
       "      <td>04/01/15</td>\n",
       "      <td>shot</td>\n",
       "      <td>nail gun</td>\n",
       "      <td>39.0</td>\n",
       "      <td>M</td>\n",
       "      <td>H</td>\n",
       "      <td>Evans</td>\n",
       "      <td>CO</td>\n",
       "      <td>False</td>\n",
       "      <td>attack</td>\n",
       "      <td>Not fleeing</td>\n",
       "      <td>False</td>\n",
       "      <td>above25</td>\n",
       "    </tr>\n",
       "  </tbody>\n",
       "</table>\n",
       "</div>"
      ],
      "text/plain": [
       "   id                name      date  ...         flee body_camera  age_cat\n",
       "0   3          Tim Elliot  02/01/15  ...  Not fleeing       False  above25\n",
       "1   4    Lewis Lee Lembke  02/01/15  ...  Not fleeing       False  above25\n",
       "2   5  John Paul Quintero  03/01/15  ...  Not fleeing       False  below25\n",
       "3   8     Matthew Hoffman  04/01/15  ...  Not fleeing       False  above25\n",
       "4   9   Michael Rodriguez  04/01/15  ...  Not fleeing       False  above25\n",
       "\n",
       "[5 rows x 15 columns]"
      ]
     },
     "execution_count": 27,
     "metadata": {
      "tags": []
     },
     "output_type": "execute_result"
    }
   ],
   "source": []
  },
  {
   "cell_type": "code",
   "execution_count": 235,
   "metadata": {},
   "outputs": [
    {
     "data": {
      "text/plain": [
       "(2254, 18)"
      ]
     },
     "execution_count": 235,
     "metadata": {},
     "output_type": "execute_result"
    }
   ],
   "source": [
    "df.shape"
   ]
  },
  {
   "cell_type": "code",
   "execution_count": null,
   "metadata": {
    "colab": {
     "base_uri": "https://localhost:8080/"
    },
    "executionInfo": {
     "elapsed": 45,
     "status": "ok",
     "timestamp": 1622926985763,
     "user": {
      "displayName": "Thomas Rico",
      "photoUrl": "",
      "userId": "03459133432310094050"
     },
     "user_tz": -180
    },
    "id": "R7idQSfR-G-V",
    "outputId": "617558e5-408e-4392-bf31-50db2d071323"
   },
   "outputs": [
    {
     "data": {
      "text/plain": [
       "(2254, 15)"
      ]
     },
     "execution_count": 28,
     "metadata": {
      "tags": []
     },
     "output_type": "execute_result"
    }
   ],
   "source": []
  },
  {
   "cell_type": "code",
   "execution_count": null,
   "metadata": {
    "colab": {
     "base_uri": "https://localhost:8080/"
    },
    "executionInfo": {
     "elapsed": 43,
     "status": "ok",
     "timestamp": 1622926985763,
     "user": {
      "displayName": "Thomas Rico",
      "photoUrl": "",
      "userId": "03459133432310094050"
     },
     "user_tz": -180
    },
    "id": "xx5JDVqZ-G-V",
    "outputId": "9ee6b2a8-b264-40c6-f187-6dd7d1c32efe"
   },
   "outputs": [
    {
     "data": {
      "text/plain": [
       "Daquan Antonio Westbrook    2\n",
       "Michael Johnson             2\n",
       "Eric Harris                 2\n",
       "Michael Brown               2\n",
       "Brandon Jones               2\n",
       "                           ..\n",
       "Wayne Donald Dorsey         1\n",
       "Matthew Vincent Wood        1\n",
       "Taylor Hodge                1\n",
       "David L. Anderson           1\n",
       "Jovany Martinez             1\n",
       "Name: name, Length: 2249, dtype: int64"
      ]
     },
     "execution_count": 29,
     "metadata": {
      "tags": []
     },
     "output_type": "execute_result"
    }
   ],
   "source": []
  },
  {
   "cell_type": "code",
   "execution_count": null,
   "metadata": {
    "_cell_guid": "c2cd6681-42a4-44c2-ba1a-46d4d61b6eea",
    "_uuid": "b3b53866f9c794ca5f85f59bc5bfc0d01a830baf",
    "colab": {
     "base_uri": "https://localhost:8080/"
    },
    "executionInfo": {
     "elapsed": 43,
     "status": "ok",
     "timestamp": 1622926985764,
     "user": {
      "displayName": "Thomas Rico",
      "photoUrl": "",
      "userId": "03459133432310094050"
     },
     "user_tz": -180
    },
    "id": "YsaT2vLg-G-W",
    "outputId": "f3de216b-2176-4b7e-8fc2-c9e3858bd298",
    "scrolled": true
   },
   "outputs": [
    {
     "data": {
      "text/plain": [
       "0             [Tim, Elliot]\n",
       "1      [Lewis, Lee, Lembke]\n",
       "2    [John, Paul, Quintero]\n",
       "3        [Matthew, Hoffman]\n",
       "4      [Michael, Rodriguez]\n",
       "Name: name, dtype: object"
      ]
     },
     "execution_count": 30,
     "metadata": {
      "tags": []
     },
     "output_type": "execute_result"
    }
   ],
   "source": [
    "# Problem: TK TK is most probably not a name or surname. We will clean them.\n"
   ]
  },
  {
   "cell_type": "code",
   "execution_count": null,
   "metadata": {
    "colab": {
     "base_uri": "https://localhost:8080/"
    },
    "executionInfo": {
     "elapsed": 42,
     "status": "ok",
     "timestamp": 1622926985764,
     "user": {
      "displayName": "Thomas Rico",
      "photoUrl": "",
      "userId": "03459133432310094050"
     },
     "user_tz": -180
    },
    "id": "Tm35sunM-G-W",
    "outputId": "f6fc6156-5af6-4a3d-f509-9c16f85fb1c8"
   },
   "outputs": [
    {
     "data": {
      "text/plain": [
       "pandas.core.series.Series"
      ]
     },
     "execution_count": 31,
     "metadata": {
      "tags": []
     },
     "output_type": "execute_result"
    }
   ],
   "source": [
    "type(pairs)"
   ]
  },
  {
   "cell_type": "markdown",
   "metadata": {
    "id": "SDeKoDA3-G-W"
   },
   "source": [
    "**INSTRUCTION : Plot Most common 15 Name OR Surname of killed people** "
   ]
  },
  {
   "cell_type": "raw",
   "metadata": {
    "id": "GDrfQsvl-G-W"
   },
   "source": [
    "### Clue 1: You need to separate the names and surnames because we are asking most common name OR surname.\n",
    "\n",
    "### Clue 2 :After seperation make a whole list that contains both names and surnames.\n",
    "\n",
    "### Clue 3 : How to separate the name and surname pairs?\n",
    "\n",
    ">>> pairs = [(1, 'a'), (2, 'b'), (3, 'c'), (4, 'd')]\n",
    ">>> numbers, letters = zip(*pairs)\n",
    ">>> numbers\n",
    "(1, 2, 3, 4)\n",
    ">>> letters\n",
    "('a', 'b', 'c', 'd')\n",
    "\n",
    "### Clue 4: You can use Counter() and most_common() built in functions together to find the most common names or surnames, or you can write your own functions for this purpose."
   ]
  },
  {
   "cell_type": "markdown",
   "metadata": {
    "id": "enYjZO9j5Cn9"
   },
   "source": [
    "shape"
   ]
  },
  {
   "cell_type": "code",
   "execution_count": 244,
   "metadata": {},
   "outputs": [],
   "source": [
    "namer,surnamer = zip(*df.name.str.split())"
   ]
  },
  {
   "cell_type": "code",
   "execution_count": 245,
   "metadata": {},
   "outputs": [
    {
     "data": {
      "text/plain": [
       "('Tim',\n",
       " 'Lewis',\n",
       " 'John',\n",
       " 'Matthew',\n",
       " 'Michael',\n",
       " 'Kenneth',\n",
       " 'Kenneth',\n",
       " 'Brock',\n",
       " 'Autumn',\n",
       " 'Leslie',\n",
       " 'Patrick',\n",
       " 'Ron',\n",
       " 'Hashim',\n",
       " 'Nicholas',\n",
       " 'Omarr',\n",
       " 'Loren',\n",
       " 'James',\n",
       " 'Artago',\n",
       " 'Thomas',\n",
       " 'Jimmy',\n",
       " 'Andy',\n",
       " 'Tommy',\n",
       " 'Brian',\n",
       " 'Salvador',\n",
       " 'John',\n",
       " 'Richard',\n",
       " 'Marcus',\n",
       " 'Michael',\n",
       " 'Mario',\n",
       " 'Talbot',\n",
       " 'Robert',\n",
       " 'Jeffrey',\n",
       " 'Donte',\n",
       " 'Kavonda',\n",
       " 'Quincy',\n",
       " 'Jose',\n",
       " 'Nathan',\n",
       " 'Scott',\n",
       " 'Zaki',\n",
       " 'Terence',\n",
       " 'Pablo',\n",
       " 'Daniel',\n",
       " 'Jonathan',\n",
       " 'Carter',\n",
       " 'Paul',\n",
       " 'Dewayne',\n",
       " 'Todd',\n",
       " 'Miguel',\n",
       " 'Isaac',\n",
       " 'Andrew',\n",
       " 'Tiano',\n",
       " 'Kristiana',\n",
       " 'Robert',\n",
       " 'Demaris',\n",
       " 'Jose',\n",
       " 'Wendell',\n",
       " 'Daryl',\n",
       " 'Darin',\n",
       " 'Orlando',\n",
       " 'Jessie',\n",
       " 'Raymond',\n",
       " 'Joshua',\n",
       " 'David',\n",
       " 'Nicolas',\n",
       " 'Chris',\n",
       " 'Jermonte',\n",
       " 'Tiffany',\n",
       " 'Alan',\n",
       " 'Matautu',\n",
       " 'Cody',\n",
       " 'Ralph',\n",
       " 'Alan',\n",
       " 'John',\n",
       " 'Victor',\n",
       " 'Edward',\n",
       " 'Jacob',\n",
       " 'David',\n",
       " 'Francis',\n",
       " 'Ledarius',\n",
       " 'Yuvette',\n",
       " 'Dewayne',\n",
       " 'Anthony',\n",
       " 'Jeremy',\n",
       " 'Izzy',\n",
       " 'Salvador',\n",
       " 'Joaquin',\n",
       " 'Jimmy',\n",
       " 'Markell',\n",
       " 'Paul',\n",
       " 'Herbert',\n",
       " 'John',\n",
       " 'James',\n",
       " 'John',\n",
       " 'Sawyer',\n",
       " 'Vincent',\n",
       " 'Joseph',\n",
       " 'Larry',\n",
       " 'Kenneth',\n",
       " 'Desmond',\n",
       " 'Antonio',\n",
       " 'Anthony',\n",
       " 'Brian',\n",
       " 'Phillip',\n",
       " 'Fletcher',\n",
       " 'Jonathan',\n",
       " 'Andres',\n",
       " 'Richard',\n",
       " 'Matthew',\n",
       " 'Daniel',\n",
       " 'Jason',\n",
       " 'Roy',\n",
       " 'Lavall',\n",
       " 'Howard',\n",
       " 'Bruce',\n",
       " 'Lawrence',\n",
       " 'Michael',\n",
       " 'Cody',\n",
       " 'Betty',\n",
       " 'Michael',\n",
       " 'Matthew',\n",
       " 'Douglas',\n",
       " 'Pedro',\n",
       " 'Janisha',\n",
       " 'Ruben',\n",
       " 'Stanley',\n",
       " 'Douglas',\n",
       " 'Jason',\n",
       " 'Kent',\n",
       " 'Bradford',\n",
       " 'Jerome',\n",
       " 'Daniel',\n",
       " 'Robert',\n",
       " 'Michael',\n",
       " 'Anthony',\n",
       " \"A'Donte\",\n",
       " 'Joseph',\n",
       " 'Glenn',\n",
       " 'Francis',\n",
       " 'Alexander',\n",
       " 'David',\n",
       " 'Amilcar',\n",
       " 'Rodney',\n",
       " 'Crystal',\n",
       " 'Ernesto',\n",
       " 'Chazsten',\n",
       " 'Deven',\n",
       " 'Thomas',\n",
       " 'Jessica',\n",
       " 'Cornelius',\n",
       " 'Ian',\n",
       " 'Stephanie',\n",
       " 'Donald',\n",
       " 'Charly',\n",
       " 'Hung',\n",
       " 'Shaquille',\n",
       " 'Fednel',\n",
       " 'Matthew',\n",
       " 'Derek',\n",
       " 'Carl',\n",
       " 'Tyrone',\n",
       " 'Sergio',\n",
       " 'Tyson',\n",
       " 'Naeschylus',\n",
       " 'Andrew',\n",
       " 'Tony',\n",
       " 'Adam',\n",
       " 'Aurelio',\n",
       " 'Michael',\n",
       " 'Monique',\n",
       " 'Lester',\n",
       " 'James',\n",
       " 'Cedrick',\n",
       " 'Anthony',\n",
       " 'Jamie',\n",
       " 'Christopher',\n",
       " 'Edixon',\n",
       " 'Theodore',\n",
       " 'James',\n",
       " 'Benito',\n",
       " 'Ryan',\n",
       " 'Aaron',\n",
       " 'Gilbert',\n",
       " 'William',\n",
       " 'Terry',\n",
       " 'Bobby',\n",
       " 'Fred',\n",
       " 'Andrew',\n",
       " 'Antonio',\n",
       " 'James',\n",
       " 'Richard',\n",
       " 'Clifton',\n",
       " 'Aaron',\n",
       " 'Troy',\n",
       " 'Justin',\n",
       " 'William',\n",
       " 'Eugene',\n",
       " 'Roberto',\n",
       " 'Andrew',\n",
       " 'Declan',\n",
       " 'Alice',\n",
       " 'Jeff',\n",
       " 'Kaylene',\n",
       " 'Garland',\n",
       " 'Kendre',\n",
       " 'Jamison',\n",
       " 'Robert',\n",
       " 'Shane',\n",
       " 'Brandon',\n",
       " 'Brandon',\n",
       " 'Justin',\n",
       " 'Richard',\n",
       " 'Tyrel',\n",
       " 'James',\n",
       " 'Gary',\n",
       " 'Jason',\n",
       " 'Enoch',\n",
       " 'Phillip',\n",
       " 'Christopher',\n",
       " 'Denzel',\n",
       " 'Devin',\n",
       " 'Stephen',\n",
       " 'Walter',\n",
       " 'Scott',\n",
       " 'Nicholas',\n",
       " 'Jeremy',\n",
       " 'Victor',\n",
       " 'Joseph',\n",
       " 'Deanne',\n",
       " 'Adrian',\n",
       " 'Gary',\n",
       " 'Jamalis',\n",
       " 'Adrian',\n",
       " 'Neil',\n",
       " 'Megan',\n",
       " 'Harvey',\n",
       " 'Angelo',\n",
       " 'Robert',\n",
       " 'Byron',\n",
       " 'Brian',\n",
       " 'Jeremy',\n",
       " 'Benjamin',\n",
       " 'Mya',\n",
       " 'Robert',\n",
       " 'Shawn',\n",
       " 'Darrin',\n",
       " 'Donald',\n",
       " 'Eric',\n",
       " 'Aaron',\n",
       " 'Christopher',\n",
       " 'Justus',\n",
       " 'Walter',\n",
       " 'Paul',\n",
       " 'Ethan',\n",
       " 'Ken',\n",
       " 'Richard',\n",
       " 'Alexander',\n",
       " 'Desmond',\n",
       " 'Tyrell',\n",
       " 'Erick',\n",
       " 'Douglas',\n",
       " 'Dexter',\n",
       " 'Roberto',\n",
       " 'Joseph',\n",
       " 'Gordon',\n",
       " 'Don',\n",
       " 'Jess',\n",
       " 'Phillip',\n",
       " 'Angel',\n",
       " 'Richard',\n",
       " 'Donald',\n",
       " 'Mack',\n",
       " 'Richard',\n",
       " 'Jason',\n",
       " 'Isaac',\n",
       " 'Colby',\n",
       " 'Christopher',\n",
       " 'Tevin',\n",
       " 'Dante',\n",
       " 'Frank',\n",
       " 'Mark',\n",
       " 'Stanley',\n",
       " 'Ernesto',\n",
       " 'Rodolfo',\n",
       " 'Jeffrey',\n",
       " 'Elias',\n",
       " 'Thaddeus',\n",
       " 'Erik',\n",
       " 'Grover',\n",
       " 'Michael',\n",
       " 'Dana',\n",
       " 'Santos',\n",
       " 'Daniel',\n",
       " 'Daniel',\n",
       " 'Kimber',\n",
       " 'Luis',\n",
       " 'William',\n",
       " 'Carlos',\n",
       " 'Jonathan',\n",
       " 'Reginald',\n",
       " 'Lue',\n",
       " 'Andrew',\n",
       " 'Joseph',\n",
       " 'Hector',\n",
       " 'Karen',\n",
       " 'Mark',\n",
       " 'Gary',\n",
       " 'Todd',\n",
       " 'Brandon',\n",
       " 'David',\n",
       " 'Daniel',\n",
       " 'Billy',\n",
       " 'Albert',\n",
       " 'Dean',\n",
       " 'Terrance',\n",
       " 'David',\n",
       " 'Jared',\n",
       " 'Joshua',\n",
       " 'Andrew',\n",
       " 'Joshua',\n",
       " 'Luis',\n",
       " 'Alexia',\n",
       " 'Jeffrey',\n",
       " 'John',\n",
       " 'Fridoon',\n",
       " 'Erick',\n",
       " 'Kenneth',\n",
       " 'Kevin',\n",
       " 'Elton',\n",
       " 'Nadir',\n",
       " 'Billy',\n",
       " 'Michael',\n",
       " 'Roark',\n",
       " 'Brendon',\n",
       " 'Thong',\n",
       " 'Robert',\n",
       " 'David',\n",
       " 'Michael',\n",
       " 'Nephi',\n",
       " 'Shaun',\n",
       " 'David',\n",
       " 'Dedrick',\n",
       " 'Sam',\n",
       " 'Stephen',\n",
       " 'Lionel',\n",
       " 'Kelvin',\n",
       " 'Justin',\n",
       " \"D'Angelo\",\n",
       " 'Bruce',\n",
       " 'Alec',\n",
       " 'Sean',\n",
       " 'Cary',\n",
       " 'Mark',\n",
       " 'Matt',\n",
       " 'Ronell',\n",
       " 'Dennis',\n",
       " 'Austin',\n",
       " 'Timothy',\n",
       " 'Alfredo',\n",
       " 'Jonathan',\n",
       " 'David',\n",
       " 'Anthony',\n",
       " 'Jonathan',\n",
       " 'Chrislon',\n",
       " 'Nikki',\n",
       " 'Marcus',\n",
       " 'David',\n",
       " 'Javoris',\n",
       " 'James',\n",
       " 'Elvin',\n",
       " 'Jerome',\n",
       " 'Michael',\n",
       " 'Caso',\n",
       " 'James',\n",
       " 'Eric',\n",
       " 'Cassandra',\n",
       " 'Anthony',\n",
       " 'Millard',\n",
       " 'Dalton',\n",
       " 'Jessie',\n",
       " 'Scott',\n",
       " 'Garrett',\n",
       " 'Harry',\n",
       " 'Feras',\n",
       " 'Simon',\n",
       " 'Darrell',\n",
       " 'James',\n",
       " 'Kenneth',\n",
       " 'Kyle',\n",
       " 'Kevin',\n",
       " 'Nehemiah',\n",
       " 'Robert',\n",
       " 'Ebin',\n",
       " 'Alexander',\n",
       " 'James',\n",
       " 'Joseph',\n",
       " 'Usaamah',\n",
       " 'Kamal',\n",
       " 'Lorenzo',\n",
       " 'Rudy',\n",
       " 'Miguel',\n",
       " 'Edelmiro',\n",
       " 'Ronald',\n",
       " 'Jesus',\n",
       " 'Christie',\n",
       " 'Demouria',\n",
       " 'James',\n",
       " 'Alejandro',\n",
       " 'Joe',\n",
       " 'Damien',\n",
       " 'Matthew',\n",
       " 'Gene',\n",
       " 'Rene',\n",
       " 'Richard',\n",
       " 'Jeremy',\n",
       " 'Greg',\n",
       " 'QuanDavier',\n",
       " 'Ryan',\n",
       " 'Isiah',\n",
       " 'Charles',\n",
       " 'Fritz',\n",
       " 'Mark',\n",
       " 'Raymond',\n",
       " 'Shelly',\n",
       " 'Anthony',\n",
       " 'Deng',\n",
       " 'James',\n",
       " 'Kenneth',\n",
       " 'Zane',\n",
       " 'Kris',\n",
       " 'Christopher',\n",
       " 'Joe',\n",
       " 'Wendy',\n",
       " 'Kenneth',\n",
       " 'Oleg',\n",
       " 'Santos',\n",
       " 'Trepierre',\n",
       " 'Louis',\n",
       " 'Alfontish',\n",
       " 'Adrian',\n",
       " 'Charles',\n",
       " 'James',\n",
       " 'Eduardo',\n",
       " 'Tyler',\n",
       " 'Tyrone',\n",
       " 'Joshua',\n",
       " 'Jonathan',\n",
       " 'Randall',\n",
       " 'Taylor',\n",
       " 'Damien',\n",
       " 'Spencer',\n",
       " 'Gilbert',\n",
       " 'Richard',\n",
       " 'Joe',\n",
       " 'Joshua',\n",
       " 'Alan',\n",
       " 'Richard',\n",
       " 'Clay',\n",
       " 'Kevin',\n",
       " 'Kaleb',\n",
       " 'Douglas',\n",
       " 'Ton',\n",
       " 'Victor',\n",
       " 'Cesar',\n",
       " 'Arturo',\n",
       " 'Oscar',\n",
       " 'Joseph',\n",
       " 'Robert',\n",
       " 'Michael',\n",
       " 'Kawanza',\n",
       " 'Bryan',\n",
       " 'John',\n",
       " 'Michael',\n",
       " 'Richard',\n",
       " 'Johnny',\n",
       " 'Tyler',\n",
       " 'Hagen',\n",
       " 'David',\n",
       " 'John',\n",
       " 'Jason',\n",
       " 'Marcellus',\n",
       " 'Adam',\n",
       " 'Joe',\n",
       " 'Daniel',\n",
       " 'Jose',\n",
       " 'Tremaine',\n",
       " 'Nicholas',\n",
       " 'Joshua',\n",
       " 'Michael',\n",
       " 'Dallas',\n",
       " 'Rocco',\n",
       " 'Robert',\n",
       " 'Martice',\n",
       " 'Cyrus',\n",
       " 'Neil',\n",
       " 'Javon',\n",
       " 'James',\n",
       " 'Freddie',\n",
       " 'Eugene',\n",
       " 'Billy',\n",
       " 'Paul',\n",
       " 'Salvado',\n",
       " 'David',\n",
       " 'Matthew',\n",
       " 'Christopher',\n",
       " 'Frederick',\n",
       " 'Matthew',\n",
       " 'Rafael',\n",
       " 'Jason',\n",
       " 'Chacarion',\n",
       " 'Eugene',\n",
       " 'Anthonie',\n",
       " 'Antonio',\n",
       " 'Edward',\n",
       " 'Patrick',\n",
       " 'Mohammad',\n",
       " 'Saige',\n",
       " 'Pierre',\n",
       " 'Samuel',\n",
       " 'Albert',\n",
       " 'Jackie',\n",
       " 'Darrius',\n",
       " 'Jose',\n",
       " 'David',\n",
       " 'Kevin',\n",
       " 'Charles',\n",
       " 'Samuel',\n",
       " 'Joshua',\n",
       " 'Darren',\n",
       " 'Joseph',\n",
       " 'Jerrod',\n",
       " 'Francisco',\n",
       " 'Andre',\n",
       " 'Devon',\n",
       " 'Dontae',\n",
       " 'Derek',\n",
       " 'Brian',\n",
       " 'Robbie',\n",
       " 'Tamala',\n",
       " 'Seth',\n",
       " 'Lee',\n",
       " 'Christopher',\n",
       " 'Roger',\n",
       " 'Bryan',\n",
       " 'Earl',\n",
       " 'Khari',\n",
       " 'Zachary',\n",
       " 'Timothy',\n",
       " 'Jean',\n",
       " 'Samuel',\n",
       " 'Michael',\n",
       " 'Roger',\n",
       " 'Mark',\n",
       " 'Ryan',\n",
       " 'Philip',\n",
       " 'Oscar',\n",
       " 'Rafael',\n",
       " 'Jeremy',\n",
       " 'Armando',\n",
       " 'Virgil',\n",
       " 'Antonio',\n",
       " 'Joshua',\n",
       " 'Franklin',\n",
       " 'Shawn',\n",
       " 'Daniel',\n",
       " 'Darius',\n",
       " 'Tyler',\n",
       " 'John',\n",
       " 'Raymond',\n",
       " 'Keshawn',\n",
       " 'Vincente',\n",
       " 'Jason',\n",
       " 'Gustavo',\n",
       " 'Charles',\n",
       " 'Christian',\n",
       " 'Abel',\n",
       " 'Aaron',\n",
       " 'Mark',\n",
       " 'Tsombe',\n",
       " 'Derrick',\n",
       " 'Shamir',\n",
       " 'Jeffrey',\n",
       " 'Kevin',\n",
       " 'Andre',\n",
       " 'Eric',\n",
       " 'Edrian',\n",
       " 'Richard',\n",
       " 'Casey',\n",
       " 'Randall',\n",
       " 'Richard',\n",
       " 'Nathaniel',\n",
       " 'Redel',\n",
       " 'Anthony',\n",
       " 'Reginald',\n",
       " 'William',\n",
       " 'Garland',\n",
       " 'Hector',\n",
       " 'Asshams',\n",
       " 'Christopher',\n",
       " 'John',\n",
       " 'Allen',\n",
       " 'Jonathon',\n",
       " 'Matthew',\n",
       " 'Steven',\n",
       " 'Frederick',\n",
       " 'Richard',\n",
       " 'Mansur',\n",
       " 'Deviere',\n",
       " 'Jason',\n",
       " 'Wade',\n",
       " 'Tyler',\n",
       " 'Jeffory',\n",
       " 'Raul',\n",
       " 'Timmy',\n",
       " 'Charles',\n",
       " 'Alan',\n",
       " 'Adam',\n",
       " 'Thaddeus',\n",
       " 'Jason',\n",
       " 'Nicholas',\n",
       " 'Kenneth',\n",
       " 'Richard',\n",
       " 'Christopher',\n",
       " 'Julian',\n",
       " 'Bobby',\n",
       " 'William',\n",
       " 'Marvin',\n",
       " 'Curtis',\n",
       " 'Todd',\n",
       " 'Shane',\n",
       " 'Marvin',\n",
       " 'Steven',\n",
       " 'Brent',\n",
       " 'Kyle',\n",
       " 'Bertrand',\n",
       " 'Yonas',\n",
       " 'Robert',\n",
       " 'Manuel',\n",
       " 'Gilbert',\n",
       " 'William',\n",
       " 'Felix',\n",
       " 'Devin',\n",
       " 'James',\n",
       " 'Rafael',\n",
       " 'Shawn',\n",
       " 'David',\n",
       " 'William',\n",
       " 'Cedric',\n",
       " 'Charles',\n",
       " 'Michael',\n",
       " 'Arthur',\n",
       " 'Freddy',\n",
       " 'Curtis',\n",
       " 'Jose',\n",
       " 'Richard',\n",
       " 'Sully',\n",
       " 'Harrison',\n",
       " \"La'vante\",\n",
       " 'Luis',\n",
       " 'Angelo',\n",
       " 'India',\n",
       " 'Carlos',\n",
       " 'Mohamed',\n",
       " 'William',\n",
       " 'Casimero',\n",
       " 'Tristan',\n",
       " 'Dustin',\n",
       " 'Tyrone',\n",
       " 'Vincent',\n",
       " 'William',\n",
       " 'Tian',\n",
       " 'Brandon',\n",
       " 'Austin',\n",
       " 'Eddie',\n",
       " 'Robert',\n",
       " 'Phillip',\n",
       " 'Derick',\n",
       " 'Jack',\n",
       " 'Martin',\n",
       " 'Clifford',\n",
       " 'Jeffrey',\n",
       " 'Joseph',\n",
       " 'David',\n",
       " 'Tyrone',\n",
       " 'Florencio',\n",
       " 'Jorge',\n",
       " 'Carlos',\n",
       " 'Bobby',\n",
       " 'Rory',\n",
       " 'Mark',\n",
       " 'Nicholas',\n",
       " 'Gregory',\n",
       " 'Lucien',\n",
       " 'Scott',\n",
       " 'Michael',\n",
       " 'Jerrald',\n",
       " 'Gerardo',\n",
       " 'William',\n",
       " 'Tina',\n",
       " 'Steven',\n",
       " 'Timothy',\n",
       " 'Dominic',\n",
       " 'Dante',\n",
       " 'Joel',\n",
       " 'Tim',\n",
       " 'Robert',\n",
       " 'Joseph',\n",
       " 'Keith',\n",
       " 'Kenneth',\n",
       " 'Jeremy',\n",
       " 'Ernesto',\n",
       " 'Patrick',\n",
       " 'Philip',\n",
       " 'William',\n",
       " 'James',\n",
       " 'Jeffrey',\n",
       " 'Anthony',\n",
       " 'Alejandro',\n",
       " 'Norma',\n",
       " 'Christopher',\n",
       " 'Victor',\n",
       " 'Junior',\n",
       " 'Alberto',\n",
       " 'Patrick',\n",
       " 'Robert',\n",
       " 'Brandon',\n",
       " 'David',\n",
       " 'Christian',\n",
       " 'Phyllis',\n",
       " 'Matthew',\n",
       " 'Eric',\n",
       " 'Jeffery',\n",
       " 'James',\n",
       " 'Rodney',\n",
       " 'Omar',\n",
       " 'Charles',\n",
       " 'Amado',\n",
       " 'Gary',\n",
       " 'Christopher',\n",
       " 'Richard',\n",
       " 'William',\n",
       " 'Travis',\n",
       " 'Anthony',\n",
       " 'Joe',\n",
       " 'Kevin',\n",
       " 'Bernard',\n",
       " 'Robert',\n",
       " 'Rudolph',\n",
       " 'Brent',\n",
       " 'Michelle',\n",
       " 'Samuel',\n",
       " 'Leslie',\n",
       " 'Jorge',\n",
       " 'Kaleb',\n",
       " 'Linda',\n",
       " 'Michael',\n",
       " 'Robert',\n",
       " 'Herbert',\n",
       " 'Martin',\n",
       " 'Johnny',\n",
       " 'Ricky',\n",
       " 'Gino',\n",
       " 'Dequan',\n",
       " 'Corey',\n",
       " 'Krikor',\n",
       " 'Dion',\n",
       " 'Roger',\n",
       " 'Lamontez',\n",
       " 'Joel',\n",
       " 'Darien',\n",
       " 'Jonathan',\n",
       " 'Miguel',\n",
       " 'Ryan',\n",
       " 'Timothy',\n",
       " 'Lawrence',\n",
       " 'Adriene',\n",
       " 'Stephen',\n",
       " 'Juan',\n",
       " 'Rolly',\n",
       " 'Dominic',\n",
       " 'Arthur',\n",
       " 'Darren',\n",
       " 'Jon',\n",
       " 'John',\n",
       " 'Kevin',\n",
       " 'Marquesha',\n",
       " 'Kobvey',\n",
       " 'Tyrie',\n",
       " 'Anthony',\n",
       " 'Ricky',\n",
       " 'Jerry',\n",
       " 'Jasper',\n",
       " 'Allen',\n",
       " 'Floyd',\n",
       " 'Mario',\n",
       " 'Tony',\n",
       " 'Daniel',\n",
       " 'Noah',\n",
       " 'Bennie',\n",
       " 'Luverne',\n",
       " 'Killian',\n",
       " 'Jack',\n",
       " 'James',\n",
       " 'Jeremy',\n",
       " 'Joseph',\n",
       " 'John',\n",
       " 'Faisal',\n",
       " 'Timothy',\n",
       " 'David',\n",
       " 'James',\n",
       " 'Jacob',\n",
       " 'Laura',\n",
       " 'Michael',\n",
       " 'James',\n",
       " 'Kim',\n",
       " 'Delvin',\n",
       " 'Cesar',\n",
       " 'Dale',\n",
       " 'Leonel',\n",
       " 'Miguel',\n",
       " 'Dana',\n",
       " 'Eddie',\n",
       " 'Jason',\n",
       " 'Andrew',\n",
       " 'Joseph',\n",
       " 'Javier',\n",
       " 'Brian',\n",
       " 'Ryan',\n",
       " 'Moises',\n",
       " 'Michael',\n",
       " 'Matthew',\n",
       " 'Ramon',\n",
       " 'Richard',\n",
       " 'John',\n",
       " 'Shane',\n",
       " 'Jamar',\n",
       " 'Cameron',\n",
       " 'Brent',\n",
       " 'Michael',\n",
       " 'Yohans',\n",
       " 'Demetrius',\n",
       " 'Jeray',\n",
       " 'Derry',\n",
       " 'Francis',\n",
       " 'Cornelius',\n",
       " 'Marcus',\n",
       " 'Steve',\n",
       " 'Darick',\n",
       " 'William',\n",
       " 'Nathaniel',\n",
       " 'Chris',\n",
       " 'James',\n",
       " 'Matthew',\n",
       " 'Miguel',\n",
       " 'Henry',\n",
       " 'Barry',\n",
       " 'Michael',\n",
       " 'Thomas',\n",
       " 'Freddy',\n",
       " 'Magnum',\n",
       " 'Douglas',\n",
       " 'Somer',\n",
       " 'Andrew',\n",
       " 'Rick',\n",
       " 'Kevin',\n",
       " 'Justin',\n",
       " 'Lionel',\n",
       " 'Ralph',\n",
       " 'Hugo',\n",
       " 'Tuan',\n",
       " 'Darius',\n",
       " 'Fernando',\n",
       " 'Joshua',\n",
       " 'John',\n",
       " 'Phillip',\n",
       " 'Tashfeen',\n",
       " 'Syed',\n",
       " 'Mario',\n",
       " 'Allen',\n",
       " 'Florencio',\n",
       " 'Neil',\n",
       " 'Ivan',\n",
       " 'Raymone',\n",
       " 'Colten',\n",
       " 'David',\n",
       " 'Michael',\n",
       " 'Sheilah',\n",
       " 'Juan',\n",
       " 'Raymond',\n",
       " 'Carlumandarlo',\n",
       " 'John',\n",
       " 'Miguel',\n",
       " 'Derek',\n",
       " 'Christopher',\n",
       " 'Jason',\n",
       " 'Charles',\n",
       " 'Thomas',\n",
       " 'Steven',\n",
       " 'Christopher',\n",
       " 'Javario',\n",
       " 'Nicholas',\n",
       " 'Jonathan',\n",
       " 'Andrew',\n",
       " 'Shirley',\n",
       " 'Ryan',\n",
       " 'Nephi',\n",
       " 'Enrique',\n",
       " 'Calvin',\n",
       " 'Jeffrey',\n",
       " 'Michael',\n",
       " 'Brenda',\n",
       " 'Mharloun',\n",
       " 'Roberto',\n",
       " 'Mark',\n",
       " 'Ronnie',\n",
       " 'Douglas',\n",
       " 'Christopher',\n",
       " 'Erica',\n",
       " 'Amos',\n",
       " 'Robert',\n",
       " 'Ruben',\n",
       " 'Leroy',\n",
       " 'Mark',\n",
       " 'Guadalupe',\n",
       " 'Bobby',\n",
       " 'Derek',\n",
       " 'Robert',\n",
       " 'Chan',\n",
       " 'Brandon',\n",
       " 'Kenneth',\n",
       " 'Michael',\n",
       " 'Jose',\n",
       " 'Kevin',\n",
       " 'Schuylar',\n",
       " 'Terrozza',\n",
       " 'Omar',\n",
       " 'Daquan',\n",
       " 'William',\n",
       " 'Lonnie',\n",
       " 'Quintonio',\n",
       " 'Gilbert',\n",
       " 'Michael',\n",
       " 'Sean',\n",
       " 'Gayneaux',\n",
       " 'Corey',\n",
       " 'Siolosega',\n",
       " 'Fred',\n",
       " 'Keith',\n",
       " 'Joshua',\n",
       " 'Sean',\n",
       " 'Lance',\n",
       " 'Lonnie',\n",
       " 'Germonta',\n",
       " 'Eric',\n",
       " 'Rodney',\n",
       " 'Joel',\n",
       " 'James',\n",
       " 'Carlton',\n",
       " 'Stephen',\n",
       " 'Albert',\n",
       " 'David',\n",
       " 'Charles',\n",
       " 'Alan',\n",
       " 'Kenneth',\n",
       " 'Eric',\n",
       " 'Andrew',\n",
       " 'David',\n",
       " 'Christine',\n",
       " 'Alan',\n",
       " 'Robert',\n",
       " 'Ramone',\n",
       " 'Ciara',\n",
       " 'Herman',\n",
       " 'Keith',\n",
       " 'Brandon',\n",
       " 'Timothy',\n",
       " 'Willie',\n",
       " 'Miguel',\n",
       " 'William',\n",
       " 'Rakeem',\n",
       " 'Alfred',\n",
       " 'Ashton',\n",
       " 'Adam',\n",
       " 'Kelsey',\n",
       " 'Clarence',\n",
       " 'Henry',\n",
       " 'Crayton',\n",
       " 'Efrain',\n",
       " 'Joshua',\n",
       " 'Corey',\n",
       " 'Daniel',\n",
       " 'Jordan',\n",
       " 'Eric',\n",
       " 'Timothy',\n",
       " 'Levi',\n",
       " 'Vasilios',\n",
       " 'Gary',\n",
       " 'Samuel',\n",
       " 'Jim',\n",
       " 'Timothy',\n",
       " 'Randy',\n",
       " ...)"
      ]
     },
     "execution_count": 245,
     "metadata": {},
     "output_type": "execute_result"
    }
   ],
   "source": [
    "namer"
   ]
  },
  {
   "cell_type": "code",
   "execution_count": 300,
   "metadata": {},
   "outputs": [
    {
     "data": {
      "text/plain": [
       "[('Lee', 33),\n",
       " ('J.', 29),\n",
       " ('Smith', 19),\n",
       " ('Johnson', 17),\n",
       " ('A.', 17),\n",
       " ('Allen', 16),\n",
       " ('M.', 16),\n",
       " ('D.', 14),\n",
       " ('Michael', 14),\n",
       " ('L.', 14),\n",
       " ('Joseph', 13),\n",
       " ('Ray', 12),\n",
       " ('Thomas', 12),\n",
       " ('Scott', 12),\n",
       " ('Hernandez', 11)]"
      ]
     },
     "execution_count": 300,
     "metadata": {},
     "output_type": "execute_result"
    }
   ],
   "source": [
    "surnamerz = Counter(surnamer).most_common(15)\n",
    "surnamerz"
   ]
  },
  {
   "cell_type": "code",
   "execution_count": 298,
   "metadata": {},
   "outputs": [
    {
     "data": {
      "text/plain": [
       "[('Michael', 68),\n",
       " ('David', 43),\n",
       " ('James', 39),\n",
       " ('Robert', 37),\n",
       " ('William', 35),\n",
       " ('John', 33),\n",
       " ('Richard', 31),\n",
       " ('Daniel', 31),\n",
       " ('Joseph', 30),\n",
       " ('Christopher', 30),\n",
       " ('Joshua', 26),\n",
       " ('Jose', 22),\n",
       " ('Jason', 21),\n",
       " ('Matthew', 20),\n",
       " ('Charles', 20)]"
      ]
     },
     "execution_count": 298,
     "metadata": {},
     "output_type": "execute_result"
    }
   ],
   "source": [
    "namerz = Counter(namer).most_common(15)"
   ]
  },
  {
   "cell_type": "code",
   "execution_count": 301,
   "metadata": {},
   "outputs": [],
   "source": [
    "dfsurnamer = pd.DataFrame.from_records(list(dict(surnamerz).items()), columns=['surnamers','numbers']).sort_values(by=\"numbers\",ascending= False)"
   ]
  },
  {
   "cell_type": "code",
   "execution_count": 304,
   "metadata": {},
   "outputs": [],
   "source": [
    "dfs = dfsurnamer.set_index(\"surnamers\")"
   ]
  },
  {
   "cell_type": "code",
   "execution_count": 272,
   "metadata": {},
   "outputs": [],
   "source": [
    "dfnamer = pd.DataFrame.from_records(list(dict(final).items()), columns=['namers','numbers']).sort_values(by=\"numbers\",ascending= False)"
   ]
  },
  {
   "cell_type": "code",
   "execution_count": 305,
   "metadata": {},
   "outputs": [],
   "source": [
    "dfn =dfnamer[:15]"
   ]
  },
  {
   "cell_type": "code",
   "execution_count": 276,
   "metadata": {
    "scrolled": true
   },
   "outputs": [],
   "source": [
    "dfnamer.set_index(\"namers\",inplace = True)\n"
   ]
  },
  {
   "cell_type": "code",
   "execution_count": 246,
   "metadata": {},
   "outputs": [
    {
     "data": {
      "text/plain": [
       "('Elliot',\n",
       " 'Lee',\n",
       " 'Paul',\n",
       " 'Hoffman',\n",
       " 'Rodriguez',\n",
       " 'Joe',\n",
       " 'Arnold',\n",
       " 'Nichols',\n",
       " 'Steele',\n",
       " 'Sapp',\n",
       " 'Wetter',\n",
       " 'Sneed',\n",
       " 'Hanif',\n",
       " 'Ryan',\n",
       " 'Julian',\n",
       " 'Simpson',\n",
       " 'Dudley',\n",
       " 'Damon',\n",
       " 'Hamby',\n",
       " 'Foreman',\n",
       " 'Martinez',\n",
       " 'Smith',\n",
       " 'Barbosa',\n",
       " 'Figueroa',\n",
       " 'Edward',\n",
       " 'McClendon',\n",
       " 'Golden',\n",
       " 'Goebel',\n",
       " 'Jordan',\n",
       " 'Schroeder',\n",
       " 'Edwards',\n",
       " 'R.',\n",
       " 'Sowell',\n",
       " 'Earl',\n",
       " 'Reed',\n",
       " 'Ceja',\n",
       " 'Massey',\n",
       " 'Hall',\n",
       " 'Shinwary',\n",
       " 'Walker',\n",
       " 'Meza',\n",
       " 'Brumley',\n",
       " 'Guillory',\n",
       " 'Castle',\n",
       " 'Campbell',\n",
       " 'Carr',\n",
       " 'Allen',\n",
       " 'Angel',\n",
       " 'Holmes',\n",
       " 'Toto',\n",
       " 'Meton',\n",
       " 'Coignard',\n",
       " 'Francis',\n",
       " 'Turner',\n",
       " 'Antonio',\n",
       " 'King',\n",
       " 'Myler',\n",
       " 'Hutchins',\n",
       " 'Jude',\n",
       " 'Hernandez',\n",
       " 'Kmetz',\n",
       " 'Omar',\n",
       " 'Garcia',\n",
       " 'Leland',\n",
       " 'Ingram',\n",
       " 'Fletcher',\n",
       " 'Terry',\n",
       " 'Lance',\n",
       " 'Nuu',\n",
       " 'Karasek',\n",
       " 'Willis',\n",
       " 'James',\n",
       " 'Barry',\n",
       " 'Manuel',\n",
       " 'Donnell',\n",
       " 'Haglund',\n",
       " 'Kassick',\n",
       " 'Murphy',\n",
       " 'D.',\n",
       " 'Henderson',\n",
       " 'Deshawn',\n",
       " 'Purvis',\n",
       " 'Lett',\n",
       " 'Colon',\n",
       " 'Muna',\n",
       " 'Hernandez',\n",
       " 'Ray',\n",
       " 'Atkins',\n",
       " 'Alfred',\n",
       " 'Hill',\n",
       " 'Sawyer',\n",
       " 'Allen',\n",
       " 'Martin',\n",
       " 'Flache',\n",
       " 'Cordaro',\n",
       " 'Paffen',\n",
       " 'Hostetter',\n",
       " 'Kreyssig',\n",
       " 'Luster',\n",
       " 'Zambrano-Montes',\n",
       " 'Bess',\n",
       " 'Fritze',\n",
       " 'Watkins',\n",
       " 'Ray',\n",
       " 'Larry',\n",
       " 'Lara-Rodriguez',\n",
       " 'Carlin',\n",
       " 'D.',\n",
       " 'Mejia',\n",
       " 'C.',\n",
       " 'Joy',\n",
       " 'Hall',\n",
       " 'Brent',\n",
       " 'Steward',\n",
       " 'Caldwell',\n",
       " 'K.',\n",
       " 'Evans',\n",
       " 'Sexton',\n",
       " 'Ireland',\n",
       " 'Lundy',\n",
       " 'Sparks',\n",
       " 'Juan',\n",
       " 'Fonville',\n",
       " 'Villalpando',\n",
       " 'Lamar',\n",
       " 'Harris',\n",
       " 'Moncrief',\n",
       " 'Norman',\n",
       " 'Leonard',\n",
       " 'Nichols',\n",
       " 'Elrod',\n",
       " 'Kohl',\n",
       " 'Wayne',\n",
       " 'Giaquinta',\n",
       " 'Washington',\n",
       " 'Biegert',\n",
       " 'Lewis',\n",
       " 'Spivey',\n",
       " 'Phillip',\n",
       " 'Cuevas',\n",
       " 'Perez-Lopez',\n",
       " 'Biggs',\n",
       " 'Lee',\n",
       " 'Javiar',\n",
       " 'Freeman',\n",
       " 'Guilford',\n",
       " 'Allen',\n",
       " 'Uribe',\n",
       " 'J.',\n",
       " 'Sherrod',\n",
       " 'Hill',\n",
       " 'Lewis',\n",
       " 'Leundeu',\n",
       " 'Trieu',\n",
       " 'Barrow',\n",
       " 'Rhinvil',\n",
       " 'Metz',\n",
       " 'Cruice',\n",
       " 'Lao',\n",
       " 'Ryerson',\n",
       " 'Alexander',\n",
       " 'Hubbard',\n",
       " 'Vinzant',\n",
       " 'Anthony',\n",
       " 'Robinson',\n",
       " 'Reinhart',\n",
       " 'Duarte',\n",
       " 'McKillop',\n",
       " 'Jenee',\n",
       " 'Brown',\n",
       " 'Brent',\n",
       " 'Lamont',\n",
       " 'Hill',\n",
       " 'Croom',\n",
       " 'Mitchell',\n",
       " 'Franco',\n",
       " 'Johnson',\n",
       " 'Greenwell',\n",
       " 'Osorio',\n",
       " 'Dean',\n",
       " 'Valdez',\n",
       " 'Fleury',\n",
       " 'Russell',\n",
       " 'Garnett',\n",
       " 'Gross',\n",
       " 'Liggett',\n",
       " 'Driver',\n",
       " 'Perez',\n",
       " 'Richard',\n",
       " 'Castilleja',\n",
       " 'Reintzel',\n",
       " 'Siler',\n",
       " 'Ray',\n",
       " 'Tolkinen',\n",
       " 'Dean',\n",
       " 'Smith',\n",
       " 'Leon',\n",
       " 'Charles',\n",
       " 'Owen',\n",
       " 'Brown',\n",
       " 'Alexander',\n",
       " 'Stone',\n",
       " 'Lee',\n",
       " 'Alston',\n",
       " 'Childress',\n",
       " 'Burdge',\n",
       " 'Watkins',\n",
       " 'Jones',\n",
       " 'Rapp',\n",
       " 'Fowler',\n",
       " 'White',\n",
       " 'Vick',\n",
       " 'Ellis',\n",
       " 'Page',\n",
       " 'Smith',\n",
       " 'Gaver',\n",
       " 'Conley',\n",
       " 'Ryan',\n",
       " 'Brown',\n",
       " 'Gates',\n",
       " 'Snyder',\n",
       " 'J.',\n",
       " 'Dunham',\n",
       " 'Thomas',\n",
       " 'Lorenza',\n",
       " 'Terrazas',\n",
       " 'Tassinari',\n",
       " 'Choate',\n",
       " 'Solis',\n",
       " 'Kendrick',\n",
       " 'Hall',\n",
       " 'Hernandez',\n",
       " 'Seifert',\n",
       " 'Hockaday',\n",
       " 'Oates',\n",
       " 'West',\n",
       " 'Rooker',\n",
       " 'Herbert',\n",
       " 'Babb',\n",
       " 'Anderson',\n",
       " 'Quezada',\n",
       " 'Hall',\n",
       " 'Washington',\n",
       " 'Clyde',\n",
       " 'Langford',\n",
       " 'Hicks',\n",
       " 'Harris',\n",
       " 'Rutledge',\n",
       " 'Prevatt',\n",
       " 'Howell',\n",
       " 'Scott',\n",
       " 'Anderson',\n",
       " 'Noll',\n",
       " 'Cockerel',\n",
       " 'Hanna',\n",
       " 'Myers',\n",
       " 'Willis',\n",
       " 'J.',\n",
       " 'Rose',\n",
       " 'Faith',\n",
       " 'Pernell',\n",
       " 'Rodriguez',\n",
       " 'Jeremy',\n",
       " 'Kimbrell',\n",
       " 'Smith',\n",
       " 'Leipold',\n",
       " 'Burgess',\n",
       " 'Cresencio',\n",
       " 'Reed',\n",
       " 'Allen',\n",
       " 'Long',\n",
       " 'Dale',\n",
       " 'Lee',\n",
       " 'Jimenez',\n",
       " 'Robinson',\n",
       " 'Grant',\n",
       " 'Barkley',\n",
       " 'Noble',\n",
       " 'Shephard',\n",
       " 'W.',\n",
       " 'Watson',\n",
       " 'Flores',\n",
       " 'Velazquez',\n",
       " 'Kemp',\n",
       " 'Cavazos',\n",
       " 'McCarroll',\n",
       " 'Tellez',\n",
       " 'Sapp',\n",
       " 'Foster',\n",
       " 'Hlavinka',\n",
       " 'Cortez',\n",
       " 'Wolfe',\n",
       " 'Covarrubias',\n",
       " 'Key',\n",
       " 'Martinez',\n",
       " 'Chapman',\n",
       " 'Saavedra',\n",
       " 'Efraim',\n",
       " 'McGregor',\n",
       " 'Vang',\n",
       " 'Valadez',\n",
       " 'Potts',\n",
       " 'Morejon',\n",
       " 'Janks',\n",
       " 'Cecil',\n",
       " 'Timmie',\n",
       " 'Jamal',\n",
       " 'Lawrence',\n",
       " 'Felix',\n",
       " 'Davis',\n",
       " 'Joe',\n",
       " 'Hanson',\n",
       " 'Genova',\n",
       " 'Kellom',\n",
       " 'Parker',\n",
       " 'Johnson',\n",
       " 'Green',\n",
       " 'Jackson',\n",
       " 'Deysie',\n",
       " 'Chavez-Diaz',\n",
       " 'Christian',\n",
       " 'Adkins',\n",
       " 'Acree',\n",
       " 'Zalbeg',\n",
       " 'Emmanuel',\n",
       " 'Mathena',\n",
       " 'Vance',\n",
       " 'Simpson',\n",
       " 'Soofi',\n",
       " 'Grimm',\n",
       " 'Asher',\n",
       " 'Cook',\n",
       " 'Glenn',\n",
       " 'Kien',\n",
       " 'A.',\n",
       " 'William',\n",
       " 'Murphy',\n",
       " 'Arriguin',\n",
       " 'Johnson',\n",
       " 'Schwalm',\n",
       " 'Marshall',\n",
       " 'Holmes',\n",
       " 'Cunningham',\n",
       " 'Lorenzo',\n",
       " 'Goldston',\n",
       " 'Way',\n",
       " 'Stallworth',\n",
       " 'Zalonka',\n",
       " 'Ouzounian',\n",
       " 'Michael',\n",
       " 'Martin',\n",
       " 'Farrar',\n",
       " 'Coates',\n",
       " 'Wade',\n",
       " 'Fiel',\n",
       " 'Goodner',\n",
       " 'Jones',\n",
       " 'Rials-Torres',\n",
       " 'McIntosh',\n",
       " 'Gaines',\n",
       " 'Gomez',\n",
       " 'Colley',\n",
       " 'Talbott',\n",
       " 'Jo',\n",
       " 'Wheeler',\n",
       " 'Alejandro',\n",
       " 'Washington',\n",
       " 'Anthony',\n",
       " 'Diaz',\n",
       " 'Caldwell',\n",
       " 'Lowery',\n",
       " 'Jackson',\n",
       " 'Horn',\n",
       " 'Robinson',\n",
       " 'Bolin',\n",
       " 'Briggs',\n",
       " 'Tallant',\n",
       " 'Branch',\n",
       " 'Williams',\n",
       " 'McAllister',\n",
       " 'Sandeno',\n",
       " 'Davis',\n",
       " 'Morad',\n",
       " 'Hubble',\n",
       " 'Morgan',\n",
       " 'Strong',\n",
       " 'Dothard',\n",
       " 'Baker',\n",
       " 'Allen',\n",
       " 'Fischer',\n",
       " 'Box',\n",
       " 'Lamont',\n",
       " 'Tirado',\n",
       " 'Bushey',\n",
       " 'Ladd',\n",
       " 'Rahim',\n",
       " 'Dajani',\n",
       " 'Garza',\n",
       " 'Baca',\n",
       " 'Martinez',\n",
       " 'Hernandez',\n",
       " 'Neal',\n",
       " 'Quezada',\n",
       " 'Cathers',\n",
       " 'Hogg',\n",
       " 'Smillie',\n",
       " 'Campos',\n",
       " 'Nevels',\n",
       " 'Ramirez',\n",
       " 'Wayne',\n",
       " 'Marshall',\n",
       " 'Garcia',\n",
       " 'Warolf',\n",
       " 'Linhart',\n",
       " 'Hartley',\n",
       " 'Hicks',\n",
       " 'Bolinger',\n",
       " 'Hampton',\n",
       " 'Ziegler',\n",
       " 'Severe',\n",
       " 'Flores',\n",
       " 'Peralta-Lantigua',\n",
       " 'Haendiges',\n",
       " 'Hodge',\n",
       " 'Manyoun',\n",
       " 'Boulware',\n",
       " 'Garcia',\n",
       " 'Terryn',\n",
       " 'Jackson',\n",
       " 'DeLeon',\n",
       " 'Charboneau',\n",
       " 'Chappell',\n",
       " 'Lanphier',\n",
       " 'Tcherniak',\n",
       " 'Laboy',\n",
       " 'Hummons',\n",
       " 'Atencio',\n",
       " 'Cockerham',\n",
       " 'Simental',\n",
       " 'Marshall',\n",
       " 'Monroe',\n",
       " 'Reyes',\n",
       " 'Wicks',\n",
       " 'Harris',\n",
       " 'Dyer',\n",
       " 'Wilson',\n",
       " 'Waddel',\n",
       " 'Culbertson',\n",
       " 'A.',\n",
       " 'McCain',\n",
       " 'Jake',\n",
       " 'Matt',\n",
       " 'Angel',\n",
       " 'Crittenden',\n",
       " 'Bellew',\n",
       " 'LaPort',\n",
       " 'Alan',\n",
       " 'Lamont',\n",
       " 'Landon',\n",
       " 'Buckley',\n",
       " 'Nguyen',\n",
       " 'Emanuel',\n",
       " 'A.',\n",
       " 'Lopez',\n",
       " 'Camacho',\n",
       " 'Julian',\n",
       " 'Elando',\n",
       " 'Shannon',\n",
       " 'Beaty',\n",
       " 'David',\n",
       " 'Deming',\n",
       " 'Holt',\n",
       " 'Munroe',\n",
       " 'Ray',\n",
       " 'Rogers',\n",
       " 'Esty-Lennon',\n",
       " 'Oliva',\n",
       " 'Leonard',\n",
       " 'Hendley',\n",
       " 'Jamarcus',\n",
       " 'Dujanovic',\n",
       " 'Cody',\n",
       " 'Hernandez',\n",
       " 'Graciano',\n",
       " 'Dantzler',\n",
       " 'Booth',\n",
       " 'Blough',\n",
       " 'Terence',\n",
       " 'Shatley',\n",
       " 'Joseph',\n",
       " 'Hammonds',\n",
       " 'Milliner',\n",
       " 'Hurtado',\n",
       " 'White',\n",
       " 'Hawkins',\n",
       " 'Michael',\n",
       " 'Blue',\n",
       " 'McSwain',\n",
       " 'Maine',\n",
       " 'Castaway',\n",
       " 'Ellswood',\n",
       " 'Lepine',\n",
       " 'Watson',\n",
       " 'Benton',\n",
       " 'Farmer',\n",
       " 'Ryan',\n",
       " 'Suazo',\n",
       " 'Davis',\n",
       " 'Avant',\n",
       " 'Kailing',\n",
       " 'Smith',\n",
       " 'Gonzalez',\n",
       " 'Foster',\n",
       " 'Stephen',\n",
       " 'Youssef',\n",
       " 'Hack',\n",
       " 'Gabriel',\n",
       " 'Smith',\n",
       " 'Joseph',\n",
       " 'Brand',\n",
       " 'Stewart',\n",
       " 'Roman',\n",
       " 'Wheat',\n",
       " 'Thomas',\n",
       " 'Edward',\n",
       " 'DuBose',\n",
       " 'LeBoeuf',\n",
       " 'Billy',\n",
       " 'Fuller',\n",
       " 'Tyre',\n",
       " 'Benitez-Santiago',\n",
       " 'Dontrell',\n",
       " 'Guisherd',\n",
       " 'L.',\n",
       " 'Wolfsteller',\n",
       " 'Stortzum',\n",
       " 'Lee',\n",
       " 'Satre',\n",
       " 'Raines',\n",
       " 'Aaron',\n",
       " 'Olmstead',\n",
       " 'Braswell',\n",
       " 'Keith',\n",
       " 'Jackson',\n",
       " 'Westly',\n",
       " 'Hammond',\n",
       " 'Milliken',\n",
       " 'Paul',\n",
       " 'Forgy',\n",
       " 'Malone',\n",
       " 'Darrin',\n",
       " 'Perkins',\n",
       " 'Daniel',\n",
       " 'Vallejo',\n",
       " 'Lotari',\n",
       " 'Molina',\n",
       " 'Hatch',\n",
       " 'Serrano',\n",
       " 'Reynolds',\n",
       " 'Clements',\n",
       " 'Malave',\n",
       " 'Short',\n",
       " 'Ruble',\n",
       " 'Robert',\n",
       " 'D.',\n",
       " 'Alexander',\n",
       " 'Dieringer',\n",
       " 'Hodge',\n",
       " 'Dominique',\n",
       " 'Montano',\n",
       " 'Galaviz',\n",
       " 'Ponce-Galon',\n",
       " 'Bertram',\n",
       " 'Taylor',\n",
       " 'Correa',\n",
       " 'Marchese',\n",
       " 'Keckhafer',\n",
       " 'Clark',\n",
       " 'Lee',\n",
       " 'Terrel',\n",
       " 'Clyde',\n",
       " 'McDaniel',\n",
       " 'Green',\n",
       " 'Tompkins',\n",
       " 'Rivera',\n",
       " 'Tyler',\n",
       " 'George',\n",
       " 'Lance',\n",
       " 'Dean',\n",
       " 'Wilks',\n",
       " 'Jones',\n",
       " 'Lorenzo',\n",
       " 'Marshall',\n",
       " 'Smith',\n",
       " 'Tyree',\n",
       " 'Rene',\n",
       " 'Pharoah',\n",
       " 'Anderson',\n",
       " 'Unsworth',\n",
       " 'Matthew',\n",
       " 'Pope',\n",
       " 'Castillo',\n",
       " 'B.',\n",
       " 'Roy',\n",
       " 'Jacquez',\n",
       " 'Ball-Bey',\n",
       " 'Ernel',\n",
       " 'Hale',\n",
       " 'Allen',\n",
       " 'Gerken',\n",
       " 'Ray',\n",
       " 'Herrera',\n",
       " 'Walling',\n",
       " 'S.',\n",
       " 'Joseph',\n",
       " 'Schneider',\n",
       " 'Faison',\n",
       " 'Lee',\n",
       " 'Garner',\n",
       " 'Henry',\n",
       " 'Francis',\n",
       " 'Ray',\n",
       " 'Hoffman',\n",
       " 'Troledge',\n",
       " 'Lee',\n",
       " 'Maestas',\n",
       " 'Smith',\n",
       " 'Tomlinson',\n",
       " 'Rudolph',\n",
       " 'Arroliga',\n",
       " 'Dodd',\n",
       " 'Pickard',\n",
       " 'Lambrose',\n",
       " 'Davis',\n",
       " 'Alehegne',\n",
       " 'Hober',\n",
       " 'Soriano',\n",
       " 'Flores',\n",
       " 'Evans',\n",
       " 'Kumi',\n",
       " 'Brian',\n",
       " 'Marcus',\n",
       " 'Cruz',\n",
       " 'Hall',\n",
       " 'M.',\n",
       " 'Rippley',\n",
       " 'Maurice',\n",
       " 'Robert',\n",
       " 'Todd',\n",
       " 'Bates',\n",
       " 'Centeno',\n",
       " 'James',\n",
       " 'Ramon',\n",
       " 'Keith',\n",
       " 'Lanier',\n",
       " 'Lambert',\n",
       " 'Trevon',\n",
       " 'Wenceslao',\n",
       " 'Delano',\n",
       " 'Kager',\n",
       " 'Yero',\n",
       " 'Ibrahim',\n",
       " 'Verrett',\n",
       " 'Carlos',\n",
       " 'Vent',\n",
       " 'Kuik',\n",
       " 'Holman',\n",
       " 'J.',\n",
       " 'Chau',\n",
       " 'Ma',\n",
       " 'Foy',\n",
       " 'Wilburly',\n",
       " 'Tapia',\n",
       " 'T.',\n",
       " 'Pfleghardt',\n",
       " 'Davis',\n",
       " 'Stevens',\n",
       " 'Francis',\n",
       " 'Butler',\n",
       " 'Eugene',\n",
       " 'Thompson',\n",
       " 'Todd',\n",
       " 'Bass',\n",
       " 'Chaidez',\n",
       " 'Suarez-Ruiz',\n",
       " 'Wilhelm',\n",
       " 'R.',\n",
       " 'Lynn',\n",
       " 'Gary',\n",
       " 'Alan',\n",
       " 'Herrell',\n",
       " 'Rolland',\n",
       " 'Beech',\n",
       " 'Thomas',\n",
       " 'Wright',\n",
       " 'Ramirez',\n",
       " 'Spaits',\n",
       " 'Money',\n",
       " 'McKenny',\n",
       " 'Wagner',\n",
       " 'Fuller',\n",
       " 'Osborne',\n",
       " 'Dixon',\n",
       " 'Kyle',\n",
       " 'Berger',\n",
       " 'Khammash',\n",
       " 'Harrison',\n",
       " 'Ray',\n",
       " 'McDole',\n",
       " 'Medina',\n",
       " \"O'Grady\",\n",
       " 'Quinn',\n",
       " 'Lemmon',\n",
       " 'Anderson',\n",
       " 'Blood',\n",
       " 'McKinney',\n",
       " 'Lerma',\n",
       " 'Angelica',\n",
       " 'Shell',\n",
       " 'Oswaldo',\n",
       " 'Prosper',\n",
       " 'Hernandez',\n",
       " 'Stephen',\n",
       " 'Christen',\n",
       " 'Lamar',\n",
       " 'M.',\n",
       " 'Pena',\n",
       " 'Ilene',\n",
       " 'Dobbins',\n",
       " 'Edgell',\n",
       " 'McCallum',\n",
       " 'Dunaway',\n",
       " 'Jencsik',\n",
       " 'Ali',\n",
       " 'A.',\n",
       " 'Lago',\n",
       " 'Carmona',\n",
       " 'Whitmarsh',\n",
       " 'Love',\n",
       " 'Combs',\n",
       " 'Quay',\n",
       " 'Aguilar',\n",
       " 'Pasquez',\n",
       " 'Lau',\n",
       " 'Brandon',\n",
       " 'Humberto',\n",
       " 'Smith',\n",
       " 'Brannon',\n",
       " 'Marie',\n",
       " 'Villarreal',\n",
       " 'Portis',\n",
       " 'Santiago',\n",
       " 'Alexander',\n",
       " 'Lee',\n",
       " 'J.',\n",
       " 'Burgess',\n",
       " 'Benitez',\n",
       " 'Ryans',\n",
       " 'Angel',\n",
       " 'Javenta',\n",
       " 'Paredes',\n",
       " 'Williams',\n",
       " 'Jones',\n",
       " 'Ekizian',\n",
       " 'Lamont',\n",
       " 'D.',\n",
       " 'Jones',\n",
       " 'Lopes',\n",
       " 'Greenwood',\n",
       " 'Tyler',\n",
       " 'Angel',\n",
       " 'Christopher',\n",
       " 'Arnold',\n",
       " 'Green',\n",
       " 'Jamarr',\n",
       " 'H.',\n",
       " 'Ulloa',\n",
       " 'Thomas',\n",
       " 'Hutchinson',\n",
       " 'West',\n",
       " 'Myron',\n",
       " 'Ployhar',\n",
       " 'Harley',\n",
       " 'Brunson',\n",
       " 'McMillan',\n",
       " 'Igbuhay',\n",
       " 'Cuyler',\n",
       " 'Ashford',\n",
       " 'Keith',\n",
       " 'Michael',\n",
       " 'Levi',\n",
       " 'Quintez',\n",
       " 'Ray',\n",
       " 'Martinez',\n",
       " 'Berry',\n",
       " 'Nole',\n",
       " 'Harpham',\n",
       " 'Lee',\n",
       " 'Roy',\n",
       " \"O'Quinn\",\n",
       " 'Yantis',\n",
       " 'Covington',\n",
       " 'Mardis',\n",
       " 'Tyndall',\n",
       " 'Allen',\n",
       " 'Mohammad',\n",
       " 'Gene',\n",
       " 'Romanoski',\n",
       " 'Bigley',\n",
       " 'Hohman',\n",
       " 'Lemieux',\n",
       " 'Johnson',\n",
       " 'Francis',\n",
       " 'Lee',\n",
       " 'Simmons',\n",
       " 'Cuellar',\n",
       " 'Maverick',\n",
       " 'Acevedo',\n",
       " 'Cano',\n",
       " 'Bruce',\n",
       " 'Gabriel',\n",
       " 'Leanard',\n",
       " 'Blake',\n",
       " 'Jaramillo',\n",
       " 'Lopez',\n",
       " 'Gavin',\n",
       " 'Quinn',\n",
       " 'Nero',\n",
       " 'Joseph',\n",
       " 'Coleman',\n",
       " 'Salazar',\n",
       " 'Perkins',\n",
       " 'David',\n",
       " 'Whitehead',\n",
       " 'Clark',\n",
       " 'Davis',\n",
       " 'Noblitt',\n",
       " 'Tindall',\n",
       " 'Leon',\n",
       " 'Bryant',\n",
       " 'Chatham',\n",
       " 'Touchstone',\n",
       " 'Hartnett',\n",
       " 'Brown',\n",
       " 'Meridy',\n",
       " 'Dormil',\n",
       " 'Napper',\n",
       " 'Tarrant',\n",
       " 'Harris',\n",
       " 'Nichols',\n",
       " 'Daniel',\n",
       " 'Grows',\n",
       " 'Angel',\n",
       " 'Reyna',\n",
       " 'Kirk',\n",
       " 'Kirvelay',\n",
       " 'Joseph',\n",
       " 'Baez',\n",
       " 'Edgar',\n",
       " 'R.',\n",
       " 'Speer',\n",
       " 'Thomas',\n",
       " 'Gullickson',\n",
       " 'Close',\n",
       " 'D.',\n",
       " 'Kerns',\n",
       " 'Aguilar',\n",
       " 'Fernando',\n",
       " 'Hoang',\n",
       " 'Smith',\n",
       " 'Sauceda',\n",
       " 'Jozefowicz',\n",
       " 'Anthony',\n",
       " 'Munoz',\n",
       " 'Malik',\n",
       " 'Farook',\n",
       " 'Woods',\n",
       " 'Pacheco',\n",
       " 'Lucero',\n",
       " 'Scott',\n",
       " 'Krstic',\n",
       " 'M.',\n",
       " 'Price',\n",
       " 'Winesett',\n",
       " 'L.',\n",
       " 'Huck',\n",
       " 'Perez',\n",
       " 'Azevedo',\n",
       " 'Zaramo',\n",
       " 'Alan',\n",
       " 'Espinal',\n",
       " 'Stokes',\n",
       " 'Higdon',\n",
       " 'Bryant',\n",
       " 'Edward',\n",
       " 'Arthur',\n",
       " 'Wickert',\n",
       " 'Goodlow',\n",
       " 'Shante',\n",
       " 'Robertson',\n",
       " 'Wardlow',\n",
       " 'Jospeh',\n",
       " 'Weis',\n",
       " 'McMillan',\n",
       " 'Leiataua',\n",
       " 'Gonzalez',\n",
       " 'McKinnis',\n",
       " 'Gene',\n",
       " 'Thomason',\n",
       " 'Dean',\n",
       " 'Verdejo',\n",
       " 'Sanchez',\n",
       " 'Toney',\n",
       " 'Dubose',\n",
       " 'Yon',\n",
       " 'Fletcher',\n",
       " 'Lauro',\n",
       " 'Frerichs',\n",
       " 'L.',\n",
       " 'Jose',\n",
       " 'Browning',\n",
       " 'Ramirez',\n",
       " 'Quiroz',\n",
       " 'Daniels',\n",
       " 'DeGroat',\n",
       " 'L.',\n",
       " 'Leith',\n",
       " 'Barsnick',\n",
       " 'Stephens',\n",
       " 'Hilber',\n",
       " 'Rodriguez',\n",
       " 'Matthews',\n",
       " 'Gunning',\n",
       " 'Tyree',\n",
       " 'Ventura',\n",
       " 'Antonio',\n",
       " 'David',\n",
       " 'Niesen',\n",
       " 'LeGrier',\n",
       " 'Heredia',\n",
       " 'Parker',\n",
       " 'Mould',\n",
       " 'Paul',\n",
       " 'Jason',\n",
       " 'Velega-Nuufolau',\n",
       " 'Perez',\n",
       " 'Childress',\n",
       " 'Sisson',\n",
       " \"O'Brien\",\n",
       " 'Light',\n",
       " 'Haskell',\n",
       " 'Wallace',\n",
       " 'John',\n",
       " 'Turner',\n",
       " 'Anthony',\n",
       " 'K.',\n",
       " 'Antonio',\n",
       " 'Bukwich',\n",
       " 'Thompson',\n",
       " 'Zollo',\n",
       " 'Hollstein',\n",
       " 'Huberth',\n",
       " 'Clay',\n",
       " 'C.',\n",
       " 'Earl',\n",
       " 'Jay',\n",
       " 'A.',\n",
       " 'Paul',\n",
       " 'Tenbrink',\n",
       " 'Lonergan',\n",
       " 'Meyer',\n",
       " 'Bean',\n",
       " 'Richardson',\n",
       " 'Bearden',\n",
       " 'Meehan',\n",
       " 'Holderfield',\n",
       " 'Hernandez',\n",
       " 'Keith',\n",
       " 'Bentley',\n",
       " 'Longoria',\n",
       " 'Lane',\n",
       " 'Karjalainen',\n",
       " 'Rose',\n",
       " 'Layfield',\n",
       " 'Bennett',\n",
       " 'West',\n",
       " 'Herrera',\n",
       " 'Tate',\n",
       " 'Lee',\n",
       " 'Shaver',\n",
       " 'Szymanski',\n",
       " 'Provost',\n",
       " 'Caruthers',\n",
       " 'Gene',\n",
       " 'Alexander',\n",
       " 'Wayne',\n",
       " 'Grady',\n",
       " 'Redmond',\n",
       " 'Albert',\n",
       " 'Joe',\n",
       " ...)"
      ]
     },
     "execution_count": 246,
     "metadata": {},
     "output_type": "execute_result"
    }
   ],
   "source": [
    "surnamer"
   ]
  },
  {
   "cell_type": "code",
   "execution_count": null,
   "metadata": {},
   "outputs": [],
   "source": []
  },
  {
   "cell_type": "code",
   "execution_count": 323,
   "metadata": {},
   "outputs": [],
   "source": [
    "dfsn =pd.concat([dfs,dfn])"
   ]
  },
  {
   "cell_type": "code",
   "execution_count": 331,
   "metadata": {},
   "outputs": [],
   "source": [
    "most_common = dfsn.sort_values(by=\"numbers\",ascending= False)"
   ]
  },
  {
   "cell_type": "code",
   "execution_count": 332,
   "metadata": {},
   "outputs": [
    {
     "data": {
      "text/html": [
       "<div>\n",
       "<style scoped>\n",
       "    .dataframe tbody tr th:only-of-type {\n",
       "        vertical-align: middle;\n",
       "    }\n",
       "\n",
       "    .dataframe tbody tr th {\n",
       "        vertical-align: top;\n",
       "    }\n",
       "\n",
       "    .dataframe thead th {\n",
       "        text-align: right;\n",
       "    }\n",
       "</style>\n",
       "<table border=\"1\" class=\"dataframe\">\n",
       "  <thead>\n",
       "    <tr style=\"text-align: right;\">\n",
       "      <th></th>\n",
       "      <th>numbers</th>\n",
       "    </tr>\n",
       "  </thead>\n",
       "  <tbody>\n",
       "    <tr>\n",
       "      <th>Michael</th>\n",
       "      <td>68</td>\n",
       "    </tr>\n",
       "    <tr>\n",
       "      <th>David</th>\n",
       "      <td>43</td>\n",
       "    </tr>\n",
       "    <tr>\n",
       "      <th>James</th>\n",
       "      <td>39</td>\n",
       "    </tr>\n",
       "    <tr>\n",
       "      <th>Robert</th>\n",
       "      <td>37</td>\n",
       "    </tr>\n",
       "    <tr>\n",
       "      <th>William</th>\n",
       "      <td>35</td>\n",
       "    </tr>\n",
       "    <tr>\n",
       "      <th>John</th>\n",
       "      <td>33</td>\n",
       "    </tr>\n",
       "    <tr>\n",
       "      <th>Lee</th>\n",
       "      <td>33</td>\n",
       "    </tr>\n",
       "    <tr>\n",
       "      <th>Daniel</th>\n",
       "      <td>31</td>\n",
       "    </tr>\n",
       "    <tr>\n",
       "      <th>Richard</th>\n",
       "      <td>31</td>\n",
       "    </tr>\n",
       "    <tr>\n",
       "      <th>Joseph</th>\n",
       "      <td>30</td>\n",
       "    </tr>\n",
       "    <tr>\n",
       "      <th>Christopher</th>\n",
       "      <td>30</td>\n",
       "    </tr>\n",
       "    <tr>\n",
       "      <th>J.</th>\n",
       "      <td>29</td>\n",
       "    </tr>\n",
       "    <tr>\n",
       "      <th>Joshua</th>\n",
       "      <td>26</td>\n",
       "    </tr>\n",
       "    <tr>\n",
       "      <th>Jose</th>\n",
       "      <td>22</td>\n",
       "    </tr>\n",
       "    <tr>\n",
       "      <th>Jason</th>\n",
       "      <td>21</td>\n",
       "    </tr>\n",
       "    <tr>\n",
       "      <th>Charles</th>\n",
       "      <td>20</td>\n",
       "    </tr>\n",
       "    <tr>\n",
       "      <th>Matthew</th>\n",
       "      <td>20</td>\n",
       "    </tr>\n",
       "    <tr>\n",
       "      <th>Smith</th>\n",
       "      <td>19</td>\n",
       "    </tr>\n",
       "    <tr>\n",
       "      <th>Johnson</th>\n",
       "      <td>17</td>\n",
       "    </tr>\n",
       "    <tr>\n",
       "      <th>A.</th>\n",
       "      <td>17</td>\n",
       "    </tr>\n",
       "    <tr>\n",
       "      <th>Allen</th>\n",
       "      <td>16</td>\n",
       "    </tr>\n",
       "    <tr>\n",
       "      <th>M.</th>\n",
       "      <td>16</td>\n",
       "    </tr>\n",
       "    <tr>\n",
       "      <th>Michael</th>\n",
       "      <td>14</td>\n",
       "    </tr>\n",
       "    <tr>\n",
       "      <th>L.</th>\n",
       "      <td>14</td>\n",
       "    </tr>\n",
       "    <tr>\n",
       "      <th>D.</th>\n",
       "      <td>14</td>\n",
       "    </tr>\n",
       "    <tr>\n",
       "      <th>Joseph</th>\n",
       "      <td>13</td>\n",
       "    </tr>\n",
       "    <tr>\n",
       "      <th>Scott</th>\n",
       "      <td>12</td>\n",
       "    </tr>\n",
       "    <tr>\n",
       "      <th>Thomas</th>\n",
       "      <td>12</td>\n",
       "    </tr>\n",
       "    <tr>\n",
       "      <th>Ray</th>\n",
       "      <td>12</td>\n",
       "    </tr>\n",
       "    <tr>\n",
       "      <th>Hernandez</th>\n",
       "      <td>11</td>\n",
       "    </tr>\n",
       "  </tbody>\n",
       "</table>\n",
       "</div>"
      ],
      "text/plain": [
       "             numbers\n",
       "Michael           68\n",
       "David             43\n",
       "James             39\n",
       "Robert            37\n",
       "William           35\n",
       "John              33\n",
       "Lee               33\n",
       "Daniel            31\n",
       "Richard           31\n",
       "Joseph            30\n",
       "Christopher       30\n",
       "J.                29\n",
       "Joshua            26\n",
       "Jose              22\n",
       "Jason             21\n",
       "Charles           20\n",
       "Matthew           20\n",
       "Smith             19\n",
       "Johnson           17\n",
       "A.                17\n",
       "Allen             16\n",
       "M.                16\n",
       "Michael           14\n",
       "L.                14\n",
       "D.                14\n",
       "Joseph            13\n",
       "Scott             12\n",
       "Thomas            12\n",
       "Ray               12\n",
       "Hernandez         11"
      ]
     },
     "execution_count": 332,
     "metadata": {},
     "output_type": "execute_result"
    }
   ],
   "source": [
    "most_common"
   ]
  },
  {
   "cell_type": "code",
   "execution_count": null,
   "metadata": {},
   "outputs": [],
   "source": []
  },
  {
   "cell_type": "code",
   "execution_count": null,
   "metadata": {
    "colab": {
     "base_uri": "https://localhost:8080/"
    },
    "executionInfo": {
     "elapsed": 41,
     "status": "ok",
     "timestamp": 1622926985765,
     "user": {
      "displayName": "Thomas Rico",
      "photoUrl": "",
      "userId": "03459133432310094050"
     },
     "user_tz": -180
    },
    "id": "wTOlNN6V-G-W",
    "outputId": "d02b14f6-6ec4-4294-a850-ef94ce1572fa"
   },
   "outputs": [
    {
     "data": {
      "text/plain": [
       "(2253,)"
      ]
     },
     "execution_count": 32,
     "metadata": {
      "tags": []
     },
     "output_type": "execute_result"
    }
   ],
   "source": []
  },
  {
   "cell_type": "code",
   "execution_count": null,
   "metadata": {
    "colab": {
     "base_uri": "https://localhost:8080/"
    },
    "executionInfo": {
     "elapsed": 40,
     "status": "ok",
     "timestamp": 1622926985765,
     "user": {
      "displayName": "Thomas Rico",
      "photoUrl": "",
      "userId": "03459133432310094050"
     },
     "user_tz": -180
    },
    "id": "0Ml-0Jbo-G-X",
    "outputId": "ccd66eaa-e0c5-4dc6-9aec-a99008ae63eb"
   },
   "outputs": [
    {
     "data": {
      "text/plain": [
       "['Tim', 'Elliot']"
      ]
     },
     "execution_count": 33,
     "metadata": {
      "tags": []
     },
     "output_type": "execute_result"
    }
   ],
   "source": []
  },
  {
   "cell_type": "code",
   "execution_count": null,
   "metadata": {
    "colab": {
     "base_uri": "https://localhost:8080/",
     "height": 35
    },
    "executionInfo": {
     "elapsed": 39,
     "status": "ok",
     "timestamp": 1622926985765,
     "user": {
      "displayName": "Thomas Rico",
      "photoUrl": "",
      "userId": "03459133432310094050"
     },
     "user_tz": -180
    },
    "id": "B4S3UjP--G-X",
    "outputId": "c4aeaea4-b782-4c61-cb49-c588ecbed42b"
   },
   "outputs": [
    {
     "data": {
      "application/vnd.google.colaboratory.intrinsic+json": {
       "type": "string"
      },
      "text/plain": [
       "'Tim'"
      ]
     },
     "execution_count": 34,
     "metadata": {
      "tags": []
     },
     "output_type": "execute_result"
    }
   ],
   "source": []
  },
  {
   "cell_type": "code",
   "execution_count": null,
   "metadata": {
    "id": "eIN9wmQZ-G-X"
   },
   "outputs": [],
   "source": []
  },
  {
   "cell_type": "code",
   "execution_count": null,
   "metadata": {
    "colab": {
     "base_uri": "https://localhost:8080/"
    },
    "executionInfo": {
     "elapsed": 39,
     "status": "ok",
     "timestamp": 1622926985766,
     "user": {
      "displayName": "Thomas Rico",
      "photoUrl": "",
      "userId": "03459133432310094050"
     },
     "user_tz": -180
    },
    "id": "qzpsa-8C-G-X",
    "outputId": "9a4b6062-d0e1-49c6-f8a5-763c904ca17f",
    "scrolled": true
   },
   "outputs": [
    {
     "data": {
      "text/plain": [
       "5339"
      ]
     },
     "execution_count": 36,
     "metadata": {
      "tags": []
     },
     "output_type": "execute_result"
    }
   ],
   "source": []
  },
  {
   "cell_type": "code",
   "execution_count": null,
   "metadata": {
    "colab": {
     "base_uri": "https://localhost:8080/"
    },
    "executionInfo": {
     "elapsed": 37,
     "status": "ok",
     "timestamp": 1622926985766,
     "user": {
      "displayName": "Thomas Rico",
      "photoUrl": "",
      "userId": "03459133432310094050"
     },
     "user_tz": -180
    },
    "id": "E6EkGClj-G-Y",
    "outputId": "142f78af-09f9-4bcf-8091-367c680553a4"
   },
   "outputs": [
    {
     "data": {
      "text/plain": [
       "Counter({'Tim': 3,\n",
       "         'Elliot': 1,\n",
       "         'Lewis': 7,\n",
       "         'Lee': 37,\n",
       "         'Lembke': 1,\n",
       "         'John': 36,\n",
       "         'Paul': 16,\n",
       "         'Quintero': 2,\n",
       "         'Matthew': 22,\n",
       "         'Hoffman': 2,\n",
       "         'Michael': 82,\n",
       "         'Rodriguez': 13,\n",
       "         'Kenneth': 17,\n",
       "         'Joe': 9,\n",
       "         'Brown': 17,\n",
       "         'Arnold': 2,\n",
       "         'Buck': 3,\n",
       "         'Brock': 2,\n",
       "         'Nichols': 3,\n",
       "         'Autumn': 1,\n",
       "         'Steele': 1,\n",
       "         'Leslie': 2,\n",
       "         'Sapp': 2,\n",
       "         'III': 9,\n",
       "         'Patrick': 13,\n",
       "         'Wetter': 1,\n",
       "         'Ron': 2,\n",
       "         'Sneed': 1,\n",
       "         'Hashim': 1,\n",
       "         'Hanif': 1,\n",
       "         'Ibn': 1,\n",
       "         'Abdul-Rasheed': 1,\n",
       "         'Nicholas': 13,\n",
       "         'Ryan': 16,\n",
       "         'Brickman': 1,\n",
       "         'Omarr': 1,\n",
       "         'Julian': 3,\n",
       "         'Maximillian': 1,\n",
       "         'Jackson': 9,\n",
       "         'Loren': 3,\n",
       "         'Simpson': 4,\n",
       "         'James': 47,\n",
       "         'Dudley': 1,\n",
       "         'Barker': 2,\n",
       "         'Artago': 1,\n",
       "         'Damon': 6,\n",
       "         'Howard': 3,\n",
       "         'Thomas': 24,\n",
       "         'Hamby': 1,\n",
       "         'Jimmy': 5,\n",
       "         'Foreman': 1,\n",
       "         'Andy': 1,\n",
       "         'Martinez': 10,\n",
       "         'Tommy': 3,\n",
       "         'Smith': 31,\n",
       "         'Brian': 9,\n",
       "         'Barbosa': 1,\n",
       "         'Salvador': 4,\n",
       "         'Figueroa': 2,\n",
       "         'Edward': 15,\n",
       "         \"O'Keefe\": 1,\n",
       "         'Richard': 33,\n",
       "         'McClendon': 2,\n",
       "         'Marcus': 4,\n",
       "         'Golden': 1,\n",
       "         'Goebel': 1,\n",
       "         'Mario': 8,\n",
       "         'Jordan': 5,\n",
       "         'Talbot': 1,\n",
       "         'Schroeder': 2,\n",
       "         'Robert': 44,\n",
       "         'Edwards': 6,\n",
       "         'Jeffrey': 17,\n",
       "         'R.': 10,\n",
       "         'Nielson': 1,\n",
       "         'Donte': 3,\n",
       "         'Sowell': 2,\n",
       "         'Kavonda': 1,\n",
       "         'Earl': 9,\n",
       "         'Payton': 1,\n",
       "         'Quincy': 2,\n",
       "         'Reed': 2,\n",
       "         'Reindl': 1,\n",
       "         'Jose': 23,\n",
       "         'Ceja': 1,\n",
       "         'Nathan': 6,\n",
       "         'Massey': 1,\n",
       "         'Scott': 25,\n",
       "         'Hall': 13,\n",
       "         'Zaki': 1,\n",
       "         'Shinwary': 1,\n",
       "         'Terence': 3,\n",
       "         'Walker': 3,\n",
       "         'Pablo': 3,\n",
       "         'Meza': 1,\n",
       "         'Daniel': 40,\n",
       "         'Brumley': 1,\n",
       "         'Jonathan': 10,\n",
       "         'Guillory': 1,\n",
       "         'Carter': 5,\n",
       "         'Castle': 1,\n",
       "         'Campbell': 4,\n",
       "         'Dewayne': 3,\n",
       "         'Carr': 2,\n",
       "         'Todd': 10,\n",
       "         'Allen': 20,\n",
       "         'Hodge': 4,\n",
       "         'Miguel': 9,\n",
       "         'Angel': 14,\n",
       "         'de': 1,\n",
       "         'Santos-Rodriguez': 1,\n",
       "         'Isaac': 2,\n",
       "         'Holmes': 2,\n",
       "         'Andrew': 19,\n",
       "         'Toto': 1,\n",
       "         'Tiano': 1,\n",
       "         'Meton': 1,\n",
       "         'Kristiana': 1,\n",
       "         'Coignard': 1,\n",
       "         'Francis': 12,\n",
       "         'Mesch': 1,\n",
       "         'Demaris': 1,\n",
       "         'Turner': 3,\n",
       "         'Antonio': 14,\n",
       "         'Espinoza': 1,\n",
       "         'Ruiz': 2,\n",
       "         'Wendell': 1,\n",
       "         'King': 4,\n",
       "         'Daryl': 1,\n",
       "         'Myler': 1,\n",
       "         'Darin': 1,\n",
       "         'Hutchins': 1,\n",
       "         'Orlando': 1,\n",
       "         'Jude': 1,\n",
       "         'Lopez': 7,\n",
       "         'Jessie': 3,\n",
       "         'Hernandez': 13,\n",
       "         'Raymond': 10,\n",
       "         'Kmetz': 1,\n",
       "         'Joshua': 27,\n",
       "         'Omar': 6,\n",
       "         'Garcia': 12,\n",
       "         'David': 53,\n",
       "         'Nicolas': 2,\n",
       "         'Leland': 2,\n",
       "         'Tewa': 1,\n",
       "         'Chris': 3,\n",
       "         'Ingram': 1,\n",
       "         'Jermonte': 1,\n",
       "         'Fletcher': 4,\n",
       "         'Tiffany': 2,\n",
       "         'Terry': 7,\n",
       "         'Alan': 11,\n",
       "         'Lance': 5,\n",
       "         'Alverson': 1,\n",
       "         'Matautu': 1,\n",
       "         'Nuu': 1,\n",
       "         'Cody': 6,\n",
       "         'Karasek': 1,\n",
       "         'Ralph': 3,\n",
       "         'Willis': 3,\n",
       "         'Barry': 6,\n",
       "         'Marshall': 6,\n",
       "         'Victor': 6,\n",
       "         'Manuel': 6,\n",
       "         'Reyes': 6,\n",
       "         'Donnell': 2,\n",
       "         'Bright': 1,\n",
       "         'Jacob': 6,\n",
       "         'Haglund': 1,\n",
       "         'Kassick': 1,\n",
       "         'Murphy': 3,\n",
       "         'Rose': 3,\n",
       "         'Ledarius': 1,\n",
       "         'D.': 14,\n",
       "         'Williams': 16,\n",
       "         'Yuvette': 1,\n",
       "         'Henderson': 5,\n",
       "         'Deshawn': 1,\n",
       "         'Ward': 1,\n",
       "         'Anthony': 26,\n",
       "         'Purvis': 1,\n",
       "         'Jeremy': 12,\n",
       "         'Lett': 1,\n",
       "         'Izzy': 1,\n",
       "         'Colon': 1,\n",
       "         'Muna': 1,\n",
       "         'Joaquin': 1,\n",
       "         'Ray': 13,\n",
       "         'Robinson': 8,\n",
       "         'Jr.': 18,\n",
       "         'Markell': 2,\n",
       "         'Atkins': 1,\n",
       "         'Alfred': 4,\n",
       "         'Eugene': 12,\n",
       "         'Johnson': 29,\n",
       "         'Herbert': 5,\n",
       "         'Hill': 4,\n",
       "         'Sawyer': 2,\n",
       "         'Martin': 13,\n",
       "         'Whittaker': 1,\n",
       "         'Flache': 1,\n",
       "         'Vincent': 5,\n",
       "         'Cordaro': 1,\n",
       "         'Joseph': 43,\n",
       "         'Paffen': 1,\n",
       "         'Larry': 6,\n",
       "         'Hostetter': 1,\n",
       "         'Kreyssig': 1,\n",
       "         'Desmond': 3,\n",
       "         'Luster': 1,\n",
       "         'Zambrano-Montes': 1,\n",
       "         'Bess': 2,\n",
       "         'Fritze': 1,\n",
       "         'Phillip': 9,\n",
       "         'Watkins': 4,\n",
       "         'Stewart': 3,\n",
       "         'Harden': 1,\n",
       "         'Andres': 1,\n",
       "         'Lara-Rodriguez': 1,\n",
       "         'Carlin': 1,\n",
       "         'Belk': 1,\n",
       "         'Mejia': 2,\n",
       "         'Jason': 22,\n",
       "         'C.': 8,\n",
       "         'Hendrix': 2,\n",
       "         'Roy': 6,\n",
       "         'Joy': 1,\n",
       "         'Day': 2,\n",
       "         'Lavall': 1,\n",
       "         'Brent': 6,\n",
       "         'Means': 1,\n",
       "         'Bruce': 7,\n",
       "         'Steward': 1,\n",
       "         'Lawrence': 5,\n",
       "         'Caldwell': 2,\n",
       "         'K.': 4,\n",
       "         'Casper': 1,\n",
       "         'Evans': 8,\n",
       "         'Betty': 1,\n",
       "         'Sexton': 2,\n",
       "         'Ireland': 1,\n",
       "         'Lundy': 1,\n",
       "         'Douglas': 11,\n",
       "         'Sparks': 1,\n",
       "         'Pedro': 4,\n",
       "         'Juan': 12,\n",
       "         'Saldivar': 1,\n",
       "         'Janisha': 1,\n",
       "         'Fonville': 1,\n",
       "         'Ruben': 6,\n",
       "         'Villalpando': 1,\n",
       "         'Stanley': 4,\n",
       "         'Lamar': 4,\n",
       "         'Grant': 4,\n",
       "         'Harris': 11,\n",
       "         'Moncrief': 1,\n",
       "         'Kent': 2,\n",
       "         'Norman': 4,\n",
       "         'Bradford': 1,\n",
       "         'Leonard': 2,\n",
       "         'Jerome': 5,\n",
       "         'Elrod': 1,\n",
       "         'Kohl': 1,\n",
       "         'Wayne': 10,\n",
       "         'Smashey': 1,\n",
       "         'Giaquinta': 1,\n",
       "         \"A'Donte\": 1,\n",
       "         'Washington': 6,\n",
       "         'Biegert': 1,\n",
       "         'Glenn': 4,\n",
       "         'Spivey': 1,\n",
       "         'Alexander': 13,\n",
       "         'Long': 6,\n",
       "         'Cuevas': 1,\n",
       "         'Amilcar': 1,\n",
       "         'Perez-Lopez': 1,\n",
       "         'Rodney': 9,\n",
       "         'Biggs': 2,\n",
       "         'Crystal': 1,\n",
       "         'Miley': 1,\n",
       "         'Harry': 2,\n",
       "         'Ernesto': 3,\n",
       "         'Javiar': 1,\n",
       "         'Canepa': 1,\n",
       "         'Diaz': 5,\n",
       "         'Chazsten': 1,\n",
       "         'Freeman': 1,\n",
       "         'Deven': 1,\n",
       "         'Guilford': 1,\n",
       "         'Jessica': 2,\n",
       "         'Uribe': 1,\n",
       "         'Cornelius': 2,\n",
       "         'J.': 30,\n",
       "         'Parker': 4,\n",
       "         'Ian': 2,\n",
       "         'Sherrod': 1,\n",
       "         'Stephanie': 1,\n",
       "         'Donald': 9,\n",
       "         'Matkins': 1,\n",
       "         'Charly': 1,\n",
       "         'Leundeu': 1,\n",
       "         'Keunang': 1,\n",
       "         'Hung': 1,\n",
       "         'Trieu': 1,\n",
       "         'Shaquille': 1,\n",
       "         'Barrow': 1,\n",
       "         'Fednel': 1,\n",
       "         'Rhinvil': 1,\n",
       "         'Metz': 1,\n",
       "         'Derek': 9,\n",
       "         'Cruice': 1,\n",
       "         'Carl': 4,\n",
       "         'Lao': 1,\n",
       "         'Tyrone': 5,\n",
       "         'Ryerson': 1,\n",
       "         'Sergio': 6,\n",
       "         'Navas': 1,\n",
       "         'Tyson': 2,\n",
       "         'Hubbard': 1,\n",
       "         'Naeschylus': 1,\n",
       "         'Vinzant': 1,\n",
       "         'Tony': 2,\n",
       "         'Adam': 6,\n",
       "         'Reinhart': 1,\n",
       "         'Aurelio': 1,\n",
       "         'Duarte': 1,\n",
       "         'McKillop': 1,\n",
       "         'Monique': 1,\n",
       "         'Jenee': 1,\n",
       "         'Deckard': 1,\n",
       "         'Lester': 1,\n",
       "         'Cedrick': 1,\n",
       "         'Lamont': 7,\n",
       "         'Bishop': 1,\n",
       "         'Jamie': 5,\n",
       "         'Croom': 1,\n",
       "         'Christopher': 35,\n",
       "         'Mitchell': 3,\n",
       "         'Edixon': 1,\n",
       "         'Franco': 2,\n",
       "         'Theodore': 1,\n",
       "         'Greenwell': 1,\n",
       "         'Benito': 1,\n",
       "         'Osorio': 1,\n",
       "         'Dean': 8,\n",
       "         'Burgess': 4,\n",
       "         'Aaron': 8,\n",
       "         'Valdez': 3,\n",
       "         'Gilbert': 4,\n",
       "         'Fleury': 1,\n",
       "         'William': 40,\n",
       "         'Russell': 5,\n",
       "         'Garnett': 1,\n",
       "         'Bobby': 7,\n",
       "         'Gross': 1,\n",
       "         'Fred': 4,\n",
       "         'Liggett': 1,\n",
       "         'Driver': 1,\n",
       "         'Perez': 7,\n",
       "         'Jimenez': 2,\n",
       "         'Castilleja': 1,\n",
       "         'Clifton': 2,\n",
       "         'Reintzel': 1,\n",
       "         'Siler': 1,\n",
       "         'Troy': 2,\n",
       "         'Boyd': 3,\n",
       "         'Justin': 9,\n",
       "         'Tolkinen': 1,\n",
       "         'Poole': 1,\n",
       "         'Roberto': 3,\n",
       "         'Leon': 4,\n",
       "         'Charles': 23,\n",
       "         'Shipley': 1,\n",
       "         'Declan': 1,\n",
       "         'Owen': 1,\n",
       "         'Alice': 1,\n",
       "         'Jeff': 5,\n",
       "         'Kaylene': 1,\n",
       "         'Stone': 1,\n",
       "         'Garland': 2,\n",
       "         'Wingo': 1,\n",
       "         'Kendre': 1,\n",
       "         'Alston': 1,\n",
       "         'Jamison': 2,\n",
       "         'Childress': 2,\n",
       "         'Burdge': 1,\n",
       "         'Shane': 7,\n",
       "         'Brandon': 19,\n",
       "         'Jones': 12,\n",
       "         'Rapp': 1,\n",
       "         'Fowler': 1,\n",
       "         'White': 5,\n",
       "         'Tyrel': 1,\n",
       "         'Vick': 1,\n",
       "         'Ellis': 2,\n",
       "         'Gary': 10,\n",
       "         'Page': 2,\n",
       "         'Enoch': 1,\n",
       "         'Gaver': 1,\n",
       "         'Conley': 1,\n",
       "         'Healy': 1,\n",
       "         'Denzel': 1,\n",
       "         'Devin': 5,\n",
       "         'Gates': 2,\n",
       "         'Stephen': 10,\n",
       "         'Snyder': 2,\n",
       "         'Walter': 4,\n",
       "         'Dunham': 1,\n",
       "         'Lorenza': 1,\n",
       "         'Kelly': 1,\n",
       "         'Terrazas': 1,\n",
       "         'Tassinari': 1,\n",
       "         'Deanne': 1,\n",
       "         'Choate': 1,\n",
       "         'Adrian': 4,\n",
       "         'Solis': 1,\n",
       "         'Kendrick': 1,\n",
       "         'Jamalis': 1,\n",
       "         'Neil': 3,\n",
       "         'Seifert': 1,\n",
       "         'Megan': 1,\n",
       "         'Hockaday': 1,\n",
       "         'Harvey': 1,\n",
       "         'Oates': 1,\n",
       "         'Angelo': 3,\n",
       "         'West': 3,\n",
       "         'Rooker': 1,\n",
       "         'Byron': 1,\n",
       "         'Babb': 1,\n",
       "         'Anderson': 12,\n",
       "         'Benjamin': 5,\n",
       "         'Quezada': 2,\n",
       "         'Mya': 1,\n",
       "         'Shawn': 6,\n",
       "         'Clyde': 3,\n",
       "         'Darrin': 3,\n",
       "         'Langford': 1,\n",
       "         'Hicks': 5,\n",
       "         'Eric': 16,\n",
       "         'Rutledge': 1,\n",
       "         'Prevatt': 1,\n",
       "         'Justus': 1,\n",
       "         'Howell': 1,\n",
       "         'Ethan': 3,\n",
       "         'Noll': 1,\n",
       "         'Ken': 1,\n",
       "         'Cockerel': 1,\n",
       "         'Hanna': 1,\n",
       "         'Myers': 2,\n",
       "         'Tyrell': 1,\n",
       "         'Larsen': 1,\n",
       "         'Erick': 2,\n",
       "         'Faith': 1,\n",
       "         'Dexter': 2,\n",
       "         'Pernell': 1,\n",
       "         'Bethea': 1,\n",
       "         'Weber': 2,\n",
       "         'Gordon': 2,\n",
       "         'Kimbrell': 1,\n",
       "         'Don': 5,\n",
       "         'Jess': 1,\n",
       "         'Leipold': 1,\n",
       "         'Cresencio': 1,\n",
       "         'Corona': 1,\n",
       "         'Mack': 2,\n",
       "         'Dale': 4,\n",
       "         'Weaver': 1,\n",
       "         'Colby': 2,\n",
       "         'Finley': 1,\n",
       "         'Tevin': 1,\n",
       "         'Barkley': 1,\n",
       "         'Dante': 2,\n",
       "         'Noble': 2,\n",
       "         'Frank': 4,\n",
       "         'Shephard': 1,\n",
       "         'Mark': 20,\n",
       "         'W.': 3,\n",
       "         'Adair': 1,\n",
       "         'Watson': 3,\n",
       "         'Flores': 5,\n",
       "         'Rodolfo': 1,\n",
       "         'Velazquez': 1,\n",
       "         'Kemp': 1,\n",
       "         'Elias': 2,\n",
       "         'Cavazos': 1,\n",
       "         'Thaddeus': 2,\n",
       "         'McCarroll': 1,\n",
       "         'Erik': 3,\n",
       "         'Tellez': 1,\n",
       "         'Grover': 1,\n",
       "         'Foster': 2,\n",
       "         'Dana': 3,\n",
       "         'Hlavinka': 1,\n",
       "         'Santos': 2,\n",
       "         'Cortez': 2,\n",
       "         'Wolfe': 1,\n",
       "         'Covarrubias': 1,\n",
       "         'Kimber': 1,\n",
       "         'Key': 1,\n",
       "         'Luis': 7,\n",
       "         'Chapman': 1,\n",
       "         'Carlos': 12,\n",
       "         'Saavedra': 1,\n",
       "         'Ramirez': 6,\n",
       "         'Efraim': 1,\n",
       "         'Reginald': 3,\n",
       "         'McGregor': 1,\n",
       "         'Lue': 1,\n",
       "         'Vang': 1,\n",
       "         'Valadez': 1,\n",
       "         'Potts': 1,\n",
       "         'Hector': 5,\n",
       "         'Morejon': 1,\n",
       "         'Karen': 1,\n",
       "         'Janks': 1,\n",
       "         'Cecil': 1,\n",
       "         'Hawkins': 3,\n",
       "         'Timmie': 1,\n",
       "         'Collins': 3,\n",
       "         'Jamal': 5,\n",
       "         'Dye': 1,\n",
       "         'Felix': 2,\n",
       "         'Davis': 13,\n",
       "         'Billy': 5,\n",
       "         'Albert': 5,\n",
       "         'Hanson': 1,\n",
       "         'Genova': 1,\n",
       "         'Terrance': 1,\n",
       "         'Kellom': 1,\n",
       "         'Jared': 1,\n",
       "         'Green': 5,\n",
       "         'Deysie': 1,\n",
       "         'Chavez-Diaz': 1,\n",
       "         'Alexia': 1,\n",
       "         'Christian': 9,\n",
       "         'Adkins': 1,\n",
       "         'Acree': 1,\n",
       "         'Fridoon': 1,\n",
       "         'Zalbeg': 1,\n",
       "         'Nehad': 1,\n",
       "         'Emmanuel': 1,\n",
       "         'Sanchez': 7,\n",
       "         'Mathena': 1,\n",
       "         'Kevin': 16,\n",
       "         'Vance': 1,\n",
       "         'Norton': 2,\n",
       "         'Elton': 1,\n",
       "         'Nadir': 1,\n",
       "         'Soofi': 1,\n",
       "         'Grimm': 1,\n",
       "         'Asher': 1,\n",
       "         'Roark': 1,\n",
       "         'Cook': 2,\n",
       "         'Brendon': 1,\n",
       "         'Thong': 1,\n",
       "         'Kien': 1,\n",
       "         'Ma': 2,\n",
       "         'A.': 17,\n",
       "         'Frost': 1,\n",
       "         'Nephi': 2,\n",
       "         'Arriguin': 1,\n",
       "         'Shaun': 2,\n",
       "         'Schwalm': 1,\n",
       "         'Dedrick': 1,\n",
       "         'Sam': 3,\n",
       "         'Cunningham': 1,\n",
       "         'Lionel': 4,\n",
       "         'Lorenzo': 4,\n",
       "         'Young': 4,\n",
       "         'Kelvin': 1,\n",
       "         'Goldston': 1,\n",
       "         'Way': 1,\n",
       "         \"D'Angelo\": 1,\n",
       "         'Stallworth': 1,\n",
       "         'Zalonka': 1,\n",
       "         'Alec': 1,\n",
       "         'Ouzounian': 1,\n",
       "         'Sean': 6,\n",
       "         'Pelletier': 1,\n",
       "         'Cary': 1,\n",
       "         'Farrar': 1,\n",
       "         'Matt': 2,\n",
       "         'Coates': 1,\n",
       "         'Ronell': 1,\n",
       "         'Wade': 3,\n",
       "         'Dennis': 8,\n",
       "         'Fiel': 1,\n",
       "         'Austin': 6,\n",
       "         'Goodner': 1,\n",
       "         'Timothy': 12,\n",
       "         'Alfredo': 1,\n",
       "         'Rials-Torres': 1,\n",
       "         'McIntosh': 1,\n",
       "         'Gaines': 3,\n",
       "         'Gomez': 5,\n",
       "         'Colley': 1,\n",
       "         'Chrislon': 1,\n",
       "         'Talbott': 1,\n",
       "         'Nikki': 1,\n",
       "         'Jo': 2,\n",
       "         'Burtsfield': 1,\n",
       "         'Wheeler': 1,\n",
       "         'Alejandro': 5,\n",
       "         'Gandara': 1,\n",
       "         'Javoris': 1,\n",
       "         'Cooper': 1,\n",
       "         'Elvin': 1,\n",
       "         'Lowery': 1,\n",
       "         'Caso': 1,\n",
       "         'Horn': 1,\n",
       "         'Cassandra': 1,\n",
       "         'Bolin': 1,\n",
       "         'Briggs': 3,\n",
       "         'Millard': 2,\n",
       "         'Tallant': 1,\n",
       "         'Dalton': 2,\n",
       "         'Branch': 2,\n",
       "         'McAllister': 1,\n",
       "         'Garrett': 1,\n",
       "         'Sandeno': 1,\n",
       "         'Feras': 1,\n",
       "         'Morad': 1,\n",
       "         'Simon': 2,\n",
       "         'Hubble': 1,\n",
       "         'Darrell': 3,\n",
       "         'Morgan': 5,\n",
       "         'Strong': 1,\n",
       "         'Dothard': 1,\n",
       "         'Kyle': 8,\n",
       "         'Baker': 6,\n",
       "         'Nehemiah': 1,\n",
       "         'Fischer': 2,\n",
       "         'Box': 1,\n",
       "         'Ebin': 1,\n",
       "         'Proctor': 1,\n",
       "         'Tirado': 1,\n",
       "         'Rivera': 3,\n",
       "         'Bushey': 1,\n",
       "         'Ladd': 1,\n",
       "         'Usaamah': 1,\n",
       "         'Rahim': 1,\n",
       "         'Kamal': 1,\n",
       "         'Dajani': 1,\n",
       "         'Garza': 3,\n",
       "         'Rudy': 1,\n",
       "         'Baca': 1,\n",
       "         'Edelmiro': 1,\n",
       "         'Ronald': 7,\n",
       "         'Neal': 1,\n",
       "         'Jesus': 6,\n",
       "         'Christie': 1,\n",
       "         'Cathers': 1,\n",
       "         'Demouria': 1,\n",
       "         'Hogg': 1,\n",
       "         'Smillie': 1,\n",
       "         'Campos': 1,\n",
       "         'Fernandez': 2,\n",
       "         'Nevels': 1,\n",
       "         'Damien': 2,\n",
       "         'McDaniel': 2,\n",
       "         'Gene': 5,\n",
       "         'Rene': 4,\n",
       "         'Warolf': 1,\n",
       "         'Linhart': 1,\n",
       "         'Greg': 2,\n",
       "         'Hartley': 1,\n",
       "         'QuanDavier': 1,\n",
       "         'Bolinger': 1,\n",
       "         'Isiah': 1,\n",
       "         'Hampton': 1,\n",
       "         'Ziegler': 1,\n",
       "         'Fritz': 1,\n",
       "         'Severe': 1,\n",
       "         'Peralta-Lantigua': 1,\n",
       "         'Shelly': 2,\n",
       "         'Haendiges': 1,\n",
       "         'Deng': 1,\n",
       "         'Manyoun': 1,\n",
       "         'Boulware': 1,\n",
       "         'Zane': 1,\n",
       "         'Terryn': 1,\n",
       "         'Kris': 2,\n",
       "         'DeLeon': 1,\n",
       "         'Charboneau': 1,\n",
       "         'Wendy': 1,\n",
       "         'Chappell': 1,\n",
       "         'Lanphier': 1,\n",
       "         'Oleg': 1,\n",
       "         'Tcherniak': 1,\n",
       "         'Laboy': 1,\n",
       "         'Trepierre': 1,\n",
       "         'Hummons': 1,\n",
       "         'Louis': 3,\n",
       "         'Atencio': 1,\n",
       "         'Alfontish': 1,\n",
       "         'Cockerham': 1,\n",
       "         'Simental': 1,\n",
       "         'Monroe': 1,\n",
       "         'Barrett': 1,\n",
       "         'Eduardo': 3,\n",
       "         'Tyler': 10,\n",
       "         'Wicks': 1,\n",
       "         'Dyer': 1,\n",
       "         'Wilson': 9,\n",
       "         'Randall': 4,\n",
       "         'Waddel': 1,\n",
       "         'Taylor': 7,\n",
       "         'Culbertson': 1,\n",
       "         'Harrell': 1,\n",
       "         'Spencer': 4,\n",
       "         'McCain': 1,\n",
       "         'Jake': 2,\n",
       "         'Vanderburgh': 1,\n",
       "         'Cisneros': 2,\n",
       "         'Crittenden': 1,\n",
       "         'Bellew': 1,\n",
       "         'LaPort': 1,\n",
       "         'Clay': 2,\n",
       "         'Lickteig': 1,\n",
       "         'Judson': 1,\n",
       "         'Kaleb': 2,\n",
       "         'Landon': 2,\n",
       "         'Buckley': 1,\n",
       "         'Ton': 1,\n",
       "         'Nguyen': 1,\n",
       "         'Emanuel': 1,\n",
       "         'Larosa': 1,\n",
       "         'Cesar': 4,\n",
       "         'Limon': 1,\n",
       "         'Juarez': 4,\n",
       "         'Arturo': 3,\n",
       "         'Oscar': 4,\n",
       "         'Camacho': 1,\n",
       "         'Elando': 1,\n",
       "         'Malone': 2,\n",
       "         'Shannon': 3,\n",
       "         'Gaby': 1,\n",
       "         'Kawanza': 1,\n",
       "         'Beaty': 2,\n",
       "         'Bryan': 5,\n",
       "         'Bauer': 2,\n",
       "         'Deming': 1,\n",
       "         'Holt': 2,\n",
       "         'Munroe': 1,\n",
       "         'Johnny': 3,\n",
       "         'Rogers': 5,\n",
       "         'Hagen': 1,\n",
       "         'Esty-Lennon': 1,\n",
       "         'Oliva': 1,\n",
       "         'Sarabia': 1,\n",
       "         'Berry': 2,\n",
       "         'Hendley': 1,\n",
       "         'Marcellus': 2,\n",
       "         'Jamarcus': 1,\n",
       "         'Burley': 1,\n",
       "         'Dujanovic': 1,\n",
       "         'Graciano': 1,\n",
       "         'Tremaine': 1,\n",
       "         'Dantzler': 1,\n",
       "         'Booth': 1,\n",
       "         'Blough': 1,\n",
       "         'Westrich': 1,\n",
       "         'Dallas': 1,\n",
       "         'Shatley': 1,\n",
       "         'Rocco': 1,\n",
       "         'Palmisano': 1,\n",
       "         'Hammonds': 1,\n",
       "         'Martice': 1,\n",
       "         'Milliner': 1,\n",
       "         'Cyrus': 1,\n",
       "         'Hurtado': 2,\n",
       "         'Javon': 1,\n",
       "         'Todora': 1,\n",
       "         'Freddie': 1,\n",
       "         'Blue': 1,\n",
       "         'McSwain': 1,\n",
       "         'Maine': 1,\n",
       "         'Castaway': 1,\n",
       "         'Salvado': 1,\n",
       "         'Ellswood': 1,\n",
       "         'Lepine': 1,\n",
       "         'Benton': 1,\n",
       "         'Frederick': 4,\n",
       "         'Farmer': 1,\n",
       "         'Graham': 3,\n",
       "         'Rafael': 3,\n",
       "         'Suazo': 1,\n",
       "         'Chacarion': 1,\n",
       "         'Avant': 1,\n",
       "         'Kailing': 1,\n",
       "         'Anthonie': 1,\n",
       "         'Gonzalez': 10,\n",
       "         'Pippin': 1,\n",
       "         'Mohammad': 4,\n",
       "         'Youssef': 1,\n",
       "         'Abdulazeez': 1,\n",
       "         'Saige': 1,\n",
       "         'Hack': 1,\n",
       "         'Pierre': 2,\n",
       "         'Gabriel': 3,\n",
       "         'Koellner': 1,\n",
       "         'Samuel': 5,\n",
       "         'Jackie': 2,\n",
       "         'Brand': 1,\n",
       "         'Darrius': 1,\n",
       "         'Roman': 2,\n",
       "         'Wheat': 1,\n",
       "         'Dewey': 1,\n",
       "         'DuBose': 1,\n",
       "         'LeBoeuf': 1,\n",
       "         'Darren': 4,\n",
       "         'Fuller': 2,\n",
       "         'Jerrod': 2,\n",
       "         'Tyre': 3,\n",
       "         'Francisco': 6,\n",
       "         'Benitez-Santiago': 1,\n",
       "         'Andre': 3,\n",
       "         'Dontrell': 2,\n",
       "         'Devon': 2,\n",
       "         'Guisherd': 1,\n",
       "         'Dontae': 1,\n",
       "         'L.': 14,\n",
       "         'Wolfsteller': 1,\n",
       "         'Stortzum': 1,\n",
       "         'Robbie': 1,\n",
       "         'Edison': 1,\n",
       "         'Tamala': 1,\n",
       "         'Satre': 1,\n",
       "         'Seth': 1,\n",
       "         'Raines': 1,\n",
       "         'Gerston': 1,\n",
       "         'Olmstead': 1,\n",
       "         'Roger': 5,\n",
       "         'Braswell': 1,\n",
       "         'Keith': 14,\n",
       "         'Khari': 1,\n",
       "         'Westly': 1,\n",
       "         'Zachary': 2,\n",
       "         'Hammond': 1,\n",
       "         'Milliken': 1,\n",
       "         'Jean': 3,\n",
       "         'Falgout': 1,\n",
       "         'Forgy': 1,\n",
       "         'Perkins': 4,\n",
       "         'Vrenon': 1,\n",
       "         'Philip': 5,\n",
       "         'Vallejo': 2,\n",
       "         'Lotari': 1,\n",
       "         'Romero': 2,\n",
       "         'Molina': 1,\n",
       "         'Hatch': 1,\n",
       "         'Armando': 4,\n",
       "         'Serrano': 1,\n",
       "         'Virgil': 1,\n",
       "         'Reynolds': 2,\n",
       "         'Clements': 1,\n",
       "         'Malave': 1,\n",
       "         'Franklin': 1,\n",
       "         'Short': 1,\n",
       "         'Ruble': 1,\n",
       "         'Avila': 1,\n",
       "         'Darius': 4,\n",
       "         'Graves': 1,\n",
       "         'Dattilo': 1,\n",
       "         'Dieringer': 1,\n",
       "         'Keshawn': 1,\n",
       "         'Dominique': 2,\n",
       "         'Hargrove': 1,\n",
       "         'Vincente': 1,\n",
       "         'Montano': 2,\n",
       "         'Galaviz': 1,\n",
       "         'Gustavo': 2,\n",
       "         'Ponce-Galon': 1,\n",
       "         'Bertram': 1,\n",
       "         'Abel': 1,\n",
       "         'Correa': 1,\n",
       "         'Marchese': 1,\n",
       "         'Keckhafer': 1,\n",
       "         'Tsombe': 1,\n",
       "         'Clark': 9,\n",
       "         'Derrick': 2,\n",
       "         'Hunt': 1,\n",
       "         'Shamir': 1,\n",
       "         'Terrel': 1,\n",
       "         'Palmer': 2,\n",
       "         'Wilkes': 1,\n",
       "         'Tompkins': 2,\n",
       "         'Edrian': 1,\n",
       "         'Casey': 3,\n",
       "         'George': 9,\n",
       "         'Alarcon': 1,\n",
       "         'Hughes': 1,\n",
       "         'Shull': 1,\n",
       "         'Nathaniel': 4,\n",
       "         'Wilks': 1,\n",
       "         'Redel': 1,\n",
       "         'Tyree': 2,\n",
       "         'Sorriano': 1,\n",
       "         'Asshams': 1,\n",
       "         'Pharoah': 1,\n",
       "         'Manley': 1,\n",
       "         'Unsworth': 1,\n",
       "         'Jonathon': 1,\n",
       "         'Pope': 1,\n",
       "         'Castillo': 1,\n",
       "         'Steven': 13,\n",
       "         'B.': 5,\n",
       "         'Jacquez': 1,\n",
       "         'Mansur': 1,\n",
       "         'Ball-Bey': 1,\n",
       "         'Deviere': 1,\n",
       "         'Ernel': 1,\n",
       "         'Ransom': 1,\n",
       "         'Hale': 2,\n",
       "         'Gerken': 1,\n",
       "         'Jeffory': 1,\n",
       "         'Tevis': 1,\n",
       "         'Raul': 3,\n",
       "         'Herrera': 4,\n",
       "         'Timmy': 1,\n",
       "         'Walling': 1,\n",
       "         'S.': 6,\n",
       "         'Rushton': 1,\n",
       "         'Schneider': 1,\n",
       "         'Faison': 2,\n",
       "         'Alderman': 1,\n",
       "         'Garner': 1,\n",
       "         'Henry': 10,\n",
       "         'Compo': 1,\n",
       "         'Troledge': 1,\n",
       "         'Norris': 2,\n",
       "         'Snider': 1,\n",
       "         'Marvin': 4,\n",
       "         'Maestas': 1,\n",
       "         'Curtis': 4,\n",
       "         'Tomlinson': 1,\n",
       "         'Rudolph': 2,\n",
       "         'Arroliga': 1,\n",
       "         'Dodd': 1,\n",
       "         'Pickard': 1,\n",
       "         'Lambrose': 1,\n",
       "         'Bertrand': 1,\n",
       "         'Yonas': 1,\n",
       "         'Alehegne': 1,\n",
       "         'Hober': 1,\n",
       "         'Soriano': 1,\n",
       "         'Kumi': 1,\n",
       "         'Dial': 2,\n",
       "         'Cruz': 5,\n",
       "         'Jr': 3,\n",
       "         'M.': 16,\n",
       "         'Rippley': 1,\n",
       "         'Cedric': 4,\n",
       "         'Maurice': 2,\n",
       "         'Shaw': 1,\n",
       "         'Arthur': 5,\n",
       "         'Bates': 1,\n",
       "         'Freddy': 2,\n",
       "         'Centeno': 1,\n",
       "         'Meyer': 2,\n",
       "         'Ramon': 5,\n",
       "         'Damiani': 1,\n",
       "         'Kelley': 3,\n",
       "         'Sully': 1,\n",
       "         'Lanier': 1,\n",
       "         'Harrison': 2,\n",
       "         'Lambert': 4,\n",
       "         \"La'vante\": 1,\n",
       "         'Trevon': 2,\n",
       "         'Wenceslao': 1,\n",
       "         'Delano': 1,\n",
       "         'Perry': 5,\n",
       "         'India': 2,\n",
       "         'Kager': 1,\n",
       "         'Yero': 1,\n",
       "         'Mohamed': 2,\n",
       "         'Ibrahim': 1,\n",
       "         'Verrett': 1,\n",
       "         'Casimero': 1,\n",
       "         'Casillas': 1,\n",
       "         'Tristan': 3,\n",
       "         'Vent': 1,\n",
       "         'Dustin': 2,\n",
       "         'Kuik': 1,\n",
       "         'Holman': 1,\n",
       "         'Perdue': 1,\n",
       "         'Chau': 1,\n",
       "         'Tian': 1,\n",
       "         'Foy': 1,\n",
       "         'Wilburly': 1,\n",
       "         'Reid': 2,\n",
       "         'Eddie': 4,\n",
       "         'Tapia': 2,\n",
       "         'T.': 5,\n",
       "         'Pfleghardt': 1,\n",
       "         'Derick': 1,\n",
       "         'Jack': 4,\n",
       "         'Stevens': 2,\n",
       "         'Hammen': 1,\n",
       "         ...})"
      ]
     },
     "execution_count": 37,
     "metadata": {
      "tags": []
     },
     "output_type": "execute_result"
    }
   ],
   "source": []
  },
  {
   "cell_type": "code",
   "execution_count": null,
   "metadata": {},
   "outputs": [],
   "source": []
  },
  {
   "cell_type": "code",
   "execution_count": null,
   "metadata": {
    "colab": {
     "base_uri": "https://localhost:8080/"
    },
    "executionInfo": {
     "elapsed": 37,
     "status": "ok",
     "timestamp": 1622926985767,
     "user": {
      "displayName": "Thomas Rico",
      "photoUrl": "",
      "userId": "03459133432310094050"
     },
     "user_tz": -180
    },
    "id": "GBoBhIEs-G-Y",
    "outputId": "ebd3146a-472f-4044-daf4-67d0e1064845",
    "scrolled": true
   },
   "outputs": [
    {
     "data": {
      "text/plain": [
       "[('Michael', 82),\n",
       " ('David', 53),\n",
       " ('James', 47),\n",
       " ('Robert', 44),\n",
       " ('Joseph', 43),\n",
       " ('Daniel', 40),\n",
       " ('William', 40),\n",
       " ('Lee', 37),\n",
       " ('John', 36),\n",
       " ('Christopher', 35),\n",
       " ('Richard', 33),\n",
       " ('Smith', 31),\n",
       " ('J.', 30),\n",
       " ('Johnson', 29),\n",
       " ('Joshua', 27)]"
      ]
     },
     "execution_count": 38,
     "metadata": {
      "tags": []
     },
     "output_type": "execute_result"
    }
   ],
   "source": []
  },
  {
   "cell_type": "code",
   "execution_count": null,
   "metadata": {},
   "outputs": [],
   "source": [
    "lastnames[:15]\n"
   ]
  },
  {
   "cell_type": "code",
   "execution_count": null,
   "metadata": {},
   "outputs": [],
   "source": []
  },
  {
   "cell_type": "code",
   "execution_count": 239,
   "metadata": {},
   "outputs": [
    {
     "data": {
      "text/plain": [
       "Michael        68\n",
       "David          43\n",
       "James          39\n",
       "Robert         37\n",
       "William        35\n",
       "John           33\n",
       "Daniel         31\n",
       "Richard        31\n",
       "Joseph         30\n",
       "Christopher    30\n",
       "Joshua         26\n",
       "Jose           22\n",
       "Jason          21\n",
       "Matthew        20\n",
       "Charles        20\n",
       "Name: first_name, dtype: int64"
      ]
     },
     "execution_count": 239,
     "metadata": {},
     "output_type": "execute_result"
    }
   ],
   "source": [
    "firstnames[:15]"
   ]
  },
  {
   "cell_type": "code",
   "execution_count": null,
   "metadata": {},
   "outputs": [],
   "source": []
  },
  {
   "cell_type": "code",
   "execution_count": null,
   "metadata": {},
   "outputs": [],
   "source": []
  },
  {
   "cell_type": "code",
   "execution_count": null,
   "metadata": {},
   "outputs": [],
   "source": []
  },
  {
   "cell_type": "code",
   "execution_count": null,
   "metadata": {
    "colab": {
     "base_uri": "https://localhost:8080/",
     "height": 511
    },
    "executionInfo": {
     "elapsed": 591,
     "status": "ok",
     "timestamp": 1622926986330,
     "user": {
      "displayName": "Thomas Rico",
      "photoUrl": "",
      "userId": "03459133432310094050"
     },
     "user_tz": -180
    },
    "id": "yJ6vg449-G-Y",
    "outputId": "f294603c-8528-4392-b8f3-a2a9df5abc39"
   },
   "outputs": [
    {
     "data": {
      "text/html": [
       "<div>\n",
       "<style scoped>\n",
       "    .dataframe tbody tr th:only-of-type {\n",
       "        vertical-align: middle;\n",
       "    }\n",
       "\n",
       "    .dataframe tbody tr th {\n",
       "        vertical-align: top;\n",
       "    }\n",
       "\n",
       "    .dataframe thead th {\n",
       "        text-align: right;\n",
       "    }\n",
       "</style>\n",
       "<table border=\"1\" class=\"dataframe\">\n",
       "  <thead>\n",
       "    <tr style=\"text-align: right;\">\n",
       "      <th></th>\n",
       "      <th>name_or_surname_most_frequency</th>\n",
       "      <th>frequency</th>\n",
       "    </tr>\n",
       "  </thead>\n",
       "  <tbody>\n",
       "    <tr>\n",
       "      <th>0</th>\n",
       "      <td>Michael</td>\n",
       "      <td>82</td>\n",
       "    </tr>\n",
       "    <tr>\n",
       "      <th>1</th>\n",
       "      <td>David</td>\n",
       "      <td>53</td>\n",
       "    </tr>\n",
       "    <tr>\n",
       "      <th>2</th>\n",
       "      <td>James</td>\n",
       "      <td>47</td>\n",
       "    </tr>\n",
       "    <tr>\n",
       "      <th>3</th>\n",
       "      <td>Robert</td>\n",
       "      <td>44</td>\n",
       "    </tr>\n",
       "    <tr>\n",
       "      <th>4</th>\n",
       "      <td>Joseph</td>\n",
       "      <td>43</td>\n",
       "    </tr>\n",
       "    <tr>\n",
       "      <th>5</th>\n",
       "      <td>Daniel</td>\n",
       "      <td>40</td>\n",
       "    </tr>\n",
       "    <tr>\n",
       "      <th>6</th>\n",
       "      <td>William</td>\n",
       "      <td>40</td>\n",
       "    </tr>\n",
       "    <tr>\n",
       "      <th>7</th>\n",
       "      <td>Lee</td>\n",
       "      <td>37</td>\n",
       "    </tr>\n",
       "    <tr>\n",
       "      <th>8</th>\n",
       "      <td>John</td>\n",
       "      <td>36</td>\n",
       "    </tr>\n",
       "    <tr>\n",
       "      <th>9</th>\n",
       "      <td>Christopher</td>\n",
       "      <td>35</td>\n",
       "    </tr>\n",
       "    <tr>\n",
       "      <th>10</th>\n",
       "      <td>Richard</td>\n",
       "      <td>33</td>\n",
       "    </tr>\n",
       "    <tr>\n",
       "      <th>11</th>\n",
       "      <td>Smith</td>\n",
       "      <td>31</td>\n",
       "    </tr>\n",
       "    <tr>\n",
       "      <th>12</th>\n",
       "      <td>J.</td>\n",
       "      <td>30</td>\n",
       "    </tr>\n",
       "    <tr>\n",
       "      <th>13</th>\n",
       "      <td>Johnson</td>\n",
       "      <td>29</td>\n",
       "    </tr>\n",
       "    <tr>\n",
       "      <th>14</th>\n",
       "      <td>Joshua</td>\n",
       "      <td>27</td>\n",
       "    </tr>\n",
       "  </tbody>\n",
       "</table>\n",
       "</div>"
      ],
      "text/plain": [
       "   name_or_surname_most_frequency  frequency\n",
       "0                         Michael         82\n",
       "1                           David         53\n",
       "2                           James         47\n",
       "3                          Robert         44\n",
       "4                          Joseph         43\n",
       "5                          Daniel         40\n",
       "6                         William         40\n",
       "7                             Lee         37\n",
       "8                            John         36\n",
       "9                     Christopher         35\n",
       "10                        Richard         33\n",
       "11                          Smith         31\n",
       "12                             J.         30\n",
       "13                        Johnson         29\n",
       "14                         Joshua         27"
      ]
     },
     "execution_count": 39,
     "metadata": {
      "tags": []
     },
     "output_type": "execute_result"
    }
   ],
   "source": []
  },
  {
   "cell_type": "code",
   "execution_count": 290,
   "metadata": {},
   "outputs": [],
   "source": [
    "frequency=firstnames[:15]"
   ]
  },
  {
   "cell_type": "code",
   "execution_count": 293,
   "metadata": {},
   "outputs": [
    {
     "data": {
      "image/png": "[encoded data removed]",
      "text/plain": [
       "<Figure size 1008x576 with 1 Axes>"
      ]
     },
     "metadata": {
      "needs_background": "light"
     },
     "output_type": "display_data"
    }
   ],
   "source": [
    "frequency.plot(kind=\"bar\",figsize=(14,8),ylabel=\"Frequency\", xlabel= \"Names\",legend=\"Frequency\") ;  #pandas"
   ]
  },
  {
   "cell_type": "code",
   "execution_count": null,
   "metadata": {},
   "outputs": [],
   "source": []
  },
  {
   "cell_type": "code",
   "execution_count": 335,
   "metadata": {},
   "outputs": [
    {
     "data": {
      "image/png": "[encoded data removed]",
      "text/plain": [
       "<Figure size 1008x576 with 1 Axes>"
      ]
     },
     "metadata": {
      "needs_background": "light"
     },
     "output_type": "display_data"
    }
   ],
   "source": [
    "most_common.plot(kind=\"bar\",figsize=(14,8),ylabel=\"Frequency\", xlabel= \"Names\",legend=\"Frequency\") ;  #pandas"
   ]
  },
  {
   "cell_type": "code",
   "execution_count": null,
   "metadata": {},
   "outputs": [],
   "source": []
  },
  {
   "cell_type": "code",
   "execution_count": null,
   "metadata": {},
   "outputs": [],
   "source": []
  },
  {
   "cell_type": "code",
   "execution_count": null,
   "metadata": {
    "colab": {
     "base_uri": "https://localhost:8080/",
     "height": 551
    },
    "executionInfo": {
     "elapsed": 6,
     "status": "ok",
     "timestamp": 1622926986331,
     "user": {
      "displayName": "Thomas Rico",
      "photoUrl": "",
      "userId": "03459133432310094050"
     },
     "user_tz": -180
    },
    "id": "JnbSBMEF-G-Y",
    "outputId": "a4f5bcc6-22d9-4348-ef8b-18040a4c5723"
   },
   "outputs": [
    {
     "data": {
      "image/png": "[encoded data removed]",
      "text/plain": [
       "<Figure size 1080x576 with 1 Axes>"
      ]
     },
     "metadata": {
      "needs_background": "light",
      "tags": []
     },
     "output_type": "display_data"
    }
   ],
   "source": [
    "# with pandas\n"
   ]
  },
  {
   "cell_type": "code",
   "execution_count": null,
   "metadata": {},
   "outputs": [],
   "source": []
  },
  {
   "cell_type": "code",
   "execution_count": null,
   "metadata": {
    "colab": {
     "base_uri": "https://localhost:8080/",
     "height": 551
    },
    "executionInfo": {
     "elapsed": 363,
     "status": "ok",
     "timestamp": 1622926986690,
     "user": {
      "displayName": "Thomas Rico",
      "photoUrl": "",
      "userId": "03459133432310094050"
     },
     "user_tz": -180
    },
    "id": "MPq2DiUJ-G-Y",
    "outputId": "4c0e61c5-9734-41a6-e4e8-f5c424e7519d",
    "scrolled": false
   },
   "outputs": [
    {
     "data": {
      "image/png": "[encoded data removed]",
      "text/plain": [
       "<Figure size 1080x576 with 1 Axes>"
      ]
     },
     "metadata": {
      "needs_background": "light",
      "tags": []
     },
     "output_type": "display_data"
    }
   ],
   "source": [
    "# with matplotlib\n"
   ]
  },
  {
   "cell_type": "code",
   "execution_count": null,
   "metadata": {
    "id": "tRAjYkN_MqkZ"
   },
   "outputs": [],
   "source": []
  }
 ],
 "metadata": {
  "colab": {
   "collapsed_sections": [],
   "name": "Assignment-1 student.ipynb",
   "provenance": [],
   "toc_visible": true
  },
  "kernelspec": {
   "display_name": "Python 3",
   "language": "python",
   "name": "python3"
  },
  "language_info": {
   "codemirror_mode": {
    "name": "ipython",
    "version": 3
   },
   "file_extension": ".py",
   "mimetype": "text/x-python",
   "name": "python",
   "nbconvert_exporter": "python",
   "pygments_lexer": "ipython3",
   "version": "3.7.10"
  }
 },
 "nbformat": 4,
 "nbformat_minor": 1
}
