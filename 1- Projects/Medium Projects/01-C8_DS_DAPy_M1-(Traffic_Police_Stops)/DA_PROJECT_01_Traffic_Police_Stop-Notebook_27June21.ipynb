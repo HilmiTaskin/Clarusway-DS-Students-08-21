{
 "cells": [
  {
   "cell_type": "markdown",
   "id": "18949d40",
   "metadata": {},
   "source": [
    "#### 1. ÇALIŞACAĞIM KÜTÜPHANELERİ BELİRLEYİP IMPORT EDEREK BAŞLIYORUM."
   ]
  },
  {
   "cell_type": "code",
   "execution_count": 4,
   "id": "a3cd7b2d",
   "metadata": {},
   "outputs": [],
   "source": [
    "import pandas as pd\n",
    "import numpy as np"
   ]
  },
  {
   "cell_type": "markdown",
   "id": "1a83f26f",
   "metadata": {},
   "source": [
    "#### 2. DATASETİMİ ÇAĞIRIYORUM. "
   ]
  },
  {
   "cell_type": "raw",
   "id": "62208657",
   "metadata": {},
   "source": [
    "Bu dataseti, notebookumu yoracak kadar büyük olduğundan belli bir miktarı (50000 satır) ile çalışmaya karar verdim."
   ]
  },
  {
   "cell_type": "code",
   "execution_count": 5,
   "id": "7ff83247",
   "metadata": {},
   "outputs": [
    {
     "ename": "FileNotFoundError",
     "evalue": "[Errno 2] No such file or directory: 'RI_cleaned.csv'",
     "output_type": "error",
     "traceback": [
      "\u001b[1;31m---------------------------------------------------------------------------\u001b[0m",
      "\u001b[1;31mFileNotFoundError\u001b[0m                         Traceback (most recent call last)",
      "\u001b[1;32m<ipython-input-5-b3d613fdf2ce>\u001b[0m in \u001b[0;36m<module>\u001b[1;34m\u001b[0m\n\u001b[1;32m----> 1\u001b[1;33m \u001b[0mri\u001b[0m \u001b[1;33m=\u001b[0m \u001b[0mpd\u001b[0m\u001b[1;33m.\u001b[0m\u001b[0mread_csv\u001b[0m\u001b[1;33m(\u001b[0m\u001b[1;34m\"RI_cleaned.csv\"\u001b[0m\u001b[1;33m)\u001b[0m\u001b[1;33m\u001b[0m\u001b[1;33m\u001b[0m\u001b[0m\n\u001b[0m",
      "\u001b[1;32m~\\anaconda3\\envs\\new_environment2\\lib\\site-packages\\pandas\\io\\parsers.py\u001b[0m in \u001b[0;36mread_csv\u001b[1;34m(filepath_or_buffer, sep, delimiter, header, names, index_col, usecols, squeeze, prefix, mangle_dupe_cols, dtype, engine, converters, true_values, false_values, skipinitialspace, skiprows, skipfooter, nrows, na_values, keep_default_na, na_filter, verbose, skip_blank_lines, parse_dates, infer_datetime_format, keep_date_col, date_parser, dayfirst, cache_dates, iterator, chunksize, compression, thousands, decimal, lineterminator, quotechar, quoting, doublequote, escapechar, comment, encoding, dialect, error_bad_lines, warn_bad_lines, delim_whitespace, low_memory, memory_map, float_precision)\u001b[0m\n\u001b[0;32m    684\u001b[0m     )\n\u001b[0;32m    685\u001b[0m \u001b[1;33m\u001b[0m\u001b[0m\n\u001b[1;32m--> 686\u001b[1;33m     \u001b[1;32mreturn\u001b[0m \u001b[0m_read\u001b[0m\u001b[1;33m(\u001b[0m\u001b[0mfilepath_or_buffer\u001b[0m\u001b[1;33m,\u001b[0m \u001b[0mkwds\u001b[0m\u001b[1;33m)\u001b[0m\u001b[1;33m\u001b[0m\u001b[1;33m\u001b[0m\u001b[0m\n\u001b[0m\u001b[0;32m    687\u001b[0m \u001b[1;33m\u001b[0m\u001b[0m\n\u001b[0;32m    688\u001b[0m \u001b[1;33m\u001b[0m\u001b[0m\n",
      "\u001b[1;32m~\\anaconda3\\envs\\new_environment2\\lib\\site-packages\\pandas\\io\\parsers.py\u001b[0m in \u001b[0;36m_read\u001b[1;34m(filepath_or_buffer, kwds)\u001b[0m\n\u001b[0;32m    450\u001b[0m \u001b[1;33m\u001b[0m\u001b[0m\n\u001b[0;32m    451\u001b[0m     \u001b[1;31m# Create the parser.\u001b[0m\u001b[1;33m\u001b[0m\u001b[1;33m\u001b[0m\u001b[1;33m\u001b[0m\u001b[0m\n\u001b[1;32m--> 452\u001b[1;33m     \u001b[0mparser\u001b[0m \u001b[1;33m=\u001b[0m \u001b[0mTextFileReader\u001b[0m\u001b[1;33m(\u001b[0m\u001b[0mfp_or_buf\u001b[0m\u001b[1;33m,\u001b[0m \u001b[1;33m**\u001b[0m\u001b[0mkwds\u001b[0m\u001b[1;33m)\u001b[0m\u001b[1;33m\u001b[0m\u001b[1;33m\u001b[0m\u001b[0m\n\u001b[0m\u001b[0;32m    453\u001b[0m \u001b[1;33m\u001b[0m\u001b[0m\n\u001b[0;32m    454\u001b[0m     \u001b[1;32mif\u001b[0m \u001b[0mchunksize\u001b[0m \u001b[1;32mor\u001b[0m \u001b[0miterator\u001b[0m\u001b[1;33m:\u001b[0m\u001b[1;33m\u001b[0m\u001b[1;33m\u001b[0m\u001b[0m\n",
      "\u001b[1;32m~\\anaconda3\\envs\\new_environment2\\lib\\site-packages\\pandas\\io\\parsers.py\u001b[0m in \u001b[0;36m__init__\u001b[1;34m(self, f, engine, **kwds)\u001b[0m\n\u001b[0;32m    934\u001b[0m             \u001b[0mself\u001b[0m\u001b[1;33m.\u001b[0m\u001b[0moptions\u001b[0m\u001b[1;33m[\u001b[0m\u001b[1;34m\"has_index_names\"\u001b[0m\u001b[1;33m]\u001b[0m \u001b[1;33m=\u001b[0m \u001b[0mkwds\u001b[0m\u001b[1;33m[\u001b[0m\u001b[1;34m\"has_index_names\"\u001b[0m\u001b[1;33m]\u001b[0m\u001b[1;33m\u001b[0m\u001b[1;33m\u001b[0m\u001b[0m\n\u001b[0;32m    935\u001b[0m \u001b[1;33m\u001b[0m\u001b[0m\n\u001b[1;32m--> 936\u001b[1;33m         \u001b[0mself\u001b[0m\u001b[1;33m.\u001b[0m\u001b[0m_make_engine\u001b[0m\u001b[1;33m(\u001b[0m\u001b[0mself\u001b[0m\u001b[1;33m.\u001b[0m\u001b[0mengine\u001b[0m\u001b[1;33m)\u001b[0m\u001b[1;33m\u001b[0m\u001b[1;33m\u001b[0m\u001b[0m\n\u001b[0m\u001b[0;32m    937\u001b[0m \u001b[1;33m\u001b[0m\u001b[0m\n\u001b[0;32m    938\u001b[0m     \u001b[1;32mdef\u001b[0m \u001b[0mclose\u001b[0m\u001b[1;33m(\u001b[0m\u001b[0mself\u001b[0m\u001b[1;33m)\u001b[0m\u001b[1;33m:\u001b[0m\u001b[1;33m\u001b[0m\u001b[1;33m\u001b[0m\u001b[0m\n",
      "\u001b[1;32m~\\anaconda3\\envs\\new_environment2\\lib\\site-packages\\pandas\\io\\parsers.py\u001b[0m in \u001b[0;36m_make_engine\u001b[1;34m(self, engine)\u001b[0m\n\u001b[0;32m   1166\u001b[0m     \u001b[1;32mdef\u001b[0m \u001b[0m_make_engine\u001b[0m\u001b[1;33m(\u001b[0m\u001b[0mself\u001b[0m\u001b[1;33m,\u001b[0m \u001b[0mengine\u001b[0m\u001b[1;33m=\u001b[0m\u001b[1;34m\"c\"\u001b[0m\u001b[1;33m)\u001b[0m\u001b[1;33m:\u001b[0m\u001b[1;33m\u001b[0m\u001b[1;33m\u001b[0m\u001b[0m\n\u001b[0;32m   1167\u001b[0m         \u001b[1;32mif\u001b[0m \u001b[0mengine\u001b[0m \u001b[1;33m==\u001b[0m \u001b[1;34m\"c\"\u001b[0m\u001b[1;33m:\u001b[0m\u001b[1;33m\u001b[0m\u001b[1;33m\u001b[0m\u001b[0m\n\u001b[1;32m-> 1168\u001b[1;33m             \u001b[0mself\u001b[0m\u001b[1;33m.\u001b[0m\u001b[0m_engine\u001b[0m \u001b[1;33m=\u001b[0m \u001b[0mCParserWrapper\u001b[0m\u001b[1;33m(\u001b[0m\u001b[0mself\u001b[0m\u001b[1;33m.\u001b[0m\u001b[0mf\u001b[0m\u001b[1;33m,\u001b[0m \u001b[1;33m**\u001b[0m\u001b[0mself\u001b[0m\u001b[1;33m.\u001b[0m\u001b[0moptions\u001b[0m\u001b[1;33m)\u001b[0m\u001b[1;33m\u001b[0m\u001b[1;33m\u001b[0m\u001b[0m\n\u001b[0m\u001b[0;32m   1169\u001b[0m         \u001b[1;32melse\u001b[0m\u001b[1;33m:\u001b[0m\u001b[1;33m\u001b[0m\u001b[1;33m\u001b[0m\u001b[0m\n\u001b[0;32m   1170\u001b[0m             \u001b[1;32mif\u001b[0m \u001b[0mengine\u001b[0m \u001b[1;33m==\u001b[0m \u001b[1;34m\"python\"\u001b[0m\u001b[1;33m:\u001b[0m\u001b[1;33m\u001b[0m\u001b[1;33m\u001b[0m\u001b[0m\n",
      "\u001b[1;32m~\\anaconda3\\envs\\new_environment2\\lib\\site-packages\\pandas\\io\\parsers.py\u001b[0m in \u001b[0;36m__init__\u001b[1;34m(self, src, **kwds)\u001b[0m\n\u001b[0;32m   1996\u001b[0m         \u001b[0mkwds\u001b[0m\u001b[1;33m[\u001b[0m\u001b[1;34m\"usecols\"\u001b[0m\u001b[1;33m]\u001b[0m \u001b[1;33m=\u001b[0m \u001b[0mself\u001b[0m\u001b[1;33m.\u001b[0m\u001b[0musecols\u001b[0m\u001b[1;33m\u001b[0m\u001b[1;33m\u001b[0m\u001b[0m\n\u001b[0;32m   1997\u001b[0m \u001b[1;33m\u001b[0m\u001b[0m\n\u001b[1;32m-> 1998\u001b[1;33m         \u001b[0mself\u001b[0m\u001b[1;33m.\u001b[0m\u001b[0m_reader\u001b[0m \u001b[1;33m=\u001b[0m \u001b[0mparsers\u001b[0m\u001b[1;33m.\u001b[0m\u001b[0mTextReader\u001b[0m\u001b[1;33m(\u001b[0m\u001b[0msrc\u001b[0m\u001b[1;33m,\u001b[0m \u001b[1;33m**\u001b[0m\u001b[0mkwds\u001b[0m\u001b[1;33m)\u001b[0m\u001b[1;33m\u001b[0m\u001b[1;33m\u001b[0m\u001b[0m\n\u001b[0m\u001b[0;32m   1999\u001b[0m         \u001b[0mself\u001b[0m\u001b[1;33m.\u001b[0m\u001b[0munnamed_cols\u001b[0m \u001b[1;33m=\u001b[0m \u001b[0mself\u001b[0m\u001b[1;33m.\u001b[0m\u001b[0m_reader\u001b[0m\u001b[1;33m.\u001b[0m\u001b[0munnamed_cols\u001b[0m\u001b[1;33m\u001b[0m\u001b[1;33m\u001b[0m\u001b[0m\n\u001b[0;32m   2000\u001b[0m \u001b[1;33m\u001b[0m\u001b[0m\n",
      "\u001b[1;32mpandas\\_libs\\parsers.pyx\u001b[0m in \u001b[0;36mpandas._libs.parsers.TextReader.__cinit__\u001b[1;34m()\u001b[0m\n",
      "\u001b[1;32mpandas\\_libs\\parsers.pyx\u001b[0m in \u001b[0;36mpandas._libs.parsers.TextReader._setup_parser_source\u001b[1;34m()\u001b[0m\n",
      "\u001b[1;31mFileNotFoundError\u001b[0m: [Errno 2] No such file or directory: 'RI_cleaned.csv'"
     ]
    }
   ],
   "source": [
    "ri = pd.read_csv(\"RI_cleaned.csv\", nrows = 50000)"
   ]
  },
  {
   "cell_type": "markdown",
   "id": "933fc537",
   "metadata": {},
   "source": [
    "#### 3. DATASETİMDE NE TÜR VERİLER OLDUĞUNU GÖRMEK İÇİN İLK SATIRLARINA BAKIYORUM"
   ]
  },
  {
   "cell_type": "code",
   "execution_count": 78,
   "id": "dbe30437",
   "metadata": {},
   "outputs": [
    {
     "data": {
      "text/html": [
       "<div>\n",
       "<style scoped>\n",
       "    .dataframe tbody tr th:only-of-type {\n",
       "        vertical-align: middle;\n",
       "    }\n",
       "\n",
       "    .dataframe tbody tr th {\n",
       "        vertical-align: top;\n",
       "    }\n",
       "\n",
       "    .dataframe thead th {\n",
       "        text-align: right;\n",
       "    }\n",
       "</style>\n",
       "<table border=\"1\" class=\"dataframe\">\n",
       "  <thead>\n",
       "    <tr style=\"text-align: right;\">\n",
       "      <th></th>\n",
       "      <th>id</th>\n",
       "      <th>state</th>\n",
       "      <th>stop_date</th>\n",
       "      <th>stop_time</th>\n",
       "      <th>location_raw</th>\n",
       "      <th>county_name</th>\n",
       "      <th>county_fips</th>\n",
       "      <th>fine_grained_location</th>\n",
       "      <th>police_department</th>\n",
       "      <th>driver_gender</th>\n",
       "      <th>...</th>\n",
       "      <th>search_conducted</th>\n",
       "      <th>search_type_raw</th>\n",
       "      <th>search_type</th>\n",
       "      <th>contraband_found</th>\n",
       "      <th>stop_outcome</th>\n",
       "      <th>is_arrested</th>\n",
       "      <th>stop_duration</th>\n",
       "      <th>out_of_state</th>\n",
       "      <th>drugs_related_stop</th>\n",
       "      <th>district</th>\n",
       "    </tr>\n",
       "  </thead>\n",
       "  <tbody>\n",
       "    <tr>\n",
       "      <th>0</th>\n",
       "      <td>RI-2005-00001</td>\n",
       "      <td>RI</td>\n",
       "      <td>2005-01-02</td>\n",
       "      <td>01:55</td>\n",
       "      <td>Zone K1</td>\n",
       "      <td>NaN</td>\n",
       "      <td>NaN</td>\n",
       "      <td>NaN</td>\n",
       "      <td>600</td>\n",
       "      <td>M</td>\n",
       "      <td>...</td>\n",
       "      <td>False</td>\n",
       "      <td>NaN</td>\n",
       "      <td>NaN</td>\n",
       "      <td>False</td>\n",
       "      <td>Citation</td>\n",
       "      <td>False</td>\n",
       "      <td>0-15 Min</td>\n",
       "      <td>False</td>\n",
       "      <td>False</td>\n",
       "      <td>Zone K1</td>\n",
       "    </tr>\n",
       "    <tr>\n",
       "      <th>1</th>\n",
       "      <td>RI-2005-00002</td>\n",
       "      <td>RI</td>\n",
       "      <td>2005-01-02</td>\n",
       "      <td>20:30</td>\n",
       "      <td>Zone X4</td>\n",
       "      <td>NaN</td>\n",
       "      <td>NaN</td>\n",
       "      <td>NaN</td>\n",
       "      <td>500</td>\n",
       "      <td>M</td>\n",
       "      <td>...</td>\n",
       "      <td>False</td>\n",
       "      <td>NaN</td>\n",
       "      <td>NaN</td>\n",
       "      <td>False</td>\n",
       "      <td>Citation</td>\n",
       "      <td>False</td>\n",
       "      <td>16-30 Min</td>\n",
       "      <td>False</td>\n",
       "      <td>False</td>\n",
       "      <td>Zone X4</td>\n",
       "    </tr>\n",
       "    <tr>\n",
       "      <th>2</th>\n",
       "      <td>RI-2005-00003</td>\n",
       "      <td>RI</td>\n",
       "      <td>2005-01-04</td>\n",
       "      <td>11:30</td>\n",
       "      <td>Zone X1</td>\n",
       "      <td>NaN</td>\n",
       "      <td>NaN</td>\n",
       "      <td>NaN</td>\n",
       "      <td>0</td>\n",
       "      <td>NaN</td>\n",
       "      <td>...</td>\n",
       "      <td>False</td>\n",
       "      <td>NaN</td>\n",
       "      <td>NaN</td>\n",
       "      <td>False</td>\n",
       "      <td>NaN</td>\n",
       "      <td>NaN</td>\n",
       "      <td>NaN</td>\n",
       "      <td>NaN</td>\n",
       "      <td>False</td>\n",
       "      <td>Zone X1</td>\n",
       "    </tr>\n",
       "  </tbody>\n",
       "</table>\n",
       "<p>3 rows × 26 columns</p>\n",
       "</div>"
      ],
      "text/plain": [
       "              id state   stop_date stop_time location_raw  county_name  \\\n",
       "0  RI-2005-00001    RI  2005-01-02     01:55      Zone K1          NaN   \n",
       "1  RI-2005-00002    RI  2005-01-02     20:30      Zone X4          NaN   \n",
       "2  RI-2005-00003    RI  2005-01-04     11:30      Zone X1          NaN   \n",
       "\n",
       "   county_fips  fine_grained_location police_department driver_gender  ...  \\\n",
       "0          NaN                    NaN               600             M  ...   \n",
       "1          NaN                    NaN               500             M  ...   \n",
       "2          NaN                    NaN                 0           NaN  ...   \n",
       "\n",
       "   search_conducted  search_type_raw search_type contraband_found  \\\n",
       "0             False              NaN         NaN            False   \n",
       "1             False              NaN         NaN            False   \n",
       "2             False              NaN         NaN            False   \n",
       "\n",
       "  stop_outcome is_arrested  stop_duration out_of_state drugs_related_stop  \\\n",
       "0     Citation       False       0-15 Min        False              False   \n",
       "1     Citation       False      16-30 Min        False              False   \n",
       "2          NaN         NaN            NaN          NaN              False   \n",
       "\n",
       "   district  \n",
       "0   Zone K1  \n",
       "1   Zone X4  \n",
       "2   Zone X1  \n",
       "\n",
       "[3 rows x 26 columns]"
      ]
     },
     "execution_count": 78,
     "metadata": {},
     "output_type": "execute_result"
    }
   ],
   "source": [
    "ri.head(3)"
   ]
  },
  {
   "cell_type": "markdown",
   "id": "16d3bdb5",
   "metadata": {},
   "source": [
    "#### 4. SÜTUNLARIMI TOPLU HALDE GÖRMEK İSTİYORUM Kİ BAKALIM BU DATA BANA NE ANLATIYOR."
   ]
  },
  {
   "cell_type": "raw",
   "id": "da06976c",
   "metadata": {},
   "source": [
    "ve ilk bakışta hangi sütunlardan vazgeçebileceğimi anlamaya çalışıyorum (Data temizleme işlemine hazırlık yapıyorum)"
   ]
  },
  {
   "cell_type": "code",
   "execution_count": 79,
   "id": "8e5bf3f8",
   "metadata": {},
   "outputs": [
    {
     "data": {
      "text/plain": [
       "Index(['id', 'state', 'stop_date', 'stop_time', 'location_raw', 'county_name',\n",
       "       'county_fips', 'fine_grained_location', 'police_department',\n",
       "       'driver_gender', 'driver_age_raw', 'driver_age', 'driver_race_raw',\n",
       "       'driver_race', 'violation_raw', 'violation', 'search_conducted',\n",
       "       'search_type_raw', 'search_type', 'contraband_found', 'stop_outcome',\n",
       "       'is_arrested', 'stop_duration', 'out_of_state', 'drugs_related_stop',\n",
       "       'district'],\n",
       "      dtype='object')"
      ]
     },
     "execution_count": 79,
     "metadata": {},
     "output_type": "execute_result"
    }
   ],
   "source": [
    "ri.columns"
   ]
  },
  {
   "cell_type": "markdown",
   "id": "d379941e",
   "metadata": {},
   "source": [
    "#### 5. BOŞ SATIRLARIMI MISSING VALUE LARIMI GÖRMEK İSTİYORUM Kİ VAZGEÇEBİLECEĞİM SATIRLARI BELİRLEYEBİLEYİM. (VERİ TEMİZLEME İŞLEMİNE BAŞLADIM)"
   ]
  },
  {
   "cell_type": "code",
   "execution_count": 38,
   "id": "03c0acb7",
   "metadata": {},
   "outputs": [
    {
     "data": {
      "text/plain": [
       "id                           0\n",
       "state                        0\n",
       "stop_date                    0\n",
       "stop_time                    0\n",
       "location_raw                 0\n",
       "county_name              50000\n",
       "county_fips              50000\n",
       "fine_grained_location    50000\n",
       "police_department            0\n",
       "driver_gender             1990\n",
       "driver_age_raw            1971\n",
       "driver_age                2208\n",
       "driver_race_raw           1988\n",
       "driver_race               1988\n",
       "violation_raw             1988\n",
       "violation                 1988\n",
       "search_conducted             0\n",
       "search_type_raw          47988\n",
       "search_type              47988\n",
       "contraband_found             0\n",
       "stop_outcome              1988\n",
       "is_arrested               1988\n",
       "stop_duration             1988\n",
       "out_of_state              2203\n",
       "drugs_related_stop           0\n",
       "district                     0\n",
       "dtype: int64"
      ]
     },
     "execution_count": 38,
     "metadata": {},
     "output_type": "execute_result"
    }
   ],
   "source": [
    "ri.isnull().sum()"
   ]
  },
  {
   "cell_type": "markdown",
   "id": "d7341867",
   "metadata": {},
   "source": [
    "#### 6. DATASETİMİN KAÇ SATIR KAÇ SÜTUNDAN OLUŞDUĞUNA (SHAPE'INE) BAKIYORUM Kİ BİRAZDAN BAZILARINI DÜŞÜRDÜĞÜMDE SATIR-SÜTUN SAYILARINA BAKIP TEYİD EDEBİLEYİM. "
   ]
  },
  {
   "cell_type": "code",
   "execution_count": 39,
   "id": "910af3c3",
   "metadata": {},
   "outputs": [
    {
     "data": {
      "text/plain": [
       "(50000, 26)"
      ]
     },
     "execution_count": 39,
     "metadata": {},
     "output_type": "execute_result"
    }
   ],
   "source": [
    "ri.shape"
   ]
  },
  {
   "cell_type": "markdown",
   "id": "68ec354e",
   "metadata": {},
   "source": [
    "#### 7. SÜTUNLARDAN BAŞLAYARAK TEMİZLEME İŞLEMİNE BAŞLADIM. "
   ]
  },
  {
   "cell_type": "raw",
   "id": "015e39b5",
   "metadata": {},
   "source": [
    "State sütununu zaten tek bir state olması nedeniyle, country_name sütununu da tüm satırları boş olması nedeniyle işime yaramayacağından düşürüyorum ki geriye kalan verilere daha iyi odaklanabileyim. "
   ]
  },
  {
   "cell_type": "code",
   "execution_count": 80,
   "id": "64d0eac4",
   "metadata": {},
   "outputs": [],
   "source": [
    "drop_columns = [\"state\", \"county_name\", \"county_fips\", \"fine_grained_location\"]\n",
    "\n",
    "ri.drop(drop_columns, axis = \"columns\", inplace=True)  \n",
    "\n",
    "# axis = columns veya axis = 1 iki doğru kullanım şeklidir."
   ]
  },
  {
   "cell_type": "code",
   "execution_count": 60,
   "id": "af130725",
   "metadata": {},
   "outputs": [
    {
     "data": {
      "text/plain": [
       "(50000, 22)"
      ]
     },
     "execution_count": 60,
     "metadata": {},
     "output_type": "execute_result"
    }
   ],
   "source": [
    "ri.shape\n",
    "\n",
    "# tekrar bakıyorum ve sütunların düşmüş olduğunu görüyorum."
   ]
  },
  {
   "cell_type": "markdown",
   "id": "e6ef10fa",
   "metadata": {},
   "source": [
    "#### 8. ŞİMDİ SİLMEM GEREKEN SATIRLARI BELİRLEYİP SATIR SİLEREK TEMİZLEME İŞLEMİNE DEVAM EDİYORUM."
   ]
  },
  {
   "cell_type": "raw",
   "id": "fa5640cf",
   "metadata": {},
   "source": [
    "Belirli bir sütunun analiziniz için kritik olacağını bildiğinizde ve satırların yalnızca küçük bir bölümünde bu sütunda bir değer eksik olduğunda, bu satırları veri kümesinden çıkarmak genellikle mantıklıdır.\n",
    "\n",
    "driver_gender sütunu analizlerimin çoğu için kritik olacaktır. Yalnızca küçük bir satırda driver_gender eksik olduğundan, bu satırları veri kümesinden çıkaracağız.\n"
   ]
  },
  {
   "cell_type": "code",
   "execution_count": 42,
   "id": "c9645eab",
   "metadata": {},
   "outputs": [
    {
     "data": {
      "text/plain": [
       "id                        0\n",
       "stop_date                 0\n",
       "stop_time                 0\n",
       "location_raw              0\n",
       "police_department         0\n",
       "driver_gender          1990\n",
       "driver_age_raw         1971\n",
       "driver_age             2208\n",
       "driver_race_raw        1988\n",
       "driver_race            1988\n",
       "violation_raw          1988\n",
       "violation              1988\n",
       "search_conducted          0\n",
       "search_type_raw       47988\n",
       "search_type           47988\n",
       "contraband_found          0\n",
       "stop_outcome           1988\n",
       "is_arrested            1988\n",
       "stop_duration          1988\n",
       "out_of_state           2203\n",
       "drugs_related_stop        0\n",
       "district                  0\n",
       "dtype: int64"
      ]
     },
     "execution_count": 42,
     "metadata": {},
     "output_type": "execute_result"
    }
   ],
   "source": [
    "ri.isnull().sum()"
   ]
  },
  {
   "cell_type": "code",
   "execution_count": 81,
   "id": "de8c144a",
   "metadata": {},
   "outputs": [],
   "source": [
    "# drop : içinde belirtilen verileri\n",
    "# dropna : NaN ları düşürür\n",
    "# drop_duplicates : tekrar olan verileri düşürür\n",
    "# biz burda dropna kullanacağız. \n",
    "\n",
    "ri.dropna(subset = [\"driver_gender\"], inplace = True)"
   ]
  },
  {
   "cell_type": "raw",
   "id": "e1fc7652",
   "metadata": {},
   "source": [
    "subset olarak driver_gender sütununu seçtiğimizden tüm data içinde değil, yalnızca subsette belirtilen sütun içindeki NaN değerleri düşürecek.\n",
    "\n",
    "how parametresi default olarak \"any\" argümanını aldığından ve zaten şuan tek bir sütunda çalıştığımdan baktığı satırda zaten ya tek bir NaN görecek ya da dolu görecek.  NaN gördüğünü silecek. bu yüzden how, default olarak kalsın istedim. \n",
    "\n",
    "subset kullanmadan dropna yaptığımda NaN olan değerleri düşürünce içinde NaN değer olan tüm sütunların satırları gitmiş olacak. ama o satırda içinde derğerli veri olan sütunlar da olabilir. Bunu subset ile yapacağız ve sadece belirttiğimiz sütundaki NaN olan değerlerin satırlarını silecek. "
   ]
  },
  {
   "cell_type": "code",
   "execution_count": 44,
   "id": "6c8025cc",
   "metadata": {},
   "outputs": [
    {
     "data": {
      "text/plain": [
       "(48010, 22)"
      ]
     },
     "execution_count": 44,
     "metadata": {},
     "output_type": "execute_result"
    }
   ],
   "source": [
    "ri.shape\n",
    "\n",
    "# yaklaşık 2000 satırın silindiğini gördüm."
   ]
  },
  {
   "cell_type": "code",
   "execution_count": 45,
   "id": "4b6b10d7",
   "metadata": {},
   "outputs": [
    {
     "data": {
      "text/plain": [
       "id                        0\n",
       "stop_date                 0\n",
       "stop_time                 0\n",
       "location_raw              0\n",
       "police_department         0\n",
       "driver_gender             0\n",
       "driver_age_raw            0\n",
       "driver_age              232\n",
       "driver_race_raw           0\n",
       "driver_race               0\n",
       "violation_raw             0\n",
       "violation                 0\n",
       "search_conducted          0\n",
       "search_type_raw       45998\n",
       "search_type           45998\n",
       "contraband_found          0\n",
       "stop_outcome              0\n",
       "is_arrested               0\n",
       "stop_duration             0\n",
       "out_of_state            215\n",
       "drugs_related_stop        0\n",
       "district                  0\n",
       "dtype: int64"
      ]
     },
     "execution_count": 45,
     "metadata": {},
     "output_type": "execute_result"
    }
   ],
   "source": [
    "ri.isnull().sum()\n",
    "\n",
    "# tekar sütunların içinde NaN değer olan satır sayılarına bakıyorum"
   ]
  },
  {
   "cell_type": "raw",
   "id": "7ee82ab2",
   "metadata": {},
   "source": [
    "driver_race\n",
    "driver_race_raw\n",
    "driver_age \n",
    "\n",
    "gibi satırlar da sıfırlandı. demek ki onların da driver_gender gibi o satırlarında null değer varmış."
   ]
  },
  {
   "cell_type": "markdown",
   "id": "07571285",
   "metadata": {},
   "source": [
    "#### 9. DROP İŞLEMİNDEN SONRA FIXING İŞLEMİNE GEÇİYORUM"
   ]
  },
  {
   "cell_type": "raw",
   "id": "ccfc55a8",
   "metadata": {},
   "source": [
    "is_arrested sütununda şu anda True ve False değerler olsa da bunların nesne veri türüne sahip olduğunu biliyoruz. O yüzden bunları, True ve False değerlerini içeren bir sütun için en uygun veri türü olan bool olarak değiştireceğiz.\n",
    "\n",
    "Veri türünü düzeltmek, is_arrested sütununda başka türlü mümkün olmayan matematiksel işlemleri kullanmamızı sağlayacaktır."
   ]
  },
  {
   "cell_type": "code",
   "execution_count": 46,
   "id": "c74a5d36",
   "metadata": {},
   "outputs": [
    {
     "name": "stdout",
     "output_type": "stream",
     "text": [
      "<class 'pandas.core.frame.DataFrame'>\n",
      "Int64Index: 48010 entries, 0 to 49999\n",
      "Data columns (total 22 columns):\n",
      " #   Column              Non-Null Count  Dtype  \n",
      "---  ------              --------------  -----  \n",
      " 0   id                  48010 non-null  object \n",
      " 1   stop_date           48010 non-null  object \n",
      " 2   stop_time           48010 non-null  object \n",
      " 3   location_raw        48010 non-null  object \n",
      " 4   police_department   48010 non-null  object \n",
      " 5   driver_gender       48010 non-null  object \n",
      " 6   driver_age_raw      48010 non-null  float64\n",
      " 7   driver_age          47778 non-null  float64\n",
      " 8   driver_race_raw     48010 non-null  object \n",
      " 9   driver_race         48010 non-null  object \n",
      " 10  violation_raw       48010 non-null  object \n",
      " 11  violation           48010 non-null  object \n",
      " 12  search_conducted    48010 non-null  bool   \n",
      " 13  search_type_raw     2012 non-null   object \n",
      " 14  search_type         2012 non-null   object \n",
      " 15  contraband_found    48010 non-null  bool   \n",
      " 16  stop_outcome        48010 non-null  object \n",
      " 17  is_arrested         48010 non-null  object \n",
      " 18  stop_duration       48010 non-null  object \n",
      " 19  out_of_state        47795 non-null  object \n",
      " 20  drugs_related_stop  48010 non-null  bool   \n",
      " 21  district            48010 non-null  object \n",
      "dtypes: bool(3), float64(2), object(17)\n",
      "memory usage: 7.5+ MB\n"
     ]
    }
   ],
   "source": [
    "ri.info()\n",
    "\n",
    "# datasetimin sütun ve satırları hakkında bilgilere bakıyorum. \n",
    "# bu sayede resmi görebiliyorum"
   ]
  },
  {
   "cell_type": "code",
   "execution_count": 47,
   "id": "11f4ec03",
   "metadata": {},
   "outputs": [
    {
     "data": {
      "text/plain": [
       "id                     object\n",
       "stop_date              object\n",
       "stop_time              object\n",
       "location_raw           object\n",
       "police_department      object\n",
       "driver_gender          object\n",
       "driver_age_raw        float64\n",
       "driver_age            float64\n",
       "driver_race_raw        object\n",
       "driver_race            object\n",
       "violation_raw          object\n",
       "violation              object\n",
       "search_conducted         bool\n",
       "search_type_raw        object\n",
       "search_type            object\n",
       "contraband_found         bool\n",
       "stop_outcome           object\n",
       "is_arrested            object\n",
       "stop_duration          object\n",
       "out_of_state           object\n",
       "drugs_related_stop       bool\n",
       "district               object\n",
       "dtype: object"
      ]
     },
     "execution_count": 47,
     "metadata": {},
     "output_type": "execute_result"
    }
   ],
   "source": [
    "ri.dtypes\n",
    "\n",
    "# hangi sütunda hangi data tipi olduğuna baktım"
   ]
  },
  {
   "cell_type": "code",
   "execution_count": 48,
   "id": "40454f59",
   "metadata": {},
   "outputs": [
    {
     "data": {
      "text/plain": [
       "0    False\n",
       "1    False\n",
       "3    False\n",
       "4    False\n",
       "5    False\n",
       "Name: is_arrested, dtype: object"
      ]
     },
     "execution_count": 48,
     "metadata": {},
     "output_type": "execute_result"
    }
   ],
   "source": [
    "ri.is_arrested.head()\n",
    "\n",
    "# object tipinde olduğunu gördüm. \n",
    "# biz bunu bool görmek istiyoruz. buna bir ayar çekmemiz lazım."
   ]
  },
  {
   "cell_type": "code",
   "execution_count": 49,
   "id": "319c5448",
   "metadata": {},
   "outputs": [
    {
     "data": {
      "text/plain": [
       "bool"
      ]
     },
     "execution_count": 49,
     "metadata": {},
     "output_type": "execute_result"
    }
   ],
   "source": [
    "type(ri.is_arrested.values[0])"
   ]
  },
  {
   "cell_type": "code",
   "execution_count": 82,
   "id": "db915dc3",
   "metadata": {},
   "outputs": [],
   "source": [
    "ri[\"is_arrested\"] = ri.is_arrested.astype(\"bool\")\n",
    "\n",
    "# ri[\"is_arrested\"] serie sini içeriğini bool yapıp kendisine eşitliyorum. yani bool'a değiştirmiş oluyorum."
   ]
  },
  {
   "cell_type": "code",
   "execution_count": 84,
   "id": "39b941d0",
   "metadata": {},
   "outputs": [
    {
     "data": {
      "text/plain": [
       "0        False\n",
       "1        False\n",
       "3        False\n",
       "4        False\n",
       "5        False\n",
       "         ...  \n",
       "49995    False\n",
       "49996    False\n",
       "49997    False\n",
       "49998    False\n",
       "49999    False\n",
       "Name: is_arrested, Length: 48010, dtype: bool"
      ]
     },
     "execution_count": 84,
     "metadata": {},
     "output_type": "execute_result"
    }
   ],
   "source": [
    "ri[\"is_arrested\"]\n",
    "\n",
    "# dtype ının boolean a döndüğünü gördük."
   ]
  },
  {
   "cell_type": "markdown",
   "id": "dc93b830",
   "metadata": {},
   "source": [
    "#### 10. BİRLEŞTİRİLMESİ İCAP EDEN SÜTUNLARI BİRLEŞTİRİP SADELİK VE AMACA ODAKLANMAYI SAĞLIYORUM"
   ]
  },
  {
   "cell_type": "markdown",
   "id": "5dbb4285",
   "metadata": {},
   "source": [
    "## Combining object columns"
   ]
  },
  {
   "cell_type": "markdown",
   "id": "93a09660",
   "metadata": {},
   "source": [
    "**EN** Currently, the date and time of each traffic stop are stored in separate object columns: stop_date and stop_time.\n",
    "\n",
    "You'll combine these two columns into a single column, and then convert it to datetime format. This will enable convenient date-based attributes that we'll use later in the course.\n",
    "\n",
    "**INSTRUCTIONS**\n",
    "\n",
    "Use a string method to concatenate stop_date and stop_time (separated by a space), and store the result in combined.\n",
    "Convert combined to datetime format, and store the result in a new column named stop_datetime.\n",
    "Examine the DataFrame .dtypes to confirm that stop_datetime is a datetime column.\n",
    "\n",
    "**TR** Şu anda, her trafik stop'un date ve time'ı ayrı nesne sütunlarında depolanmaktadır:\n",
    "\n",
    "Bu iki sütunu tek bir sütunda birleştirecek ve ardından onu datetime biçimine dönüştüreceksiniz. Bu, kursun ilerleyen bölümlerinde kullanacağımız uygun date tabanlı özellikleri etkinleştirecektir.\n",
    "\n",
    "**TALİMATLAR**\n",
    "\n",
    "stop_date ve stop_time'ı (bir boşlukla ayrılmış) birleştirmek için string metodu kullanın ve sonucu combine edilmiş olarak saklayın. Bunu datetime formatına dönüştürün ve sonucu stop_datetime adlı yeni bir sütunda saklayın. stop_datetime öğesinin bir datetime sütunu olduğunu doğrulamak için DataFrame .dtypes öğesini inceleyin."
   ]
  },
  {
   "cell_type": "code",
   "execution_count": 52,
   "id": "388676bd",
   "metadata": {},
   "outputs": [
    {
     "data": {
      "text/html": [
       "<div>\n",
       "<style scoped>\n",
       "    .dataframe tbody tr th:only-of-type {\n",
       "        vertical-align: middle;\n",
       "    }\n",
       "\n",
       "    .dataframe tbody tr th {\n",
       "        vertical-align: top;\n",
       "    }\n",
       "\n",
       "    .dataframe thead th {\n",
       "        text-align: right;\n",
       "    }\n",
       "</style>\n",
       "<table border=\"1\" class=\"dataframe\">\n",
       "  <thead>\n",
       "    <tr style=\"text-align: right;\">\n",
       "      <th></th>\n",
       "      <th>id</th>\n",
       "      <th>stop_date</th>\n",
       "      <th>stop_time</th>\n",
       "      <th>location_raw</th>\n",
       "      <th>police_department</th>\n",
       "      <th>driver_gender</th>\n",
       "      <th>driver_age_raw</th>\n",
       "      <th>driver_age</th>\n",
       "      <th>driver_race_raw</th>\n",
       "      <th>driver_race</th>\n",
       "      <th>...</th>\n",
       "      <th>search_conducted</th>\n",
       "      <th>search_type_raw</th>\n",
       "      <th>search_type</th>\n",
       "      <th>contraband_found</th>\n",
       "      <th>stop_outcome</th>\n",
       "      <th>is_arrested</th>\n",
       "      <th>stop_duration</th>\n",
       "      <th>out_of_state</th>\n",
       "      <th>drugs_related_stop</th>\n",
       "      <th>district</th>\n",
       "    </tr>\n",
       "  </thead>\n",
       "  <tbody>\n",
       "    <tr>\n",
       "      <th>0</th>\n",
       "      <td>RI-2005-00001</td>\n",
       "      <td>2005-01-02</td>\n",
       "      <td>01:55</td>\n",
       "      <td>Zone K1</td>\n",
       "      <td>600</td>\n",
       "      <td>M</td>\n",
       "      <td>1985.0</td>\n",
       "      <td>20.0</td>\n",
       "      <td>W</td>\n",
       "      <td>White</td>\n",
       "      <td>...</td>\n",
       "      <td>False</td>\n",
       "      <td>NaN</td>\n",
       "      <td>NaN</td>\n",
       "      <td>False</td>\n",
       "      <td>Citation</td>\n",
       "      <td>False</td>\n",
       "      <td>0-15 Min</td>\n",
       "      <td>False</td>\n",
       "      <td>False</td>\n",
       "      <td>Zone K1</td>\n",
       "    </tr>\n",
       "    <tr>\n",
       "      <th>1</th>\n",
       "      <td>RI-2005-00002</td>\n",
       "      <td>2005-01-02</td>\n",
       "      <td>20:30</td>\n",
       "      <td>Zone X4</td>\n",
       "      <td>500</td>\n",
       "      <td>M</td>\n",
       "      <td>1987.0</td>\n",
       "      <td>18.0</td>\n",
       "      <td>W</td>\n",
       "      <td>White</td>\n",
       "      <td>...</td>\n",
       "      <td>False</td>\n",
       "      <td>NaN</td>\n",
       "      <td>NaN</td>\n",
       "      <td>False</td>\n",
       "      <td>Citation</td>\n",
       "      <td>False</td>\n",
       "      <td>16-30 Min</td>\n",
       "      <td>False</td>\n",
       "      <td>False</td>\n",
       "      <td>Zone X4</td>\n",
       "    </tr>\n",
       "    <tr>\n",
       "      <th>3</th>\n",
       "      <td>RI-2005-00004</td>\n",
       "      <td>2005-01-04</td>\n",
       "      <td>12:55</td>\n",
       "      <td>Zone X4</td>\n",
       "      <td>500</td>\n",
       "      <td>M</td>\n",
       "      <td>1986.0</td>\n",
       "      <td>19.0</td>\n",
       "      <td>W</td>\n",
       "      <td>White</td>\n",
       "      <td>...</td>\n",
       "      <td>False</td>\n",
       "      <td>NaN</td>\n",
       "      <td>NaN</td>\n",
       "      <td>False</td>\n",
       "      <td>Citation</td>\n",
       "      <td>False</td>\n",
       "      <td>0-15 Min</td>\n",
       "      <td>False</td>\n",
       "      <td>False</td>\n",
       "      <td>Zone X4</td>\n",
       "    </tr>\n",
       "    <tr>\n",
       "      <th>4</th>\n",
       "      <td>RI-2005-00005</td>\n",
       "      <td>2005-01-06</td>\n",
       "      <td>01:30</td>\n",
       "      <td>Zone X4</td>\n",
       "      <td>500</td>\n",
       "      <td>M</td>\n",
       "      <td>1978.0</td>\n",
       "      <td>27.0</td>\n",
       "      <td>B</td>\n",
       "      <td>Black</td>\n",
       "      <td>...</td>\n",
       "      <td>False</td>\n",
       "      <td>NaN</td>\n",
       "      <td>NaN</td>\n",
       "      <td>False</td>\n",
       "      <td>Citation</td>\n",
       "      <td>False</td>\n",
       "      <td>0-15 Min</td>\n",
       "      <td>False</td>\n",
       "      <td>False</td>\n",
       "      <td>Zone X4</td>\n",
       "    </tr>\n",
       "    <tr>\n",
       "      <th>5</th>\n",
       "      <td>RI-2005-00006</td>\n",
       "      <td>2005-01-12</td>\n",
       "      <td>08:05</td>\n",
       "      <td>Zone X1</td>\n",
       "      <td>0</td>\n",
       "      <td>M</td>\n",
       "      <td>1973.0</td>\n",
       "      <td>32.0</td>\n",
       "      <td>B</td>\n",
       "      <td>Black</td>\n",
       "      <td>...</td>\n",
       "      <td>False</td>\n",
       "      <td>NaN</td>\n",
       "      <td>NaN</td>\n",
       "      <td>False</td>\n",
       "      <td>Citation</td>\n",
       "      <td>False</td>\n",
       "      <td>30+ Min</td>\n",
       "      <td>True</td>\n",
       "      <td>False</td>\n",
       "      <td>Zone X1</td>\n",
       "    </tr>\n",
       "  </tbody>\n",
       "</table>\n",
       "<p>5 rows × 22 columns</p>\n",
       "</div>"
      ],
      "text/plain": [
       "              id   stop_date stop_time location_raw police_department  \\\n",
       "0  RI-2005-00001  2005-01-02     01:55      Zone K1               600   \n",
       "1  RI-2005-00002  2005-01-02     20:30      Zone X4               500   \n",
       "3  RI-2005-00004  2005-01-04     12:55      Zone X4               500   \n",
       "4  RI-2005-00005  2005-01-06     01:30      Zone X4               500   \n",
       "5  RI-2005-00006  2005-01-12     08:05      Zone X1                 0   \n",
       "\n",
       "  driver_gender  driver_age_raw  driver_age driver_race_raw driver_race  ...  \\\n",
       "0             M          1985.0        20.0               W       White  ...   \n",
       "1             M          1987.0        18.0               W       White  ...   \n",
       "3             M          1986.0        19.0               W       White  ...   \n",
       "4             M          1978.0        27.0               B       Black  ...   \n",
       "5             M          1973.0        32.0               B       Black  ...   \n",
       "\n",
       "  search_conducted search_type_raw  search_type contraband_found stop_outcome  \\\n",
       "0            False             NaN          NaN            False     Citation   \n",
       "1            False             NaN          NaN            False     Citation   \n",
       "3            False             NaN          NaN            False     Citation   \n",
       "4            False             NaN          NaN            False     Citation   \n",
       "5            False             NaN          NaN            False     Citation   \n",
       "\n",
       "   is_arrested stop_duration  out_of_state drugs_related_stop district  \n",
       "0        False      0-15 Min         False              False  Zone K1  \n",
       "1        False     16-30 Min         False              False  Zone X4  \n",
       "3        False      0-15 Min         False              False  Zone X4  \n",
       "4        False      0-15 Min         False              False  Zone X4  \n",
       "5        False       30+ Min          True              False  Zone X1  \n",
       "\n",
       "[5 rows x 22 columns]"
      ]
     },
     "execution_count": 52,
     "metadata": {},
     "output_type": "execute_result"
    }
   ],
   "source": [
    "ri.head()"
   ]
  },
  {
   "cell_type": "raw",
   "id": "641983d6",
   "metadata": {},
   "source": [
    "İki pandas serisini str.cat() fonksiyonunu kullanarak birleştireceğim.\n",
    "stop_date'i .str.cat()' in içine pas edeceğim ri.stop_time ile birleştireceğim.\n",
    "ve bunu combined adlı değişkene atayacağım."
   ]
  },
  {
   "cell_type": "code",
   "execution_count": 85,
   "id": "5efc35a9",
   "metadata": {},
   "outputs": [
    {
     "data": {
      "text/plain": [
       "0        2005-01-02 01:55\n",
       "1        2005-01-02 20:30\n",
       "3        2005-01-04 12:55\n",
       "4        2005-01-06 01:30\n",
       "5        2005-01-12 08:05\n",
       "               ...       \n",
       "49995    2006-08-08 22:45\n",
       "49996    2006-08-08 22:45\n",
       "49997    2006-08-08 22:53\n",
       "49998    2006-08-08 23:00\n",
       "49999    2006-08-08 23:00\n",
       "Name: stop_date, Length: 48010, dtype: object"
      ]
     },
     "execution_count": 85,
     "metadata": {},
     "output_type": "execute_result"
    }
   ],
   "source": [
    "combined = ri.stop_date.str.cat(ri.stop_time, sep = \" \")\n",
    "\n",
    "combined\n",
    "\n",
    "# artık combined diye bir serie'm var. şimdi bu değişkeni kullanarak yeni bir sütun oluşturacağım."
   ]
  },
  {
   "cell_type": "raw",
   "id": "2365ed2c",
   "metadata": {},
   "source": [
    "şimdi stop_datetime diye bir sütun oluşturup combined adlı serie mi ona atayacağım.\n",
    "\n",
    "hem date i hem time ı birleştirdiğim için adını stop_datetime vereceğim.\n",
    "\n",
    "bunu (to_datetime() fonksiyonu ile) datetime tipine çevireceğim ve artık beraberinde gelecek datetime metodlarını kullanabileceğim. "
   ]
  },
  {
   "cell_type": "code",
   "execution_count": 86,
   "id": "b3a3ea1b",
   "metadata": {},
   "outputs": [],
   "source": [
    "ri[\"stop_datetime\"] = pd.to_datetime(combined)\n",
    "\n",
    "# combined adıyla oluşturduğumuz serie'yi to_datetime() ın içine gönderdik \n",
    "# ve stop_datetime sütununu oluşturup tipini datetime yaptık."
   ]
  },
  {
   "cell_type": "code",
   "execution_count": 87,
   "id": "65f7dc28",
   "metadata": {},
   "outputs": [],
   "source": [
    "# şimdi eski iki sütunu drop edelim.\n",
    "\n",
    "ri.drop([\"stop_date\", \"stop_time\"], axis = \"columns\", inplace=True)"
   ]
  },
  {
   "cell_type": "code",
   "execution_count": 88,
   "id": "45bca90d",
   "metadata": {},
   "outputs": [
    {
     "data": {
      "text/html": [
       "<div>\n",
       "<style scoped>\n",
       "    .dataframe tbody tr th:only-of-type {\n",
       "        vertical-align: middle;\n",
       "    }\n",
       "\n",
       "    .dataframe tbody tr th {\n",
       "        vertical-align: top;\n",
       "    }\n",
       "\n",
       "    .dataframe thead th {\n",
       "        text-align: right;\n",
       "    }\n",
       "</style>\n",
       "<table border=\"1\" class=\"dataframe\">\n",
       "  <thead>\n",
       "    <tr style=\"text-align: right;\">\n",
       "      <th></th>\n",
       "      <th>id</th>\n",
       "      <th>location_raw</th>\n",
       "      <th>police_department</th>\n",
       "      <th>driver_gender</th>\n",
       "      <th>driver_age_raw</th>\n",
       "      <th>driver_age</th>\n",
       "      <th>driver_race_raw</th>\n",
       "      <th>driver_race</th>\n",
       "      <th>violation_raw</th>\n",
       "      <th>violation</th>\n",
       "      <th>...</th>\n",
       "      <th>search_type_raw</th>\n",
       "      <th>search_type</th>\n",
       "      <th>contraband_found</th>\n",
       "      <th>stop_outcome</th>\n",
       "      <th>is_arrested</th>\n",
       "      <th>stop_duration</th>\n",
       "      <th>out_of_state</th>\n",
       "      <th>drugs_related_stop</th>\n",
       "      <th>district</th>\n",
       "      <th>stop_datetime</th>\n",
       "    </tr>\n",
       "  </thead>\n",
       "  <tbody>\n",
       "    <tr>\n",
       "      <th>0</th>\n",
       "      <td>RI-2005-00001</td>\n",
       "      <td>Zone K1</td>\n",
       "      <td>600</td>\n",
       "      <td>M</td>\n",
       "      <td>1985.0</td>\n",
       "      <td>20.0</td>\n",
       "      <td>W</td>\n",
       "      <td>White</td>\n",
       "      <td>Speeding</td>\n",
       "      <td>Speeding</td>\n",
       "      <td>...</td>\n",
       "      <td>NaN</td>\n",
       "      <td>NaN</td>\n",
       "      <td>False</td>\n",
       "      <td>Citation</td>\n",
       "      <td>False</td>\n",
       "      <td>0-15 Min</td>\n",
       "      <td>False</td>\n",
       "      <td>False</td>\n",
       "      <td>Zone K1</td>\n",
       "      <td>2005-01-02 01:55:00</td>\n",
       "    </tr>\n",
       "    <tr>\n",
       "      <th>1</th>\n",
       "      <td>RI-2005-00002</td>\n",
       "      <td>Zone X4</td>\n",
       "      <td>500</td>\n",
       "      <td>M</td>\n",
       "      <td>1987.0</td>\n",
       "      <td>18.0</td>\n",
       "      <td>W</td>\n",
       "      <td>White</td>\n",
       "      <td>Speeding</td>\n",
       "      <td>Speeding</td>\n",
       "      <td>...</td>\n",
       "      <td>NaN</td>\n",
       "      <td>NaN</td>\n",
       "      <td>False</td>\n",
       "      <td>Citation</td>\n",
       "      <td>False</td>\n",
       "      <td>16-30 Min</td>\n",
       "      <td>False</td>\n",
       "      <td>False</td>\n",
       "      <td>Zone X4</td>\n",
       "      <td>2005-01-02 20:30:00</td>\n",
       "    </tr>\n",
       "    <tr>\n",
       "      <th>3</th>\n",
       "      <td>RI-2005-00004</td>\n",
       "      <td>Zone X4</td>\n",
       "      <td>500</td>\n",
       "      <td>M</td>\n",
       "      <td>1986.0</td>\n",
       "      <td>19.0</td>\n",
       "      <td>W</td>\n",
       "      <td>White</td>\n",
       "      <td>Equipment/Inspection Violation</td>\n",
       "      <td>Equipment</td>\n",
       "      <td>...</td>\n",
       "      <td>NaN</td>\n",
       "      <td>NaN</td>\n",
       "      <td>False</td>\n",
       "      <td>Citation</td>\n",
       "      <td>False</td>\n",
       "      <td>0-15 Min</td>\n",
       "      <td>False</td>\n",
       "      <td>False</td>\n",
       "      <td>Zone X4</td>\n",
       "      <td>2005-01-04 12:55:00</td>\n",
       "    </tr>\n",
       "    <tr>\n",
       "      <th>4</th>\n",
       "      <td>RI-2005-00005</td>\n",
       "      <td>Zone X4</td>\n",
       "      <td>500</td>\n",
       "      <td>M</td>\n",
       "      <td>1978.0</td>\n",
       "      <td>27.0</td>\n",
       "      <td>B</td>\n",
       "      <td>Black</td>\n",
       "      <td>Equipment/Inspection Violation</td>\n",
       "      <td>Equipment</td>\n",
       "      <td>...</td>\n",
       "      <td>NaN</td>\n",
       "      <td>NaN</td>\n",
       "      <td>False</td>\n",
       "      <td>Citation</td>\n",
       "      <td>False</td>\n",
       "      <td>0-15 Min</td>\n",
       "      <td>False</td>\n",
       "      <td>False</td>\n",
       "      <td>Zone X4</td>\n",
       "      <td>2005-01-06 01:30:00</td>\n",
       "    </tr>\n",
       "    <tr>\n",
       "      <th>5</th>\n",
       "      <td>RI-2005-00006</td>\n",
       "      <td>Zone X1</td>\n",
       "      <td>0</td>\n",
       "      <td>M</td>\n",
       "      <td>1973.0</td>\n",
       "      <td>32.0</td>\n",
       "      <td>B</td>\n",
       "      <td>Black</td>\n",
       "      <td>Call for Service</td>\n",
       "      <td>Other</td>\n",
       "      <td>...</td>\n",
       "      <td>NaN</td>\n",
       "      <td>NaN</td>\n",
       "      <td>False</td>\n",
       "      <td>Citation</td>\n",
       "      <td>False</td>\n",
       "      <td>30+ Min</td>\n",
       "      <td>True</td>\n",
       "      <td>False</td>\n",
       "      <td>Zone X1</td>\n",
       "      <td>2005-01-12 08:05:00</td>\n",
       "    </tr>\n",
       "  </tbody>\n",
       "</table>\n",
       "<p>5 rows × 21 columns</p>\n",
       "</div>"
      ],
      "text/plain": [
       "              id location_raw police_department driver_gender  driver_age_raw  \\\n",
       "0  RI-2005-00001      Zone K1               600             M          1985.0   \n",
       "1  RI-2005-00002      Zone X4               500             M          1987.0   \n",
       "3  RI-2005-00004      Zone X4               500             M          1986.0   \n",
       "4  RI-2005-00005      Zone X4               500             M          1978.0   \n",
       "5  RI-2005-00006      Zone X1                 0             M          1973.0   \n",
       "\n",
       "   driver_age driver_race_raw driver_race                   violation_raw  \\\n",
       "0        20.0               W       White                        Speeding   \n",
       "1        18.0               W       White                        Speeding   \n",
       "3        19.0               W       White  Equipment/Inspection Violation   \n",
       "4        27.0               B       Black  Equipment/Inspection Violation   \n",
       "5        32.0               B       Black                Call for Service   \n",
       "\n",
       "   violation  ...  search_type_raw search_type contraband_found  stop_outcome  \\\n",
       "0   Speeding  ...              NaN         NaN            False      Citation   \n",
       "1   Speeding  ...              NaN         NaN            False      Citation   \n",
       "3  Equipment  ...              NaN         NaN            False      Citation   \n",
       "4  Equipment  ...              NaN         NaN            False      Citation   \n",
       "5      Other  ...              NaN         NaN            False      Citation   \n",
       "\n",
       "  is_arrested  stop_duration out_of_state drugs_related_stop  district  \\\n",
       "0       False       0-15 Min        False              False   Zone K1   \n",
       "1       False      16-30 Min        False              False   Zone X4   \n",
       "3       False       0-15 Min        False              False   Zone X4   \n",
       "4       False       0-15 Min        False              False   Zone X4   \n",
       "5       False        30+ Min         True              False   Zone X1   \n",
       "\n",
       "        stop_datetime  \n",
       "0 2005-01-02 01:55:00  \n",
       "1 2005-01-02 20:30:00  \n",
       "3 2005-01-04 12:55:00  \n",
       "4 2005-01-06 01:30:00  \n",
       "5 2005-01-12 08:05:00  \n",
       "\n",
       "[5 rows x 21 columns]"
      ]
     },
     "execution_count": 88,
     "metadata": {},
     "output_type": "execute_result"
    }
   ],
   "source": [
    "ri.head()\n",
    "\n",
    "# stop_datetime sütununu en sonda oluşturulduğunu görebiliyoruz"
   ]
  },
  {
   "cell_type": "code",
   "execution_count": 32,
   "id": "829893f1",
   "metadata": {},
   "outputs": [
    {
     "data": {
      "text/plain": [
       "id                     object\n",
       "location_raw           object\n",
       "police_department      object\n",
       "driver_gender          object\n",
       "driver_age_raw        float64\n",
       "driver_age            float64\n",
       "driver_race_raw        object\n",
       "driver_race            object\n",
       "violation_raw          object\n",
       "violation              object\n",
       "search_conducted         bool\n",
       "search_type_raw        object\n",
       "search_type            object\n",
       "contraband_found         bool\n",
       "stop_outcome           object\n",
       "is_arrested              bool\n",
       "stop_duration          object\n",
       "out_of_state           object\n",
       "drugs_related_stop       bool\n",
       "district               object\n",
       "dtype: object"
      ]
     },
     "execution_count": 32,
     "metadata": {},
     "output_type": "execute_result"
    }
   ],
   "source": [
    "ri.dtypes\n",
    "\n",
    "# stop"
   ]
  },
  {
   "cell_type": "markdown",
   "id": "e721ce2b",
   "metadata": {},
   "source": [
    "#### 11. SON ŞEKİLLENDİRMEYİ YAPIYORUM"
   ]
  },
  {
   "cell_type": "markdown",
   "id": "260128dd",
   "metadata": {},
   "source": [
    "**EN** The last step that you'll take in this chapter is to set the stop_datetime column as the DataFrame's index. By replacing the default index with a DatetimeIndex, you'll make it easier to analyze the dataset by date and time, which will come in handy later in the course.\n",
    "\n",
    "**INSTRUCTIONS**\n",
    "\n",
    "Set stop_datetime as the DataFrame index.\n",
    "Examine the index to verify that it is a DatetimeIndex.\n",
    "Examine the DataFrame columns to confirm that stop_datetime is no longer one of the columns.\n",
    "\n",
    "**TR** Bu bölümde atacağınız son adım, stop_datetime sütununu DataFrame'in dizini olarak ayarlamaktır. Varsayılan dizini bir DatetimeIndex ile değiştirerek, veri kümesini tarih ve saate göre analiz etmeyi kolaylaştıracaksınız, bu da kursun ilerleyen bölümlerinde kullanışlı olacaktır.\n",
    "\n",
    "**TALİMATLAR** \n",
    "\n",
    "stop_datetime'ı DataFrame dizini olarak ayarlayın.\n",
    "Bir DatetimeIndex olduğunu doğrulamak için dizini inceleyin.\n",
    "stop_datetime öğesinin artık sütunlardan biri olmadığını doğrulamak için DataFrame sütunlarını inceleyin."
   ]
  },
  {
   "cell_type": "code",
   "execution_count": 89,
   "id": "91ec36c1",
   "metadata": {},
   "outputs": [],
   "source": [
    "ri.set_index(\"stop_datetime\", inplace = True)\n",
    "\n",
    "# stop_datetime sütunumu index yaptım."
   ]
  },
  {
   "cell_type": "code",
   "execution_count": 90,
   "id": "a2208755",
   "metadata": {},
   "outputs": [
    {
     "data": {
      "text/html": [
       "<div>\n",
       "<style scoped>\n",
       "    .dataframe tbody tr th:only-of-type {\n",
       "        vertical-align: middle;\n",
       "    }\n",
       "\n",
       "    .dataframe tbody tr th {\n",
       "        vertical-align: top;\n",
       "    }\n",
       "\n",
       "    .dataframe thead th {\n",
       "        text-align: right;\n",
       "    }\n",
       "</style>\n",
       "<table border=\"1\" class=\"dataframe\">\n",
       "  <thead>\n",
       "    <tr style=\"text-align: right;\">\n",
       "      <th></th>\n",
       "      <th>id</th>\n",
       "      <th>location_raw</th>\n",
       "      <th>police_department</th>\n",
       "      <th>driver_gender</th>\n",
       "      <th>driver_age_raw</th>\n",
       "      <th>driver_age</th>\n",
       "      <th>driver_race_raw</th>\n",
       "      <th>driver_race</th>\n",
       "      <th>violation_raw</th>\n",
       "      <th>violation</th>\n",
       "      <th>search_conducted</th>\n",
       "      <th>search_type_raw</th>\n",
       "      <th>search_type</th>\n",
       "      <th>contraband_found</th>\n",
       "      <th>stop_outcome</th>\n",
       "      <th>is_arrested</th>\n",
       "      <th>stop_duration</th>\n",
       "      <th>out_of_state</th>\n",
       "      <th>drugs_related_stop</th>\n",
       "      <th>district</th>\n",
       "    </tr>\n",
       "    <tr>\n",
       "      <th>stop_datetime</th>\n",
       "      <th></th>\n",
       "      <th></th>\n",
       "      <th></th>\n",
       "      <th></th>\n",
       "      <th></th>\n",
       "      <th></th>\n",
       "      <th></th>\n",
       "      <th></th>\n",
       "      <th></th>\n",
       "      <th></th>\n",
       "      <th></th>\n",
       "      <th></th>\n",
       "      <th></th>\n",
       "      <th></th>\n",
       "      <th></th>\n",
       "      <th></th>\n",
       "      <th></th>\n",
       "      <th></th>\n",
       "      <th></th>\n",
       "      <th></th>\n",
       "    </tr>\n",
       "  </thead>\n",
       "  <tbody>\n",
       "    <tr>\n",
       "      <th>2005-01-02 01:55:00</th>\n",
       "      <td>RI-2005-00001</td>\n",
       "      <td>Zone K1</td>\n",
       "      <td>600</td>\n",
       "      <td>M</td>\n",
       "      <td>1985.0</td>\n",
       "      <td>20.0</td>\n",
       "      <td>W</td>\n",
       "      <td>White</td>\n",
       "      <td>Speeding</td>\n",
       "      <td>Speeding</td>\n",
       "      <td>False</td>\n",
       "      <td>NaN</td>\n",
       "      <td>NaN</td>\n",
       "      <td>False</td>\n",
       "      <td>Citation</td>\n",
       "      <td>False</td>\n",
       "      <td>0-15 Min</td>\n",
       "      <td>False</td>\n",
       "      <td>False</td>\n",
       "      <td>Zone K1</td>\n",
       "    </tr>\n",
       "    <tr>\n",
       "      <th>2005-01-02 20:30:00</th>\n",
       "      <td>RI-2005-00002</td>\n",
       "      <td>Zone X4</td>\n",
       "      <td>500</td>\n",
       "      <td>M</td>\n",
       "      <td>1987.0</td>\n",
       "      <td>18.0</td>\n",
       "      <td>W</td>\n",
       "      <td>White</td>\n",
       "      <td>Speeding</td>\n",
       "      <td>Speeding</td>\n",
       "      <td>False</td>\n",
       "      <td>NaN</td>\n",
       "      <td>NaN</td>\n",
       "      <td>False</td>\n",
       "      <td>Citation</td>\n",
       "      <td>False</td>\n",
       "      <td>16-30 Min</td>\n",
       "      <td>False</td>\n",
       "      <td>False</td>\n",
       "      <td>Zone X4</td>\n",
       "    </tr>\n",
       "  </tbody>\n",
       "</table>\n",
       "</div>"
      ],
      "text/plain": [
       "                                id location_raw police_department  \\\n",
       "stop_datetime                                                       \n",
       "2005-01-02 01:55:00  RI-2005-00001      Zone K1               600   \n",
       "2005-01-02 20:30:00  RI-2005-00002      Zone X4               500   \n",
       "\n",
       "                    driver_gender  driver_age_raw  driver_age driver_race_raw  \\\n",
       "stop_datetime                                                                   \n",
       "2005-01-02 01:55:00             M          1985.0        20.0               W   \n",
       "2005-01-02 20:30:00             M          1987.0        18.0               W   \n",
       "\n",
       "                    driver_race violation_raw violation  search_conducted  \\\n",
       "stop_datetime                                                               \n",
       "2005-01-02 01:55:00       White      Speeding  Speeding             False   \n",
       "2005-01-02 20:30:00       White      Speeding  Speeding             False   \n",
       "\n",
       "                    search_type_raw search_type  contraband_found  \\\n",
       "stop_datetime                                                       \n",
       "2005-01-02 01:55:00             NaN         NaN             False   \n",
       "2005-01-02 20:30:00             NaN         NaN             False   \n",
       "\n",
       "                    stop_outcome  is_arrested stop_duration out_of_state  \\\n",
       "stop_datetime                                                              \n",
       "2005-01-02 01:55:00     Citation        False      0-15 Min        False   \n",
       "2005-01-02 20:30:00     Citation        False     16-30 Min        False   \n",
       "\n",
       "                     drugs_related_stop district  \n",
       "stop_datetime                                     \n",
       "2005-01-02 01:55:00               False  Zone K1  \n",
       "2005-01-02 20:30:00               False  Zone X4  "
      ]
     },
     "execution_count": 90,
     "metadata": {},
     "output_type": "execute_result"
    }
   ],
   "source": [
    "ri.head(2)\n",
    "\n",
    "# stop_datetime'ın artık index olduğunu görebiliyorum. "
   ]
  },
  {
   "cell_type": "code",
   "execution_count": 91,
   "id": "fea64a42",
   "metadata": {},
   "outputs": [
    {
     "data": {
      "text/plain": [
       "(48010, 20)"
      ]
     },
     "execution_count": 91,
     "metadata": {},
     "output_type": "execute_result"
    }
   ],
   "source": [
    "ri.shape\n",
    "\n",
    "# sütun sayısı 1 azalarak 20 oldu"
   ]
  },
  {
   "cell_type": "code",
   "execution_count": 92,
   "id": "c0e020c6",
   "metadata": {},
   "outputs": [
    {
     "data": {
      "text/plain": [
       "Index(['id', 'location_raw', 'police_department', 'driver_gender',\n",
       "       'driver_age_raw', 'driver_age', 'driver_race_raw', 'driver_race',\n",
       "       'violation_raw', 'violation', 'search_conducted', 'search_type_raw',\n",
       "       'search_type', 'contraband_found', 'stop_outcome', 'is_arrested',\n",
       "       'stop_duration', 'out_of_state', 'drugs_related_stop', 'district'],\n",
       "      dtype='object')"
      ]
     },
     "execution_count": 92,
     "metadata": {},
     "output_type": "execute_result"
    }
   ],
   "source": [
    "ri.columns\n",
    "\n",
    "# stop_datetime öğesinin artık sütunlardan biri olmadığını doğrulamak için DataFrame sütunlarını inceledim."
   ]
  },
  {
   "cell_type": "code",
   "execution_count": 94,
   "id": "461ec28f",
   "metadata": {},
   "outputs": [],
   "source": [
    "ri.to_csv(\"RI_27June\", index = False)"
   ]
  },
  {
   "cell_type": "code",
   "execution_count": null,
   "id": "928000dd",
   "metadata": {},
   "outputs": [],
   "source": []
  }
 ],
 "metadata": {
  "kernelspec": {
   "display_name": "Python 3",
   "language": "python",
   "name": "python3"
  },
  "language_info": {
   "codemirror_mode": {
    "name": "ipython",
    "version": 3
   },
   "file_extension": ".py",
   "mimetype": "text/x-python",
   "name": "python",
   "nbconvert_exporter": "python",
   "pygments_lexer": "ipython3",
   "version": "3.7.10"
  }
 },
 "nbformat": 4,
 "nbformat_minor": 5
}
